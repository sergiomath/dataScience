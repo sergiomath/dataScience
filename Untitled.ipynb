{
 "cells": [
  {
   "cell_type": "code",
   "execution_count": 15,
   "id": "57a95cb2",
   "metadata": {},
   "outputs": [],
   "source": [
    "dic={}"
   ]
  },
  {
   "cell_type": "code",
   "execution_count": 17,
   "id": "8bd8bcf0",
   "metadata": {},
   "outputs": [
    {
     "name": "stdout",
     "output_type": "stream",
     "text": [
      "ID  : 2\n",
      "Edad  : 28\n",
      "Genero : F\n"
     ]
    }
   ],
   "source": [
    "dic1={'ID ': 2,\n",
    "      'Edad ': 28,\n",
    "      'Genero': 'F'}\n",
    "      \n",
    "i=2  \n",
    "for key in dic1:\n",
    "    print(key,\":\",dic1[key])  "
   ]
  },
  {
   "cell_type": "code",
   "execution_count": 20,
   "id": "86f9a788",
   "metadata": {},
   "outputs": [],
   "source": [
    "dic['persona'+str(i)]=dic1\n",
    "dic['persona'+str(3)]=dic1\n"
   ]
  },
  {
   "cell_type": "code",
   "execution_count": 21,
   "id": "85684eee",
   "metadata": {},
   "outputs": [
    {
     "name": "stdout",
     "output_type": "stream",
     "text": [
      "persona2 : {'ID ': 2, 'Edad ': 28, 'Genero': 'F'}\n",
      "persona3 : {'ID ': 2, 'Edad ': 28, 'Genero': 'F'}\n"
     ]
    }
   ],
   "source": [
    "for key in dic:\n",
    "    print(key,\":\",dic[key])  "
   ]
  },
  {
   "cell_type": "code",
   "execution_count": null,
   "id": "7d5b5ebb",
   "metadata": {},
   "outputs": [],
   "source": []
  },
  {
   "cell_type": "code",
   "execution_count": null,
   "id": "79049ec6",
   "metadata": {},
   "outputs": [],
   "source": []
  }
 ],
 "metadata": {
  "kernelspec": {
   "display_name": "Python 3 (ipykernel)",
   "language": "python",
   "name": "python3"
  },
  "language_info": {
   "codemirror_mode": {
    "name": "ipython",
    "version": 3
   },
   "file_extension": ".py",
   "mimetype": "text/x-python",
   "name": "python",
   "nbconvert_exporter": "python",
   "pygments_lexer": "ipython3",
   "version": "3.10.4"
  }
 },
 "nbformat": 4,
 "nbformat_minor": 5
}
