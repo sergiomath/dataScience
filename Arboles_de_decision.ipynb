{
  "nbformat": 4,
  "nbformat_minor": 0,
  "metadata": {
    "colab": {
      "provenance": [],
      "authorship_tag": "ABX9TyN7v1iuC4IjOyayVqFYHLZa",
      "include_colab_link": true
    },
    "kernelspec": {
      "name": "python3",
      "display_name": "Python 3"
    },
    "language_info": {
      "name": "python"
    }
  },
  "cells": [
    {
      "cell_type": "markdown",
      "metadata": {
        "id": "view-in-github",
        "colab_type": "text"
      },
      "source": [
        "<a href=\"https://colab.research.google.com/github/sergiomath/dataScience/blob/main/Arboles_de_decision.ipynb\" target=\"_parent\"><img src=\"https://colab.research.google.com/assets/colab-badge.svg\" alt=\"Open In Colab\"/></a>"
      ]
    },
    {
      "cell_type": "code",
      "execution_count": 34,
      "metadata": {
        "id": "8I0CzEEcPH5v"
      },
      "outputs": [],
      "source": [
        "import os \n",
        "import numpy as np \n",
        "import pandas as pd \n",
        "import seaborn as sns \n",
        "import matplotlib.pyplot as plt \n",
        "from sklearn.model_selection import train_test_split\n",
        "from sklearn.tree import DecisionTreeClassifier\n",
        "from sklearn.tree import export_graphviz\n",
        "from sklearn.model_selection import KFold\n",
        "from sklearn.model_selection import cross_val_score\n",
        "from graphviz  import Source"
      ]
    },
    {
      "cell_type": "code",
      "source": [
        "##Importamos desde github\n",
        "\n",
        "df = pd.read_csv(\"https://raw.githubusercontent.com/sergiomath/dataScience/main/Proyectos/Diabetes/diabetes.csv\")"
      ],
      "metadata": {
        "id": "cHQH-mWfRDK9"
      },
      "execution_count": 35,
      "outputs": []
    },
    {
      "cell_type": "code",
      "source": [
        "###Quitamos ceros de las columnas por su media o su mediana(imputacion de datos BASICA) #####\n",
        "\n",
        "df['Glucose'] = df['Glucose'].replace(0,df['Glucose'].mean()) ##Remmplazamos los 0 en glucosa por la media \n",
        "\n",
        "df['BloodPressure'] = df['BloodPressure'].replace(0,df['BloodPressure'].mean()) ##reemplazamos con la media\n",
        "\n",
        "df['BMI'] = df['BMI'].replace(0, df['BMI'].median())##reemplazamos con la mediana\n",
        "\n",
        "df['SkinThickness'] = df['SkinThickness'].replace(0, df['SkinThickness'].median())##reemplazamos con la mediana\n",
        "\n",
        "df['Insulin'] = df['Insulin'].replace(0, df['Insulin'].median())##reemplazamos con la mediana"
      ],
      "metadata": {
        "id": "d5i3rbkDQHJQ"
      },
      "execution_count": 36,
      "outputs": []
    },
    {
      "cell_type": "code",
      "source": [
        "colnames=df.columns.values.tolist()\n",
        "colnames\n",
        "predictores=colnames[:8]\n",
        "objetivo=colnames[8]"
      ],
      "metadata": {
        "id": "7K6rl9w1YHnq"
      },
      "execution_count": 37,
      "outputs": []
    },
    {
      "cell_type": "code",
      "source": [
        "###### particionado del dataset######\n",
        "df['is_train']=np.random.uniform(0,1,len(df))<=0.75\n",
        "train,test=df[df['is_train']==True],df[df['is_train']==False]"
      ],
      "metadata": {
        "id": "VycrZPH7ftTP"
      },
      "execution_count": 38,
      "outputs": []
    },
    {
      "cell_type": "code",
      "source": [
        "Entre_val, prueba, Entre_val_clase, prueba_clase = train_test_split(\n",
        "    df[[\"Pregnancies\",\"Glucose\",\"BloodPressure\",\"SkinThickness\",\"Insulin\",\n",
        "        \"BMI\",\"DiabetesPedigreeFunction\",\"Age\"]],\n",
        "    df[[\"Outcome\"]],\n",
        "    test_size= 0.25,\n",
        "    random_state= 4\n",
        ")"
      ],
      "metadata": {
        "id": "yq_CxEgrYHqP"
      },
      "execution_count": 39,
      "outputs": []
    },
    {
      "cell_type": "code",
      "source": [
        "arbol=DecisionTreeClassifier(criterion='entropy',random_state=99,min_samples_leaf=6,max_depth=6)\n",
        "arbol.fit(train[predictores],train[objetivo]) "
      ],
      "metadata": {
        "colab": {
          "base_uri": "https://localhost:8080/"
        },
        "id": "Vml5pZFeYHsp",
        "outputId": "5bb2d8de-b8c3-4903-bcc3-0cf8a10a408c"
      },
      "execution_count": 40,
      "outputs": [
        {
          "output_type": "execute_result",
          "data": {
            "text/plain": [
              "DecisionTreeClassifier(criterion='entropy', max_depth=6, min_samples_leaf=6,\n",
              "                       random_state=99)"
            ]
          },
          "metadata": {},
          "execution_count": 40
        }
      ]
    },
    {
      "cell_type": "code",
      "source": [
        "predicciones=arbol.predict(test[predictores])"
      ],
      "metadata": {
        "id": "stQnUBYvlT5E"
      },
      "execution_count": 41,
      "outputs": []
    },
    {
      "cell_type": "code",
      "source": [
        "pd.crosstab(test[objetivo],predicciones,rownames=['Actual'],colnames=['Predicciones'])"
      ],
      "metadata": {
        "colab": {
          "base_uri": "https://localhost:8080/",
          "height": 143
        },
        "id": "GcjxTYOUlhSn",
        "outputId": "1fd9e618-c01a-4ac4-abde-0d9d83c0e26a"
      },
      "execution_count": 42,
      "outputs": [
        {
          "output_type": "execute_result",
          "data": {
            "text/plain": [
              "Predicciones   0   1\n",
              "Actual              \n",
              "0             96  28\n",
              "1             18  48"
            ],
            "text/html": [
              "\n",
              "  <div id=\"df-d0845db9-e46b-4317-a127-9cfb8ac4fdbe\">\n",
              "    <div class=\"colab-df-container\">\n",
              "      <div>\n",
              "<style scoped>\n",
              "    .dataframe tbody tr th:only-of-type {\n",
              "        vertical-align: middle;\n",
              "    }\n",
              "\n",
              "    .dataframe tbody tr th {\n",
              "        vertical-align: top;\n",
              "    }\n",
              "\n",
              "    .dataframe thead th {\n",
              "        text-align: right;\n",
              "    }\n",
              "</style>\n",
              "<table border=\"1\" class=\"dataframe\">\n",
              "  <thead>\n",
              "    <tr style=\"text-align: right;\">\n",
              "      <th>Predicciones</th>\n",
              "      <th>0</th>\n",
              "      <th>1</th>\n",
              "    </tr>\n",
              "    <tr>\n",
              "      <th>Actual</th>\n",
              "      <th></th>\n",
              "      <th></th>\n",
              "    </tr>\n",
              "  </thead>\n",
              "  <tbody>\n",
              "    <tr>\n",
              "      <th>0</th>\n",
              "      <td>96</td>\n",
              "      <td>28</td>\n",
              "    </tr>\n",
              "    <tr>\n",
              "      <th>1</th>\n",
              "      <td>18</td>\n",
              "      <td>48</td>\n",
              "    </tr>\n",
              "  </tbody>\n",
              "</table>\n",
              "</div>\n",
              "      <button class=\"colab-df-convert\" onclick=\"convertToInteractive('df-d0845db9-e46b-4317-a127-9cfb8ac4fdbe')\"\n",
              "              title=\"Convert this dataframe to an interactive table.\"\n",
              "              style=\"display:none;\">\n",
              "        \n",
              "  <svg xmlns=\"http://www.w3.org/2000/svg\" height=\"24px\"viewBox=\"0 0 24 24\"\n",
              "       width=\"24px\">\n",
              "    <path d=\"M0 0h24v24H0V0z\" fill=\"none\"/>\n",
              "    <path d=\"M18.56 5.44l.94 2.06.94-2.06 2.06-.94-2.06-.94-.94-2.06-.94 2.06-2.06.94zm-11 1L8.5 8.5l.94-2.06 2.06-.94-2.06-.94L8.5 2.5l-.94 2.06-2.06.94zm10 10l.94 2.06.94-2.06 2.06-.94-2.06-.94-.94-2.06-.94 2.06-2.06.94z\"/><path d=\"M17.41 7.96l-1.37-1.37c-.4-.4-.92-.59-1.43-.59-.52 0-1.04.2-1.43.59L10.3 9.45l-7.72 7.72c-.78.78-.78 2.05 0 2.83L4 21.41c.39.39.9.59 1.41.59.51 0 1.02-.2 1.41-.59l7.78-7.78 2.81-2.81c.8-.78.8-2.07 0-2.86zM5.41 20L4 18.59l7.72-7.72 1.47 1.35L5.41 20z\"/>\n",
              "  </svg>\n",
              "      </button>\n",
              "      \n",
              "  <style>\n",
              "    .colab-df-container {\n",
              "      display:flex;\n",
              "      flex-wrap:wrap;\n",
              "      gap: 12px;\n",
              "    }\n",
              "\n",
              "    .colab-df-convert {\n",
              "      background-color: #E8F0FE;\n",
              "      border: none;\n",
              "      border-radius: 50%;\n",
              "      cursor: pointer;\n",
              "      display: none;\n",
              "      fill: #1967D2;\n",
              "      height: 32px;\n",
              "      padding: 0 0 0 0;\n",
              "      width: 32px;\n",
              "    }\n",
              "\n",
              "    .colab-df-convert:hover {\n",
              "      background-color: #E2EBFA;\n",
              "      box-shadow: 0px 1px 2px rgba(60, 64, 67, 0.3), 0px 1px 3px 1px rgba(60, 64, 67, 0.15);\n",
              "      fill: #174EA6;\n",
              "    }\n",
              "\n",
              "    [theme=dark] .colab-df-convert {\n",
              "      background-color: #3B4455;\n",
              "      fill: #D2E3FC;\n",
              "    }\n",
              "\n",
              "    [theme=dark] .colab-df-convert:hover {\n",
              "      background-color: #434B5C;\n",
              "      box-shadow: 0px 1px 3px 1px rgba(0, 0, 0, 0.15);\n",
              "      filter: drop-shadow(0px 1px 2px rgba(0, 0, 0, 0.3));\n",
              "      fill: #FFFFFF;\n",
              "    }\n",
              "  </style>\n",
              "\n",
              "      <script>\n",
              "        const buttonEl =\n",
              "          document.querySelector('#df-d0845db9-e46b-4317-a127-9cfb8ac4fdbe button.colab-df-convert');\n",
              "        buttonEl.style.display =\n",
              "          google.colab.kernel.accessAllowed ? 'block' : 'none';\n",
              "\n",
              "        async function convertToInteractive(key) {\n",
              "          const element = document.querySelector('#df-d0845db9-e46b-4317-a127-9cfb8ac4fdbe');\n",
              "          const dataTable =\n",
              "            await google.colab.kernel.invokeFunction('convertToInteractive',\n",
              "                                                     [key], {});\n",
              "          if (!dataTable) return;\n",
              "\n",
              "          const docLinkHtml = 'Like what you see? Visit the ' +\n",
              "            '<a target=\"_blank\" href=https://colab.research.google.com/notebooks/data_table.ipynb>data table notebook</a>'\n",
              "            + ' to learn more about interactive tables.';\n",
              "          element.innerHTML = '';\n",
              "          dataTable['output_type'] = 'display_data';\n",
              "          await google.colab.output.renderOutput(dataTable, element);\n",
              "          const docLink = document.createElement('div');\n",
              "          docLink.innerHTML = docLinkHtml;\n",
              "          element.appendChild(docLink);\n",
              "        }\n",
              "      </script>\n",
              "    </div>\n",
              "  </div>\n",
              "  "
            ]
          },
          "metadata": {},
          "execution_count": 42
        }
      ]
    },
    {
      "cell_type": "code",
      "source": [
        "### Visualizacion del arbol ####\n",
        "with open('diabetes.dot','w') as dotfile :\n",
        "   export_graphviz(arbol,out_file=dotfile,feature_names=predictores)\n",
        "   dotfile.close()"
      ],
      "metadata": {
        "id": "VhabNzQNpnhc"
      },
      "execution_count": 43,
      "outputs": []
    },
    {
      "cell_type": "code",
      "source": [
        "file=open('diabetes.dot','r')\n",
        "text=file.read()\n",
        "text"
      ],
      "metadata": {
        "colab": {
          "base_uri": "https://localhost:8080/",
          "height": 90
        },
        "id": "TR7_saKY4Xim",
        "outputId": "09a6743b-d251-4b60-e414-8f5ad6af339b"
      },
      "execution_count": 44,
      "outputs": [
        {
          "output_type": "execute_result",
          "data": {
            "text/plain": [
              "'digraph Tree {\\nnode [shape=box, fontname=\"helvetica\"] ;\\nedge [fontname=\"helvetica\"] ;\\n0 [label=\"Glucose <= 110.5\\\\nentropy = 0.934\\\\nsamples = 578\\\\nvalue = [376, 202]\"] ;\\n1 [label=\"Pregnancies <= 6.5\\\\nentropy = 0.542\\\\nsamples = 241\\\\nvalue = [211, 30]\"] ;\\n0 -> 1 [labeldistance=2.5, labelangle=45, headlabel=\"True\"] ;\\n2 [label=\"BMI <= 33.55\\\\nentropy = 0.402\\\\nsamples = 200\\\\nvalue = [184, 16]\"] ;\\n1 -> 2 ;\\n3 [label=\"DiabetesPedigreeFunction <= 0.672\\\\nentropy = 0.221\\\\nsamples = 141\\\\nvalue = [136, 5]\"] ;\\n2 -> 3 ;\\n4 [label=\"BloodPressure <= 51.0\\\\nentropy = 0.071\\\\nsamples = 117\\\\nvalue = [116, 1]\"] ;\\n3 -> 4 ;\\n5 [label=\"entropy = 0.65\\\\nsamples = 6\\\\nvalue = [5, 1]\"] ;\\n4 -> 5 ;\\n6 [label=\"entropy = 0.0\\\\nsamples = 111\\\\nvalue = [111, 0]\"] ;\\n4 -> 6 ;\\n7 [label=\"BloodPressure <= 73.0\\\\nentropy = 0.65\\\\nsamples = 24\\\\nvalue = [20, 4]\"] ;\\n3 -> 7 ;\\n8 [label=\"Pregnancies <= 2.5\\\\nentropy = 0.31\\\\nsamples = 18\\\\nvalue = [17, 1]\"] ;\\n7 -> 8 ;\\n9 [label=\"entropy = 0.0\\\\nsamples = 12\\\\nvalue = [12, 0]\"] ;\\n8 -> 9 ;\\n10 [label=\"entropy = 0.65\\\\nsamples = 6\\\\nvalue = [5, 1]\"] ;\\n8 -> 10 ;\\n11 [label=\"entropy = 1.0\\\\nsamples = 6\\\\nvalue = [3, 3]\"] ;\\n7 -> 11 ;\\n12 [label=\"BloodPressure <= 87.0\\\\nentropy = 0.694\\\\nsamples = 59\\\\nvalue = [48, 11]\"] ;\\n2 -> 12 ;\\n13 [label=\"BloodPressure <= 81.0\\\\nentropy = 0.752\\\\nsamples = 51\\\\nvalue = [40, 11]\"] ;\\n12 -> 13 ;\\n14 [label=\"DiabetesPedigreeFunction <= 0.289\\\\nentropy = 0.632\\\\nsamples = 44\\\\nvalue = [37, 7]\"] ;\\n13 -> 14 ;\\n15 [label=\"entropy = 0.0\\\\nsamples = 14\\\\nvalue = [14, 0]\"] ;\\n14 -> 15 ;\\n16 [label=\"entropy = 0.784\\\\nsamples = 30\\\\nvalue = [23, 7]\"] ;\\n14 -> 16 ;\\n17 [label=\"entropy = 0.985\\\\nsamples = 7\\\\nvalue = [3, 4]\"] ;\\n13 -> 17 ;\\n18 [label=\"entropy = 0.0\\\\nsamples = 8\\\\nvalue = [8, 0]\"] ;\\n12 -> 18 ;\\n19 [label=\"Glucose <= 96.0\\\\nentropy = 0.926\\\\nsamples = 41\\\\nvalue = [27, 14]\"] ;\\n1 -> 19 ;\\n20 [label=\"BMI <= 29.9\\\\nentropy = 0.337\\\\nsamples = 16\\\\nvalue = [15, 1]\"] ;\\n19 -> 20 ;\\n21 [label=\"entropy = 0.65\\\\nsamples = 6\\\\nvalue = [5, 1]\"] ;\\n20 -> 21 ;\\n22 [label=\"entropy = 0.0\\\\nsamples = 10\\\\nvalue = [10, 0]\"] ;\\n20 -> 22 ;\\n23 [label=\"DiabetesPedigreeFunction <= 0.237\\\\nentropy = 0.999\\\\nsamples = 25\\\\nvalue = [12, 13]\"] ;\\n19 -> 23 ;\\n24 [label=\"entropy = 0.0\\\\nsamples = 6\\\\nvalue = [6, 0]\"] ;\\n23 -> 24 ;\\n25 [label=\"SkinThickness <= 23.5\\\\nentropy = 0.9\\\\nsamples = 19\\\\nvalue = [6, 13]\"] ;\\n23 -> 25 ;\\n26 [label=\"entropy = 1.0\\\\nsamples = 10\\\\nvalue = [5, 5]\"] ;\\n25 -> 26 ;\\n27 [label=\"entropy = 0.503\\\\nsamples = 9\\\\nvalue = [1, 8]\"] ;\\n25 -> 27 ;\\n28 [label=\"Glucose <= 160.0\\\\nentropy = 1.0\\\\nsamples = 337\\\\nvalue = [165, 172]\"] ;\\n0 -> 28 [labeldistance=2.5, labelangle=-45, headlabel=\"False\"] ;\\n29 [label=\"BMI <= 26.35\\\\nentropy = 0.983\\\\nsamples = 264\\\\nvalue = [152, 112]\"] ;\\n28 -> 29 ;\\n30 [label=\"Glucose <= 131.5\\\\nentropy = 0.391\\\\nsamples = 39\\\\nvalue = [36, 3]\"] ;\\n29 -> 30 ;\\n31 [label=\"entropy = 0.0\\\\nsamples = 27\\\\nvalue = [27, 0]\"] ;\\n30 -> 31 ;\\n32 [label=\"BloodPressure <= 73.0\\\\nentropy = 0.811\\\\nsamples = 12\\\\nvalue = [9, 3]\"] ;\\n30 -> 32 ;\\n33 [label=\"entropy = 0.918\\\\nsamples = 6\\\\nvalue = [4, 2]\"] ;\\n32 -> 33 ;\\n34 [label=\"entropy = 0.65\\\\nsamples = 6\\\\nvalue = [5, 1]\"] ;\\n32 -> 34 ;\\n35 [label=\"Age <= 28.5\\\\nentropy = 0.999\\\\nsamples = 225\\\\nvalue = [116, 109]\"] ;\\n29 -> 35 ;\\n36 [label=\"Glucose <= 127.5\\\\nentropy = 0.875\\\\nsamples = 95\\\\nvalue = [67, 28]\"] ;\\n35 -> 36 ;\\n37 [label=\"Insulin <= 37.25\\\\nentropy = 0.65\\\\nsamples = 48\\\\nvalue = [40, 8]\"] ;\\n36 -> 37 ;\\n38 [label=\"entropy = 0.949\\\\nsamples = 19\\\\nvalue = [12, 7]\"] ;\\n37 -> 38 ;\\n39 [label=\"entropy = 0.216\\\\nsamples = 29\\\\nvalue = [28, 1]\"] ;\\n37 -> 39 ;\\n40 [label=\"Insulin <= 260.0\\\\nentropy = 0.984\\\\nsamples = 47\\\\nvalue = [27, 20]\"] ;\\n36 -> 40 ;\\n41 [label=\"entropy = 1.0\\\\nsamples = 40\\\\nvalue = [20, 20]\"] ;\\n40 -> 41 ;\\n42 [label=\"entropy = 0.0\\\\nsamples = 7\\\\nvalue = [7, 0]\"] ;\\n40 -> 42 ;\\n43 [label=\"BMI <= 40.85\\\\nentropy = 0.956\\\\nsamples = 130\\\\nvalue = [49, 81]\"] ;\\n35 -> 43 ;\\n44 [label=\"DiabetesPedigreeFunction <= 0.722\\\\nentropy = 0.982\\\\nsamples = 114\\\\nvalue = [48, 66]\"] ;\\n43 -> 44 ;\\n45 [label=\"entropy = 0.999\\\\nsamples = 90\\\\nvalue = [43, 47]\"] ;\\n44 -> 45 ;\\n46 [label=\"entropy = 0.738\\\\nsamples = 24\\\\nvalue = [5, 19]\"] ;\\n44 -> 46 ;\\n47 [label=\"Glucose <= 139.0\\\\nentropy = 0.337\\\\nsamples = 16\\\\nvalue = [1, 15]\"] ;\\n43 -> 47 ;\\n48 [label=\"entropy = 0.0\\\\nsamples = 10\\\\nvalue = [0, 10]\"] ;\\n47 -> 48 ;\\n49 [label=\"entropy = 0.65\\\\nsamples = 6\\\\nvalue = [1, 5]\"] ;\\n47 -> 49 ;\\n50 [label=\"BMI <= 29.1\\\\nentropy = 0.676\\\\nsamples = 73\\\\nvalue = [13, 60]\"] ;\\n28 -> 50 ;\\n51 [label=\"BMI <= 25.85\\\\nentropy = 0.98\\\\nsamples = 12\\\\nvalue = [7, 5]\"] ;\\n50 -> 51 ;\\n52 [label=\"entropy = 0.918\\\\nsamples = 6\\\\nvalue = [2, 4]\"] ;\\n51 -> 52 ;\\n53 [label=\"entropy = 0.65\\\\nsamples = 6\\\\nvalue = [5, 1]\"] ;\\n51 -> 53 ;\\n54 [label=\"DiabetesPedigreeFunction <= 1.157\\\\nentropy = 0.464\\\\nsamples = 61\\\\nvalue = [6, 55]\"] ;\\n50 -> 54 ;\\n55 [label=\"Insulin <= 127.5\\\\nentropy = 0.31\\\\nsamples = 54\\\\nvalue = [3, 51]\"] ;\\n54 -> 55 ;\\n56 [label=\"entropy = 0.0\\\\nsamples = 26\\\\nvalue = [0, 26]\"] ;\\n55 -> 56 ;\\n57 [label=\"SkinThickness <= 34.0\\\\nentropy = 0.491\\\\nsamples = 28\\\\nvalue = [3, 25]\"] ;\\n55 -> 57 ;\\n58 [label=\"entropy = 0.722\\\\nsamples = 15\\\\nvalue = [3, 12]\"] ;\\n57 -> 58 ;\\n59 [label=\"entropy = 0.0\\\\nsamples = 13\\\\nvalue = [0, 13]\"] ;\\n57 -> 59 ;\\n60 [label=\"entropy = 0.985\\\\nsamples = 7\\\\nvalue = [3, 4]\"] ;\\n54 -> 60 ;\\n}'"
            ],
            "application/vnd.google.colaboratory.intrinsic+json": {
              "type": "string"
            }
          },
          "metadata": {},
          "execution_count": 44
        }
      ]
    },
    {
      "cell_type": "code",
      "source": [
        "Source(text)"
      ],
      "metadata": {
        "colab": {
          "base_uri": "https://localhost:8080/",
          "height": 954
        },
        "id": "hbgtgMyA5WZ8",
        "outputId": "a8130514-963a-4ee9-bd8b-7eb2a0313fdd"
      },
      "execution_count": 45,
      "outputs": [
        {
          "output_type": "execute_result",
          "data": {
            "text/plain": [
              "<graphviz.files.Source at 0x7f715e9f36d0>"
            ],
            "image/svg+xml": "<?xml version=\"1.0\" encoding=\"UTF-8\" standalone=\"no\"?>\n<!DOCTYPE svg PUBLIC \"-//W3C//DTD SVG 1.1//EN\"\n \"http://www.w3.org/Graphics/SVG/1.1/DTD/svg11.dtd\">\n<!-- Generated by graphviz version 2.40.1 (20161225.0304)\n -->\n<!-- Title: Tree Pages: 1 -->\n<svg width=\"2874pt\" height=\"685pt\"\n viewBox=\"0.00 0.00 2873.50 685.00\" xmlns=\"http://www.w3.org/2000/svg\" xmlns:xlink=\"http://www.w3.org/1999/xlink\">\n<g id=\"graph0\" class=\"graph\" transform=\"scale(1 1) rotate(0) translate(4 681)\">\n<title>Tree</title>\n<polygon fill=\"#ffffff\" stroke=\"transparent\" points=\"-4,4 -4,-681 2869.5,-681 2869.5,4 -4,4\"/>\n<!-- 0 -->\n<g id=\"node1\" class=\"node\">\n<title>0</title>\n<polygon fill=\"none\" stroke=\"#000000\" points=\"1527,-677 1395,-677 1395,-609 1527,-609 1527,-677\"/>\n<text text-anchor=\"middle\" x=\"1461\" y=\"-661.8\" font-family=\"Helvetica,sans-Serif\" font-size=\"14.00\" fill=\"#000000\">Glucose &lt;= 110.5</text>\n<text text-anchor=\"middle\" x=\"1461\" y=\"-646.8\" font-family=\"Helvetica,sans-Serif\" font-size=\"14.00\" fill=\"#000000\">entropy = 0.934</text>\n<text text-anchor=\"middle\" x=\"1461\" y=\"-631.8\" font-family=\"Helvetica,sans-Serif\" font-size=\"14.00\" fill=\"#000000\">samples = 578</text>\n<text text-anchor=\"middle\" x=\"1461\" y=\"-616.8\" font-family=\"Helvetica,sans-Serif\" font-size=\"14.00\" fill=\"#000000\">value = [376, 202]</text>\n</g>\n<!-- 1 -->\n<g id=\"node2\" class=\"node\">\n<title>1</title>\n<polygon fill=\"none\" stroke=\"#000000\" points=\"1202.5,-573 1059.5,-573 1059.5,-505 1202.5,-505 1202.5,-573\"/>\n<text text-anchor=\"middle\" x=\"1131\" y=\"-557.8\" font-family=\"Helvetica,sans-Serif\" font-size=\"14.00\" fill=\"#000000\">Pregnancies &lt;= 6.5</text>\n<text text-anchor=\"middle\" x=\"1131\" y=\"-542.8\" font-family=\"Helvetica,sans-Serif\" font-size=\"14.00\" fill=\"#000000\">entropy = 0.542</text>\n<text text-anchor=\"middle\" x=\"1131\" y=\"-527.8\" font-family=\"Helvetica,sans-Serif\" font-size=\"14.00\" fill=\"#000000\">samples = 241</text>\n<text text-anchor=\"middle\" x=\"1131\" y=\"-512.8\" font-family=\"Helvetica,sans-Serif\" font-size=\"14.00\" fill=\"#000000\">value = [211, 30]</text>\n</g>\n<!-- 0&#45;&gt;1 -->\n<g id=\"edge1\" class=\"edge\">\n<title>0&#45;&gt;1</title>\n<path fill=\"none\" stroke=\"#000000\" d=\"M1394.6165,-622.0792C1342.041,-605.5099 1268.3653,-582.2909 1212.2631,-564.6102\"/>\n<polygon fill=\"#000000\" stroke=\"#000000\" points=\"1213.3,-561.2673 1202.7103,-561.5996 1211.1959,-567.9436 1213.3,-561.2673\"/>\n<text text-anchor=\"middle\" x=\"1214.257\" y=\"-580.0733\" font-family=\"Helvetica,sans-Serif\" font-size=\"14.00\" fill=\"#000000\">True</text>\n</g>\n<!-- 28 -->\n<g id=\"node29\" class=\"node\">\n<title>28</title>\n<polygon fill=\"none\" stroke=\"#000000\" points=\"1823,-573 1691,-573 1691,-505 1823,-505 1823,-573\"/>\n<text text-anchor=\"middle\" x=\"1757\" y=\"-557.8\" font-family=\"Helvetica,sans-Serif\" font-size=\"14.00\" fill=\"#000000\">Glucose &lt;= 160.0</text>\n<text text-anchor=\"middle\" x=\"1757\" y=\"-542.8\" font-family=\"Helvetica,sans-Serif\" font-size=\"14.00\" fill=\"#000000\">entropy = 1.0</text>\n<text text-anchor=\"middle\" x=\"1757\" y=\"-527.8\" font-family=\"Helvetica,sans-Serif\" font-size=\"14.00\" fill=\"#000000\">samples = 337</text>\n<text text-anchor=\"middle\" x=\"1757\" y=\"-512.8\" font-family=\"Helvetica,sans-Serif\" font-size=\"14.00\" fill=\"#000000\">value = [165, 172]</text>\n</g>\n<!-- 0&#45;&gt;28 -->\n<g id=\"edge28\" class=\"edge\">\n<title>0&#45;&gt;28</title>\n<path fill=\"none\" stroke=\"#000000\" d=\"M1527.0598,-619.7898C1572.7292,-603.7438 1633.599,-582.3571 1681.2383,-565.619\"/>\n<polygon fill=\"#000000\" stroke=\"#000000\" points=\"1682.6123,-568.846 1690.8867,-562.229 1680.2918,-562.2418 1682.6123,-568.846\"/>\n<text text-anchor=\"middle\" x=\"1680.0684\" y=\"-581.0671\" font-family=\"Helvetica,sans-Serif\" font-size=\"14.00\" fill=\"#000000\">False</text>\n</g>\n<!-- 2 -->\n<g id=\"node3\" class=\"node\">\n<title>2</title>\n<polygon fill=\"none\" stroke=\"#000000\" points=\"806,-469 682,-469 682,-401 806,-401 806,-469\"/>\n<text text-anchor=\"middle\" x=\"744\" y=\"-453.8\" font-family=\"Helvetica,sans-Serif\" font-size=\"14.00\" fill=\"#000000\">BMI &lt;= 33.55</text>\n<text text-anchor=\"middle\" x=\"744\" y=\"-438.8\" font-family=\"Helvetica,sans-Serif\" font-size=\"14.00\" fill=\"#000000\">entropy = 0.402</text>\n<text text-anchor=\"middle\" x=\"744\" y=\"-423.8\" font-family=\"Helvetica,sans-Serif\" font-size=\"14.00\" fill=\"#000000\">samples = 200</text>\n<text text-anchor=\"middle\" x=\"744\" y=\"-408.8\" font-family=\"Helvetica,sans-Serif\" font-size=\"14.00\" fill=\"#000000\">value = [184, 16]</text>\n</g>\n<!-- 1&#45;&gt;2 -->\n<g id=\"edge2\" class=\"edge\">\n<title>1&#45;&gt;2</title>\n<path fill=\"none\" stroke=\"#000000\" d=\"M1059.1152,-519.6821C989.8413,-501.0659 885.5955,-473.0515 816.2118,-454.4058\"/>\n<polygon fill=\"#000000\" stroke=\"#000000\" points=\"816.8019,-450.9402 806.2361,-451.725 814.9851,-457.7004 816.8019,-450.9402\"/>\n</g>\n<!-- 19 -->\n<g id=\"node20\" class=\"node\">\n<title>19</title>\n<polygon fill=\"none\" stroke=\"#000000\" points=\"1192.5,-469 1069.5,-469 1069.5,-401 1192.5,-401 1192.5,-469\"/>\n<text text-anchor=\"middle\" x=\"1131\" y=\"-453.8\" font-family=\"Helvetica,sans-Serif\" font-size=\"14.00\" fill=\"#000000\">Glucose &lt;= 96.0</text>\n<text text-anchor=\"middle\" x=\"1131\" y=\"-438.8\" font-family=\"Helvetica,sans-Serif\" font-size=\"14.00\" fill=\"#000000\">entropy = 0.926</text>\n<text text-anchor=\"middle\" x=\"1131\" y=\"-423.8\" font-family=\"Helvetica,sans-Serif\" font-size=\"14.00\" fill=\"#000000\">samples = 41</text>\n<text text-anchor=\"middle\" x=\"1131\" y=\"-408.8\" font-family=\"Helvetica,sans-Serif\" font-size=\"14.00\" fill=\"#000000\">value = [27, 14]</text>\n</g>\n<!-- 1&#45;&gt;19 -->\n<g id=\"edge19\" class=\"edge\">\n<title>1&#45;&gt;19</title>\n<path fill=\"none\" stroke=\"#000000\" d=\"M1131,-504.9465C1131,-496.776 1131,-487.9318 1131,-479.3697\"/>\n<polygon fill=\"#000000\" stroke=\"#000000\" points=\"1134.5001,-479.13 1131,-469.13 1127.5001,-479.13 1134.5001,-479.13\"/>\n</g>\n<!-- 3 -->\n<g id=\"node4\" class=\"node\">\n<title>3</title>\n<polygon fill=\"none\" stroke=\"#000000\" points=\"547,-365 297,-365 297,-297 547,-297 547,-365\"/>\n<text text-anchor=\"middle\" x=\"422\" y=\"-349.8\" font-family=\"Helvetica,sans-Serif\" font-size=\"14.00\" fill=\"#000000\">DiabetesPedigreeFunction &lt;= 0.672</text>\n<text text-anchor=\"middle\" x=\"422\" y=\"-334.8\" font-family=\"Helvetica,sans-Serif\" font-size=\"14.00\" fill=\"#000000\">entropy = 0.221</text>\n<text text-anchor=\"middle\" x=\"422\" y=\"-319.8\" font-family=\"Helvetica,sans-Serif\" font-size=\"14.00\" fill=\"#000000\">samples = 141</text>\n<text text-anchor=\"middle\" x=\"422\" y=\"-304.8\" font-family=\"Helvetica,sans-Serif\" font-size=\"14.00\" fill=\"#000000\">value = [136, 5]</text>\n</g>\n<!-- 2&#45;&gt;3 -->\n<g id=\"edge3\" class=\"edge\">\n<title>2&#45;&gt;3</title>\n<path fill=\"none\" stroke=\"#000000\" d=\"M681.9152,-414.9478C640.8814,-401.6946 585.8517,-383.9211 536.993,-368.1406\"/>\n<polygon fill=\"#000000\" stroke=\"#000000\" points=\"537.9012,-364.756 527.3095,-365.013 535.7497,-371.4171 537.9012,-364.756\"/>\n</g>\n<!-- 12 -->\n<g id=\"node13\" class=\"node\">\n<title>12</title>\n<polygon fill=\"none\" stroke=\"#000000\" points=\"826.5,-365 661.5,-365 661.5,-297 826.5,-297 826.5,-365\"/>\n<text text-anchor=\"middle\" x=\"744\" y=\"-349.8\" font-family=\"Helvetica,sans-Serif\" font-size=\"14.00\" fill=\"#000000\">BloodPressure &lt;= 87.0</text>\n<text text-anchor=\"middle\" x=\"744\" y=\"-334.8\" font-family=\"Helvetica,sans-Serif\" font-size=\"14.00\" fill=\"#000000\">entropy = 0.694</text>\n<text text-anchor=\"middle\" x=\"744\" y=\"-319.8\" font-family=\"Helvetica,sans-Serif\" font-size=\"14.00\" fill=\"#000000\">samples = 59</text>\n<text text-anchor=\"middle\" x=\"744\" y=\"-304.8\" font-family=\"Helvetica,sans-Serif\" font-size=\"14.00\" fill=\"#000000\">value = [48, 11]</text>\n</g>\n<!-- 2&#45;&gt;12 -->\n<g id=\"edge12\" class=\"edge\">\n<title>2&#45;&gt;12</title>\n<path fill=\"none\" stroke=\"#000000\" d=\"M744,-400.9465C744,-392.776 744,-383.9318 744,-375.3697\"/>\n<polygon fill=\"#000000\" stroke=\"#000000\" points=\"747.5001,-375.13 744,-365.13 740.5001,-375.13 747.5001,-375.13\"/>\n</g>\n<!-- 4 -->\n<g id=\"node5\" class=\"node\">\n<title>4</title>\n<polygon fill=\"none\" stroke=\"#000000\" points=\"268.5,-261 103.5,-261 103.5,-193 268.5,-193 268.5,-261\"/>\n<text text-anchor=\"middle\" x=\"186\" y=\"-245.8\" font-family=\"Helvetica,sans-Serif\" font-size=\"14.00\" fill=\"#000000\">BloodPressure &lt;= 51.0</text>\n<text text-anchor=\"middle\" x=\"186\" y=\"-230.8\" font-family=\"Helvetica,sans-Serif\" font-size=\"14.00\" fill=\"#000000\">entropy = 0.071</text>\n<text text-anchor=\"middle\" x=\"186\" y=\"-215.8\" font-family=\"Helvetica,sans-Serif\" font-size=\"14.00\" fill=\"#000000\">samples = 117</text>\n<text text-anchor=\"middle\" x=\"186\" y=\"-200.8\" font-family=\"Helvetica,sans-Serif\" font-size=\"14.00\" fill=\"#000000\">value = [116, 1]</text>\n</g>\n<!-- 3&#45;&gt;4 -->\n<g id=\"edge4\" class=\"edge\">\n<title>3&#45;&gt;4</title>\n<path fill=\"none\" stroke=\"#000000\" d=\"M344.7248,-296.9465C321.7017,-286.8008 296.3212,-275.6161 272.7364,-265.2228\"/>\n<polygon fill=\"#000000\" stroke=\"#000000\" points=\"274.0111,-261.9598 263.4488,-261.13 271.1883,-268.3654 274.0111,-261.9598\"/>\n</g>\n<!-- 7 -->\n<g id=\"node8\" class=\"node\">\n<title>7</title>\n<polygon fill=\"none\" stroke=\"#000000\" points=\"504.5,-261 339.5,-261 339.5,-193 504.5,-193 504.5,-261\"/>\n<text text-anchor=\"middle\" x=\"422\" y=\"-245.8\" font-family=\"Helvetica,sans-Serif\" font-size=\"14.00\" fill=\"#000000\">BloodPressure &lt;= 73.0</text>\n<text text-anchor=\"middle\" x=\"422\" y=\"-230.8\" font-family=\"Helvetica,sans-Serif\" font-size=\"14.00\" fill=\"#000000\">entropy = 0.65</text>\n<text text-anchor=\"middle\" x=\"422\" y=\"-215.8\" font-family=\"Helvetica,sans-Serif\" font-size=\"14.00\" fill=\"#000000\">samples = 24</text>\n<text text-anchor=\"middle\" x=\"422\" y=\"-200.8\" font-family=\"Helvetica,sans-Serif\" font-size=\"14.00\" fill=\"#000000\">value = [20, 4]</text>\n</g>\n<!-- 3&#45;&gt;7 -->\n<g id=\"edge7\" class=\"edge\">\n<title>3&#45;&gt;7</title>\n<path fill=\"none\" stroke=\"#000000\" d=\"M422,-296.9465C422,-288.776 422,-279.9318 422,-271.3697\"/>\n<polygon fill=\"#000000\" stroke=\"#000000\" points=\"425.5001,-271.13 422,-261.13 418.5001,-271.13 425.5001,-271.13\"/>\n</g>\n<!-- 5 -->\n<g id=\"node6\" class=\"node\">\n<title>5</title>\n<polygon fill=\"none\" stroke=\"#000000\" points=\"110,-149.5 0,-149.5 0,-96.5 110,-96.5 110,-149.5\"/>\n<text text-anchor=\"middle\" x=\"55\" y=\"-134.3\" font-family=\"Helvetica,sans-Serif\" font-size=\"14.00\" fill=\"#000000\">entropy = 0.65</text>\n<text text-anchor=\"middle\" x=\"55\" y=\"-119.3\" font-family=\"Helvetica,sans-Serif\" font-size=\"14.00\" fill=\"#000000\">samples = 6</text>\n<text text-anchor=\"middle\" x=\"55\" y=\"-104.3\" font-family=\"Helvetica,sans-Serif\" font-size=\"14.00\" fill=\"#000000\">value = [5, 1]</text>\n</g>\n<!-- 4&#45;&gt;5 -->\n<g id=\"edge5\" class=\"edge\">\n<title>4&#45;&gt;5</title>\n<path fill=\"none\" stroke=\"#000000\" d=\"M143.1057,-192.9465C128.1212,-181.0504 111.3376,-167.726 96.4712,-155.9237\"/>\n<polygon fill=\"#000000\" stroke=\"#000000\" points=\"98.4411,-153.0187 88.4329,-149.5422 94.0887,-158.5011 98.4411,-153.0187\"/>\n</g>\n<!-- 6 -->\n<g id=\"node7\" class=\"node\">\n<title>6</title>\n<polygon fill=\"none\" stroke=\"#000000\" points=\"244,-149.5 128,-149.5 128,-96.5 244,-96.5 244,-149.5\"/>\n<text text-anchor=\"middle\" x=\"186\" y=\"-134.3\" font-family=\"Helvetica,sans-Serif\" font-size=\"14.00\" fill=\"#000000\">entropy = 0.0</text>\n<text text-anchor=\"middle\" x=\"186\" y=\"-119.3\" font-family=\"Helvetica,sans-Serif\" font-size=\"14.00\" fill=\"#000000\">samples = 111</text>\n<text text-anchor=\"middle\" x=\"186\" y=\"-104.3\" font-family=\"Helvetica,sans-Serif\" font-size=\"14.00\" fill=\"#000000\">value = [111, 0]</text>\n</g>\n<!-- 4&#45;&gt;6 -->\n<g id=\"edge6\" class=\"edge\">\n<title>4&#45;&gt;6</title>\n<path fill=\"none\" stroke=\"#000000\" d=\"M186,-192.9465C186,-182.2621 186,-170.4254 186,-159.5742\"/>\n<polygon fill=\"#000000\" stroke=\"#000000\" points=\"189.5001,-159.5421 186,-149.5422 182.5001,-159.5422 189.5001,-159.5421\"/>\n</g>\n<!-- 8 -->\n<g id=\"node9\" class=\"node\">\n<title>8</title>\n<polygon fill=\"none\" stroke=\"#000000\" points=\"405.5,-157 262.5,-157 262.5,-89 405.5,-89 405.5,-157\"/>\n<text text-anchor=\"middle\" x=\"334\" y=\"-141.8\" font-family=\"Helvetica,sans-Serif\" font-size=\"14.00\" fill=\"#000000\">Pregnancies &lt;= 2.5</text>\n<text text-anchor=\"middle\" x=\"334\" y=\"-126.8\" font-family=\"Helvetica,sans-Serif\" font-size=\"14.00\" fill=\"#000000\">entropy = 0.31</text>\n<text text-anchor=\"middle\" x=\"334\" y=\"-111.8\" font-family=\"Helvetica,sans-Serif\" font-size=\"14.00\" fill=\"#000000\">samples = 18</text>\n<text text-anchor=\"middle\" x=\"334\" y=\"-96.8\" font-family=\"Helvetica,sans-Serif\" font-size=\"14.00\" fill=\"#000000\">value = [17, 1]</text>\n</g>\n<!-- 7&#45;&gt;8 -->\n<g id=\"edge8\" class=\"edge\">\n<title>7&#45;&gt;8</title>\n<path fill=\"none\" stroke=\"#000000\" d=\"M393.1855,-192.9465C385.5883,-183.968 377.3026,-174.1758 369.4018,-164.8385\"/>\n<polygon fill=\"#000000\" stroke=\"#000000\" points=\"372.0105,-162.5031 362.8792,-157.13 366.6668,-167.0247 372.0105,-162.5031\"/>\n</g>\n<!-- 11 -->\n<g id=\"node12\" class=\"node\">\n<title>11</title>\n<polygon fill=\"none\" stroke=\"#000000\" points=\"524.5,-149.5 423.5,-149.5 423.5,-96.5 524.5,-96.5 524.5,-149.5\"/>\n<text text-anchor=\"middle\" x=\"474\" y=\"-134.3\" font-family=\"Helvetica,sans-Serif\" font-size=\"14.00\" fill=\"#000000\">entropy = 1.0</text>\n<text text-anchor=\"middle\" x=\"474\" y=\"-119.3\" font-family=\"Helvetica,sans-Serif\" font-size=\"14.00\" fill=\"#000000\">samples = 6</text>\n<text text-anchor=\"middle\" x=\"474\" y=\"-104.3\" font-family=\"Helvetica,sans-Serif\" font-size=\"14.00\" fill=\"#000000\">value = [3, 3]</text>\n</g>\n<!-- 7&#45;&gt;11 -->\n<g id=\"edge11\" class=\"edge\">\n<title>7&#45;&gt;11</title>\n<path fill=\"none\" stroke=\"#000000\" d=\"M439.0267,-192.9465C444.5342,-181.9316 450.6539,-169.6922 456.2149,-158.5703\"/>\n<polygon fill=\"#000000\" stroke=\"#000000\" points=\"459.3872,-160.0517 460.7289,-149.5422 453.1262,-156.9212 459.3872,-160.0517\"/>\n</g>\n<!-- 9 -->\n<g id=\"node10\" class=\"node\">\n<title>9</title>\n<polygon fill=\"none\" stroke=\"#000000\" points=\"298.5,-53 191.5,-53 191.5,0 298.5,0 298.5,-53\"/>\n<text text-anchor=\"middle\" x=\"245\" y=\"-37.8\" font-family=\"Helvetica,sans-Serif\" font-size=\"14.00\" fill=\"#000000\">entropy = 0.0</text>\n<text text-anchor=\"middle\" x=\"245\" y=\"-22.8\" font-family=\"Helvetica,sans-Serif\" font-size=\"14.00\" fill=\"#000000\">samples = 12</text>\n<text text-anchor=\"middle\" x=\"245\" y=\"-7.8\" font-family=\"Helvetica,sans-Serif\" font-size=\"14.00\" fill=\"#000000\">value = [12, 0]</text>\n</g>\n<!-- 8&#45;&gt;9 -->\n<g id=\"edge9\" class=\"edge\">\n<title>8&#45;&gt;9</title>\n<path fill=\"none\" stroke=\"#000000\" d=\"M302.6219,-88.9777C294.1766,-79.8207 285.0389,-69.9129 276.5825,-60.744\"/>\n<polygon fill=\"#000000\" stroke=\"#000000\" points=\"279.0221,-58.2266 269.6696,-53.2485 273.8764,-62.9723 279.0221,-58.2266\"/>\n</g>\n<!-- 10 -->\n<g id=\"node11\" class=\"node\">\n<title>10</title>\n<polygon fill=\"none\" stroke=\"#000000\" points=\"427,-53 317,-53 317,0 427,0 427,-53\"/>\n<text text-anchor=\"middle\" x=\"372\" y=\"-37.8\" font-family=\"Helvetica,sans-Serif\" font-size=\"14.00\" fill=\"#000000\">entropy = 0.65</text>\n<text text-anchor=\"middle\" x=\"372\" y=\"-22.8\" font-family=\"Helvetica,sans-Serif\" font-size=\"14.00\" fill=\"#000000\">samples = 6</text>\n<text text-anchor=\"middle\" x=\"372\" y=\"-7.8\" font-family=\"Helvetica,sans-Serif\" font-size=\"14.00\" fill=\"#000000\">value = [5, 1]</text>\n</g>\n<!-- 8&#45;&gt;10 -->\n<g id=\"edge10\" class=\"edge\">\n<title>8&#45;&gt;10</title>\n<path fill=\"none\" stroke=\"#000000\" d=\"M347.3974,-88.9777C350.7508,-80.4617 354.36,-71.2963 357.753,-62.6798\"/>\n<polygon fill=\"#000000\" stroke=\"#000000\" points=\"361.0595,-63.8355 361.4669,-53.2485 354.5463,-61.2707 361.0595,-63.8355\"/>\n</g>\n<!-- 13 -->\n<g id=\"node14\" class=\"node\">\n<title>13</title>\n<polygon fill=\"none\" stroke=\"#000000\" points=\"750.5,-261 585.5,-261 585.5,-193 750.5,-193 750.5,-261\"/>\n<text text-anchor=\"middle\" x=\"668\" y=\"-245.8\" font-family=\"Helvetica,sans-Serif\" font-size=\"14.00\" fill=\"#000000\">BloodPressure &lt;= 81.0</text>\n<text text-anchor=\"middle\" x=\"668\" y=\"-230.8\" font-family=\"Helvetica,sans-Serif\" font-size=\"14.00\" fill=\"#000000\">entropy = 0.752</text>\n<text text-anchor=\"middle\" x=\"668\" y=\"-215.8\" font-family=\"Helvetica,sans-Serif\" font-size=\"14.00\" fill=\"#000000\">samples = 51</text>\n<text text-anchor=\"middle\" x=\"668\" y=\"-200.8\" font-family=\"Helvetica,sans-Serif\" font-size=\"14.00\" fill=\"#000000\">value = [40, 11]</text>\n</g>\n<!-- 12&#45;&gt;13 -->\n<g id=\"edge13\" class=\"edge\">\n<title>12&#45;&gt;13</title>\n<path fill=\"none\" stroke=\"#000000\" d=\"M719.1148,-296.9465C712.6847,-288.1475 705.6837,-278.5672 698.9841,-269.3993\"/>\n<polygon fill=\"#000000\" stroke=\"#000000\" points=\"701.6672,-267.1389 692.9412,-261.13 696.0155,-271.269 701.6672,-267.1389\"/>\n</g>\n<!-- 18 -->\n<g id=\"node19\" class=\"node\">\n<title>18</title>\n<polygon fill=\"none\" stroke=\"#000000\" points=\"869.5,-253.5 768.5,-253.5 768.5,-200.5 869.5,-200.5 869.5,-253.5\"/>\n<text text-anchor=\"middle\" x=\"819\" y=\"-238.3\" font-family=\"Helvetica,sans-Serif\" font-size=\"14.00\" fill=\"#000000\">entropy = 0.0</text>\n<text text-anchor=\"middle\" x=\"819\" y=\"-223.3\" font-family=\"Helvetica,sans-Serif\" font-size=\"14.00\" fill=\"#000000\">samples = 8</text>\n<text text-anchor=\"middle\" x=\"819\" y=\"-208.3\" font-family=\"Helvetica,sans-Serif\" font-size=\"14.00\" fill=\"#000000\">value = [8, 0]</text>\n</g>\n<!-- 12&#45;&gt;18 -->\n<g id=\"edge18\" class=\"edge\">\n<title>12&#45;&gt;18</title>\n<path fill=\"none\" stroke=\"#000000\" d=\"M768.5578,-296.9465C776.6601,-285.7113 785.6812,-273.2021 793.8286,-261.9043\"/>\n<polygon fill=\"#000000\" stroke=\"#000000\" points=\"796.8486,-263.7003 799.859,-253.5422 791.1709,-259.6058 796.8486,-263.7003\"/>\n</g>\n<!-- 14 -->\n<g id=\"node15\" class=\"node\">\n<title>14</title>\n<polygon fill=\"none\" stroke=\"#000000\" points=\"793,-157 543,-157 543,-89 793,-89 793,-157\"/>\n<text text-anchor=\"middle\" x=\"668\" y=\"-141.8\" font-family=\"Helvetica,sans-Serif\" font-size=\"14.00\" fill=\"#000000\">DiabetesPedigreeFunction &lt;= 0.289</text>\n<text text-anchor=\"middle\" x=\"668\" y=\"-126.8\" font-family=\"Helvetica,sans-Serif\" font-size=\"14.00\" fill=\"#000000\">entropy = 0.632</text>\n<text text-anchor=\"middle\" x=\"668\" y=\"-111.8\" font-family=\"Helvetica,sans-Serif\" font-size=\"14.00\" fill=\"#000000\">samples = 44</text>\n<text text-anchor=\"middle\" x=\"668\" y=\"-96.8\" font-family=\"Helvetica,sans-Serif\" font-size=\"14.00\" fill=\"#000000\">value = [37, 7]</text>\n</g>\n<!-- 13&#45;&gt;14 -->\n<g id=\"edge14\" class=\"edge\">\n<title>13&#45;&gt;14</title>\n<path fill=\"none\" stroke=\"#000000\" d=\"M668,-192.9465C668,-184.776 668,-175.9318 668,-167.3697\"/>\n<polygon fill=\"#000000\" stroke=\"#000000\" points=\"671.5001,-167.13 668,-157.13 664.5001,-167.13 671.5001,-167.13\"/>\n</g>\n<!-- 17 -->\n<g id=\"node18\" class=\"node\">\n<title>17</title>\n<polygon fill=\"none\" stroke=\"#000000\" points=\"929,-149.5 811,-149.5 811,-96.5 929,-96.5 929,-149.5\"/>\n<text text-anchor=\"middle\" x=\"870\" y=\"-134.3\" font-family=\"Helvetica,sans-Serif\" font-size=\"14.00\" fill=\"#000000\">entropy = 0.985</text>\n<text text-anchor=\"middle\" x=\"870\" y=\"-119.3\" font-family=\"Helvetica,sans-Serif\" font-size=\"14.00\" fill=\"#000000\">samples = 7</text>\n<text text-anchor=\"middle\" x=\"870\" y=\"-104.3\" font-family=\"Helvetica,sans-Serif\" font-size=\"14.00\" fill=\"#000000\">value = [3, 4]</text>\n</g>\n<!-- 13&#45;&gt;17 -->\n<g id=\"edge17\" class=\"edge\">\n<title>13&#45;&gt;17</title>\n<path fill=\"none\" stroke=\"#000000\" d=\"M734.1424,-192.9465C758.4249,-180.4446 785.7714,-166.3652 809.5306,-154.1328\"/>\n<polygon fill=\"#000000\" stroke=\"#000000\" points=\"811.1582,-157.2315 818.4469,-149.5422 807.954,-151.0079 811.1582,-157.2315\"/>\n</g>\n<!-- 15 -->\n<g id=\"node16\" class=\"node\">\n<title>15</title>\n<polygon fill=\"none\" stroke=\"#000000\" points=\"655.5,-53 548.5,-53 548.5,0 655.5,0 655.5,-53\"/>\n<text text-anchor=\"middle\" x=\"602\" y=\"-37.8\" font-family=\"Helvetica,sans-Serif\" font-size=\"14.00\" fill=\"#000000\">entropy = 0.0</text>\n<text text-anchor=\"middle\" x=\"602\" y=\"-22.8\" font-family=\"Helvetica,sans-Serif\" font-size=\"14.00\" fill=\"#000000\">samples = 14</text>\n<text text-anchor=\"middle\" x=\"602\" y=\"-7.8\" font-family=\"Helvetica,sans-Serif\" font-size=\"14.00\" fill=\"#000000\">value = [14, 0]</text>\n</g>\n<!-- 14&#45;&gt;15 -->\n<g id=\"edge15\" class=\"edge\">\n<title>14&#45;&gt;15</title>\n<path fill=\"none\" stroke=\"#000000\" d=\"M644.7309,-88.9777C638.656,-80.0954 632.0979,-70.5067 625.9865,-61.5711\"/>\n<polygon fill=\"#000000\" stroke=\"#000000\" points=\"628.8286,-59.5267 620.2943,-53.2485 623.0507,-63.4785 628.8286,-59.5267\"/>\n</g>\n<!-- 16 -->\n<g id=\"node17\" class=\"node\">\n<title>16</title>\n<polygon fill=\"none\" stroke=\"#000000\" points=\"792,-53 674,-53 674,0 792,0 792,-53\"/>\n<text text-anchor=\"middle\" x=\"733\" y=\"-37.8\" font-family=\"Helvetica,sans-Serif\" font-size=\"14.00\" fill=\"#000000\">entropy = 0.784</text>\n<text text-anchor=\"middle\" x=\"733\" y=\"-22.8\" font-family=\"Helvetica,sans-Serif\" font-size=\"14.00\" fill=\"#000000\">samples = 30</text>\n<text text-anchor=\"middle\" x=\"733\" y=\"-7.8\" font-family=\"Helvetica,sans-Serif\" font-size=\"14.00\" fill=\"#000000\">value = [23, 7]</text>\n</g>\n<!-- 14&#45;&gt;16 -->\n<g id=\"edge16\" class=\"edge\">\n<title>14&#45;&gt;16</title>\n<path fill=\"none\" stroke=\"#000000\" d=\"M690.9166,-88.9777C696.8994,-80.0954 703.3582,-70.5067 709.377,-61.5711\"/>\n<polygon fill=\"#000000\" stroke=\"#000000\" points=\"712.2991,-63.4978 714.9829,-53.2485 706.4933,-59.5871 712.2991,-63.4978\"/>\n</g>\n<!-- 20 -->\n<g id=\"node21\" class=\"node\">\n<title>20</title>\n<polygon fill=\"none\" stroke=\"#000000\" points=\"1089,-365 971,-365 971,-297 1089,-297 1089,-365\"/>\n<text text-anchor=\"middle\" x=\"1030\" y=\"-349.8\" font-family=\"Helvetica,sans-Serif\" font-size=\"14.00\" fill=\"#000000\">BMI &lt;= 29.9</text>\n<text text-anchor=\"middle\" x=\"1030\" y=\"-334.8\" font-family=\"Helvetica,sans-Serif\" font-size=\"14.00\" fill=\"#000000\">entropy = 0.337</text>\n<text text-anchor=\"middle\" x=\"1030\" y=\"-319.8\" font-family=\"Helvetica,sans-Serif\" font-size=\"14.00\" fill=\"#000000\">samples = 16</text>\n<text text-anchor=\"middle\" x=\"1030\" y=\"-304.8\" font-family=\"Helvetica,sans-Serif\" font-size=\"14.00\" fill=\"#000000\">value = [15, 1]</text>\n</g>\n<!-- 19&#45;&gt;20 -->\n<g id=\"edge20\" class=\"edge\">\n<title>19&#45;&gt;20</title>\n<path fill=\"none\" stroke=\"#000000\" d=\"M1097.9288,-400.9465C1089.1221,-391.8782 1079.5093,-381.9799 1070.3597,-372.5585\"/>\n<polygon fill=\"#000000\" stroke=\"#000000\" points=\"1072.6232,-369.8654 1063.1455,-365.13 1067.6015,-374.7422 1072.6232,-369.8654\"/>\n</g>\n<!-- 23 -->\n<g id=\"node24\" class=\"node\">\n<title>23</title>\n<polygon fill=\"none\" stroke=\"#000000\" points=\"1357,-365 1107,-365 1107,-297 1357,-297 1357,-365\"/>\n<text text-anchor=\"middle\" x=\"1232\" y=\"-349.8\" font-family=\"Helvetica,sans-Serif\" font-size=\"14.00\" fill=\"#000000\">DiabetesPedigreeFunction &lt;= 0.237</text>\n<text text-anchor=\"middle\" x=\"1232\" y=\"-334.8\" font-family=\"Helvetica,sans-Serif\" font-size=\"14.00\" fill=\"#000000\">entropy = 0.999</text>\n<text text-anchor=\"middle\" x=\"1232\" y=\"-319.8\" font-family=\"Helvetica,sans-Serif\" font-size=\"14.00\" fill=\"#000000\">samples = 25</text>\n<text text-anchor=\"middle\" x=\"1232\" y=\"-304.8\" font-family=\"Helvetica,sans-Serif\" font-size=\"14.00\" fill=\"#000000\">value = [12, 13]</text>\n</g>\n<!-- 19&#45;&gt;23 -->\n<g id=\"edge23\" class=\"edge\">\n<title>19&#45;&gt;23</title>\n<path fill=\"none\" stroke=\"#000000\" d=\"M1164.0712,-400.9465C1172.8779,-391.8782 1182.4907,-381.9799 1191.6403,-372.5585\"/>\n<polygon fill=\"#000000\" stroke=\"#000000\" points=\"1194.3985,-374.7422 1198.8545,-365.13 1189.3768,-369.8654 1194.3985,-374.7422\"/>\n</g>\n<!-- 21 -->\n<g id=\"node22\" class=\"node\">\n<title>21</title>\n<polygon fill=\"none\" stroke=\"#000000\" points=\"998,-253.5 888,-253.5 888,-200.5 998,-200.5 998,-253.5\"/>\n<text text-anchor=\"middle\" x=\"943\" y=\"-238.3\" font-family=\"Helvetica,sans-Serif\" font-size=\"14.00\" fill=\"#000000\">entropy = 0.65</text>\n<text text-anchor=\"middle\" x=\"943\" y=\"-223.3\" font-family=\"Helvetica,sans-Serif\" font-size=\"14.00\" fill=\"#000000\">samples = 6</text>\n<text text-anchor=\"middle\" x=\"943\" y=\"-208.3\" font-family=\"Helvetica,sans-Serif\" font-size=\"14.00\" fill=\"#000000\">value = [5, 1]</text>\n</g>\n<!-- 20&#45;&gt;21 -->\n<g id=\"edge21\" class=\"edge\">\n<title>20&#45;&gt;21</title>\n<path fill=\"none\" stroke=\"#000000\" d=\"M1001.5129,-296.9465C991.93,-285.491 981.239,-272.711 971.6441,-261.2412\"/>\n<polygon fill=\"#000000\" stroke=\"#000000\" points=\"974.3045,-258.9666 965.2035,-253.5422 968.9354,-263.458 974.3045,-258.9666\"/>\n</g>\n<!-- 22 -->\n<g id=\"node23\" class=\"node\">\n<title>22</title>\n<polygon fill=\"none\" stroke=\"#000000\" points=\"1123.5,-253.5 1016.5,-253.5 1016.5,-200.5 1123.5,-200.5 1123.5,-253.5\"/>\n<text text-anchor=\"middle\" x=\"1070\" y=\"-238.3\" font-family=\"Helvetica,sans-Serif\" font-size=\"14.00\" fill=\"#000000\">entropy = 0.0</text>\n<text text-anchor=\"middle\" x=\"1070\" y=\"-223.3\" font-family=\"Helvetica,sans-Serif\" font-size=\"14.00\" fill=\"#000000\">samples = 10</text>\n<text text-anchor=\"middle\" x=\"1070\" y=\"-208.3\" font-family=\"Helvetica,sans-Serif\" font-size=\"14.00\" fill=\"#000000\">value = [10, 0]</text>\n</g>\n<!-- 20&#45;&gt;22 -->\n<g id=\"edge22\" class=\"edge\">\n<title>20&#45;&gt;22</title>\n<path fill=\"none\" stroke=\"#000000\" d=\"M1043.0975,-296.9465C1047.2916,-286.0418 1051.9474,-273.9368 1056.1907,-262.9043\"/>\n<polygon fill=\"#000000\" stroke=\"#000000\" points=\"1059.4683,-264.1321 1059.7915,-253.5422 1052.9349,-261.6192 1059.4683,-264.1321\"/>\n</g>\n<!-- 24 -->\n<g id=\"node25\" class=\"node\">\n<title>24</title>\n<polygon fill=\"none\" stroke=\"#000000\" points=\"1242.5,-253.5 1141.5,-253.5 1141.5,-200.5 1242.5,-200.5 1242.5,-253.5\"/>\n<text text-anchor=\"middle\" x=\"1192\" y=\"-238.3\" font-family=\"Helvetica,sans-Serif\" font-size=\"14.00\" fill=\"#000000\">entropy = 0.0</text>\n<text text-anchor=\"middle\" x=\"1192\" y=\"-223.3\" font-family=\"Helvetica,sans-Serif\" font-size=\"14.00\" fill=\"#000000\">samples = 6</text>\n<text text-anchor=\"middle\" x=\"1192\" y=\"-208.3\" font-family=\"Helvetica,sans-Serif\" font-size=\"14.00\" fill=\"#000000\">value = [6, 0]</text>\n</g>\n<!-- 23&#45;&gt;24 -->\n<g id=\"edge24\" class=\"edge\">\n<title>23&#45;&gt;24</title>\n<path fill=\"none\" stroke=\"#000000\" d=\"M1218.9025,-296.9465C1214.7084,-286.0418 1210.0526,-273.9368 1205.8093,-262.9043\"/>\n<polygon fill=\"#000000\" stroke=\"#000000\" points=\"1209.0651,-261.6192 1202.2085,-253.5422 1202.5317,-264.1321 1209.0651,-261.6192\"/>\n</g>\n<!-- 25 -->\n<g id=\"node26\" class=\"node\">\n<title>25</title>\n<polygon fill=\"none\" stroke=\"#000000\" points=\"1425,-261 1261,-261 1261,-193 1425,-193 1425,-261\"/>\n<text text-anchor=\"middle\" x=\"1343\" y=\"-245.8\" font-family=\"Helvetica,sans-Serif\" font-size=\"14.00\" fill=\"#000000\">SkinThickness &lt;= 23.5</text>\n<text text-anchor=\"middle\" x=\"1343\" y=\"-230.8\" font-family=\"Helvetica,sans-Serif\" font-size=\"14.00\" fill=\"#000000\">entropy = 0.9</text>\n<text text-anchor=\"middle\" x=\"1343\" y=\"-215.8\" font-family=\"Helvetica,sans-Serif\" font-size=\"14.00\" fill=\"#000000\">samples = 19</text>\n<text text-anchor=\"middle\" x=\"1343\" y=\"-200.8\" font-family=\"Helvetica,sans-Serif\" font-size=\"14.00\" fill=\"#000000\">value = [6, 13]</text>\n</g>\n<!-- 23&#45;&gt;25 -->\n<g id=\"edge25\" class=\"edge\">\n<title>23&#45;&gt;25</title>\n<path fill=\"none\" stroke=\"#000000\" d=\"M1268.3456,-296.9465C1278.2159,-287.6986 1289.0075,-277.5876 1299.241,-267.9994\"/>\n<polygon fill=\"#000000\" stroke=\"#000000\" points=\"1301.6684,-270.5214 1306.5728,-261.13 1296.8823,-265.4131 1301.6684,-270.5214\"/>\n</g>\n<!-- 26 -->\n<g id=\"node27\" class=\"node\">\n<title>26</title>\n<polygon fill=\"none\" stroke=\"#000000\" points=\"1286,-149.5 1182,-149.5 1182,-96.5 1286,-96.5 1286,-149.5\"/>\n<text text-anchor=\"middle\" x=\"1234\" y=\"-134.3\" font-family=\"Helvetica,sans-Serif\" font-size=\"14.00\" fill=\"#000000\">entropy = 1.0</text>\n<text text-anchor=\"middle\" x=\"1234\" y=\"-119.3\" font-family=\"Helvetica,sans-Serif\" font-size=\"14.00\" fill=\"#000000\">samples = 10</text>\n<text text-anchor=\"middle\" x=\"1234\" y=\"-104.3\" font-family=\"Helvetica,sans-Serif\" font-size=\"14.00\" fill=\"#000000\">value = [5, 5]</text>\n</g>\n<!-- 25&#45;&gt;26 -->\n<g id=\"edge26\" class=\"edge\">\n<title>25&#45;&gt;26</title>\n<path fill=\"none\" stroke=\"#000000\" d=\"M1307.3093,-192.9465C1295.0722,-181.2707 1281.393,-168.219 1269.1954,-156.5809\"/>\n<polygon fill=\"#000000\" stroke=\"#000000\" points=\"1271.4694,-153.9131 1261.8182,-149.5422 1266.6372,-158.9777 1271.4694,-153.9131\"/>\n</g>\n<!-- 27 -->\n<g id=\"node28\" class=\"node\">\n<title>27</title>\n<polygon fill=\"none\" stroke=\"#000000\" points=\"1422,-149.5 1304,-149.5 1304,-96.5 1422,-96.5 1422,-149.5\"/>\n<text text-anchor=\"middle\" x=\"1363\" y=\"-134.3\" font-family=\"Helvetica,sans-Serif\" font-size=\"14.00\" fill=\"#000000\">entropy = 0.503</text>\n<text text-anchor=\"middle\" x=\"1363\" y=\"-119.3\" font-family=\"Helvetica,sans-Serif\" font-size=\"14.00\" fill=\"#000000\">samples = 9</text>\n<text text-anchor=\"middle\" x=\"1363\" y=\"-104.3\" font-family=\"Helvetica,sans-Serif\" font-size=\"14.00\" fill=\"#000000\">value = [1, 8]</text>\n</g>\n<!-- 25&#45;&gt;27 -->\n<g id=\"edge27\" class=\"edge\">\n<title>25&#45;&gt;27</title>\n<path fill=\"none\" stroke=\"#000000\" d=\"M1349.5487,-192.9465C1351.6035,-182.2621 1353.8797,-170.4254 1355.9665,-159.5742\"/>\n<polygon fill=\"#000000\" stroke=\"#000000\" points=\"1359.4442,-160.0232 1357.8957,-149.5422 1352.5702,-158.7012 1359.4442,-160.0232\"/>\n</g>\n<!-- 29 -->\n<g id=\"node30\" class=\"node\">\n<title>29</title>\n<polygon fill=\"none\" stroke=\"#000000\" points=\"1823,-469 1691,-469 1691,-401 1823,-401 1823,-469\"/>\n<text text-anchor=\"middle\" x=\"1757\" y=\"-453.8\" font-family=\"Helvetica,sans-Serif\" font-size=\"14.00\" fill=\"#000000\">BMI &lt;= 26.35</text>\n<text text-anchor=\"middle\" x=\"1757\" y=\"-438.8\" font-family=\"Helvetica,sans-Serif\" font-size=\"14.00\" fill=\"#000000\">entropy = 0.983</text>\n<text text-anchor=\"middle\" x=\"1757\" y=\"-423.8\" font-family=\"Helvetica,sans-Serif\" font-size=\"14.00\" fill=\"#000000\">samples = 264</text>\n<text text-anchor=\"middle\" x=\"1757\" y=\"-408.8\" font-family=\"Helvetica,sans-Serif\" font-size=\"14.00\" fill=\"#000000\">value = [152, 112]</text>\n</g>\n<!-- 28&#45;&gt;29 -->\n<g id=\"edge29\" class=\"edge\">\n<title>28&#45;&gt;29</title>\n<path fill=\"none\" stroke=\"#000000\" d=\"M1757,-504.9465C1757,-496.776 1757,-487.9318 1757,-479.3697\"/>\n<polygon fill=\"#000000\" stroke=\"#000000\" points=\"1760.5001,-479.13 1757,-469.13 1753.5001,-479.13 1760.5001,-479.13\"/>\n</g>\n<!-- 50 -->\n<g id=\"node51\" class=\"node\">\n<title>50</title>\n<polygon fill=\"none\" stroke=\"#000000\" points=\"2370,-469 2252,-469 2252,-401 2370,-401 2370,-469\"/>\n<text text-anchor=\"middle\" x=\"2311\" y=\"-453.8\" font-family=\"Helvetica,sans-Serif\" font-size=\"14.00\" fill=\"#000000\">BMI &lt;= 29.1</text>\n<text text-anchor=\"middle\" x=\"2311\" y=\"-438.8\" font-family=\"Helvetica,sans-Serif\" font-size=\"14.00\" fill=\"#000000\">entropy = 0.676</text>\n<text text-anchor=\"middle\" x=\"2311\" y=\"-423.8\" font-family=\"Helvetica,sans-Serif\" font-size=\"14.00\" fill=\"#000000\">samples = 73</text>\n<text text-anchor=\"middle\" x=\"2311\" y=\"-408.8\" font-family=\"Helvetica,sans-Serif\" font-size=\"14.00\" fill=\"#000000\">value = [13, 60]</text>\n</g>\n<!-- 28&#45;&gt;50 -->\n<g id=\"edge50\" class=\"edge\">\n<title>28&#45;&gt;50</title>\n<path fill=\"none\" stroke=\"#000000\" d=\"M1823.0006,-526.61C1928.4815,-506.8085 2134.0908,-468.2104 2241.6492,-448.0189\"/>\n<polygon fill=\"#000000\" stroke=\"#000000\" points=\"2242.5629,-451.4086 2251.7454,-446.1236 2241.2713,-444.5288 2242.5629,-451.4086\"/>\n</g>\n<!-- 30 -->\n<g id=\"node31\" class=\"node\">\n<title>30</title>\n<polygon fill=\"none\" stroke=\"#000000\" points=\"1716.5,-365 1585.5,-365 1585.5,-297 1716.5,-297 1716.5,-365\"/>\n<text text-anchor=\"middle\" x=\"1651\" y=\"-349.8\" font-family=\"Helvetica,sans-Serif\" font-size=\"14.00\" fill=\"#000000\">Glucose &lt;= 131.5</text>\n<text text-anchor=\"middle\" x=\"1651\" y=\"-334.8\" font-family=\"Helvetica,sans-Serif\" font-size=\"14.00\" fill=\"#000000\">entropy = 0.391</text>\n<text text-anchor=\"middle\" x=\"1651\" y=\"-319.8\" font-family=\"Helvetica,sans-Serif\" font-size=\"14.00\" fill=\"#000000\">samples = 39</text>\n<text text-anchor=\"middle\" x=\"1651\" y=\"-304.8\" font-family=\"Helvetica,sans-Serif\" font-size=\"14.00\" fill=\"#000000\">value = [36, 3]</text>\n</g>\n<!-- 29&#45;&gt;30 -->\n<g id=\"edge30\" class=\"edge\">\n<title>29&#45;&gt;30</title>\n<path fill=\"none\" stroke=\"#000000\" d=\"M1722.2916,-400.9465C1712.9574,-391.7884 1702.7604,-381.7838 1693.0727,-372.2788\"/>\n<polygon fill=\"#000000\" stroke=\"#000000\" points=\"1695.3757,-369.6351 1685.7863,-365.13 1690.4733,-374.6318 1695.3757,-369.6351\"/>\n</g>\n<!-- 35 -->\n<g id=\"node36\" class=\"node\">\n<title>35</title>\n<polygon fill=\"none\" stroke=\"#000000\" points=\"1930,-365 1798,-365 1798,-297 1930,-297 1930,-365\"/>\n<text text-anchor=\"middle\" x=\"1864\" y=\"-349.8\" font-family=\"Helvetica,sans-Serif\" font-size=\"14.00\" fill=\"#000000\">Age &lt;= 28.5</text>\n<text text-anchor=\"middle\" x=\"1864\" y=\"-334.8\" font-family=\"Helvetica,sans-Serif\" font-size=\"14.00\" fill=\"#000000\">entropy = 0.999</text>\n<text text-anchor=\"middle\" x=\"1864\" y=\"-319.8\" font-family=\"Helvetica,sans-Serif\" font-size=\"14.00\" fill=\"#000000\">samples = 225</text>\n<text text-anchor=\"middle\" x=\"1864\" y=\"-304.8\" font-family=\"Helvetica,sans-Serif\" font-size=\"14.00\" fill=\"#000000\">value = [116, 109]</text>\n</g>\n<!-- 29&#45;&gt;35 -->\n<g id=\"edge35\" class=\"edge\">\n<title>29&#45;&gt;35</title>\n<path fill=\"none\" stroke=\"#000000\" d=\"M1792.0358,-400.9465C1801.4581,-391.7884 1811.7513,-381.7838 1821.5304,-372.2788\"/>\n<polygon fill=\"#000000\" stroke=\"#000000\" points=\"1824.154,-374.6097 1828.8855,-365.13 1819.2751,-369.59 1824.154,-374.6097\"/>\n</g>\n<!-- 31 -->\n<g id=\"node32\" class=\"node\">\n<title>31</title>\n<polygon fill=\"none\" stroke=\"#000000\" points=\"1550.5,-253.5 1443.5,-253.5 1443.5,-200.5 1550.5,-200.5 1550.5,-253.5\"/>\n<text text-anchor=\"middle\" x=\"1497\" y=\"-238.3\" font-family=\"Helvetica,sans-Serif\" font-size=\"14.00\" fill=\"#000000\">entropy = 0.0</text>\n<text text-anchor=\"middle\" x=\"1497\" y=\"-223.3\" font-family=\"Helvetica,sans-Serif\" font-size=\"14.00\" fill=\"#000000\">samples = 27</text>\n<text text-anchor=\"middle\" x=\"1497\" y=\"-208.3\" font-family=\"Helvetica,sans-Serif\" font-size=\"14.00\" fill=\"#000000\">value = [27, 0]</text>\n</g>\n<!-- 30&#45;&gt;31 -->\n<g id=\"edge31\" class=\"edge\">\n<title>30&#45;&gt;31</title>\n<path fill=\"none\" stroke=\"#000000\" d=\"M1600.5746,-296.9465C1582.6331,-284.8301 1562.4974,-271.232 1544.7838,-259.2696\"/>\n<polygon fill=\"#000000\" stroke=\"#000000\" points=\"1546.5489,-256.2382 1536.3028,-253.5422 1542.6313,-262.0393 1546.5489,-256.2382\"/>\n</g>\n<!-- 32 -->\n<g id=\"node33\" class=\"node\">\n<title>32</title>\n<polygon fill=\"none\" stroke=\"#000000\" points=\"1733.5,-261 1568.5,-261 1568.5,-193 1733.5,-193 1733.5,-261\"/>\n<text text-anchor=\"middle\" x=\"1651\" y=\"-245.8\" font-family=\"Helvetica,sans-Serif\" font-size=\"14.00\" fill=\"#000000\">BloodPressure &lt;= 73.0</text>\n<text text-anchor=\"middle\" x=\"1651\" y=\"-230.8\" font-family=\"Helvetica,sans-Serif\" font-size=\"14.00\" fill=\"#000000\">entropy = 0.811</text>\n<text text-anchor=\"middle\" x=\"1651\" y=\"-215.8\" font-family=\"Helvetica,sans-Serif\" font-size=\"14.00\" fill=\"#000000\">samples = 12</text>\n<text text-anchor=\"middle\" x=\"1651\" y=\"-200.8\" font-family=\"Helvetica,sans-Serif\" font-size=\"14.00\" fill=\"#000000\">value = [9, 3]</text>\n</g>\n<!-- 30&#45;&gt;32 -->\n<g id=\"edge32\" class=\"edge\">\n<title>30&#45;&gt;32</title>\n<path fill=\"none\" stroke=\"#000000\" d=\"M1651,-296.9465C1651,-288.776 1651,-279.9318 1651,-271.3697\"/>\n<polygon fill=\"#000000\" stroke=\"#000000\" points=\"1654.5001,-271.13 1651,-261.13 1647.5001,-271.13 1654.5001,-271.13\"/>\n</g>\n<!-- 33 -->\n<g id=\"node34\" class=\"node\">\n<title>33</title>\n<polygon fill=\"none\" stroke=\"#000000\" points=\"1568,-149.5 1450,-149.5 1450,-96.5 1568,-96.5 1568,-149.5\"/>\n<text text-anchor=\"middle\" x=\"1509\" y=\"-134.3\" font-family=\"Helvetica,sans-Serif\" font-size=\"14.00\" fill=\"#000000\">entropy = 0.918</text>\n<text text-anchor=\"middle\" x=\"1509\" y=\"-119.3\" font-family=\"Helvetica,sans-Serif\" font-size=\"14.00\" fill=\"#000000\">samples = 6</text>\n<text text-anchor=\"middle\" x=\"1509\" y=\"-104.3\" font-family=\"Helvetica,sans-Serif\" font-size=\"14.00\" fill=\"#000000\">value = [4, 2]</text>\n</g>\n<!-- 32&#45;&gt;33 -->\n<g id=\"edge33\" class=\"edge\">\n<title>32&#45;&gt;33</title>\n<path fill=\"none\" stroke=\"#000000\" d=\"M1604.5039,-192.9465C1588.1107,-180.9403 1569.7311,-167.4791 1553.5064,-155.5962\"/>\n<polygon fill=\"#000000\" stroke=\"#000000\" points=\"1555.376,-152.6272 1545.2403,-149.5422 1551.2399,-158.2746 1555.376,-152.6272\"/>\n</g>\n<!-- 34 -->\n<g id=\"node35\" class=\"node\">\n<title>34</title>\n<polygon fill=\"none\" stroke=\"#000000\" points=\"1696,-149.5 1586,-149.5 1586,-96.5 1696,-96.5 1696,-149.5\"/>\n<text text-anchor=\"middle\" x=\"1641\" y=\"-134.3\" font-family=\"Helvetica,sans-Serif\" font-size=\"14.00\" fill=\"#000000\">entropy = 0.65</text>\n<text text-anchor=\"middle\" x=\"1641\" y=\"-119.3\" font-family=\"Helvetica,sans-Serif\" font-size=\"14.00\" fill=\"#000000\">samples = 6</text>\n<text text-anchor=\"middle\" x=\"1641\" y=\"-104.3\" font-family=\"Helvetica,sans-Serif\" font-size=\"14.00\" fill=\"#000000\">value = [5, 1]</text>\n</g>\n<!-- 32&#45;&gt;34 -->\n<g id=\"edge34\" class=\"edge\">\n<title>32&#45;&gt;34</title>\n<path fill=\"none\" stroke=\"#000000\" d=\"M1647.7256,-192.9465C1646.6983,-182.2621 1645.5601,-170.4254 1644.5168,-159.5742\"/>\n<polygon fill=\"#000000\" stroke=\"#000000\" points=\"1647.9933,-159.1612 1643.5521,-149.5422 1641.0254,-159.8313 1647.9933,-159.1612\"/>\n</g>\n<!-- 36 -->\n<g id=\"node37\" class=\"node\">\n<title>36</title>\n<polygon fill=\"none\" stroke=\"#000000\" points=\"1929.5,-261 1798.5,-261 1798.5,-193 1929.5,-193 1929.5,-261\"/>\n<text text-anchor=\"middle\" x=\"1864\" y=\"-245.8\" font-family=\"Helvetica,sans-Serif\" font-size=\"14.00\" fill=\"#000000\">Glucose &lt;= 127.5</text>\n<text text-anchor=\"middle\" x=\"1864\" y=\"-230.8\" font-family=\"Helvetica,sans-Serif\" font-size=\"14.00\" fill=\"#000000\">entropy = 0.875</text>\n<text text-anchor=\"middle\" x=\"1864\" y=\"-215.8\" font-family=\"Helvetica,sans-Serif\" font-size=\"14.00\" fill=\"#000000\">samples = 95</text>\n<text text-anchor=\"middle\" x=\"1864\" y=\"-200.8\" font-family=\"Helvetica,sans-Serif\" font-size=\"14.00\" fill=\"#000000\">value = [67, 28]</text>\n</g>\n<!-- 35&#45;&gt;36 -->\n<g id=\"edge36\" class=\"edge\">\n<title>35&#45;&gt;36</title>\n<path fill=\"none\" stroke=\"#000000\" d=\"M1864,-296.9465C1864,-288.776 1864,-279.9318 1864,-271.3697\"/>\n<polygon fill=\"#000000\" stroke=\"#000000\" points=\"1867.5001,-271.13 1864,-261.13 1860.5001,-271.13 1867.5001,-271.13\"/>\n</g>\n<!-- 43 -->\n<g id=\"node44\" class=\"node\">\n<title>43</title>\n<polygon fill=\"none\" stroke=\"#000000\" points=\"2199,-261 2081,-261 2081,-193 2199,-193 2199,-261\"/>\n<text text-anchor=\"middle\" x=\"2140\" y=\"-245.8\" font-family=\"Helvetica,sans-Serif\" font-size=\"14.00\" fill=\"#000000\">BMI &lt;= 40.85</text>\n<text text-anchor=\"middle\" x=\"2140\" y=\"-230.8\" font-family=\"Helvetica,sans-Serif\" font-size=\"14.00\" fill=\"#000000\">entropy = 0.956</text>\n<text text-anchor=\"middle\" x=\"2140\" y=\"-215.8\" font-family=\"Helvetica,sans-Serif\" font-size=\"14.00\" fill=\"#000000\">samples = 130</text>\n<text text-anchor=\"middle\" x=\"2140\" y=\"-200.8\" font-family=\"Helvetica,sans-Serif\" font-size=\"14.00\" fill=\"#000000\">value = [49, 81]</text>\n</g>\n<!-- 35&#45;&gt;43 -->\n<g id=\"edge43\" class=\"edge\">\n<title>35&#45;&gt;43</title>\n<path fill=\"none\" stroke=\"#000000\" d=\"M1930.1089,-306.0894C1972.6605,-290.0554 2027.8643,-269.254 2070.977,-253.0087\"/>\n<polygon fill=\"#000000\" stroke=\"#000000\" points=\"2072.4172,-256.2063 2080.5407,-249.4049 2069.9489,-249.6559 2072.4172,-256.2063\"/>\n</g>\n<!-- 37 -->\n<g id=\"node38\" class=\"node\">\n<title>37</title>\n<polygon fill=\"none\" stroke=\"#000000\" points=\"1833.5,-157 1714.5,-157 1714.5,-89 1833.5,-89 1833.5,-157\"/>\n<text text-anchor=\"middle\" x=\"1774\" y=\"-141.8\" font-family=\"Helvetica,sans-Serif\" font-size=\"14.00\" fill=\"#000000\">Insulin &lt;= 37.25</text>\n<text text-anchor=\"middle\" x=\"1774\" y=\"-126.8\" font-family=\"Helvetica,sans-Serif\" font-size=\"14.00\" fill=\"#000000\">entropy = 0.65</text>\n<text text-anchor=\"middle\" x=\"1774\" y=\"-111.8\" font-family=\"Helvetica,sans-Serif\" font-size=\"14.00\" fill=\"#000000\">samples = 48</text>\n<text text-anchor=\"middle\" x=\"1774\" y=\"-96.8\" font-family=\"Helvetica,sans-Serif\" font-size=\"14.00\" fill=\"#000000\">value = [40, 8]</text>\n</g>\n<!-- 36&#45;&gt;37 -->\n<g id=\"edge37\" class=\"edge\">\n<title>36&#45;&gt;37</title>\n<path fill=\"none\" stroke=\"#000000\" d=\"M1834.5306,-192.9465C1826.7607,-183.968 1818.2868,-174.1758 1810.2064,-164.8385\"/>\n<polygon fill=\"#000000\" stroke=\"#000000\" points=\"1812.726,-162.4014 1803.5356,-157.13 1807.4328,-166.982 1812.726,-162.4014\"/>\n</g>\n<!-- 40 -->\n<g id=\"node41\" class=\"node\">\n<title>40</title>\n<polygon fill=\"none\" stroke=\"#000000\" points=\"1970.5,-157 1851.5,-157 1851.5,-89 1970.5,-89 1970.5,-157\"/>\n<text text-anchor=\"middle\" x=\"1911\" y=\"-141.8\" font-family=\"Helvetica,sans-Serif\" font-size=\"14.00\" fill=\"#000000\">Insulin &lt;= 260.0</text>\n<text text-anchor=\"middle\" x=\"1911\" y=\"-126.8\" font-family=\"Helvetica,sans-Serif\" font-size=\"14.00\" fill=\"#000000\">entropy = 0.984</text>\n<text text-anchor=\"middle\" x=\"1911\" y=\"-111.8\" font-family=\"Helvetica,sans-Serif\" font-size=\"14.00\" fill=\"#000000\">samples = 47</text>\n<text text-anchor=\"middle\" x=\"1911\" y=\"-96.8\" font-family=\"Helvetica,sans-Serif\" font-size=\"14.00\" fill=\"#000000\">value = [27, 20]</text>\n</g>\n<!-- 36&#45;&gt;40 -->\n<g id=\"edge40\" class=\"edge\">\n<title>36&#45;&gt;40</title>\n<path fill=\"none\" stroke=\"#000000\" d=\"M1879.3896,-192.9465C1883.2037,-184.5067 1887.3428,-175.3479 1891.3306,-166.5239\"/>\n<polygon fill=\"#000000\" stroke=\"#000000\" points=\"1894.647,-167.684 1895.5759,-157.13 1888.2682,-164.8013 1894.647,-167.684\"/>\n</g>\n<!-- 38 -->\n<g id=\"node39\" class=\"node\">\n<title>38</title>\n<polygon fill=\"none\" stroke=\"#000000\" points=\"1672,-53 1554,-53 1554,0 1672,0 1672,-53\"/>\n<text text-anchor=\"middle\" x=\"1613\" y=\"-37.8\" font-family=\"Helvetica,sans-Serif\" font-size=\"14.00\" fill=\"#000000\">entropy = 0.949</text>\n<text text-anchor=\"middle\" x=\"1613\" y=\"-22.8\" font-family=\"Helvetica,sans-Serif\" font-size=\"14.00\" fill=\"#000000\">samples = 19</text>\n<text text-anchor=\"middle\" x=\"1613\" y=\"-7.8\" font-family=\"Helvetica,sans-Serif\" font-size=\"14.00\" fill=\"#000000\">value = [12, 7]</text>\n</g>\n<!-- 37&#45;&gt;38 -->\n<g id=\"edge38\" class=\"edge\">\n<title>37&#45;&gt;38</title>\n<path fill=\"none\" stroke=\"#000000\" d=\"M1717.2374,-88.9777C1700.6614,-79.0424 1682.6107,-68.2232 1666.2598,-58.4228\"/>\n<polygon fill=\"#000000\" stroke=\"#000000\" points=\"1667.7477,-55.2341 1657.371,-53.095 1664.1489,-61.2382 1667.7477,-55.2341\"/>\n</g>\n<!-- 39 -->\n<g id=\"node40\" class=\"node\">\n<title>39</title>\n<polygon fill=\"none\" stroke=\"#000000\" points=\"1808,-53 1690,-53 1690,0 1808,0 1808,-53\"/>\n<text text-anchor=\"middle\" x=\"1749\" y=\"-37.8\" font-family=\"Helvetica,sans-Serif\" font-size=\"14.00\" fill=\"#000000\">entropy = 0.216</text>\n<text text-anchor=\"middle\" x=\"1749\" y=\"-22.8\" font-family=\"Helvetica,sans-Serif\" font-size=\"14.00\" fill=\"#000000\">samples = 29</text>\n<text text-anchor=\"middle\" x=\"1749\" y=\"-7.8\" font-family=\"Helvetica,sans-Serif\" font-size=\"14.00\" fill=\"#000000\">value = [28, 1]</text>\n</g>\n<!-- 37&#45;&gt;39 -->\n<g id=\"edge39\" class=\"edge\">\n<title>37&#45;&gt;39</title>\n<path fill=\"none\" stroke=\"#000000\" d=\"M1765.1859,-88.9777C1763.0034,-80.5533 1760.6563,-71.4934 1758.4451,-62.9579\"/>\n<polygon fill=\"#000000\" stroke=\"#000000\" points=\"1761.8258,-62.0511 1755.9297,-53.2485 1755.0495,-63.8067 1761.8258,-62.0511\"/>\n</g>\n<!-- 41 -->\n<g id=\"node42\" class=\"node\">\n<title>41</title>\n<polygon fill=\"none\" stroke=\"#000000\" points=\"1942,-53 1826,-53 1826,0 1942,0 1942,-53\"/>\n<text text-anchor=\"middle\" x=\"1884\" y=\"-37.8\" font-family=\"Helvetica,sans-Serif\" font-size=\"14.00\" fill=\"#000000\">entropy = 1.0</text>\n<text text-anchor=\"middle\" x=\"1884\" y=\"-22.8\" font-family=\"Helvetica,sans-Serif\" font-size=\"14.00\" fill=\"#000000\">samples = 40</text>\n<text text-anchor=\"middle\" x=\"1884\" y=\"-7.8\" font-family=\"Helvetica,sans-Serif\" font-size=\"14.00\" fill=\"#000000\">value = [20, 20]</text>\n</g>\n<!-- 40&#45;&gt;41 -->\n<g id=\"edge41\" class=\"edge\">\n<title>40&#45;&gt;41</title>\n<path fill=\"none\" stroke=\"#000000\" d=\"M1901.4808,-88.9777C1899.1237,-80.5533 1896.5888,-71.4934 1894.2007,-62.9579\"/>\n<polygon fill=\"#000000\" stroke=\"#000000\" points=\"1897.5491,-61.9356 1891.484,-53.2485 1890.808,-63.8217 1897.5491,-61.9356\"/>\n</g>\n<!-- 42 -->\n<g id=\"node43\" class=\"node\">\n<title>42</title>\n<polygon fill=\"none\" stroke=\"#000000\" points=\"2061.5,-53 1960.5,-53 1960.5,0 2061.5,0 2061.5,-53\"/>\n<text text-anchor=\"middle\" x=\"2011\" y=\"-37.8\" font-family=\"Helvetica,sans-Serif\" font-size=\"14.00\" fill=\"#000000\">entropy = 0.0</text>\n<text text-anchor=\"middle\" x=\"2011\" y=\"-22.8\" font-family=\"Helvetica,sans-Serif\" font-size=\"14.00\" fill=\"#000000\">samples = 7</text>\n<text text-anchor=\"middle\" x=\"2011\" y=\"-7.8\" font-family=\"Helvetica,sans-Serif\" font-size=\"14.00\" fill=\"#000000\">value = [7, 0]</text>\n</g>\n<!-- 40&#45;&gt;42 -->\n<g id=\"edge42\" class=\"edge\">\n<title>40&#45;&gt;42</title>\n<path fill=\"none\" stroke=\"#000000\" d=\"M1946.2563,-88.9777C1955.9351,-79.6376 1966.4235,-69.5163 1976.0832,-60.1947\"/>\n<polygon fill=\"#000000\" stroke=\"#000000\" points=\"1978.5159,-62.7111 1983.2814,-53.2485 1973.6551,-57.674 1978.5159,-62.7111\"/>\n</g>\n<!-- 44 -->\n<g id=\"node45\" class=\"node\">\n<title>44</title>\n<polygon fill=\"none\" stroke=\"#000000\" points=\"2265,-157 2015,-157 2015,-89 2265,-89 2265,-157\"/>\n<text text-anchor=\"middle\" x=\"2140\" y=\"-141.8\" font-family=\"Helvetica,sans-Serif\" font-size=\"14.00\" fill=\"#000000\">DiabetesPedigreeFunction &lt;= 0.722</text>\n<text text-anchor=\"middle\" x=\"2140\" y=\"-126.8\" font-family=\"Helvetica,sans-Serif\" font-size=\"14.00\" fill=\"#000000\">entropy = 0.982</text>\n<text text-anchor=\"middle\" x=\"2140\" y=\"-111.8\" font-family=\"Helvetica,sans-Serif\" font-size=\"14.00\" fill=\"#000000\">samples = 114</text>\n<text text-anchor=\"middle\" x=\"2140\" y=\"-96.8\" font-family=\"Helvetica,sans-Serif\" font-size=\"14.00\" fill=\"#000000\">value = [48, 66]</text>\n</g>\n<!-- 43&#45;&gt;44 -->\n<g id=\"edge44\" class=\"edge\">\n<title>43&#45;&gt;44</title>\n<path fill=\"none\" stroke=\"#000000\" d=\"M2140,-192.9465C2140,-184.776 2140,-175.9318 2140,-167.3697\"/>\n<polygon fill=\"#000000\" stroke=\"#000000\" points=\"2143.5001,-167.13 2140,-157.13 2136.5001,-167.13 2143.5001,-167.13\"/>\n</g>\n<!-- 47 -->\n<g id=\"node48\" class=\"node\">\n<title>47</title>\n<polygon fill=\"none\" stroke=\"#000000\" points=\"2471.5,-157 2340.5,-157 2340.5,-89 2471.5,-89 2471.5,-157\"/>\n<text text-anchor=\"middle\" x=\"2406\" y=\"-141.8\" font-family=\"Helvetica,sans-Serif\" font-size=\"14.00\" fill=\"#000000\">Glucose &lt;= 139.0</text>\n<text text-anchor=\"middle\" x=\"2406\" y=\"-126.8\" font-family=\"Helvetica,sans-Serif\" font-size=\"14.00\" fill=\"#000000\">entropy = 0.337</text>\n<text text-anchor=\"middle\" x=\"2406\" y=\"-111.8\" font-family=\"Helvetica,sans-Serif\" font-size=\"14.00\" fill=\"#000000\">samples = 16</text>\n<text text-anchor=\"middle\" x=\"2406\" y=\"-96.8\" font-family=\"Helvetica,sans-Serif\" font-size=\"14.00\" fill=\"#000000\">value = [1, 15]</text>\n</g>\n<!-- 43&#45;&gt;47 -->\n<g id=\"edge47\" class=\"edge\">\n<title>43&#45;&gt;47</title>\n<path fill=\"none\" stroke=\"#000000\" d=\"M2199.2638,-197.2523C2202.5408,-195.7782 2205.8014,-194.3509 2209,-193 2248.4413,-176.3419 2293.3615,-160.1731 2330.3375,-147.5794\"/>\n<polygon fill=\"#000000\" stroke=\"#000000\" points=\"2331.7008,-150.8131 2340.0503,-144.2911 2329.456,-144.1827 2331.7008,-150.8131\"/>\n</g>\n<!-- 45 -->\n<g id=\"node46\" class=\"node\">\n<title>45</title>\n<polygon fill=\"none\" stroke=\"#000000\" points=\"2198,-53 2080,-53 2080,0 2198,0 2198,-53\"/>\n<text text-anchor=\"middle\" x=\"2139\" y=\"-37.8\" font-family=\"Helvetica,sans-Serif\" font-size=\"14.00\" fill=\"#000000\">entropy = 0.999</text>\n<text text-anchor=\"middle\" x=\"2139\" y=\"-22.8\" font-family=\"Helvetica,sans-Serif\" font-size=\"14.00\" fill=\"#000000\">samples = 90</text>\n<text text-anchor=\"middle\" x=\"2139\" y=\"-7.8\" font-family=\"Helvetica,sans-Serif\" font-size=\"14.00\" fill=\"#000000\">value = [43, 47]</text>\n</g>\n<!-- 44&#45;&gt;45 -->\n<g id=\"edge45\" class=\"edge\">\n<title>44&#45;&gt;45</title>\n<path fill=\"none\" stroke=\"#000000\" d=\"M2139.6474,-88.9777C2139.562,-80.7364 2139.4703,-71.887 2139.3836,-63.5153\"/>\n<polygon fill=\"#000000\" stroke=\"#000000\" points=\"2142.8807,-63.2116 2139.2772,-53.2485 2135.8811,-63.2842 2142.8807,-63.2116\"/>\n</g>\n<!-- 46 -->\n<g id=\"node47\" class=\"node\">\n<title>46</title>\n<polygon fill=\"none\" stroke=\"#000000\" points=\"2334,-53 2216,-53 2216,0 2334,0 2334,-53\"/>\n<text text-anchor=\"middle\" x=\"2275\" y=\"-37.8\" font-family=\"Helvetica,sans-Serif\" font-size=\"14.00\" fill=\"#000000\">entropy = 0.738</text>\n<text text-anchor=\"middle\" x=\"2275\" y=\"-22.8\" font-family=\"Helvetica,sans-Serif\" font-size=\"14.00\" fill=\"#000000\">samples = 24</text>\n<text text-anchor=\"middle\" x=\"2275\" y=\"-7.8\" font-family=\"Helvetica,sans-Serif\" font-size=\"14.00\" fill=\"#000000\">value = [5, 19]</text>\n</g>\n<!-- 44&#45;&gt;46 -->\n<g id=\"edge46\" class=\"edge\">\n<title>44&#45;&gt;46</title>\n<path fill=\"none\" stroke=\"#000000\" d=\"M2187.5959,-88.9777C2201.1748,-79.2713 2215.9339,-68.7213 2229.3912,-59.1018\"/>\n<polygon fill=\"#000000\" stroke=\"#000000\" points=\"2231.4799,-61.9111 2237.5798,-53.2485 2227.4092,-56.2164 2231.4799,-61.9111\"/>\n</g>\n<!-- 48 -->\n<g id=\"node49\" class=\"node\">\n<title>48</title>\n<polygon fill=\"none\" stroke=\"#000000\" points=\"2459.5,-53 2352.5,-53 2352.5,0 2459.5,0 2459.5,-53\"/>\n<text text-anchor=\"middle\" x=\"2406\" y=\"-37.8\" font-family=\"Helvetica,sans-Serif\" font-size=\"14.00\" fill=\"#000000\">entropy = 0.0</text>\n<text text-anchor=\"middle\" x=\"2406\" y=\"-22.8\" font-family=\"Helvetica,sans-Serif\" font-size=\"14.00\" fill=\"#000000\">samples = 10</text>\n<text text-anchor=\"middle\" x=\"2406\" y=\"-7.8\" font-family=\"Helvetica,sans-Serif\" font-size=\"14.00\" fill=\"#000000\">value = [0, 10]</text>\n</g>\n<!-- 47&#45;&gt;48 -->\n<g id=\"edge48\" class=\"edge\">\n<title>47&#45;&gt;48</title>\n<path fill=\"none\" stroke=\"#000000\" d=\"M2406,-88.9777C2406,-80.7364 2406,-71.887 2406,-63.5153\"/>\n<polygon fill=\"#000000\" stroke=\"#000000\" points=\"2409.5001,-63.2484 2406,-53.2485 2402.5001,-63.2485 2409.5001,-63.2484\"/>\n</g>\n<!-- 49 -->\n<g id=\"node50\" class=\"node\">\n<title>49</title>\n<polygon fill=\"none\" stroke=\"#000000\" points=\"2588,-53 2478,-53 2478,0 2588,0 2588,-53\"/>\n<text text-anchor=\"middle\" x=\"2533\" y=\"-37.8\" font-family=\"Helvetica,sans-Serif\" font-size=\"14.00\" fill=\"#000000\">entropy = 0.65</text>\n<text text-anchor=\"middle\" x=\"2533\" y=\"-22.8\" font-family=\"Helvetica,sans-Serif\" font-size=\"14.00\" fill=\"#000000\">samples = 6</text>\n<text text-anchor=\"middle\" x=\"2533\" y=\"-7.8\" font-family=\"Helvetica,sans-Serif\" font-size=\"14.00\" fill=\"#000000\">value = [1, 5]</text>\n</g>\n<!-- 47&#45;&gt;49 -->\n<g id=\"edge49\" class=\"edge\">\n<title>47&#45;&gt;49</title>\n<path fill=\"none\" stroke=\"#000000\" d=\"M2450.7754,-88.9777C2463.4292,-79.3629 2477.1723,-68.9203 2489.7353,-59.3743\"/>\n<polygon fill=\"#000000\" stroke=\"#000000\" points=\"2491.9526,-62.0853 2497.7973,-53.2485 2487.7176,-56.5118 2491.9526,-62.0853\"/>\n</g>\n<!-- 51 -->\n<g id=\"node52\" class=\"node\">\n<title>51</title>\n<polygon fill=\"none\" stroke=\"#000000\" points=\"2366,-365 2256,-365 2256,-297 2366,-297 2366,-365\"/>\n<text text-anchor=\"middle\" x=\"2311\" y=\"-349.8\" font-family=\"Helvetica,sans-Serif\" font-size=\"14.00\" fill=\"#000000\">BMI &lt;= 25.85</text>\n<text text-anchor=\"middle\" x=\"2311\" y=\"-334.8\" font-family=\"Helvetica,sans-Serif\" font-size=\"14.00\" fill=\"#000000\">entropy = 0.98</text>\n<text text-anchor=\"middle\" x=\"2311\" y=\"-319.8\" font-family=\"Helvetica,sans-Serif\" font-size=\"14.00\" fill=\"#000000\">samples = 12</text>\n<text text-anchor=\"middle\" x=\"2311\" y=\"-304.8\" font-family=\"Helvetica,sans-Serif\" font-size=\"14.00\" fill=\"#000000\">value = [7, 5]</text>\n</g>\n<!-- 50&#45;&gt;51 -->\n<g id=\"edge51\" class=\"edge\">\n<title>50&#45;&gt;51</title>\n<path fill=\"none\" stroke=\"#000000\" d=\"M2311,-400.9465C2311,-392.776 2311,-383.9318 2311,-375.3697\"/>\n<polygon fill=\"#000000\" stroke=\"#000000\" points=\"2314.5001,-375.13 2311,-365.13 2307.5001,-375.13 2314.5001,-375.13\"/>\n</g>\n<!-- 54 -->\n<g id=\"node55\" class=\"node\">\n<title>54</title>\n<polygon fill=\"none\" stroke=\"#000000\" points=\"2668,-365 2418,-365 2418,-297 2668,-297 2668,-365\"/>\n<text text-anchor=\"middle\" x=\"2543\" y=\"-349.8\" font-family=\"Helvetica,sans-Serif\" font-size=\"14.00\" fill=\"#000000\">DiabetesPedigreeFunction &lt;= 1.157</text>\n<text text-anchor=\"middle\" x=\"2543\" y=\"-334.8\" font-family=\"Helvetica,sans-Serif\" font-size=\"14.00\" fill=\"#000000\">entropy = 0.464</text>\n<text text-anchor=\"middle\" x=\"2543\" y=\"-319.8\" font-family=\"Helvetica,sans-Serif\" font-size=\"14.00\" fill=\"#000000\">samples = 61</text>\n<text text-anchor=\"middle\" x=\"2543\" y=\"-304.8\" font-family=\"Helvetica,sans-Serif\" font-size=\"14.00\" fill=\"#000000\">value = [6, 55]</text>\n</g>\n<!-- 50&#45;&gt;54 -->\n<g id=\"edge54\" class=\"edge\">\n<title>50&#45;&gt;54</title>\n<path fill=\"none\" stroke=\"#000000\" d=\"M2370.1437,-408.4873C2396.6732,-396.5948 2428.4739,-382.3393 2457.5247,-369.3165\"/>\n<polygon fill=\"#000000\" stroke=\"#000000\" points=\"2459.1567,-372.4206 2466.85,-365.1362 2456.2932,-366.033 2459.1567,-372.4206\"/>\n</g>\n<!-- 52 -->\n<g id=\"node53\" class=\"node\">\n<title>52</title>\n<polygon fill=\"none\" stroke=\"#000000\" points=\"2336,-253.5 2218,-253.5 2218,-200.5 2336,-200.5 2336,-253.5\"/>\n<text text-anchor=\"middle\" x=\"2277\" y=\"-238.3\" font-family=\"Helvetica,sans-Serif\" font-size=\"14.00\" fill=\"#000000\">entropy = 0.918</text>\n<text text-anchor=\"middle\" x=\"2277\" y=\"-223.3\" font-family=\"Helvetica,sans-Serif\" font-size=\"14.00\" fill=\"#000000\">samples = 6</text>\n<text text-anchor=\"middle\" x=\"2277\" y=\"-208.3\" font-family=\"Helvetica,sans-Serif\" font-size=\"14.00\" fill=\"#000000\">value = [2, 4]</text>\n</g>\n<!-- 51&#45;&gt;52 -->\n<g id=\"edge52\" class=\"edge\">\n<title>51&#45;&gt;52</title>\n<path fill=\"none\" stroke=\"#000000\" d=\"M2299.8671,-296.9465C2296.3381,-286.1519 2292.4246,-274.1813 2288.8473,-263.2389\"/>\n<polygon fill=\"#000000\" stroke=\"#000000\" points=\"2292.1114,-261.9595 2285.6772,-253.5422 2285.458,-264.1347 2292.1114,-261.9595\"/>\n</g>\n<!-- 53 -->\n<g id=\"node54\" class=\"node\">\n<title>53</title>\n<polygon fill=\"none\" stroke=\"#000000\" points=\"2464,-253.5 2354,-253.5 2354,-200.5 2464,-200.5 2464,-253.5\"/>\n<text text-anchor=\"middle\" x=\"2409\" y=\"-238.3\" font-family=\"Helvetica,sans-Serif\" font-size=\"14.00\" fill=\"#000000\">entropy = 0.65</text>\n<text text-anchor=\"middle\" x=\"2409\" y=\"-223.3\" font-family=\"Helvetica,sans-Serif\" font-size=\"14.00\" fill=\"#000000\">samples = 6</text>\n<text text-anchor=\"middle\" x=\"2409\" y=\"-208.3\" font-family=\"Helvetica,sans-Serif\" font-size=\"14.00\" fill=\"#000000\">value = [5, 1]</text>\n</g>\n<!-- 51&#45;&gt;53 -->\n<g id=\"edge53\" class=\"edge\">\n<title>51&#45;&gt;53</title>\n<path fill=\"none\" stroke=\"#000000\" d=\"M2343.0889,-296.9465C2353.9873,-285.3809 2366.1578,-272.4652 2377.0457,-260.9107\"/>\n<polygon fill=\"#000000\" stroke=\"#000000\" points=\"2379.6783,-263.2204 2383.9891,-253.5422 2374.5838,-258.4198 2379.6783,-263.2204\"/>\n</g>\n<!-- 55 -->\n<g id=\"node56\" class=\"node\">\n<title>55</title>\n<polygon fill=\"none\" stroke=\"#000000\" points=\"2602.5,-261 2483.5,-261 2483.5,-193 2602.5,-193 2602.5,-261\"/>\n<text text-anchor=\"middle\" x=\"2543\" y=\"-245.8\" font-family=\"Helvetica,sans-Serif\" font-size=\"14.00\" fill=\"#000000\">Insulin &lt;= 127.5</text>\n<text text-anchor=\"middle\" x=\"2543\" y=\"-230.8\" font-family=\"Helvetica,sans-Serif\" font-size=\"14.00\" fill=\"#000000\">entropy = 0.31</text>\n<text text-anchor=\"middle\" x=\"2543\" y=\"-215.8\" font-family=\"Helvetica,sans-Serif\" font-size=\"14.00\" fill=\"#000000\">samples = 54</text>\n<text text-anchor=\"middle\" x=\"2543\" y=\"-200.8\" font-family=\"Helvetica,sans-Serif\" font-size=\"14.00\" fill=\"#000000\">value = [3, 51]</text>\n</g>\n<!-- 54&#45;&gt;55 -->\n<g id=\"edge55\" class=\"edge\">\n<title>54&#45;&gt;55</title>\n<path fill=\"none\" stroke=\"#000000\" d=\"M2543,-296.9465C2543,-288.776 2543,-279.9318 2543,-271.3697\"/>\n<polygon fill=\"#000000\" stroke=\"#000000\" points=\"2546.5001,-271.13 2543,-261.13 2539.5001,-271.13 2546.5001,-271.13\"/>\n</g>\n<!-- 60 -->\n<g id=\"node61\" class=\"node\">\n<title>60</title>\n<polygon fill=\"none\" stroke=\"#000000\" points=\"2739,-253.5 2621,-253.5 2621,-200.5 2739,-200.5 2739,-253.5\"/>\n<text text-anchor=\"middle\" x=\"2680\" y=\"-238.3\" font-family=\"Helvetica,sans-Serif\" font-size=\"14.00\" fill=\"#000000\">entropy = 0.985</text>\n<text text-anchor=\"middle\" x=\"2680\" y=\"-223.3\" font-family=\"Helvetica,sans-Serif\" font-size=\"14.00\" fill=\"#000000\">samples = 7</text>\n<text text-anchor=\"middle\" x=\"2680\" y=\"-208.3\" font-family=\"Helvetica,sans-Serif\" font-size=\"14.00\" fill=\"#000000\">value = [3, 4]</text>\n</g>\n<!-- 54&#45;&gt;60 -->\n<g id=\"edge60\" class=\"edge\">\n<title>54&#45;&gt;60</title>\n<path fill=\"none\" stroke=\"#000000\" d=\"M2587.8589,-296.9465C2603.6748,-284.9403 2621.4073,-271.4791 2637.0607,-259.5962\"/>\n<polygon fill=\"#000000\" stroke=\"#000000\" points=\"2639.1871,-262.3764 2645.0358,-253.5422 2634.9545,-256.8009 2639.1871,-262.3764\"/>\n</g>\n<!-- 56 -->\n<g id=\"node57\" class=\"node\">\n<title>56</title>\n<polygon fill=\"none\" stroke=\"#000000\" points=\"2596.5,-149.5 2489.5,-149.5 2489.5,-96.5 2596.5,-96.5 2596.5,-149.5\"/>\n<text text-anchor=\"middle\" x=\"2543\" y=\"-134.3\" font-family=\"Helvetica,sans-Serif\" font-size=\"14.00\" fill=\"#000000\">entropy = 0.0</text>\n<text text-anchor=\"middle\" x=\"2543\" y=\"-119.3\" font-family=\"Helvetica,sans-Serif\" font-size=\"14.00\" fill=\"#000000\">samples = 26</text>\n<text text-anchor=\"middle\" x=\"2543\" y=\"-104.3\" font-family=\"Helvetica,sans-Serif\" font-size=\"14.00\" fill=\"#000000\">value = [0, 26]</text>\n</g>\n<!-- 55&#45;&gt;56 -->\n<g id=\"edge56\" class=\"edge\">\n<title>55&#45;&gt;56</title>\n<path fill=\"none\" stroke=\"#000000\" d=\"M2543,-192.9465C2543,-182.2621 2543,-170.4254 2543,-159.5742\"/>\n<polygon fill=\"#000000\" stroke=\"#000000\" points=\"2546.5001,-159.5421 2543,-149.5422 2539.5001,-159.5422 2546.5001,-159.5421\"/>\n</g>\n<!-- 57 -->\n<g id=\"node58\" class=\"node\">\n<title>57</title>\n<polygon fill=\"none\" stroke=\"#000000\" points=\"2779,-157 2615,-157 2615,-89 2779,-89 2779,-157\"/>\n<text text-anchor=\"middle\" x=\"2697\" y=\"-141.8\" font-family=\"Helvetica,sans-Serif\" font-size=\"14.00\" fill=\"#000000\">SkinThickness &lt;= 34.0</text>\n<text text-anchor=\"middle\" x=\"2697\" y=\"-126.8\" font-family=\"Helvetica,sans-Serif\" font-size=\"14.00\" fill=\"#000000\">entropy = 0.491</text>\n<text text-anchor=\"middle\" x=\"2697\" y=\"-111.8\" font-family=\"Helvetica,sans-Serif\" font-size=\"14.00\" fill=\"#000000\">samples = 28</text>\n<text text-anchor=\"middle\" x=\"2697\" y=\"-96.8\" font-family=\"Helvetica,sans-Serif\" font-size=\"14.00\" fill=\"#000000\">value = [3, 25]</text>\n</g>\n<!-- 55&#45;&gt;57 -->\n<g id=\"edge57\" class=\"edge\">\n<title>55&#45;&gt;57</title>\n<path fill=\"none\" stroke=\"#000000\" d=\"M2593.4254,-192.9465C2607.6512,-183.3395 2623.2563,-172.8009 2637.9398,-162.8848\"/>\n<polygon fill=\"#000000\" stroke=\"#000000\" points=\"2640.1329,-165.6272 2646.4614,-157.13 2636.2153,-159.8261 2640.1329,-165.6272\"/>\n</g>\n<!-- 58 -->\n<g id=\"node59\" class=\"node\">\n<title>58</title>\n<polygon fill=\"none\" stroke=\"#000000\" points=\"2740,-53 2622,-53 2622,0 2740,0 2740,-53\"/>\n<text text-anchor=\"middle\" x=\"2681\" y=\"-37.8\" font-family=\"Helvetica,sans-Serif\" font-size=\"14.00\" fill=\"#000000\">entropy = 0.722</text>\n<text text-anchor=\"middle\" x=\"2681\" y=\"-22.8\" font-family=\"Helvetica,sans-Serif\" font-size=\"14.00\" fill=\"#000000\">samples = 15</text>\n<text text-anchor=\"middle\" x=\"2681\" y=\"-7.8\" font-family=\"Helvetica,sans-Serif\" font-size=\"14.00\" fill=\"#000000\">value = [3, 12]</text>\n</g>\n<!-- 57&#45;&gt;58 -->\n<g id=\"edge58\" class=\"edge\">\n<title>57&#45;&gt;58</title>\n<path fill=\"none\" stroke=\"#000000\" d=\"M2691.359,-88.9777C2689.9774,-80.6449 2688.4927,-71.6903 2687.091,-63.2364\"/>\n<polygon fill=\"#000000\" stroke=\"#000000\" points=\"2690.5236,-62.5413 2685.435,-53.2485 2683.6179,-63.6863 2690.5236,-62.5413\"/>\n</g>\n<!-- 59 -->\n<g id=\"node60\" class=\"node\">\n<title>59</title>\n<polygon fill=\"none\" stroke=\"#000000\" points=\"2865.5,-53 2758.5,-53 2758.5,0 2865.5,0 2865.5,-53\"/>\n<text text-anchor=\"middle\" x=\"2812\" y=\"-37.8\" font-family=\"Helvetica,sans-Serif\" font-size=\"14.00\" fill=\"#000000\">entropy = 0.0</text>\n<text text-anchor=\"middle\" x=\"2812\" y=\"-22.8\" font-family=\"Helvetica,sans-Serif\" font-size=\"14.00\" fill=\"#000000\">samples = 13</text>\n<text text-anchor=\"middle\" x=\"2812\" y=\"-7.8\" font-family=\"Helvetica,sans-Serif\" font-size=\"14.00\" fill=\"#000000\">value = [0, 13]</text>\n</g>\n<!-- 57&#45;&gt;59 -->\n<g id=\"edge59\" class=\"edge\">\n<title>57&#45;&gt;59</title>\n<path fill=\"none\" stroke=\"#000000\" d=\"M2737.5447,-88.9777C2748.7845,-79.546 2760.9736,-69.3178 2772.1721,-59.9208\"/>\n<polygon fill=\"#000000\" stroke=\"#000000\" points=\"2774.713,-62.3576 2780.1236,-53.2485 2770.2134,-56.9954 2774.713,-62.3576\"/>\n</g>\n</g>\n</svg>\n"
          },
          "metadata": {},
          "execution_count": 45
        }
      ]
    },
    {
      "cell_type": "code",
      "source": [
        "###Cross Validation \n",
        "X=df[predictores]\n",
        "Y=df[objetivo]\n",
        "arbol=DecisionTreeClassifier(criterion='entropy',random_state=99,min_samples_leaf=6,max_depth=6)\n",
        "arbol.fit(X,Y)"
      ],
      "metadata": {
        "colab": {
          "base_uri": "https://localhost:8080/"
        },
        "id": "p5y2hCl8-QCz",
        "outputId": "5ccc05d2-3dbc-411a-e8e1-aa1a26803122"
      },
      "execution_count": 21,
      "outputs": [
        {
          "output_type": "execute_result",
          "data": {
            "text/plain": [
              "DecisionTreeClassifier(criterion='entropy', max_depth=6, min_samples_leaf=6,\n",
              "                       random_state=99)"
            ]
          },
          "metadata": {},
          "execution_count": 21
        }
      ]
    },
    {
      "cell_type": "code",
      "source": [
        "cv=KFold(n_splits=10,random_state=1,shuffle=True)"
      ],
      "metadata": {
        "id": "ZaJV3Oki-QIv"
      },
      "execution_count": 22,
      "outputs": []
    },
    {
      "cell_type": "code",
      "source": [
        "score=np.mean(cross_val_score(arbol,X,Y,scoring='accuracy',cv=cv,n_jobs=1))\n",
        "score"
      ],
      "metadata": {
        "colab": {
          "base_uri": "https://localhost:8080/"
        },
        "id": "RJF924Ru-QLR",
        "outputId": "51c7c9b8-dc95-4c60-d83c-b98e62fccc98"
      },
      "execution_count": 25,
      "outputs": [
        {
          "output_type": "execute_result",
          "data": {
            "text/plain": [
              "0.7356117566643883"
            ]
          },
          "metadata": {},
          "execution_count": 25
        }
      ]
    },
    {
      "cell_type": "code",
      "source": [
        "print(predictores)\n",
        "for i in range(1,11):\n",
        "  arbol=DecisionTreeClassifier(criterion='entropy',random_state=99,min_samples_leaf=6,max_depth=i)\n",
        "  arbol.fit(X,Y)\n",
        "  cv=KFold(n_splits=10,random_state=1,shuffle=True)\n",
        "  score=np.mean(cross_val_score(arbol,X,Y,scoring='accuracy',cv=cv,n_jobs=1))\n",
        "  print('Score para i =',i,' es de ', score)\n",
        "  print('   ',arbol.feature_importances_)"
      ],
      "metadata": {
        "colab": {
          "base_uri": "https://localhost:8080/"
        },
        "id": "PWpM8ulg-QNt",
        "outputId": "084bc6a7-dd3f-45f0-b741-685ffd40bcc5"
      },
      "execution_count": 49,
      "outputs": [
        {
          "output_type": "stream",
          "name": "stdout",
          "text": [
            "['Pregnancies', 'Glucose', 'BloodPressure', 'SkinThickness', 'Insulin', 'BMI', 'DiabetesPedigreeFunction', 'Age']\n",
            "Score para i = 1  es de  0.7225393028024608\n",
            "    [0. 1. 0. 0. 0. 0. 0. 0.]\n",
            "Score para i = 2  es de  0.7485475051264525\n",
            "    [0.         0.60945904 0.         0.         0.         0.39054096\n",
            " 0.         0.        ]\n",
            "Score para i = 3  es de  0.7459842788790157\n",
            "    [0.         0.55928824 0.         0.         0.         0.29334802\n",
            " 0.01237407 0.13498967]\n",
            "Score para i = 4  es de  0.7407552973342447\n",
            "    [0.         0.53313329 0.         0.         0.01443529 0.29689806\n",
            " 0.01042514 0.14510822]\n",
            "Score para i = 5  es de  0.7407723855092276\n",
            "    [0.         0.45767636 0.04065156 0.         0.04236134 0.25487665\n",
            " 0.07986373 0.12457036]\n",
            "Score para i = 6  es de  0.7356117566643883\n",
            "    [0.01797096 0.4049784  0.04634547 0.         0.03223262 0.27599538\n",
            " 0.11478855 0.10768861]\n",
            "Score para i = 7  es de  0.7422077922077922\n",
            "    [0.0423709  0.37008522 0.06359937 0.         0.03215069 0.24261953\n",
            " 0.12083094 0.12834335]\n",
            "Score para i = 8  es de  0.7317156527682844\n",
            "    [0.0485844  0.35004517 0.05911494 0.00859431 0.03349737 0.25859367\n",
            " 0.12632757 0.11524257]\n",
            "Score para i = 9  es de  0.7525803144224197\n",
            "    [0.0405978  0.34777669 0.04583791 0.014933   0.03501735 0.26390742\n",
            " 0.12695218 0.12497764]\n",
            "Score para i = 10  es de  0.7303315105946685\n",
            "    [0.04296066 0.33538645 0.07404078 0.01772707 0.03128467 0.2450008\n",
            " 0.14343321 0.11016636]\n"
          ]
        }
      ]
    },
    {
      "cell_type": "code",
      "source": [],
      "metadata": {
        "id": "vAj2b_etnDRj"
      },
      "execution_count": null,
      "outputs": []
    }
  ]
}