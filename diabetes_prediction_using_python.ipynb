{
  "metadata": {
    "kernelspec": {
      "language": "python",
      "display_name": "Python 3",
      "name": "python3"
    },
    "language_info": {
      "pygments_lexer": "ipython3",
      "nbconvert_exporter": "python",
      "version": "3.6.4",
      "file_extension": ".py",
      "codemirror_mode": {
        "name": "ipython",
        "version": 3
      },
      "name": "python",
      "mimetype": "text/x-python"
    },
    "colab": {
      "provenance": [],
      "include_colab_link": true
    }
  },
  "nbformat_minor": 0,
  "nbformat": 4,
  "cells": [
    {
      "cell_type": "markdown",
      "metadata": {
        "id": "view-in-github",
        "colab_type": "text"
      },
      "source": [
        "<a href=\"https://colab.research.google.com/github/sergiomath/dataScience/blob/main/diabetes_prediction_using_python.ipynb\" target=\"_parent\"><img src=\"https://colab.research.google.com/assets/colab-badge.svg\" alt=\"Open In Colab\"/></a>"
      ]
    },
    {
      "cell_type": "markdown",
      "source": [
        "# Diabetes Prediction using Python + Pandas\n",
        "Diabetes is a chronic (long-lasting) health condition that affects how your body turns food into energy. Most of the food you eat is broken down into sugar (also called glucose) and released into your bloodstream. When your blood sugar goes up, it signals your pancreas to release insulin.\n"
      ],
      "metadata": {
        "id": "EJAoPOdk7xBF"
      }
    },
    {
      "cell_type": "markdown",
      "source": [
        "# Table Content\n",
        "\n",
        "1. Introduction\n",
        "2. Installing Libraries\n",
        "3. Importing Data\n",
        "4. Missing Value Analysis\n",
        "5. Exploratory Data Analysis\n",
        "6. Feature Engineering\n",
        "7. Modeling\n",
        "8. Hyperparameter Tuning\n",
        "9. Prediction"
      ],
      "metadata": {
        "id": "ZOaUWMsx7xBJ"
      }
    },
    {
      "cell_type": "markdown",
      "source": [
        "# Introduction\n",
        "According to WHO, Diabetes is a chronic disease that occurs either when the pancreas does not produce enough insulin or when the body cannot effectively use the insulin it produces. Insulin is a hormone that regulates blood sugar. Hyperglycaemia, or raised blood sugar, is a common effect of uncontrolled diabetes and over time leads to serious damage to many of the body's systems, especially the nerves and blood vessels.\n",
        "\n",
        "Between 2000 and 2016, there was a 5% increase in premature mortality rates (i.e. before the age of 70) from diabetes. In high-income countries the premature mortality rate due to diabetes decreased from 2000 to 2010 but then increased in 2010-2016. In lower-middle-income countries, the premature mortality rate due to diabetes increased across both periods.\n",
        "\n",
        "In this notebook, i will do some feature analysis and try to find out the rootcauses\n",
        "\n",
        "# <font size=\"5\">Objectives</font>\n",
        "1. To experiment with different classification methods to see which yields the highest accuracy\n",
        "2. Classify whether someone has diabetes or not from given features\n",
        "3. To determine which features are the most indicative of diabetes\n",
        "\n",
        "# <font size=\"5\">Dataset</font>\n",
        "I have used [Pima Indians Diabetes Database](https://www.kaggle.com/uciml/pima-indians-diabetes-database) Kaggle Dataset\n",
        "\n",
        "The dataset contains below features and labels:\n",
        "1. Pregnancies\n",
        "2. Glucose\n",
        "3. BloodPressure\n",
        "4. SkinThickness\n",
        "5. Insulin\n",
        "6. BMI\n",
        "7. DiabetesPedigreeFunction\n",
        "8. Age\n",
        "9. Outcome\n"
      ],
      "metadata": {
        "id": "eooPCiyP7xBK"
      }
    },
    {
      "cell_type": "markdown",
      "source": [
        "# Installing Libraries"
      ],
      "metadata": {
        "id": "fRFTWAII7xBM"
      }
    },
    {
      "cell_type": "code",
      "source": [
        "import numpy as np # linear algebra\n",
        "import pandas as pd # data processing, CSV file I/O (e.g. pd.read_csv)\n",
        "import seaborn as sns # for data visualization\n",
        "import matplotlib.pyplot as plt # to plot charts\n",
        "from collections import Counter\n",
        "import os\n",
        "\n",
        "# Modeling\n",
        "from sklearn.preprocessing import QuantileTransformer\n",
        "from sklearn.metrics import confusion_matrix, accuracy_score, precision_score\n",
        "from sklearn.ensemble import RandomForestClassifier, AdaBoostClassifier, GradientBoostingClassifier, VotingClassifier\n",
        "from sklearn.linear_model import LogisticRegression\n",
        "from sklearn.neighbors import KNeighborsClassifier\n",
        "from sklearn.tree import DecisionTreeClassifier\n",
        "from sklearn.svm import SVC\n",
        "from sklearn.model_selection import GridSearchCV, cross_val_score, StratifiedKFold, learning_curve, train_test_split\n"
      ],
      "metadata": {
        "_uuid": "8f2839f25d086af736a60e9eeb907d3b93b6e0e5",
        "_cell_guid": "b1076dfc-b9ad-4769-8c92-a6c4dae69d19",
        "execution": {
          "iopub.status.busy": "2021-11-30T05:02:07.122711Z",
          "iopub.execute_input": "2021-11-30T05:02:07.123561Z",
          "iopub.status.idle": "2021-11-30T05:02:07.141751Z",
          "shell.execute_reply.started": "2021-11-30T05:02:07.123506Z",
          "shell.execute_reply": "2021-11-30T05:02:07.140944Z"
        },
        "trusted": true,
        "id": "8Z-aQyUm7xBN"
      },
      "execution_count": 2,
      "outputs": []
    },
    {
      "cell_type": "markdown",
      "source": [
        "I have imported most common libraries used in python for machine learning such as Pandas, Seaborn, Matplitlib etc"
      ],
      "metadata": {
        "id": "3H6uQYrX7xBP"
      }
    },
    {
      "cell_type": "markdown",
      "source": [
        "# Importing Data"
      ],
      "metadata": {
        "id": "2SSrKAW97xBQ"
      }
    },
    {
      "cell_type": "code",
      "source": [
        "df = pd.read_csv(\"https://raw.githubusercontent.com/sergiomath/dataScience/main/Proyectos/Diabetes/diabetes.csv\")"
      ],
      "metadata": {
        "execution": {
          "iopub.status.busy": "2021-11-30T05:02:07.1436Z",
          "iopub.execute_input": "2021-11-30T05:02:07.147131Z",
          "iopub.status.idle": "2021-11-30T05:02:07.164094Z",
          "shell.execute_reply.started": "2021-11-30T05:02:07.147079Z",
          "shell.execute_reply": "2021-11-30T05:02:07.163405Z"
        },
        "trusted": true,
        "id": "g-LdvH-97xBR"
      },
      "execution_count": 3,
      "outputs": []
    },
    {
      "cell_type": "code",
      "source": [
        "# Get familier with dataset structure\n",
        "\n",
        "df.info()"
      ],
      "metadata": {
        "execution": {
          "iopub.status.busy": "2021-11-30T05:02:07.165341Z",
          "iopub.execute_input": "2021-11-30T05:02:07.16624Z",
          "iopub.status.idle": "2021-11-30T05:02:07.182266Z",
          "shell.execute_reply.started": "2021-11-30T05:02:07.166197Z",
          "shell.execute_reply": "2021-11-30T05:02:07.181483Z"
        },
        "trusted": true,
        "colab": {
          "base_uri": "https://localhost:8080/"
        },
        "id": "BwKETnPr7xBR",
        "outputId": "b3b68f44-025e-4ff0-cfd6-83c655509fa6"
      },
      "execution_count": 4,
      "outputs": [
        {
          "output_type": "stream",
          "name": "stdout",
          "text": [
            "<class 'pandas.core.frame.DataFrame'>\n",
            "RangeIndex: 768 entries, 0 to 767\n",
            "Data columns (total 9 columns):\n",
            " #   Column                    Non-Null Count  Dtype  \n",
            "---  ------                    --------------  -----  \n",
            " 0   Pregnancies               768 non-null    int64  \n",
            " 1   Glucose                   768 non-null    int64  \n",
            " 2   BloodPressure             768 non-null    int64  \n",
            " 3   SkinThickness             768 non-null    int64  \n",
            " 4   Insulin                   768 non-null    int64  \n",
            " 5   BMI                       768 non-null    float64\n",
            " 6   DiabetesPedigreeFunction  768 non-null    float64\n",
            " 7   Age                       768 non-null    int64  \n",
            " 8   Outcome                   768 non-null    int64  \n",
            "dtypes: float64(2), int64(7)\n",
            "memory usage: 54.1 KB\n"
          ]
        }
      ]
    },
    {
      "cell_type": "markdown",
      "source": [
        "Excepting BMI and DiabetesPedigreeFunction all the columns are integer. Outcome is the label containing 1 and 0 values. 1 means person has diabetes and 0 mean person is not diabetic"
      ],
      "metadata": {
        "id": "jGtDk5Gk7xBT"
      }
    },
    {
      "cell_type": "code",
      "source": [
        "df.describe()"
      ],
      "metadata": {
        "execution": {
          "iopub.status.busy": "2021-11-30T05:02:07.183975Z",
          "iopub.execute_input": "2021-11-30T05:02:07.184522Z",
          "iopub.status.idle": "2021-11-30T05:02:07.230188Z",
          "shell.execute_reply.started": "2021-11-30T05:02:07.184479Z",
          "shell.execute_reply": "2021-11-30T05:02:07.229376Z"
        },
        "trusted": true,
        "id": "22AxQ2Xx7xBT"
      },
      "execution_count": null,
      "outputs": []
    },
    {
      "cell_type": "markdown",
      "source": [
        "There are 768 records in the dataset, in which mean age of people is 33"
      ],
      "metadata": {
        "id": "HSLPqqa87xBU"
      }
    },
    {
      "cell_type": "markdown",
      "source": [
        "# Missing Value Analysis"
      ],
      "metadata": {
        "id": "yeSDNUec7xBU"
      }
    },
    {
      "cell_type": "markdown",
      "source": [
        "Next, i will cleanup the dataset which is the important part of data science. Missing data can lead to wrong statistics during modeling and predictions."
      ],
      "metadata": {
        "id": "Db4pyXdj7xBV"
      }
    },
    {
      "cell_type": "code",
      "source": [
        "\n",
        "df.describe()"
      ],
      "metadata": {
        "execution": {
          "iopub.status.busy": "2021-11-30T05:02:07.232934Z",
          "iopub.execute_input": "2021-11-30T05:02:07.235569Z",
          "iopub.status.idle": "2021-11-30T05:02:07.277878Z",
          "shell.execute_reply.started": "2021-11-30T05:02:07.23553Z",
          "shell.execute_reply": "2021-11-30T05:02:07.276761Z"
        },
        "trusted": true,
        "id": "nXuB-WtZ7xBV"
      },
      "execution_count": null,
      "outputs": []
    },
    {
      "cell_type": "code",
      "source": [
        "# Explore missing values\n",
        "\n",
        "df.isnull().sum()"
      ],
      "metadata": {
        "execution": {
          "iopub.status.busy": "2021-11-30T05:02:07.279234Z",
          "iopub.execute_input": "2021-11-30T05:02:07.279668Z",
          "iopub.status.idle": "2021-11-30T05:02:07.287284Z",
          "shell.execute_reply.started": "2021-11-30T05:02:07.279629Z",
          "shell.execute_reply": "2021-11-30T05:02:07.286744Z"
        },
        "trusted": true,
        "id": "D8mFlg5i7xBW"
      },
      "execution_count": null,
      "outputs": []
    },
    {
      "cell_type": "markdown",
      "source": [
        "I observed that there is no missing values in dataset however the features like Glucose, BloodPressure, Insulin, SkinThickness has 0 values which is not possible. We have to replace 0 values with either mean or median values of specific column"
      ],
      "metadata": {
        "id": "MuhJBdXd7xBW"
      }
    },
    {
      "cell_type": "code",
      "source": [
        "df['Glucose'] = df['Glucose'].replace(0,df['Glucose'].mean())\n",
        "df.Glucose.value_counts()"
      ],
      "metadata": {
        "execution": {
          "iopub.status.busy": "2021-11-30T05:02:07.288298Z",
          "iopub.execute_input": "2021-11-30T05:02:07.288674Z",
          "iopub.status.idle": "2021-11-30T05:02:07.303753Z",
          "shell.execute_reply.started": "2021-11-30T05:02:07.288646Z",
          "shell.execute_reply": "2021-11-30T05:02:07.302685Z"
        },
        "trusted": true,
        "id": "fD0Lcaq27xBX"
      },
      "execution_count": null,
      "outputs": []
    },
    {
      "cell_type": "code",
      "source": [
        "# Correcting missing values in blood pressure\n",
        "\n",
        "df[df['BloodPressure'] == 0]['BloodPressure'].value_counts()\n",
        "df['BloodPressure'] = df['BloodPressure'].replace(0,df['BloodPressure'].mean())"
      ],
      "metadata": {
        "execution": {
          "iopub.status.busy": "2021-11-30T05:02:07.30521Z",
          "iopub.execute_input": "2021-11-30T05:02:07.305703Z",
          "iopub.status.idle": "2021-11-30T05:02:07.314023Z",
          "shell.execute_reply.started": "2021-11-30T05:02:07.305659Z",
          "shell.execute_reply": "2021-11-30T05:02:07.313422Z"
        },
        "trusted": true,
        "id": "OQ4Sx4yd7xBY"
      },
      "execution_count": null,
      "outputs": []
    },
    {
      "cell_type": "markdown",
      "source": [
        "There are 35 records with 0 BloodPressure in dataset"
      ],
      "metadata": {
        "id": "RWDykxKD7xBY"
      }
    },
    {
      "cell_type": "code",
      "source": [
        "# Correcting missing values in BMI\n",
        "\n",
        "df[df['BMI'] == 0]['BMI'].value_counts()\n",
        "df['BMI'] = df['BMI'].replace(0, df['BMI'].median())"
      ],
      "metadata": {
        "execution": {
          "iopub.status.busy": "2021-11-30T05:02:07.315141Z",
          "iopub.execute_input": "2021-11-30T05:02:07.315804Z",
          "iopub.status.idle": "2021-11-30T05:02:07.324567Z",
          "shell.execute_reply.started": "2021-11-30T05:02:07.315761Z",
          "shell.execute_reply": "2021-11-30T05:02:07.323971Z"
        },
        "trusted": true,
        "id": "PZK0MmVL7xBY"
      },
      "execution_count": null,
      "outputs": []
    },
    {
      "cell_type": "code",
      "source": [
        "# Correct missing values in Insulin and SkinThickness\n",
        "\n",
        "df['SkinThickness'] = df['SkinThickness'].replace(0, df['SkinThickness'].median())\n",
        "df['Insulin'] = df['Insulin'].replace(0, df['Insulin'].median())"
      ],
      "metadata": {
        "execution": {
          "iopub.status.busy": "2021-11-30T05:02:07.325673Z",
          "iopub.execute_input": "2021-11-30T05:02:07.326038Z",
          "iopub.status.idle": "2021-11-30T05:02:07.339777Z",
          "shell.execute_reply.started": "2021-11-30T05:02:07.32601Z",
          "shell.execute_reply": "2021-11-30T05:02:07.339097Z"
        },
        "trusted": true,
        "id": "EhyNsJKd7xBZ"
      },
      "execution_count": null,
      "outputs": []
    },
    {
      "cell_type": "code",
      "source": [
        "# Review dataset statistics\n",
        "\n",
        "df.describe()"
      ],
      "metadata": {
        "execution": {
          "iopub.status.busy": "2021-11-30T05:02:07.340908Z",
          "iopub.execute_input": "2021-11-30T05:02:07.341262Z",
          "iopub.status.idle": "2021-11-30T05:02:07.3835Z",
          "shell.execute_reply.started": "2021-11-30T05:02:07.341235Z",
          "shell.execute_reply": "2021-11-30T05:02:07.382492Z"
        },
        "trusted": true,
        "id": "ZKCfUY3v7xBa"
      },
      "execution_count": null,
      "outputs": []
    },
    {
      "cell_type": "markdown",
      "source": [
        "Now i have dataset without missing values in features which is good"
      ],
      "metadata": {
        "id": "RIqKuf7B7xBa"
      }
    },
    {
      "cell_type": "markdown",
      "source": [],
      "metadata": {
        "id": "Sey-fsd37xBb"
      }
    },
    {
      "cell_type": "markdown",
      "source": [
        "# Exploratory Data Analysis"
      ],
      "metadata": {
        "id": "53dqwuGc7xBb"
      }
    },
    {
      "cell_type": "code",
      "source": [
        "# Show top 5 rows\n",
        "df.head()"
      ],
      "metadata": {
        "execution": {
          "iopub.status.busy": "2021-11-30T05:02:07.386616Z",
          "iopub.execute_input": "2021-11-30T05:02:07.387201Z",
          "iopub.status.idle": "2021-11-30T05:02:07.404834Z",
          "shell.execute_reply.started": "2021-11-30T05:02:07.387155Z",
          "shell.execute_reply": "2021-11-30T05:02:07.404258Z"
        },
        "trusted": true,
        "id": "isDAZ-bO7xBb"
      },
      "execution_count": null,
      "outputs": []
    },
    {
      "cell_type": "markdown",
      "source": [
        "**Correlation**"
      ],
      "metadata": {
        "id": "_EO78ujv7xBc"
      }
    },
    {
      "cell_type": "code",
      "source": [
        "plt.figure(figsize=(13,10))\n",
        "sns.heatmap(df.corr(),annot=True, fmt = \".2f\", cmap = \"coolwarm\")"
      ],
      "metadata": {
        "execution": {
          "iopub.status.busy": "2021-11-30T05:02:07.405844Z",
          "iopub.execute_input": "2021-11-30T05:02:07.406139Z",
          "iopub.status.idle": "2021-11-30T05:02:08.259144Z",
          "shell.execute_reply.started": "2021-11-30T05:02:07.406113Z",
          "shell.execute_reply": "2021-11-30T05:02:08.258346Z"
        },
        "trusted": true,
        "id": "WVZiY8e07xBc"
      },
      "execution_count": null,
      "outputs": []
    },
    {
      "cell_type": "markdown",
      "source": [
        "According to observation, features like Pregnancies, Gluecose, BMI, and Age is more correlated with Outcome"
      ],
      "metadata": {
        "id": "86tHFQ927xBc"
      }
    },
    {
      "cell_type": "markdown",
      "source": [
        "**Pregnancies**"
      ],
      "metadata": {
        "id": "qtRw6ZON7xBd"
      }
    },
    {
      "cell_type": "code",
      "source": [
        "# Explore Pregnancies vs Outcome\n",
        "plt.figure(figsize=(13,6))\n",
        "g = sns.kdeplot(df[\"Pregnancies\"][df[\"Outcome\"] == 1], color=\"Red\", shade = True)\n",
        "g = sns.kdeplot(df[\"Pregnancies\"][df[\"Outcome\"] == 0], ax =g, color=\"Green\", shade= True)\n",
        "g.set_xlabel(\"Pregnancies\")\n",
        "g.set_ylabel(\"Frequency\")\n",
        "g.legend([\"Positive\",\"Negative\"])\n"
      ],
      "metadata": {
        "execution": {
          "iopub.status.busy": "2021-11-30T05:02:08.260501Z",
          "iopub.execute_input": "2021-11-30T05:02:08.261617Z",
          "iopub.status.idle": "2021-11-30T05:02:08.736957Z",
          "shell.execute_reply.started": "2021-11-30T05:02:08.261569Z",
          "shell.execute_reply": "2021-11-30T05:02:08.73596Z"
        },
        "trusted": true,
        "id": "qnPib2q77xBd"
      },
      "execution_count": null,
      "outputs": []
    },
    {
      "cell_type": "markdown",
      "source": [
        "**Outcome**"
      ],
      "metadata": {
        "id": "buJS8OXj7xBe"
      }
    },
    {
      "cell_type": "code",
      "source": [
        "sns.countplot('Outcome',data=df)\n"
      ],
      "metadata": {
        "execution": {
          "iopub.status.busy": "2021-11-30T05:02:08.738304Z",
          "iopub.execute_input": "2021-11-30T05:02:08.739005Z",
          "iopub.status.idle": "2021-11-30T05:02:08.887118Z",
          "shell.execute_reply.started": "2021-11-30T05:02:08.738958Z",
          "shell.execute_reply": "2021-11-30T05:02:08.886138Z"
        },
        "trusted": true,
        "id": "K400HuCK7xBe"
      },
      "execution_count": null,
      "outputs": []
    },
    {
      "cell_type": "markdown",
      "source": [
        "There are more people who do not have diabetes in dataset which is around 65% and 35% people has diabetes"
      ],
      "metadata": {
        "id": "Ps9pd0LG7xBf"
      }
    },
    {
      "cell_type": "code",
      "source": [
        "df"
      ],
      "metadata": {
        "execution": {
          "iopub.status.busy": "2021-11-30T05:02:08.888631Z",
          "iopub.execute_input": "2021-11-30T05:02:08.889604Z",
          "iopub.status.idle": "2021-11-30T05:02:08.914928Z",
          "shell.execute_reply.started": "2021-11-30T05:02:08.889555Z",
          "shell.execute_reply": "2021-11-30T05:02:08.914299Z"
        },
        "trusted": true,
        "id": "Cy0OCFcG7xBf"
      },
      "execution_count": null,
      "outputs": []
    },
    {
      "cell_type": "markdown",
      "source": [
        "**Glucose**"
      ],
      "metadata": {
        "id": "gZGz5kHr7xBf"
      }
    },
    {
      "cell_type": "code",
      "source": [
        "plt.figure(figsize=(10,6))\n",
        "sns.violinplot(data=df, x=\"Outcome\", y=\"Glucose\",\n",
        "               split=True, inner=\"quart\", linewidth=1)"
      ],
      "metadata": {
        "execution": {
          "iopub.status.busy": "2021-11-30T05:02:08.916466Z",
          "iopub.execute_input": "2021-11-30T05:02:08.917054Z",
          "iopub.status.idle": "2021-11-30T05:02:09.114273Z",
          "shell.execute_reply.started": "2021-11-30T05:02:08.91701Z",
          "shell.execute_reply": "2021-11-30T05:02:09.113476Z"
        },
        "trusted": true,
        "id": "n-eD8f3Q7xBg"
      },
      "execution_count": null,
      "outputs": []
    },
    {
      "cell_type": "markdown",
      "source": [
        "The chances of diabetes is gradually increasing with level of Glucose"
      ],
      "metadata": {
        "id": "-qaVLhZh7xBg"
      }
    },
    {
      "cell_type": "code",
      "source": [
        "# Explore Glucose vs Outcome\n",
        "\n",
        "plt.figure(figsize=(13,6))\n",
        "g = sns.kdeplot(df[\"Glucose\"][df[\"Outcome\"] == 1], color=\"Red\", shade = True)\n",
        "g = sns.kdeplot(df[\"Glucose\"][df[\"Outcome\"] == 0], ax =g, color=\"Green\", shade= True)\n",
        "g.set_xlabel(\"Glucose\")\n",
        "g.set_ylabel(\"Frequency\")\n",
        "g.legend([\"Positive\",\"Negative\"])\n"
      ],
      "metadata": {
        "execution": {
          "iopub.status.busy": "2021-11-30T05:02:09.115927Z",
          "iopub.execute_input": "2021-11-30T05:02:09.116505Z",
          "iopub.status.idle": "2021-11-30T05:02:09.432151Z",
          "shell.execute_reply.started": "2021-11-30T05:02:09.116461Z",
          "shell.execute_reply": "2021-11-30T05:02:09.431359Z"
        },
        "trusted": true,
        "id": "I5ALrB1t7xBh"
      },
      "execution_count": null,
      "outputs": []
    },
    {
      "cell_type": "markdown",
      "source": [
        "**Explore Glucose vs BMI vs Age**"
      ],
      "metadata": {
        "id": "83itvNnd7xBh"
      }
    },
    {
      "cell_type": "code",
      "source": [
        "# Glucose vs BMI vs Age\n",
        "\n",
        "plt.figure(figsize=(20,10))\n",
        "sns.scatterplot(data=df, x=\"Glucose\", y=\"BMI\", hue=\"Age\", size=\"Age\")"
      ],
      "metadata": {
        "execution": {
          "iopub.status.busy": "2021-11-30T05:02:09.433539Z",
          "iopub.execute_input": "2021-11-30T05:02:09.434343Z",
          "iopub.status.idle": "2021-11-30T05:02:09.994303Z",
          "shell.execute_reply.started": "2021-11-30T05:02:09.434287Z",
          "shell.execute_reply": "2021-11-30T05:02:09.993511Z"
        },
        "trusted": true,
        "id": "8-88dDK97xBh"
      },
      "execution_count": null,
      "outputs": []
    },
    {
      "cell_type": "markdown",
      "source": [
        "As per observation there are some outliers in features. We need to remove outliers in feature engineering"
      ],
      "metadata": {
        "id": "x6xVS7037xBi"
      }
    },
    {
      "cell_type": "markdown",
      "source": [
        "**BloodPressure**"
      ],
      "metadata": {
        "id": "W32kgcSD7xBi"
      }
    },
    {
      "cell_type": "code",
      "source": [
        "# Explore Age vs Sex, Parch , Pclass and SibSP\n",
        "g = sns.catplot(y=\"BloodPressure\",x=\"Outcome\",data=df,kind=\"box\")\n",
        "g.set_ylabels(\"Blood Pressure\")\n",
        "g.set_xlabels(\"Outcome\")"
      ],
      "metadata": {
        "execution": {
          "iopub.status.busy": "2021-11-30T05:02:09.995909Z",
          "iopub.execute_input": "2021-11-30T05:02:09.996518Z",
          "iopub.status.idle": "2021-11-30T05:02:10.264676Z",
          "shell.execute_reply.started": "2021-11-30T05:02:09.996474Z",
          "shell.execute_reply": "2021-11-30T05:02:10.264007Z"
        },
        "trusted": true,
        "id": "7v7n-zee7xBj"
      },
      "execution_count": null,
      "outputs": []
    },
    {
      "cell_type": "markdown",
      "source": [
        "**Age vs Outcome**"
      ],
      "metadata": {
        "id": "Zy3P3RzL7xBj"
      }
    },
    {
      "cell_type": "code",
      "source": [
        "# Explore Age\n",
        "\n",
        "g = sns.catplot(y=\"Age\",x=\"Outcome\",data=df,kind=\"box\")\n",
        "g.set_ylabels(\"Age\")\n",
        "g.set_xlabels(\"Outcome\")"
      ],
      "metadata": {
        "execution": {
          "iopub.status.busy": "2021-11-30T05:02:10.265917Z",
          "iopub.execute_input": "2021-11-30T05:02:10.266568Z",
          "iopub.status.idle": "2021-11-30T05:02:10.544188Z",
          "shell.execute_reply.started": "2021-11-30T05:02:10.266521Z",
          "shell.execute_reply": "2021-11-30T05:02:10.54348Z"
        },
        "trusted": true,
        "id": "G3qg-V3k7xBj"
      },
      "execution_count": null,
      "outputs": []
    },
    {
      "cell_type": "markdown",
      "source": [
        "**DiabetesPedigreeFunction**"
      ],
      "metadata": {
        "id": "DPNi-gyo7xBk"
      }
    },
    {
      "cell_type": "code",
      "source": [
        "sns.set_theme(style=\"whitegrid\")\n",
        "plt.figure(figsize=(7,5))\n",
        "\n",
        "sns.boxenplot(x=\"Outcome\", y=\"DiabetesPedigreeFunction\",\n",
        "              color=\"b\", \n",
        "              scale=\"linear\", data=df)\n",
        "g.set_ylabels(\"Diabetes Pedigree Function\")\n",
        "g.set_xlabels(\"Outcome\")"
      ],
      "metadata": {
        "execution": {
          "iopub.status.busy": "2021-11-30T05:02:10.545266Z",
          "iopub.execute_input": "2021-11-30T05:02:10.545482Z",
          "iopub.status.idle": "2021-11-30T05:02:10.727558Z",
          "shell.execute_reply.started": "2021-11-30T05:02:10.545456Z",
          "shell.execute_reply": "2021-11-30T05:02:10.726754Z"
        },
        "trusted": true,
        "id": "W8EwkLI67xBk"
      },
      "execution_count": null,
      "outputs": []
    },
    {
      "cell_type": "markdown",
      "source": [
        "# Feature Enginnering"
      ],
      "metadata": {
        "id": "AJ5d8o_y7xBk"
      }
    },
    {
      "cell_type": "markdown",
      "source": [
        "Till now, i explored the dataset, did missing value corrections and data visualization. Next, i have started feature engineering. Feature engineering is useful to improve the performance of machine learning algorithms and is often considered as applied machine learning. Selecting the important features and reducing the size of the feature set makes computation in machine learning and data analytic algorithms more feasible."
      ],
      "metadata": {
        "id": "0xTpzZQq7xBl"
      }
    },
    {
      "cell_type": "markdown",
      "source": [
        "# <font size=\"5\">Outlier Detection</font>"
      ],
      "metadata": {
        "id": "zfSR87ze7xBl"
      }
    },
    {
      "cell_type": "code",
      "source": [
        "def detect_outliers(df,n,features):\n",
        "    outlier_indices = []\n",
        "    \"\"\"\n",
        "    Detect outliers from given list of features. It returns a list of the indices\n",
        "    according to the observations containing more than n outliers according\n",
        "    to the Tukey method\n",
        "    \"\"\"\n",
        "    # iterate over features(columns)\n",
        "    for col in features:\n",
        "        Q1 = np.percentile(df[col], 25)\n",
        "        Q3 = np.percentile(df[col],75)\n",
        "        IQR = Q3 - Q1\n",
        "        \n",
        "        # outlier step\n",
        "        outlier_step = 1.5 * IQR\n",
        "        \n",
        "        # Determine a list of indices of outliers for feature col\n",
        "        outlier_list_col = df[(df[col] < Q1 - outlier_step) | (df[col] > Q3 + outlier_step )].index\n",
        "        \n",
        "        # append the found outlier indices for col to the list of outlier indices \n",
        "        outlier_indices.extend(outlier_list_col)\n",
        "        \n",
        "    # select observations containing more than 2 outliers\n",
        "    outlier_indices = Counter(outlier_indices)\n",
        "    multiple_outliers = list( k for k, v in outlier_indices.items() if v > n )\n",
        "    \n",
        "    return multiple_outliers   \n",
        "\n",
        "# detect outliers from numeric features\n",
        "outliers_to_drop = detect_outliers(df, 2 ,[\"Pregnancies\", 'Glucose', 'BloodPressure', 'BMI', 'DiabetesPedigreeFunction', 'SkinThickness', 'Insulin', 'Age'])"
      ],
      "metadata": {
        "execution": {
          "iopub.status.busy": "2021-11-30T05:02:10.731829Z",
          "iopub.execute_input": "2021-11-30T05:02:10.732225Z",
          "iopub.status.idle": "2021-11-30T05:02:10.752879Z",
          "shell.execute_reply.started": "2021-11-30T05:02:10.732179Z",
          "shell.execute_reply": "2021-11-30T05:02:10.752022Z"
        },
        "trusted": true,
        "id": "f-7Ll4a-7xBm"
      },
      "execution_count": null,
      "outputs": []
    },
    {
      "cell_type": "code",
      "source": [
        "df.loc[outliers_to_drop] # Show the outliers rows"
      ],
      "metadata": {
        "execution": {
          "iopub.status.busy": "2021-11-30T05:02:10.756229Z",
          "iopub.execute_input": "2021-11-30T05:02:10.756929Z",
          "iopub.status.idle": "2021-11-30T05:02:10.773859Z",
          "shell.execute_reply.started": "2021-11-30T05:02:10.756892Z",
          "shell.execute_reply": "2021-11-30T05:02:10.773274Z"
        },
        "trusted": true,
        "id": "U5gchIVy7xBm"
      },
      "execution_count": null,
      "outputs": []
    },
    {
      "cell_type": "code",
      "source": [
        "df.drop(df.loc[outliers_to_drop].index, inplace=True)"
      ],
      "metadata": {
        "execution": {
          "iopub.status.busy": "2021-11-30T05:02:10.775048Z",
          "iopub.execute_input": "2021-11-30T05:02:10.775712Z",
          "iopub.status.idle": "2021-11-30T05:02:10.782693Z",
          "shell.execute_reply.started": "2021-11-30T05:02:10.775675Z",
          "shell.execute_reply": "2021-11-30T05:02:10.781871Z"
        },
        "trusted": true,
        "id": "QhYDpfAw7xBn"
      },
      "execution_count": null,
      "outputs": []
    },
    {
      "cell_type": "markdown",
      "source": [
        "I have successfully removed all outliers from dataset now. The next step is to split the dataset in train and test and procceed the modeling"
      ],
      "metadata": {
        "id": "nIA6evox7xBn"
      }
    },
    {
      "cell_type": "markdown",
      "source": [
        "# Modeling"
      ],
      "metadata": {
        "id": "3lM70GKU7xBo"
      }
    },
    {
      "cell_type": "markdown",
      "source": [
        "# <font size=\"5\">Transforming Data</font>\n"
      ],
      "metadata": {
        "id": "OgjQVjy57xBo"
      }
    },
    {
      "cell_type": "markdown",
      "source": [
        "Before i split the dataset i need to transform the data into quantile using `sklearn.preprocessing`"
      ],
      "metadata": {
        "id": "3yUNGvXx7xBo"
      }
    },
    {
      "cell_type": "code",
      "source": [
        "q  = QuantileTransformer()\n",
        "X = q.fit_transform(df)\n",
        "transformedDF = q.transform(X)\n",
        "transformedDF = pd.DataFrame(X)\n",
        "transformedDF.columns =['Pregnancies', 'Glucose', 'BloodPressure', 'SkinThickness', 'Insulin', 'BMI', 'DiabetesPedigreeFunction', 'Age', 'Outcome']"
      ],
      "metadata": {
        "execution": {
          "iopub.status.busy": "2021-11-30T05:02:10.783812Z",
          "iopub.execute_input": "2021-11-30T05:02:10.784048Z",
          "iopub.status.idle": "2021-11-30T05:02:10.813369Z",
          "shell.execute_reply.started": "2021-11-30T05:02:10.784021Z",
          "shell.execute_reply": "2021-11-30T05:02:10.812548Z"
        },
        "trusted": true,
        "id": "HBt59zKA7xBp"
      },
      "execution_count": null,
      "outputs": []
    },
    {
      "cell_type": "code",
      "source": [
        "transformedDF.head()"
      ],
      "metadata": {
        "execution": {
          "iopub.status.busy": "2021-11-30T05:02:10.814496Z",
          "iopub.execute_input": "2021-11-30T05:02:10.814832Z",
          "iopub.status.idle": "2021-11-30T05:02:10.82934Z",
          "shell.execute_reply.started": "2021-11-30T05:02:10.814805Z",
          "shell.execute_reply": "2021-11-30T05:02:10.828683Z"
        },
        "trusted": true,
        "id": "pB7Pz8HF7xBp"
      },
      "execution_count": null,
      "outputs": []
    },
    {
      "cell_type": "markdown",
      "source": [
        "# <font size=\"5\">Data Splitting</font>\n"
      ],
      "metadata": {
        "id": "nhCGN0i07xBp"
      }
    },
    {
      "cell_type": "code",
      "source": [
        "## Separate train dataset and test dataset\n",
        "features = df.drop([\"Outcome\"], axis=1)\n",
        "labels = df[\"Outcome\"]\n",
        "x_train, x_test, y_train, y_test = train_test_split(features, labels, test_size=0.30, random_state=7)"
      ],
      "metadata": {
        "execution": {
          "iopub.status.busy": "2021-11-30T05:02:10.83033Z",
          "iopub.execute_input": "2021-11-30T05:02:10.83058Z",
          "iopub.status.idle": "2021-11-30T05:02:10.838031Z",
          "shell.execute_reply.started": "2021-11-30T05:02:10.830551Z",
          "shell.execute_reply": "2021-11-30T05:02:10.837252Z"
        },
        "trusted": true,
        "id": "CD8bESNJ7xBq"
      },
      "execution_count": null,
      "outputs": []
    },
    {
      "cell_type": "markdown",
      "source": [
        "# <font size=\"5\">Cross Validate Models</font>\n"
      ],
      "metadata": {
        "id": "3nzxc84y7xBq"
      }
    },
    {
      "cell_type": "code",
      "source": [
        "def evaluate_model(models):\n",
        "    \"\"\"\n",
        "    Takes a list of models and returns chart of cross validation scores using mean accuracy\n",
        "    \"\"\"\n",
        "    \n",
        "    # Cross validate model with Kfold stratified cross val\n",
        "    kfold = StratifiedKFold(n_splits = 10)\n",
        "    \n",
        "    result = []\n",
        "    for model in models :\n",
        "        result.append(cross_val_score(estimator = model, X = x_train, y = y_train, scoring = \"accuracy\", cv = kfold, n_jobs=4))\n",
        "\n",
        "    cv_means = []\n",
        "    cv_std = []\n",
        "    for cv_result in result:\n",
        "        cv_means.append(cv_result.mean())\n",
        "        cv_std.append(cv_result.std())\n",
        "\n",
        "    result_df = pd.DataFrame({\n",
        "        \"CrossValMeans\":cv_means,\n",
        "        \"CrossValerrors\": cv_std,\n",
        "        \"Models\":[\n",
        "            \"LogisticRegression\",\n",
        "            \"DecisionTreeClassifier\",\n",
        "            \"AdaBoostClassifier\",\n",
        "            \"SVC\",\n",
        "            \"RandomForestClassifier\",\n",
        "            \"GradientBoostingClassifier\",\n",
        "            \"KNeighborsClassifier\"\n",
        "        ]\n",
        "    })\n",
        "\n",
        "    # Generate chart\n",
        "    bar = sns.barplot(x = \"CrossValMeans\", y = \"Models\", data = result_df, orient = \"h\")\n",
        "    bar.set_xlabel(\"Mean Accuracy\")\n",
        "    bar.set_title(\"Cross validation scores\")\n",
        "    return result_df"
      ],
      "metadata": {
        "execution": {
          "iopub.status.busy": "2021-11-30T05:02:10.839116Z",
          "iopub.execute_input": "2021-11-30T05:02:10.839338Z",
          "iopub.status.idle": "2021-11-30T05:02:10.850013Z",
          "shell.execute_reply.started": "2021-11-30T05:02:10.839311Z",
          "shell.execute_reply": "2021-11-30T05:02:10.849461Z"
        },
        "trusted": true,
        "id": "aJjIPF3V7xBr"
      },
      "execution_count": null,
      "outputs": []
    },
    {
      "cell_type": "code",
      "source": [
        "# Modeling step Test differents algorithms \n",
        "random_state = 30\n",
        "models = [\n",
        "    LogisticRegression(random_state = random_state, solver='liblinear'),\n",
        "    DecisionTreeClassifier(random_state = random_state),\n",
        "    AdaBoostClassifier(DecisionTreeClassifier(random_state = random_state), random_state = random_state, learning_rate = 0.2),\n",
        "    SVC(random_state = random_state),\n",
        "    RandomForestClassifier(random_state = random_state),\n",
        "    GradientBoostingClassifier(random_state = random_state),\n",
        "    KNeighborsClassifier(),\n",
        "]\n",
        "evaluate_model(models)"
      ],
      "metadata": {
        "execution": {
          "iopub.status.busy": "2021-11-30T05:02:10.851856Z",
          "iopub.execute_input": "2021-11-30T05:02:10.852193Z",
          "iopub.status.idle": "2021-11-30T05:02:15.409062Z",
          "shell.execute_reply.started": "2021-11-30T05:02:10.852153Z",
          "shell.execute_reply": "2021-11-30T05:02:15.408023Z"
        },
        "trusted": true,
        "id": "Vle9NQkp7xBr"
      },
      "execution_count": null,
      "outputs": []
    },
    {
      "cell_type": "markdown",
      "source": [
        "As per above observation, i found that SVC, RandomForestClassifier, and LogisticRegression model has more accuracy. Next, i will do hyper parameter tuning on three models"
      ],
      "metadata": {
        "id": "MXao9mBN7xBs"
      }
    },
    {
      "cell_type": "markdown",
      "source": [
        "# Hyperparameter Tuning"
      ],
      "metadata": {
        "id": "Vz5wY86y7xBs"
      }
    },
    {
      "cell_type": "markdown",
      "source": [
        "Hyperparameter tuning is choosing a set of optimal hyperparameters for a learning algorithm. A hyperparameter is a model argument whose value is set before the learning process begins. The key to machine learning algorithms is hyperparameter tuning.\n",
        "\n",
        "I have done tuning process for SVC, RandomForestClassifier, and LogisticRegression models one by one"
      ],
      "metadata": {
        "id": "uYe3QAMZ7xBs"
      }
    },
    {
      "cell_type": "code",
      "source": [
        "# Import libraries\n",
        "from sklearn.model_selection import GridSearchCV\n",
        "from sklearn.metrics import classification_report"
      ],
      "metadata": {
        "execution": {
          "iopub.status.busy": "2021-11-30T05:02:15.410722Z",
          "iopub.execute_input": "2021-11-30T05:02:15.410967Z",
          "iopub.status.idle": "2021-11-30T05:02:15.416032Z",
          "shell.execute_reply.started": "2021-11-30T05:02:15.410933Z",
          "shell.execute_reply": "2021-11-30T05:02:15.415231Z"
        },
        "trusted": true,
        "id": "_gRATU457xBs"
      },
      "execution_count": null,
      "outputs": []
    },
    {
      "cell_type": "code",
      "source": [
        "def analyze_grid_result(grid_result):\n",
        "    '''\n",
        "    Analysis of GridCV result and predicting with test dataset\n",
        "    Show classification report at last\n",
        "    '''\n",
        "\n",
        "    # Best parameters and accuracy\n",
        "    print(\"Tuned hyperparameters: (best parameters) \", grid_result.best_params_)\n",
        "    print(\"Accuracy :\", grid_result.best_score_)\n",
        "    \n",
        "    means = grid_result.cv_results_[\"mean_test_score\"]\n",
        "    stds = grid_result.cv_results_[\"std_test_score\"]\n",
        "    for mean, std, params in zip(means, stds, grid_result.cv_results_[\"params\"]):\n",
        "        print(\"%0.3f (+/-%0.03f) for %r\" % (mean, std * 2, params))\n",
        "    print()\n",
        "\n",
        "    print(\"Detailed classification report:\")\n",
        "    print()\n",
        "    y_true, y_pred = y_test, grid_result.predict(x_test)\n",
        "    print(classification_report(y_true, y_pred))\n",
        "    print()"
      ],
      "metadata": {
        "execution": {
          "iopub.status.busy": "2021-11-30T05:02:15.417758Z",
          "iopub.execute_input": "2021-11-30T05:02:15.418328Z",
          "iopub.status.idle": "2021-11-30T05:02:15.431805Z",
          "shell.execute_reply.started": "2021-11-30T05:02:15.418284Z",
          "shell.execute_reply": "2021-11-30T05:02:15.430408Z"
        },
        "trusted": true,
        "id": "6495tw9O7xBt"
      },
      "execution_count": null,
      "outputs": []
    },
    {
      "cell_type": "markdown",
      "source": [
        "First of all i have imported GridSearchCV and classification_report from sklearn library. Then, i have defined `analyze_grid_result` method which will show prediction result. I called this method for each Model used in SearchCV"
      ],
      "metadata": {
        "id": "gk8txIF37xBt"
      }
    },
    {
      "cell_type": "markdown",
      "source": [
        "# <font size=\"5\">LogisticRegression</font>"
      ],
      "metadata": {
        "id": "VxHjHIbr7xBu"
      }
    },
    {
      "cell_type": "code",
      "source": [
        "# Define models and parameters for LogisticRegression\n",
        "model = LogisticRegression(solver='liblinear')\n",
        "solvers = ['newton-cg', 'liblinear']\n",
        "penalty = ['l2']\n",
        "c_values = [100, 10, 1.0, 0.1, 0.01]\n",
        "\n",
        "# Define grid search\n",
        "grid = dict(solver = solvers, penalty = penalty, C = c_values)\n",
        "cv = StratifiedKFold(n_splits = 50, random_state = 1, shuffle = True)\n",
        "grid_search = GridSearchCV(estimator = model, param_grid = grid, cv = cv, scoring = 'accuracy', error_score = 0)\n",
        "logi_result = grid_search.fit(x_train, y_train)\n",
        "\n",
        "# Logistic Regression Hyperparameter Result\n",
        "analyze_grid_result(logi_result)"
      ],
      "metadata": {
        "execution": {
          "iopub.status.busy": "2021-11-30T05:02:15.43329Z",
          "iopub.execute_input": "2021-11-30T05:02:15.433532Z",
          "iopub.status.idle": "2021-11-30T05:02:29.424574Z",
          "shell.execute_reply.started": "2021-11-30T05:02:15.433503Z",
          "shell.execute_reply": "2021-11-30T05:02:29.423847Z"
        },
        "trusted": true,
        "id": "C_rmoX1v7xBu"
      },
      "execution_count": null,
      "outputs": []
    },
    {
      "cell_type": "markdown",
      "source": [
        "As per my obversation, in LogisticRegression it returned best score 0.78 with `{'C': 10, 'penalty': 'l2', 'solver': 'liblinear'}` parameters. Next i will perform tuning for other models."
      ],
      "metadata": {
        "id": "0ss-WXEY7xBu"
      }
    },
    {
      "cell_type": "markdown",
      "source": [
        "# <font size=\"5\">SVC</font>"
      ],
      "metadata": {
        "id": "9YnVd10l7xBv"
      }
    },
    {
      "cell_type": "code",
      "source": [
        "# Define models and parameters for LogisticRegression\n",
        "model = SVC()\n",
        "\n",
        "# Define grid search\n",
        "tuned_parameters = [\n",
        "    {\"kernel\": [\"rbf\"], \"gamma\": [1e-3, 1e-4], \"C\": [1, 10, 100, 1000]},\n",
        "    {\"kernel\": [\"linear\"], \"C\": [1, 10, 100, 1000]},\n",
        "]\n",
        "cv = StratifiedKFold(n_splits = 2, random_state = 1, shuffle = True)\n",
        "grid_search = GridSearchCV(estimator = model, param_grid = tuned_parameters, cv = cv, scoring = 'accuracy', error_score = 0)\n",
        "scv_result = grid_search.fit(x_train, y_train)\n",
        "\n",
        "# SVC Hyperparameter Result\n",
        "analyze_grid_result(scv_result)"
      ],
      "metadata": {
        "execution": {
          "iopub.status.busy": "2021-11-30T05:02:29.425716Z",
          "iopub.execute_input": "2021-11-30T05:02:29.425962Z",
          "iopub.status.idle": "2021-11-30T05:06:13.75342Z",
          "shell.execute_reply.started": "2021-11-30T05:02:29.425933Z",
          "shell.execute_reply": "2021-11-30T05:06:13.752572Z"
        },
        "trusted": true,
        "id": "cmINP7O17xBv"
      },
      "execution_count": null,
      "outputs": []
    },
    {
      "cell_type": "markdown",
      "source": [
        "SVC Model gave max 0.77 accuracy which is bit less than LogisticRegression. I will not use this model anymore."
      ],
      "metadata": {
        "id": "hTISPg9c7xBw"
      }
    },
    {
      "cell_type": "markdown",
      "source": [
        "# <font size=\"5\">RandomForestClassifier</font>"
      ],
      "metadata": {
        "id": "oegdqcMk7xBw"
      }
    },
    {
      "cell_type": "code",
      "source": [
        "# Define models and parameters for LogisticRegression\n",
        "model = RandomForestClassifier(random_state=42)\n",
        "\n",
        "\n",
        "# Define grid search\n",
        "tuned_parameters = { \n",
        "    'n_estimators': [200, 500],\n",
        "    'max_features': ['auto', 'sqrt', 'log2'],\n",
        "    'max_depth' : [4,5,6,7,8],\n",
        "    'criterion' :['gini', 'entropy']\n",
        "}\n",
        "cv = StratifiedKFold(n_splits = 2, random_state = 1, shuffle = True)\n",
        "grid_search = GridSearchCV(estimator = model, param_grid = tuned_parameters, cv = cv, scoring = 'accuracy', error_score = 0)\n",
        "grid_result = grid_search.fit(x_train, y_train)\n",
        "\n",
        "# SVC Hyperparameter Result\n",
        "analyze_grid_result(grid_result)"
      ],
      "metadata": {
        "execution": {
          "iopub.status.busy": "2021-11-30T05:06:13.754831Z",
          "iopub.execute_input": "2021-11-30T05:06:13.755146Z",
          "iopub.status.idle": "2021-11-30T05:07:42.421184Z",
          "shell.execute_reply.started": "2021-11-30T05:06:13.755112Z",
          "shell.execute_reply": "2021-11-30T05:07:42.420293Z"
        },
        "trusted": true,
        "id": "0Hs91JWc7xBw"
      },
      "execution_count": null,
      "outputs": []
    },
    {
      "cell_type": "markdown",
      "source": [
        "Randomforest model gave max 0.76% accuracy which is not best comparing to other model. So i decided to use LogisticRegression Model for prediction"
      ],
      "metadata": {
        "id": "kPOgUNwm7xBx"
      }
    },
    {
      "cell_type": "markdown",
      "source": [
        "# Prediction"
      ],
      "metadata": {
        "id": "HeOjTEjd7xBx"
      }
    },
    {
      "cell_type": "markdown",
      "source": [
        "Till now, i worked on EDA, Feature Engineering, Cross Validation of Models, and Hyperparameter Tuning and find the best working Model for my dataset. Next, I did prediction from my test dataset and storing the result in CSV"
      ],
      "metadata": {
        "id": "EiqkCWVh7xBx"
      }
    },
    {
      "cell_type": "code",
      "source": [
        "y_pred = logi_result.predict(x_test)\n",
        "print(classification_report(y_test, y_pred))"
      ],
      "metadata": {
        "execution": {
          "iopub.status.busy": "2021-11-30T05:13:30.552375Z",
          "iopub.execute_input": "2021-11-30T05:13:30.552701Z",
          "iopub.status.idle": "2021-11-30T05:13:30.565907Z",
          "shell.execute_reply.started": "2021-11-30T05:13:30.552668Z",
          "shell.execute_reply": "2021-11-30T05:13:30.564984Z"
        },
        "trusted": true,
        "id": "uoL9mSpW7xBx"
      },
      "execution_count": null,
      "outputs": []
    },
    {
      "cell_type": "code",
      "source": [
        "x_test['pred'] = y_pred\n",
        "x_test"
      ],
      "metadata": {
        "execution": {
          "iopub.status.busy": "2021-11-30T05:13:41.748847Z",
          "iopub.execute_input": "2021-11-30T05:13:41.749527Z",
          "iopub.status.idle": "2021-11-30T05:13:41.773881Z",
          "shell.execute_reply.started": "2021-11-30T05:13:41.749493Z",
          "shell.execute_reply": "2021-11-30T05:13:41.77278Z"
        },
        "trusted": true,
        "id": "U3pr4qu17xBy"
      },
      "execution_count": null,
      "outputs": []
    },
    {
      "cell_type": "markdown",
      "source": [
        "Please upvote and share my notebook if you find it useful - It keeps me motivated :)"
      ],
      "metadata": {
        "id": "Gxj5L-Wm7xBy"
      }
    }
  ]
}