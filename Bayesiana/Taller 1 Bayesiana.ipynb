{
 "cells": [
  {
   "cell_type": "markdown",
   "id": "8f2d6585-4b6e-489e-b0e4-93af0a1650fb",
   "metadata": {},
   "source": [
    "Taller Bayesiana 1."
   ]
  },
  {
   "cell_type": "code",
   "execution_count": 3,
   "id": "bb928ed0-4533-4e0c-ae80-89c7810dffc1",
   "metadata": {},
   "outputs": [],
   "source": [
    "##librerias\n",
    "import pandas as pd\n",
    "import matplotlib.pyplot as plt\n",
    "import scipy.stats as ss\n",
    "import numpy as np\n",
    "import seaborn as sns"
   ]
  },
  {
   "cell_type": "markdown",
   "id": "13c52cf1-b8c3-4bf5-ac91-bb1360764ab8",
   "metadata": {},
   "source": [
    "1.Suponga que si $\\theta$=i, entonces y tiene una distribución Normal con media i y desviación estándar $\\sigma$, para $i=1,2$. Además, suponga que $Pr(\\theta=1)=Pr(\\theta=2)=0.5$."
   ]
  },
  {
   "cell_type": "markdown",
   "id": "efe839b0-1d7b-4e51-8d46-ccf473a79644",
   "metadata": {},
   "source": [
    " a)Escriba una expresión general para la densidad marginal de y y dibújela para $\\sigma=2$"
   ]
  },
  {
   "cell_type": "markdown",
   "id": "3307b0a0-5934-4994-87f1-f7df177278dc",
   "metadata": {},
   "source": [
    " la densidad marginal sera $p(y)=0.5p(y|\\theta=1,\\sigma=2)+0.5p(y|\\theta=2,\\sigma=2)$"
   ]
  },
  {
   "cell_type": "code",
   "execution_count": 32,
   "id": "81ab2699-26d6-4c64-9056-0982717035e8",
   "metadata": {},
   "outputs": [
    {
     "data": {
      "image/png": "[encoded data removed]",
      "text/plain": [
       "<Figure size 432x288 with 1 Axes>"
      ]
     },
     "metadata": {},
     "output_type": "display_data"
    }
   ],
   "source": [
    "np.random.seed(1)\n",
    "normal1=np.random.normal(1,2,10000)\n",
    "normal2=np.random.normal(2,2,10000)\n",
    "normalTotal=0.5*(normal1+normal2)\n",
    "\n",
    "    ##sns.set_style('darkgrid')\n",
    "    ##sns.displot(normalTotal,kde=True)\n",
    "\n",
    "grafico=plt.hist(normalTotal,density=True)"
   ]
  },
  {
   "cell_type": "markdown",
   "id": "9a66fbb0-6013-404f-b859-a17129bb2169",
   "metadata": {},
   "source": [
    " b)Calcule $Pr(\\theta=1|y=1)$ y $Pr(\\theta=2|y=1)$ para $\\sigma=2$."
   ]
  },
  {
   "cell_type": "markdown",
   "id": "1e48b392-d511-413b-8c04-230d5d4fbebe",
   "metadata": {},
   "source": [
    "$Pr(\\theta=1|y=1)=\\frac{Pr(y=1|\\theta=1)*p(\\theta=1)}{p(y=1)}=\\frac{0.5*0.1994}{0.18775}=0.5312$\\\\\n"
   ]
  },
  {
   "cell_type": "code",
   "execution_count": 27,
   "id": "ba1d75de-e501-4eae-bc61-c4a1034d1ef1",
   "metadata": {},
   "outputs": [
    {
     "name": "stdout",
     "output_type": "stream",
     "text": [
      "0.19947114020071635 0.18775190179143306 0.5312093733737563\n"
     ]
    }
   ],
   "source": [
    "densidad1= ss.norm.pdf(1,loc=1,scale=2)\n",
    "py1=0.5*ss.norm.pdf(1,loc=1,scale=2)+0.5*ss.norm.pdf(1,loc=2,scale=2)\n",
    "prob1=(densidad1*0.5)/py1\n",
    "\n",
    "print(densidad1,py1,prob1)\n"
   ]
  },
  {
   "cell_type": "code",
   "execution_count": 28,
   "id": "10f6931d-dde4-4738-b12b-dd06903aeaca",
   "metadata": {},
   "outputs": [
    {
     "name": "stdout",
     "output_type": "stream",
     "text": [
      "0.17603266338214976 0.18775190179143306 0.46879062662624377\n"
     ]
    }
   ],
   "source": [
    "densidad2= ss.norm.pdf(1,loc=2,scale=2)\n",
    "py2=0.5*ss.norm.pdf(1,loc=1,scale=2)+0.5*ss.norm.pdf(1,loc=2,scale=2)\n",
    "prob2=(densidad2*0.5)/py2\n",
    "\n",
    "print(densidad2,py2,prob2)"
   ]
  }
 ],
 "metadata": {
  "kernelspec": {
   "display_name": "Python 3 (ipykernel)",
   "language": "python",
   "name": "python3"
  },
  "language_info": {
   "codemirror_mode": {
    "name": "ipython",
    "version": 3
   },
   "file_extension": ".py",
   "mimetype": "text/x-python",
   "name": "python",
   "nbconvert_exporter": "python",
   "pygments_lexer": "ipython3",
   "version": "3.10.4"
  }
 },
 "nbformat": 4,
 "nbformat_minor": 5
}
