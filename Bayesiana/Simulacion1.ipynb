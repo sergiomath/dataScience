{
 "cells": [
  {
   "cell_type": "code",
   "execution_count": 3,
   "id": "9bedc2a7-b156-4327-a111-e84192399c0a",
   "metadata": {},
   "outputs": [],
   "source": [
    "import numpy as np\n",
    "import matplotlib.pyplot as plt\n",
    "import pandas as pd\n",
    "from tabulate import tabulate\n",
    "import math"
   ]
  },
  {
   "cell_type": "code",
   "execution_count": 4,
   "id": "8f15c0f9-fab9-4ac8-9bf1-a29d8aa4a509",
   "metadata": {},
   "outputs": [
    {
     "name": "stdout",
     "output_type": "stream",
     "text": [
      "  y     Sim        Exact         Diff\n",
      "---  ------  -----------  -----------\n",
      "  0  0.5039  0.5          0.0039\n",
      "  1  0.2432  0.25         0.0068\n",
      "  2  0.123   0.125        0.002\n",
      "  3  0.0672  0.0625       0.0047\n",
      "  4  0.0312  0.03125      5e-05\n",
      "  5  0.0157  0.015625     7.5e-05\n",
      "  6  0.0082  0.0078125    0.0003875\n",
      "  7  0.0034  0.00390625   0.00050625\n",
      "  8  0.0017  0.00195312   0.000253125\n",
      "  9  0.0012  0.000976562  0.000223438\n",
      " 10  0.0005  0.000488281  1.17188e-05\n",
      " 11  0.0001  0.000244141  0.000144141\n",
      " 12  0.0005  0.00012207   0.00037793\n",
      " 13  0.0001  6.10352e-05  3.89648e-05\n",
      " 14  0.0001  3.05176e-05  6.94824e-05\n"
     ]
    }
   ],
   "source": [
    "##Hiperparámetros\n",
    "np.random.seed(1234)\n",
    "N=10000\n",
    "lambda_cons=1\n",
    "\n",
    "xSim=np.random.exponential(scale=lambda_cons,size=N)\n",
    "ySim=np.random.poisson(lam=xSim,size=N)\n",
    "pySimTotal=np.unique(ySim,return_counts=True)\n",
    "pySim=pySimTotal[1][:]*(1/N)\n",
    "pyExact=list(map(lambda y:lambda_cons/((lambda_cons+1)**(y+1)),pySimTotal[0]))\n",
    "diff=np.abs(pySim-pyExact)\n",
    "mostrar=np.vstack( [pySimTotal[0],pySim,pyExact,diff])\n",
    "print(tabulate(np.transpose(mostrar),headers=[\"y\",\"Sim\",\"Exact\",\"Diff\"]))"
   ]
  },
  {
   "cell_type": "code",
   "execution_count": 29,
   "id": "d807dd72-d208-4f9d-8f04-6580394ffe8a",
   "metadata": {},
   "outputs": [
    {
     "data": {
      "image/png": "[encoded data removed]",
      "text/plain": [
       "<Figure size 432x288 with 1 Axes>"
      ]
     },
     "metadata": {
      "needs_background": "light"
     },
     "output_type": "display_data"
    }
   ],
   "source": [
    "width=0.4\n",
    "plt.bar(pySimTotal[0],pySim,width=width,label='Simulacion')\n",
    "plt.bar(pySimTotal[0]+width,pyExact,width=width,label='Exacta')\n",
    "plt.xticks()\n",
    "plt.legend(loc='best')\n",
    "plt.xlabel(r'$\\theta$')\n",
    "plt.ylabel(r'$p(\\theta)$')\n",
    "plt.show()"
   ]
  },
  {
   "cell_type": "code",
   "execution_count": null,
   "id": "0204baec-188e-4a16-871e-41451c800101",
   "metadata": {},
   "outputs": [],
   "source": []
  },
  {
   "cell_type": "code",
   "execution_count": null,
   "id": "f7aaaced-05b8-43cc-9359-6bc6ab3fcd29",
   "metadata": {},
   "outputs": [],
   "source": []
  }
 ],
 "metadata": {
  "kernelspec": {
   "display_name": "Python 3 (ipykernel)",
   "language": "python",
   "name": "python3"
  },
  "language_info": {
   "codemirror_mode": {
    "name": "ipython",
    "version": 3
   },
   "file_extension": ".py",
   "mimetype": "text/x-python",
   "name": "python",
   "nbconvert_exporter": "python",
   "pygments_lexer": "ipython3",
   "version": "3.10.4"
  }
 },
 "nbformat": 4,
 "nbformat_minor": 5
}
