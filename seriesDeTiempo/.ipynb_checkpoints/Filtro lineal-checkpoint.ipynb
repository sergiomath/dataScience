{
 "cells": [
  {
   "cell_type": "markdown",
   "id": "ebe5b88d-7b94-4209-aee5-6c459ae084a1",
   "metadata": {},
   "source": [
    "# Filtro lineal Invariante"
   ]
  },
  {
   "cell_type": "markdown",
   "id": "598e3d97-2e01-4b97-b15e-4e610b42e525",
   "metadata": {},
   "source": [
    "$$X_t = \\sum^k_{j=-k}a_jZ_{t-j}$$"
   ]
  },
  {
   "cell_type": "code",
   "execution_count": 1,
   "id": "dec15157-4225-4746-bf16-ed9a041248b3",
   "metadata": {},
   "outputs": [],
   "source": [
    "import numpy as np"
   ]
  },
  {
   "cell_type": "code",
   "execution_count": 9,
   "id": "85f2859c-80e4-46e1-b19f-02ff9a3d6ca1",
   "metadata": {},
   "outputs": [
    {
     "name": "stdout",
     "output_type": "stream",
     "text": [
      "[ 0.16608544  0.78196448  0.85228509 -0.70707096 -0.93165719]\n",
      "[0.9117634  0.26075656 0.76637602]\n"
     ]
    },
    {
     "data": {
      "text/plain": [
       "array([0.78196448, 0.85228509])"
      ]
     },
     "execution_count": 9,
     "metadata": {},
     "output_type": "execute_result"
    }
   ],
   "source": [
    "np.random.seed(314)\n",
    "mu=0\n",
    "sigma=1\n",
    "n=5\n",
    "k=1\n",
    "\n",
    "#################################\n",
    "zt=np.random.normal(mu,sigma,n)\n",
    "print(zt)\n",
    "ak=np.random.rand(2*k+1)\n",
    "print(ak)\n",
    "ak[0]\n",
    "########################################\n",
    "zt[:3]\n",
    "#xt=ak*"
   ]
  }
 ],
 "metadata": {
  "kernelspec": {
   "display_name": "Python 3 (ipykernel)",
   "language": "python",
   "name": "python3"
  },
  "language_info": {
   "codemirror_mode": {
    "name": "ipython",
    "version": 3
   },
   "file_extension": ".py",
   "mimetype": "text/x-python",
   "name": "python",
   "nbconvert_exporter": "python",
   "pygments_lexer": "ipython3",
   "version": "3.10.4"
  }
 },
 "nbformat": 4,
 "nbformat_minor": 5
}
