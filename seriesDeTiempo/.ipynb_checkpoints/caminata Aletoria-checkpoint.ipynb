{
 "cells": [
  {
   "cell_type": "markdown",
   "id": "e24083c8-ed84-4330-8e66-a6252a53f7c7",
   "metadata": {},
   "source": [
    "# Caminata aletoria"
   ]
  },
  {
   "cell_type": "code",
   "execution_count": 59,
   "id": "378f97ca-3b11-4c8b-84be-06e4e5038638",
   "metadata": {},
   "outputs": [],
   "source": [
    "import numpy as np \n",
    "import matplotlib.pyplot as plt"
   ]
  },
  {
   "cell_type": "code",
   "execution_count": 122,
   "id": "5bbdd914-dfd9-4d76-aba6-b642ec6c1405",
   "metadata": {},
   "outputs": [],
   "source": [
    "np.random.seed(1)\n",
    "mu=0\n",
    "sigma=2\n",
    "m=3 ##realizaciones de la variable\n",
    "t=50 ## número de variables aleatorias\n",
    "datos=np.random.normal(mu,sigma,size=(t,m))"
   ]
  },
  {
   "cell_type": "code",
   "execution_count": 123,
   "id": "d4597650-82e1-480e-9bf7-817cb0a7ffdf",
   "metadata": {},
   "outputs": [],
   "source": [
    "st=datos.cumsum(0) # acumulamos la variable"
   ]
  },
  {
   "cell_type": "code",
   "execution_count": 125,
   "id": "4fdff243-f6a7-47e9-a943-57ab23b7ab00",
   "metadata": {},
   "outputs": [
    {
     "data": {
      "text/plain": [
       "[<matplotlib.lines.Line2D at 0x7f2762949cc0>]"
      ]
     },
     "execution_count": 125,
     "metadata": {},
     "output_type": "execute_result"
    },
    {
     "data": {
      "image/png": "[encoded data removed]",
      "text/plain": [
       "<Figure size 432x288 with 1 Axes>"
      ]
     },
     "metadata": {
      "needs_background": "light"
     },
     "output_type": "display_data"
    }
   ],
   "source": [
    "x=np.arange(0,t+0.1,0.5).astype(int)\n",
    "y=datos[:,1]\n",
    "funSt=[0]\n",
    "for i in datos[:,1] :\n",
    "    funSt.append(i)\n",
    "    funSt.append(i)\n",
    "plt.plot(x,funSt)"
   ]
  },
  {
   "cell_type": "code",
   "execution_count": null,
   "id": "84dc14c9-9b19-4bbb-928e-79cf16cc08cf",
   "metadata": {},
   "outputs": [],
   "source": []
  }
 ],
 "metadata": {
  "kernelspec": {
   "display_name": "Python 3 (ipykernel)",
   "language": "python",
   "name": "python3"
  },
  "language_info": {
   "codemirror_mode": {
    "name": "ipython",
    "version": 3
   },
   "file_extension": ".py",
   "mimetype": "text/x-python",
   "name": "python",
   "nbconvert_exporter": "python",
   "pygments_lexer": "ipython3",
   "version": "3.10.4"
  }
 },
 "nbformat": 4,
 "nbformat_minor": 5
}
