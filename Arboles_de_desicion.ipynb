{
  "nbformat": 4,
  "nbformat_minor": 0,
  "metadata": {
    "colab": {
      "provenance": [],
      "authorship_tag": "ABX9TyPagypB/vlF5dGv3vrngVtE",
      "include_colab_link": true
    },
    "kernelspec": {
      "name": "python3",
      "display_name": "Python 3"
    },
    "language_info": {
      "name": "python"
    }
  },
  "cells": [
    {
      "cell_type": "markdown",
      "metadata": {
        "id": "view-in-github",
        "colab_type": "text"
      },
      "source": [
        "<a href=\"https://colab.research.google.com/github/sergiomath/dataScience/blob/main/Arboles_de_desicion.ipynb\" target=\"_parent\"><img src=\"https://colab.research.google.com/assets/colab-badge.svg\" alt=\"Open In Colab\"/></a>"
      ]
    },
    {
      "cell_type": "code",
      "execution_count": 1,
      "metadata": {
        "id": "8I0CzEEcPH5v"
      },
      "outputs": [],
      "source": [
        "import os \n",
        "import numpy as np \n",
        "import pandas as pd \n",
        "import seaborn as sns \n",
        "import matplotlib.pyplot as plt \n",
        "from sklearn.model_selection import train_test_split\n",
        "from sklearn.tree import DecisionTreeClassifier\n",
        "from sklearn.tree import export_graphviz\n",
        "from sklearn.model_selection import KFold\n",
        "from sklearn.model_selection import cross_val_score\n",
        "from graphviz  import Source"
      ]
    },
    {
      "cell_type": "code",
      "source": [
        "##Importamos desde github\n",
        "\n",
        "df = pd.read_csv(\"https://raw.githubusercontent.com/sergiomath/dataScience/main/Proyectos/Diabetes/diabetes.csv\")"
      ],
      "metadata": {
        "id": "cHQH-mWfRDK9"
      },
      "execution_count": 2,
      "outputs": []
    },
    {
      "cell_type": "code",
      "source": [
        "###Quitamos ceros de las columnas por su media o su mediana(imputacion de datos BASICA) #####\n",
        "\n",
        "df['Glucose'] = df['Glucose'].replace(0,df['Glucose'].median()) ##Remmplazamos los 0 en glucosa por la media \n",
        "\n",
        "df['BloodPressure'] = df['BloodPressure'].replace(0,df['BloodPressure'].median()) ##reemplazamos con la mediana\n",
        "\n",
        "df['BMI'] = df['BMI'].replace(0, df['BMI'].median())##reemplazamos con la mediana\n",
        "\n",
        "df['SkinThickness'] = df['SkinThickness'].replace(0, df['SkinThickness'].median())##reemplazamos con la mediana\n",
        "\n",
        "df['Insulin'] = df['Insulin'].replace(0, df['Insulin'].median())##reemplazamos con la mediana"
      ],
      "metadata": {
        "id": "d5i3rbkDQHJQ"
      },
      "execution_count": 3,
      "outputs": []
    },
    {
      "cell_type": "code",
      "source": [
        "colnames=df.columns.values.tolist()\n",
        "colnames\n",
        "predictores=colnames[:8]\n",
        "objetivo=colnames[8]"
      ],
      "metadata": {
        "id": "7K6rl9w1YHnq"
      },
      "execution_count": 4,
      "outputs": []
    },
    {
      "cell_type": "code",
      "source": [
        "###### particionado del dataset######\n",
        "df['is_train']=np.random.uniform(0,1,len(df))<=0.75\n",
        "train,test=df[df['is_train']==True],df[df['is_train']==False]"
      ],
      "metadata": {
        "id": "VycrZPH7ftTP"
      },
      "execution_count": 5,
      "outputs": []
    },
    {
      "cell_type": "code",
      "source": [
        "Entre_val, prueba, Entre_val_clase, prueba_clase = train_test_split(\n",
        "    df[[\"Pregnancies\",\"Glucose\",\"BloodPressure\",\"SkinThickness\",\"Insulin\",\n",
        "        \"BMI\",\"DiabetesPedigreeFunction\",\"Age\"]],\n",
        "    df[[\"Outcome\"]],\n",
        "    test_size= 0.25,\n",
        "    random_state= 4\n",
        ")"
      ],
      "metadata": {
        "id": "yq_CxEgrYHqP"
      },
      "execution_count": 6,
      "outputs": []
    },
    {
      "cell_type": "code",
      "source": [
        "arbol=DecisionTreeClassifier(criterion='entropy',random_state=99,min_samples_leaf=6,max_depth=6)\n",
        "arbol.fit(train[predictores],train[objetivo]) "
      ],
      "metadata": {
        "colab": {
          "base_uri": "https://localhost:8080/"
        },
        "id": "Vml5pZFeYHsp",
        "outputId": "37dd1335-fa7c-45eb-a3d7-3a13a218ecea"
      },
      "execution_count": 7,
      "outputs": [
        {
          "output_type": "execute_result",
          "data": {
            "text/plain": [
              "DecisionTreeClassifier(criterion='entropy', max_depth=6, min_samples_leaf=6,\n",
              "                       random_state=99)"
            ]
          },
          "metadata": {},
          "execution_count": 7
        }
      ]
    },
    {
      "cell_type": "code",
      "source": [
        "predicciones=arbol.predict(test[predictores])"
      ],
      "metadata": {
        "id": "stQnUBYvlT5E"
      },
      "execution_count": 8,
      "outputs": []
    },
    {
      "cell_type": "code",
      "source": [
        "pd.crosstab(test[objetivo],predicciones,rownames=['Actual'],colnames=['Predicciones'])"
      ],
      "metadata": {
        "colab": {
          "base_uri": "https://localhost:8080/",
          "height": 143
        },
        "id": "GcjxTYOUlhSn",
        "outputId": "813d8158-bbf3-4daa-9d3b-b1a8e8440bbf"
      },
      "execution_count": 9,
      "outputs": [
        {
          "output_type": "execute_result",
          "data": {
            "text/plain": [
              "Predicciones   0   1\n",
              "Actual              \n",
              "0             80  33\n",
              "1             19  40"
            ],
            "text/html": [
              "\n",
              "  <div id=\"df-9569230f-840d-452e-b1f4-1178b2800cd7\">\n",
              "    <div class=\"colab-df-container\">\n",
              "      <div>\n",
              "<style scoped>\n",
              "    .dataframe tbody tr th:only-of-type {\n",
              "        vertical-align: middle;\n",
              "    }\n",
              "\n",
              "    .dataframe tbody tr th {\n",
              "        vertical-align: top;\n",
              "    }\n",
              "\n",
              "    .dataframe thead th {\n",
              "        text-align: right;\n",
              "    }\n",
              "</style>\n",
              "<table border=\"1\" class=\"dataframe\">\n",
              "  <thead>\n",
              "    <tr style=\"text-align: right;\">\n",
              "      <th>Predicciones</th>\n",
              "      <th>0</th>\n",
              "      <th>1</th>\n",
              "    </tr>\n",
              "    <tr>\n",
              "      <th>Actual</th>\n",
              "      <th></th>\n",
              "      <th></th>\n",
              "    </tr>\n",
              "  </thead>\n",
              "  <tbody>\n",
              "    <tr>\n",
              "      <th>0</th>\n",
              "      <td>80</td>\n",
              "      <td>33</td>\n",
              "    </tr>\n",
              "    <tr>\n",
              "      <th>1</th>\n",
              "      <td>19</td>\n",
              "      <td>40</td>\n",
              "    </tr>\n",
              "  </tbody>\n",
              "</table>\n",
              "</div>\n",
              "      <button class=\"colab-df-convert\" onclick=\"convertToInteractive('df-9569230f-840d-452e-b1f4-1178b2800cd7')\"\n",
              "              title=\"Convert this dataframe to an interactive table.\"\n",
              "              style=\"display:none;\">\n",
              "        \n",
              "  <svg xmlns=\"http://www.w3.org/2000/svg\" height=\"24px\"viewBox=\"0 0 24 24\"\n",
              "       width=\"24px\">\n",
              "    <path d=\"M0 0h24v24H0V0z\" fill=\"none\"/>\n",
              "    <path d=\"M18.56 5.44l.94 2.06.94-2.06 2.06-.94-2.06-.94-.94-2.06-.94 2.06-2.06.94zm-11 1L8.5 8.5l.94-2.06 2.06-.94-2.06-.94L8.5 2.5l-.94 2.06-2.06.94zm10 10l.94 2.06.94-2.06 2.06-.94-2.06-.94-.94-2.06-.94 2.06-2.06.94z\"/><path d=\"M17.41 7.96l-1.37-1.37c-.4-.4-.92-.59-1.43-.59-.52 0-1.04.2-1.43.59L10.3 9.45l-7.72 7.72c-.78.78-.78 2.05 0 2.83L4 21.41c.39.39.9.59 1.41.59.51 0 1.02-.2 1.41-.59l7.78-7.78 2.81-2.81c.8-.78.8-2.07 0-2.86zM5.41 20L4 18.59l7.72-7.72 1.47 1.35L5.41 20z\"/>\n",
              "  </svg>\n",
              "      </button>\n",
              "      \n",
              "  <style>\n",
              "    .colab-df-container {\n",
              "      display:flex;\n",
              "      flex-wrap:wrap;\n",
              "      gap: 12px;\n",
              "    }\n",
              "\n",
              "    .colab-df-convert {\n",
              "      background-color: #E8F0FE;\n",
              "      border: none;\n",
              "      border-radius: 50%;\n",
              "      cursor: pointer;\n",
              "      display: none;\n",
              "      fill: #1967D2;\n",
              "      height: 32px;\n",
              "      padding: 0 0 0 0;\n",
              "      width: 32px;\n",
              "    }\n",
              "\n",
              "    .colab-df-convert:hover {\n",
              "      background-color: #E2EBFA;\n",
              "      box-shadow: 0px 1px 2px rgba(60, 64, 67, 0.3), 0px 1px 3px 1px rgba(60, 64, 67, 0.15);\n",
              "      fill: #174EA6;\n",
              "    }\n",
              "\n",
              "    [theme=dark] .colab-df-convert {\n",
              "      background-color: #3B4455;\n",
              "      fill: #D2E3FC;\n",
              "    }\n",
              "\n",
              "    [theme=dark] .colab-df-convert:hover {\n",
              "      background-color: #434B5C;\n",
              "      box-shadow: 0px 1px 3px 1px rgba(0, 0, 0, 0.15);\n",
              "      filter: drop-shadow(0px 1px 2px rgba(0, 0, 0, 0.3));\n",
              "      fill: #FFFFFF;\n",
              "    }\n",
              "  </style>\n",
              "\n",
              "      <script>\n",
              "        const buttonEl =\n",
              "          document.querySelector('#df-9569230f-840d-452e-b1f4-1178b2800cd7 button.colab-df-convert');\n",
              "        buttonEl.style.display =\n",
              "          google.colab.kernel.accessAllowed ? 'block' : 'none';\n",
              "\n",
              "        async function convertToInteractive(key) {\n",
              "          const element = document.querySelector('#df-9569230f-840d-452e-b1f4-1178b2800cd7');\n",
              "          const dataTable =\n",
              "            await google.colab.kernel.invokeFunction('convertToInteractive',\n",
              "                                                     [key], {});\n",
              "          if (!dataTable) return;\n",
              "\n",
              "          const docLinkHtml = 'Like what you see? Visit the ' +\n",
              "            '<a target=\"_blank\" href=https://colab.research.google.com/notebooks/data_table.ipynb>data table notebook</a>'\n",
              "            + ' to learn more about interactive tables.';\n",
              "          element.innerHTML = '';\n",
              "          dataTable['output_type'] = 'display_data';\n",
              "          await google.colab.output.renderOutput(dataTable, element);\n",
              "          const docLink = document.createElement('div');\n",
              "          docLink.innerHTML = docLinkHtml;\n",
              "          element.appendChild(docLink);\n",
              "        }\n",
              "      </script>\n",
              "    </div>\n",
              "  </div>\n",
              "  "
            ]
          },
          "metadata": {},
          "execution_count": 9
        }
      ]
    },
    {
      "cell_type": "code",
      "source": [
        "### Visualizacion del arbol ####\n",
        "with open('diabetes.dot','w') as dotfile :\n",
        "   export_graphviz(arbol,out_file=dotfile,feature_names=predictores)\n",
        "   dotfile.close()"
      ],
      "metadata": {
        "id": "VhabNzQNpnhc"
      },
      "execution_count": 10,
      "outputs": []
    },
    {
      "cell_type": "code",
      "source": [
        "file=open('diabetes.dot','r')\n",
        "text=file.read()\n",
        "text"
      ],
      "metadata": {
        "colab": {
          "base_uri": "https://localhost:8080/",
          "height": 90
        },
        "id": "TR7_saKY4Xim",
        "outputId": "5d4e3237-c66b-4e7e-c094-930f9ec22472"
      },
      "execution_count": 11,
      "outputs": [
        {
          "output_type": "execute_result",
          "data": {
            "text/plain": [
              "'digraph Tree {\\nnode [shape=box, fontname=\"helvetica\"] ;\\nedge [fontname=\"helvetica\"] ;\\n0 [label=\"Glucose <= 127.5\\\\nentropy = 0.935\\\\nsamples = 596\\\\nvalue = [387, 209]\"] ;\\n1 [label=\"BMI <= 26.45\\\\nentropy = 0.709\\\\nsamples = 382\\\\nvalue = [308, 74]\"] ;\\n0 -> 1 [labeldistance=2.5, labelangle=45, headlabel=\"True\"] ;\\n2 [label=\"DiabetesPedigreeFunction <= 0.675\\\\nentropy = 0.079\\\\nsamples = 102\\\\nvalue = [101, 1]\"] ;\\n1 -> 2 ;\\n3 [label=\"entropy = 0.0\\\\nsamples = 86\\\\nvalue = [86, 0]\"] ;\\n2 -> 3 ;\\n4 [label=\"BMI <= 23.8\\\\nentropy = 0.337\\\\nsamples = 16\\\\nvalue = [15, 1]\"] ;\\n2 -> 4 ;\\n5 [label=\"entropy = 0.65\\\\nsamples = 6\\\\nvalue = [5, 1]\"] ;\\n4 -> 5 ;\\n6 [label=\"entropy = 0.0\\\\nsamples = 10\\\\nvalue = [10, 0]\"] ;\\n4 -> 6 ;\\n7 [label=\"Age <= 28.5\\\\nentropy = 0.828\\\\nsamples = 280\\\\nvalue = [207, 73]\"] ;\\n1 -> 7 ;\\n8 [label=\"BMI <= 30.95\\\\nentropy = 0.521\\\\nsamples = 145\\\\nvalue = [128, 17]\"] ;\\n7 -> 8 ;\\n9 [label=\"BloodPressure <= 80.0\\\\nentropy = 0.144\\\\nsamples = 49\\\\nvalue = [48, 1]\"] ;\\n8 -> 9 ;\\n10 [label=\"entropy = 0.0\\\\nsamples = 43\\\\nvalue = [43, 0]\"] ;\\n9 -> 10 ;\\n11 [label=\"entropy = 0.65\\\\nsamples = 6\\\\nvalue = [5, 1]\"] ;\\n9 -> 11 ;\\n12 [label=\"Insulin <= 168.5\\\\nentropy = 0.65\\\\nsamples = 96\\\\nvalue = [80, 16]\"] ;\\n8 -> 12 ;\\n13 [label=\"Glucose <= 89.5\\\\nentropy = 0.698\\\\nsamples = 85\\\\nvalue = [69, 16]\"] ;\\n12 -> 13 ;\\n14 [label=\"entropy = 0.286\\\\nsamples = 20\\\\nvalue = [19, 1]\"] ;\\n13 -> 14 ;\\n15 [label=\"entropy = 0.779\\\\nsamples = 65\\\\nvalue = [50, 15]\"] ;\\n13 -> 15 ;\\n16 [label=\"entropy = 0.0\\\\nsamples = 11\\\\nvalue = [11, 0]\"] ;\\n12 -> 16 ;\\n17 [label=\"Glucose <= 99.5\\\\nentropy = 0.979\\\\nsamples = 135\\\\nvalue = [79, 56]\"] ;\\n7 -> 17 ;\\n18 [label=\"Glucose <= 83.5\\\\nentropy = 0.559\\\\nsamples = 46\\\\nvalue = [40, 6]\"] ;\\n17 -> 18 ;\\n19 [label=\"entropy = 0.0\\\\nsamples = 15\\\\nvalue = [15, 0]\"] ;\\n18 -> 19 ;\\n20 [label=\"BMI <= 36.2\\\\nentropy = 0.709\\\\nsamples = 31\\\\nvalue = [25, 6]\"] ;\\n18 -> 20 ;\\n21 [label=\"entropy = 0.828\\\\nsamples = 23\\\\nvalue = [17, 6]\"] ;\\n20 -> 21 ;\\n22 [label=\"entropy = 0.0\\\\nsamples = 8\\\\nvalue = [8, 0]\"] ;\\n20 -> 22 ;\\n23 [label=\"DiabetesPedigreeFunction <= 0.561\\\\nentropy = 0.989\\\\nsamples = 89\\\\nvalue = [39, 50]\"] ;\\n17 -> 23 ;\\n24 [label=\"SkinThickness <= 35.5\\\\nentropy = 0.997\\\\nsamples = 66\\\\nvalue = [35, 31]\"] ;\\n23 -> 24 ;\\n25 [label=\"entropy = 0.996\\\\nsamples = 52\\\\nvalue = [24, 28]\"] ;\\n24 -> 25 ;\\n26 [label=\"entropy = 0.75\\\\nsamples = 14\\\\nvalue = [11, 3]\"] ;\\n24 -> 26 ;\\n27 [label=\"Pregnancies <= 4.5\\\\nentropy = 0.667\\\\nsamples = 23\\\\nvalue = [4, 19]\"] ;\\n23 -> 27 ;\\n28 [label=\"entropy = 0.991\\\\nsamples = 9\\\\nvalue = [4, 5]\"] ;\\n27 -> 28 ;\\n29 [label=\"entropy = 0.0\\\\nsamples = 14\\\\nvalue = [0, 14]\"] ;\\n27 -> 29 ;\\n30 [label=\"BMI <= 29.95\\\\nentropy = 0.95\\\\nsamples = 214\\\\nvalue = [79, 135]\"] ;\\n0 -> 30 [labeldistance=2.5, labelangle=-45, headlabel=\"False\"] ;\\n31 [label=\"Glucose <= 151.5\\\\nentropy = 0.906\\\\nsamples = 56\\\\nvalue = [38, 18]\"] ;\\n30 -> 31 ;\\n32 [label=\"SkinThickness <= 22.5\\\\nentropy = 0.65\\\\nsamples = 36\\\\nvalue = [30, 6]\"] ;\\n31 -> 32 ;\\n33 [label=\"entropy = 0.0\\\\nsamples = 11\\\\nvalue = [11, 0]\"] ;\\n32 -> 33 ;\\n34 [label=\"BloodPressure <= 73.0\\\\nentropy = 0.795\\\\nsamples = 25\\\\nvalue = [19, 6]\"] ;\\n32 -> 34 ;\\n35 [label=\"entropy = 0.994\\\\nsamples = 11\\\\nvalue = [6, 5]\"] ;\\n34 -> 35 ;\\n36 [label=\"DiabetesPedigreeFunction <= 0.264\\\\nentropy = 0.371\\\\nsamples = 14\\\\nvalue = [13, 1]\"] ;\\n34 -> 36 ;\\n37 [label=\"entropy = 0.65\\\\nsamples = 6\\\\nvalue = [5, 1]\"] ;\\n36 -> 37 ;\\n38 [label=\"entropy = 0.0\\\\nsamples = 8\\\\nvalue = [8, 0]\"] ;\\n36 -> 38 ;\\n39 [label=\"BMI <= 26.0\\\\nentropy = 0.971\\\\nsamples = 20\\\\nvalue = [8, 12]\"] ;\\n31 -> 39 ;\\n40 [label=\"entropy = 0.722\\\\nsamples = 10\\\\nvalue = [2, 8]\"] ;\\n39 -> 40 ;\\n41 [label=\"entropy = 0.971\\\\nsamples = 10\\\\nvalue = [6, 4]\"] ;\\n39 -> 41 ;\\n42 [label=\"Glucose <= 165.5\\\\nentropy = 0.826\\\\nsamples = 158\\\\nvalue = [41, 117]\"] ;\\n30 -> 42 ;\\n43 [label=\"DiabetesPedigreeFunction <= 0.343\\\\nentropy = 0.931\\\\nsamples = 104\\\\nvalue = [36, 68]\"] ;\\n42 -> 43 ;\\n44 [label=\"BMI <= 32.65\\\\nentropy = 0.998\\\\nsamples = 38\\\\nvalue = [20, 18]\"] ;\\n43 -> 44 ;\\n45 [label=\"entropy = 0.544\\\\nsamples = 8\\\\nvalue = [7, 1]\"] ;\\n44 -> 45 ;\\n46 [label=\"Insulin <= 187.0\\\\nentropy = 0.987\\\\nsamples = 30\\\\nvalue = [13, 17]\"] ;\\n44 -> 46 ;\\n47 [label=\"entropy = 0.918\\\\nsamples = 24\\\\nvalue = [8, 16]\"] ;\\n46 -> 47 ;\\n48 [label=\"entropy = 0.65\\\\nsamples = 6\\\\nvalue = [5, 1]\"] ;\\n46 -> 48 ;\\n49 [label=\"Insulin <= 289.0\\\\nentropy = 0.799\\\\nsamples = 66\\\\nvalue = [16, 50]\"] ;\\n43 -> 49 ;\\n50 [label=\"BloodPressure <= 73.0\\\\nentropy = 0.636\\\\nsamples = 56\\\\nvalue = [9, 47]\"] ;\\n49 -> 50 ;\\n51 [label=\"entropy = 0.258\\\\nsamples = 23\\\\nvalue = [1, 22]\"] ;\\n50 -> 51 ;\\n52 [label=\"entropy = 0.799\\\\nsamples = 33\\\\nvalue = [8, 25]\"] ;\\n50 -> 52 ;\\n53 [label=\"entropy = 0.881\\\\nsamples = 10\\\\nvalue = [7, 3]\"] ;\\n49 -> 53 ;\\n54 [label=\"SkinThickness <= 32.5\\\\nentropy = 0.445\\\\nsamples = 54\\\\nvalue = [5, 49]\"] ;\\n42 -> 54 ;\\n55 [label=\"DiabetesPedigreeFunction <= 0.307\\\\nentropy = 0.614\\\\nsamples = 33\\\\nvalue = [5, 28]\"] ;\\n54 -> 55 ;\\n56 [label=\"entropy = 0.918\\\\nsamples = 9\\\\nvalue = [3, 6]\"] ;\\n55 -> 56 ;\\n57 [label=\"DiabetesPedigreeFunction <= 0.97\\\\nentropy = 0.414\\\\nsamples = 24\\\\nvalue = [2, 22]\"] ;\\n55 -> 57 ;\\n58 [label=\"entropy = 0.0\\\\nsamples = 18\\\\nvalue = [0, 18]\"] ;\\n57 -> 58 ;\\n59 [label=\"entropy = 0.918\\\\nsamples = 6\\\\nvalue = [2, 4]\"] ;\\n57 -> 59 ;\\n60 [label=\"entropy = 0.0\\\\nsamples = 21\\\\nvalue = [0, 21]\"] ;\\n54 -> 60 ;\\n}'"
            ],
            "application/vnd.google.colaboratory.intrinsic+json": {
              "type": "string"
            }
          },
          "metadata": {},
          "execution_count": 11
        }
      ]
    },
    {
      "cell_type": "code",
      "source": [
        "Source(text)"
      ],
      "metadata": {
        "colab": {
          "base_uri": "https://localhost:8080/",
          "height": 954
        },
        "id": "hbgtgMyA5WZ8",
        "outputId": "7989655c-fa1b-48e3-db2e-d79e5cbb0f94"
      },
      "execution_count": 12,
      "outputs": [
        {
          "output_type": "execute_result",
          "data": {
            "text/plain": [
              "<graphviz.files.Source at 0x7f8e65074e50>"
            ],
            "image/svg+xml": "<?xml version=\"1.0\" encoding=\"UTF-8\" standalone=\"no\"?>\n<!DOCTYPE svg PUBLIC \"-//W3C//DTD SVG 1.1//EN\"\n \"http://www.w3.org/Graphics/SVG/1.1/DTD/svg11.dtd\">\n<!-- Generated by graphviz version 2.40.1 (20161225.0304)\n -->\n<!-- Title: Tree Pages: 1 -->\n<svg width=\"2688pt\" height=\"685pt\"\n viewBox=\"0.00 0.00 2687.50 685.00\" xmlns=\"http://www.w3.org/2000/svg\" xmlns:xlink=\"http://www.w3.org/1999/xlink\">\n<g id=\"graph0\" class=\"graph\" transform=\"scale(1 1) rotate(0) translate(4 681)\">\n<title>Tree</title>\n<polygon fill=\"#ffffff\" stroke=\"transparent\" points=\"-4,4 -4,-681 2683.5,-681 2683.5,4 -4,4\"/>\n<!-- 0 -->\n<g id=\"node1\" class=\"node\">\n<title>0</title>\n<polygon fill=\"none\" stroke=\"#000000\" points=\"1110.5,-677 978.5,-677 978.5,-609 1110.5,-609 1110.5,-677\"/>\n<text text-anchor=\"middle\" x=\"1044.5\" y=\"-661.8\" font-family=\"Helvetica,sans-Serif\" font-size=\"14.00\" fill=\"#000000\">Glucose &lt;= 127.5</text>\n<text text-anchor=\"middle\" x=\"1044.5\" y=\"-646.8\" font-family=\"Helvetica,sans-Serif\" font-size=\"14.00\" fill=\"#000000\">entropy = 0.935</text>\n<text text-anchor=\"middle\" x=\"1044.5\" y=\"-631.8\" font-family=\"Helvetica,sans-Serif\" font-size=\"14.00\" fill=\"#000000\">samples = 596</text>\n<text text-anchor=\"middle\" x=\"1044.5\" y=\"-616.8\" font-family=\"Helvetica,sans-Serif\" font-size=\"14.00\" fill=\"#000000\">value = [387, 209]</text>\n</g>\n<!-- 1 -->\n<g id=\"node2\" class=\"node\">\n<title>1</title>\n<polygon fill=\"none\" stroke=\"#000000\" points=\"685.5,-573 561.5,-573 561.5,-505 685.5,-505 685.5,-573\"/>\n<text text-anchor=\"middle\" x=\"623.5\" y=\"-557.8\" font-family=\"Helvetica,sans-Serif\" font-size=\"14.00\" fill=\"#000000\">BMI &lt;= 26.45</text>\n<text text-anchor=\"middle\" x=\"623.5\" y=\"-542.8\" font-family=\"Helvetica,sans-Serif\" font-size=\"14.00\" fill=\"#000000\">entropy = 0.709</text>\n<text text-anchor=\"middle\" x=\"623.5\" y=\"-527.8\" font-family=\"Helvetica,sans-Serif\" font-size=\"14.00\" fill=\"#000000\">samples = 382</text>\n<text text-anchor=\"middle\" x=\"623.5\" y=\"-512.8\" font-family=\"Helvetica,sans-Serif\" font-size=\"14.00\" fill=\"#000000\">value = [308, 74]</text>\n</g>\n<!-- 0&#45;&gt;1 -->\n<g id=\"edge1\" class=\"edge\">\n<title>0&#45;&gt;1</title>\n<path fill=\"none\" stroke=\"#000000\" d=\"M978.2556,-626.6356C901.3105,-607.6278 774.8167,-576.3799 695.4978,-556.7857\"/>\n<polygon fill=\"#000000\" stroke=\"#000000\" points=\"696.1344,-553.3378 685.5868,-554.3374 694.4556,-560.1335 696.1344,-553.3378\"/>\n<text text-anchor=\"middle\" x=\"698.5091\" y=\"-572.0386\" font-family=\"Helvetica,sans-Serif\" font-size=\"14.00\" fill=\"#000000\">True</text>\n</g>\n<!-- 30 -->\n<g id=\"node31\" class=\"node\">\n<title>30</title>\n<polygon fill=\"none\" stroke=\"#000000\" points=\"1564.5,-573 1440.5,-573 1440.5,-505 1564.5,-505 1564.5,-573\"/>\n<text text-anchor=\"middle\" x=\"1502.5\" y=\"-557.8\" font-family=\"Helvetica,sans-Serif\" font-size=\"14.00\" fill=\"#000000\">BMI &lt;= 29.95</text>\n<text text-anchor=\"middle\" x=\"1502.5\" y=\"-542.8\" font-family=\"Helvetica,sans-Serif\" font-size=\"14.00\" fill=\"#000000\">entropy = 0.95</text>\n<text text-anchor=\"middle\" x=\"1502.5\" y=\"-527.8\" font-family=\"Helvetica,sans-Serif\" font-size=\"14.00\" fill=\"#000000\">samples = 214</text>\n<text text-anchor=\"middle\" x=\"1502.5\" y=\"-512.8\" font-family=\"Helvetica,sans-Serif\" font-size=\"14.00\" fill=\"#000000\">value = [79, 135]</text>\n</g>\n<!-- 0&#45;&gt;30 -->\n<g id=\"edge30\" class=\"edge\">\n<title>0&#45;&gt;30</title>\n<path fill=\"none\" stroke=\"#000000\" d=\"M1110.608,-627.9886C1195.6441,-608.6791 1342.8121,-575.261 1430.5752,-555.3323\"/>\n<polygon fill=\"#000000\" stroke=\"#000000\" points=\"1431.4739,-558.7174 1440.4506,-553.0898 1429.9238,-551.8911 1431.4739,-558.7174\"/>\n<text text-anchor=\"middle\" x=\"1427.1263\" y=\"-570.5431\" font-family=\"Helvetica,sans-Serif\" font-size=\"14.00\" fill=\"#000000\">False</text>\n</g>\n<!-- 2 -->\n<g id=\"node3\" class=\"node\">\n<title>2</title>\n<polygon fill=\"none\" stroke=\"#000000\" points=\"309.5,-469 59.5,-469 59.5,-401 309.5,-401 309.5,-469\"/>\n<text text-anchor=\"middle\" x=\"184.5\" y=\"-453.8\" font-family=\"Helvetica,sans-Serif\" font-size=\"14.00\" fill=\"#000000\">DiabetesPedigreeFunction &lt;= 0.675</text>\n<text text-anchor=\"middle\" x=\"184.5\" y=\"-438.8\" font-family=\"Helvetica,sans-Serif\" font-size=\"14.00\" fill=\"#000000\">entropy = 0.079</text>\n<text text-anchor=\"middle\" x=\"184.5\" y=\"-423.8\" font-family=\"Helvetica,sans-Serif\" font-size=\"14.00\" fill=\"#000000\">samples = 102</text>\n<text text-anchor=\"middle\" x=\"184.5\" y=\"-408.8\" font-family=\"Helvetica,sans-Serif\" font-size=\"14.00\" fill=\"#000000\">value = [101, 1]</text>\n</g>\n<!-- 1&#45;&gt;2 -->\n<g id=\"edge2\" class=\"edge\">\n<title>1&#45;&gt;2</title>\n<path fill=\"none\" stroke=\"#000000\" d=\"M561.0682,-524.2098C498.3997,-509.3635 399.8602,-486.0193 319.3,-466.9344\"/>\n<polygon fill=\"#000000\" stroke=\"#000000\" points=\"320.1059,-463.5285 309.5684,-464.629 318.4922,-470.34 320.1059,-463.5285\"/>\n</g>\n<!-- 7 -->\n<g id=\"node8\" class=\"node\">\n<title>7</title>\n<polygon fill=\"none\" stroke=\"#000000\" points=\"685.5,-469 561.5,-469 561.5,-401 685.5,-401 685.5,-469\"/>\n<text text-anchor=\"middle\" x=\"623.5\" y=\"-453.8\" font-family=\"Helvetica,sans-Serif\" font-size=\"14.00\" fill=\"#000000\">Age &lt;= 28.5</text>\n<text text-anchor=\"middle\" x=\"623.5\" y=\"-438.8\" font-family=\"Helvetica,sans-Serif\" font-size=\"14.00\" fill=\"#000000\">entropy = 0.828</text>\n<text text-anchor=\"middle\" x=\"623.5\" y=\"-423.8\" font-family=\"Helvetica,sans-Serif\" font-size=\"14.00\" fill=\"#000000\">samples = 280</text>\n<text text-anchor=\"middle\" x=\"623.5\" y=\"-408.8\" font-family=\"Helvetica,sans-Serif\" font-size=\"14.00\" fill=\"#000000\">value = [207, 73]</text>\n</g>\n<!-- 1&#45;&gt;7 -->\n<g id=\"edge7\" class=\"edge\">\n<title>1&#45;&gt;7</title>\n<path fill=\"none\" stroke=\"#000000\" d=\"M623.5,-504.9465C623.5,-496.776 623.5,-487.9318 623.5,-479.3697\"/>\n<polygon fill=\"#000000\" stroke=\"#000000\" points=\"627.0001,-479.13 623.5,-469.13 620.0001,-479.13 627.0001,-479.13\"/>\n</g>\n<!-- 3 -->\n<g id=\"node4\" class=\"node\">\n<title>3</title>\n<polygon fill=\"none\" stroke=\"#000000\" points=\"107,-357.5 0,-357.5 0,-304.5 107,-304.5 107,-357.5\"/>\n<text text-anchor=\"middle\" x=\"53.5\" y=\"-342.3\" font-family=\"Helvetica,sans-Serif\" font-size=\"14.00\" fill=\"#000000\">entropy = 0.0</text>\n<text text-anchor=\"middle\" x=\"53.5\" y=\"-327.3\" font-family=\"Helvetica,sans-Serif\" font-size=\"14.00\" fill=\"#000000\">samples = 86</text>\n<text text-anchor=\"middle\" x=\"53.5\" y=\"-312.3\" font-family=\"Helvetica,sans-Serif\" font-size=\"14.00\" fill=\"#000000\">value = [86, 0]</text>\n</g>\n<!-- 2&#45;&gt;3 -->\n<g id=\"edge3\" class=\"edge\">\n<title>2&#45;&gt;3</title>\n<path fill=\"none\" stroke=\"#000000\" d=\"M141.6057,-400.9465C126.6212,-389.0504 109.8376,-375.726 94.9712,-363.9237\"/>\n<polygon fill=\"#000000\" stroke=\"#000000\" points=\"96.9411,-361.0187 86.9329,-357.5422 92.5887,-366.5011 96.9411,-361.0187\"/>\n</g>\n<!-- 4 -->\n<g id=\"node5\" class=\"node\">\n<title>4</title>\n<polygon fill=\"none\" stroke=\"#000000\" points=\"243.5,-365 125.5,-365 125.5,-297 243.5,-297 243.5,-365\"/>\n<text text-anchor=\"middle\" x=\"184.5\" y=\"-349.8\" font-family=\"Helvetica,sans-Serif\" font-size=\"14.00\" fill=\"#000000\">BMI &lt;= 23.8</text>\n<text text-anchor=\"middle\" x=\"184.5\" y=\"-334.8\" font-family=\"Helvetica,sans-Serif\" font-size=\"14.00\" fill=\"#000000\">entropy = 0.337</text>\n<text text-anchor=\"middle\" x=\"184.5\" y=\"-319.8\" font-family=\"Helvetica,sans-Serif\" font-size=\"14.00\" fill=\"#000000\">samples = 16</text>\n<text text-anchor=\"middle\" x=\"184.5\" y=\"-304.8\" font-family=\"Helvetica,sans-Serif\" font-size=\"14.00\" fill=\"#000000\">value = [15, 1]</text>\n</g>\n<!-- 2&#45;&gt;4 -->\n<g id=\"edge4\" class=\"edge\">\n<title>2&#45;&gt;4</title>\n<path fill=\"none\" stroke=\"#000000\" d=\"M184.5,-400.9465C184.5,-392.776 184.5,-383.9318 184.5,-375.3697\"/>\n<polygon fill=\"#000000\" stroke=\"#000000\" points=\"188.0001,-375.13 184.5,-365.13 181.0001,-375.13 188.0001,-375.13\"/>\n</g>\n<!-- 5 -->\n<g id=\"node6\" class=\"node\">\n<title>5</title>\n<polygon fill=\"none\" stroke=\"#000000\" points=\"112.5,-253.5 2.5,-253.5 2.5,-200.5 112.5,-200.5 112.5,-253.5\"/>\n<text text-anchor=\"middle\" x=\"57.5\" y=\"-238.3\" font-family=\"Helvetica,sans-Serif\" font-size=\"14.00\" fill=\"#000000\">entropy = 0.65</text>\n<text text-anchor=\"middle\" x=\"57.5\" y=\"-223.3\" font-family=\"Helvetica,sans-Serif\" font-size=\"14.00\" fill=\"#000000\">samples = 6</text>\n<text text-anchor=\"middle\" x=\"57.5\" y=\"-208.3\" font-family=\"Helvetica,sans-Serif\" font-size=\"14.00\" fill=\"#000000\">value = [5, 1]</text>\n</g>\n<!-- 4&#45;&gt;5 -->\n<g id=\"edge5\" class=\"edge\">\n<title>4&#45;&gt;5</title>\n<path fill=\"none\" stroke=\"#000000\" d=\"M142.9155,-296.9465C128.3885,-285.0504 112.1173,-271.726 97.7049,-259.9237\"/>\n<polygon fill=\"#000000\" stroke=\"#000000\" points=\"99.8665,-257.17 89.9121,-253.5422 95.4314,-262.5858 99.8665,-257.17\"/>\n</g>\n<!-- 6 -->\n<g id=\"node7\" class=\"node\">\n<title>6</title>\n<polygon fill=\"none\" stroke=\"#000000\" points=\"238,-253.5 131,-253.5 131,-200.5 238,-200.5 238,-253.5\"/>\n<text text-anchor=\"middle\" x=\"184.5\" y=\"-238.3\" font-family=\"Helvetica,sans-Serif\" font-size=\"14.00\" fill=\"#000000\">entropy = 0.0</text>\n<text text-anchor=\"middle\" x=\"184.5\" y=\"-223.3\" font-family=\"Helvetica,sans-Serif\" font-size=\"14.00\" fill=\"#000000\">samples = 10</text>\n<text text-anchor=\"middle\" x=\"184.5\" y=\"-208.3\" font-family=\"Helvetica,sans-Serif\" font-size=\"14.00\" fill=\"#000000\">value = [10, 0]</text>\n</g>\n<!-- 4&#45;&gt;6 -->\n<g id=\"edge6\" class=\"edge\">\n<title>4&#45;&gt;6</title>\n<path fill=\"none\" stroke=\"#000000\" d=\"M184.5,-296.9465C184.5,-286.2621 184.5,-274.4254 184.5,-263.5742\"/>\n<polygon fill=\"#000000\" stroke=\"#000000\" points=\"188.0001,-263.5421 184.5,-253.5422 181.0001,-263.5422 188.0001,-263.5421\"/>\n</g>\n<!-- 8 -->\n<g id=\"node9\" class=\"node\">\n<title>8</title>\n<polygon fill=\"none\" stroke=\"#000000\" points=\"614.5,-365 490.5,-365 490.5,-297 614.5,-297 614.5,-365\"/>\n<text text-anchor=\"middle\" x=\"552.5\" y=\"-349.8\" font-family=\"Helvetica,sans-Serif\" font-size=\"14.00\" fill=\"#000000\">BMI &lt;= 30.95</text>\n<text text-anchor=\"middle\" x=\"552.5\" y=\"-334.8\" font-family=\"Helvetica,sans-Serif\" font-size=\"14.00\" fill=\"#000000\">entropy = 0.521</text>\n<text text-anchor=\"middle\" x=\"552.5\" y=\"-319.8\" font-family=\"Helvetica,sans-Serif\" font-size=\"14.00\" fill=\"#000000\">samples = 145</text>\n<text text-anchor=\"middle\" x=\"552.5\" y=\"-304.8\" font-family=\"Helvetica,sans-Serif\" font-size=\"14.00\" fill=\"#000000\">value = [128, 17]</text>\n</g>\n<!-- 7&#45;&gt;8 -->\n<g id=\"edge8\" class=\"edge\">\n<title>7&#45;&gt;8</title>\n<path fill=\"none\" stroke=\"#000000\" d=\"M600.2519,-400.9465C594.245,-392.1475 587.7045,-382.5672 581.4457,-373.3993\"/>\n<polygon fill=\"#000000\" stroke=\"#000000\" points=\"584.3293,-371.4155 575.8003,-365.13 578.548,-375.3623 584.3293,-371.4155\"/>\n</g>\n<!-- 17 -->\n<g id=\"node18\" class=\"node\">\n<title>17</title>\n<polygon fill=\"none\" stroke=\"#000000\" points=\"805,-365 682,-365 682,-297 805,-297 805,-365\"/>\n<text text-anchor=\"middle\" x=\"743.5\" y=\"-349.8\" font-family=\"Helvetica,sans-Serif\" font-size=\"14.00\" fill=\"#000000\">Glucose &lt;= 99.5</text>\n<text text-anchor=\"middle\" x=\"743.5\" y=\"-334.8\" font-family=\"Helvetica,sans-Serif\" font-size=\"14.00\" fill=\"#000000\">entropy = 0.979</text>\n<text text-anchor=\"middle\" x=\"743.5\" y=\"-319.8\" font-family=\"Helvetica,sans-Serif\" font-size=\"14.00\" fill=\"#000000\">samples = 135</text>\n<text text-anchor=\"middle\" x=\"743.5\" y=\"-304.8\" font-family=\"Helvetica,sans-Serif\" font-size=\"14.00\" fill=\"#000000\">value = [79, 56]</text>\n</g>\n<!-- 7&#45;&gt;17 -->\n<g id=\"edge17\" class=\"edge\">\n<title>7&#45;&gt;17</title>\n<path fill=\"none\" stroke=\"#000000\" d=\"M662.7925,-400.9465C673.5667,-391.6088 685.3564,-381.3911 696.515,-371.7203\"/>\n<polygon fill=\"#000000\" stroke=\"#000000\" points=\"698.8546,-374.3243 704.1192,-365.13 694.2701,-369.0344 698.8546,-374.3243\"/>\n</g>\n<!-- 9 -->\n<g id=\"node10\" class=\"node\">\n<title>9</title>\n<polygon fill=\"none\" stroke=\"#000000\" points=\"421,-261 256,-261 256,-193 421,-193 421,-261\"/>\n<text text-anchor=\"middle\" x=\"338.5\" y=\"-245.8\" font-family=\"Helvetica,sans-Serif\" font-size=\"14.00\" fill=\"#000000\">BloodPressure &lt;= 80.0</text>\n<text text-anchor=\"middle\" x=\"338.5\" y=\"-230.8\" font-family=\"Helvetica,sans-Serif\" font-size=\"14.00\" fill=\"#000000\">entropy = 0.144</text>\n<text text-anchor=\"middle\" x=\"338.5\" y=\"-215.8\" font-family=\"Helvetica,sans-Serif\" font-size=\"14.00\" fill=\"#000000\">samples = 49</text>\n<text text-anchor=\"middle\" x=\"338.5\" y=\"-200.8\" font-family=\"Helvetica,sans-Serif\" font-size=\"14.00\" fill=\"#000000\">value = [48, 1]</text>\n</g>\n<!-- 8&#45;&gt;9 -->\n<g id=\"edge9\" class=\"edge\">\n<title>8&#45;&gt;9</title>\n<path fill=\"none\" stroke=\"#000000\" d=\"M490.3149,-300.7792C467.6635,-289.7711 441.7418,-277.1736 417.8056,-265.541\"/>\n<polygon fill=\"#000000\" stroke=\"#000000\" points=\"419.264,-262.3584 408.74,-261.1353 416.2043,-268.6543 419.264,-262.3584\"/>\n</g>\n<!-- 12 -->\n<g id=\"node13\" class=\"node\">\n<title>12</title>\n<polygon fill=\"none\" stroke=\"#000000\" points=\"612,-261 493,-261 493,-193 612,-193 612,-261\"/>\n<text text-anchor=\"middle\" x=\"552.5\" y=\"-245.8\" font-family=\"Helvetica,sans-Serif\" font-size=\"14.00\" fill=\"#000000\">Insulin &lt;= 168.5</text>\n<text text-anchor=\"middle\" x=\"552.5\" y=\"-230.8\" font-family=\"Helvetica,sans-Serif\" font-size=\"14.00\" fill=\"#000000\">entropy = 0.65</text>\n<text text-anchor=\"middle\" x=\"552.5\" y=\"-215.8\" font-family=\"Helvetica,sans-Serif\" font-size=\"14.00\" fill=\"#000000\">samples = 96</text>\n<text text-anchor=\"middle\" x=\"552.5\" y=\"-200.8\" font-family=\"Helvetica,sans-Serif\" font-size=\"14.00\" fill=\"#000000\">value = [80, 16]</text>\n</g>\n<!-- 8&#45;&gt;12 -->\n<g id=\"edge12\" class=\"edge\">\n<title>8&#45;&gt;12</title>\n<path fill=\"none\" stroke=\"#000000\" d=\"M552.5,-296.9465C552.5,-288.776 552.5,-279.9318 552.5,-271.3697\"/>\n<polygon fill=\"#000000\" stroke=\"#000000\" points=\"556.0001,-271.13 552.5,-261.13 549.0001,-271.13 556.0001,-271.13\"/>\n</g>\n<!-- 10 -->\n<g id=\"node11\" class=\"node\">\n<title>10</title>\n<polygon fill=\"none\" stroke=\"#000000\" points=\"238,-149.5 131,-149.5 131,-96.5 238,-96.5 238,-149.5\"/>\n<text text-anchor=\"middle\" x=\"184.5\" y=\"-134.3\" font-family=\"Helvetica,sans-Serif\" font-size=\"14.00\" fill=\"#000000\">entropy = 0.0</text>\n<text text-anchor=\"middle\" x=\"184.5\" y=\"-119.3\" font-family=\"Helvetica,sans-Serif\" font-size=\"14.00\" fill=\"#000000\">samples = 43</text>\n<text text-anchor=\"middle\" x=\"184.5\" y=\"-104.3\" font-family=\"Helvetica,sans-Serif\" font-size=\"14.00\" fill=\"#000000\">value = [43, 0]</text>\n</g>\n<!-- 9&#45;&gt;10 -->\n<g id=\"edge10\" class=\"edge\">\n<title>9&#45;&gt;10</title>\n<path fill=\"none\" stroke=\"#000000\" d=\"M288.0746,-192.9465C270.1331,-180.8301 249.9974,-167.232 232.2838,-155.2696\"/>\n<polygon fill=\"#000000\" stroke=\"#000000\" points=\"234.0489,-152.2382 223.8028,-149.5422 230.1313,-158.0393 234.0489,-152.2382\"/>\n</g>\n<!-- 11 -->\n<g id=\"node12\" class=\"node\">\n<title>11</title>\n<polygon fill=\"none\" stroke=\"#000000\" points=\"366.5,-149.5 256.5,-149.5 256.5,-96.5 366.5,-96.5 366.5,-149.5\"/>\n<text text-anchor=\"middle\" x=\"311.5\" y=\"-134.3\" font-family=\"Helvetica,sans-Serif\" font-size=\"14.00\" fill=\"#000000\">entropy = 0.65</text>\n<text text-anchor=\"middle\" x=\"311.5\" y=\"-119.3\" font-family=\"Helvetica,sans-Serif\" font-size=\"14.00\" fill=\"#000000\">samples = 6</text>\n<text text-anchor=\"middle\" x=\"311.5\" y=\"-104.3\" font-family=\"Helvetica,sans-Serif\" font-size=\"14.00\" fill=\"#000000\">value = [5, 1]</text>\n</g>\n<!-- 9&#45;&gt;11 -->\n<g id=\"edge11\" class=\"edge\">\n<title>9&#45;&gt;11</title>\n<path fill=\"none\" stroke=\"#000000\" d=\"M329.6592,-192.9465C326.8567,-182.1519 323.749,-170.1813 320.9082,-159.2389\"/>\n<polygon fill=\"#000000\" stroke=\"#000000\" points=\"324.2914,-158.3418 318.3908,-149.5422 317.516,-160.1008 324.2914,-158.3418\"/>\n</g>\n<!-- 13 -->\n<g id=\"node14\" class=\"node\">\n<title>13</title>\n<polygon fill=\"none\" stroke=\"#000000\" points=\"508,-157 385,-157 385,-89 508,-89 508,-157\"/>\n<text text-anchor=\"middle\" x=\"446.5\" y=\"-141.8\" font-family=\"Helvetica,sans-Serif\" font-size=\"14.00\" fill=\"#000000\">Glucose &lt;= 89.5</text>\n<text text-anchor=\"middle\" x=\"446.5\" y=\"-126.8\" font-family=\"Helvetica,sans-Serif\" font-size=\"14.00\" fill=\"#000000\">entropy = 0.698</text>\n<text text-anchor=\"middle\" x=\"446.5\" y=\"-111.8\" font-family=\"Helvetica,sans-Serif\" font-size=\"14.00\" fill=\"#000000\">samples = 85</text>\n<text text-anchor=\"middle\" x=\"446.5\" y=\"-96.8\" font-family=\"Helvetica,sans-Serif\" font-size=\"14.00\" fill=\"#000000\">value = [69, 16]</text>\n</g>\n<!-- 12&#45;&gt;13 -->\n<g id=\"edge13\" class=\"edge\">\n<title>12&#45;&gt;13</title>\n<path fill=\"none\" stroke=\"#000000\" d=\"M517.7916,-192.9465C508.4574,-183.7884 498.2604,-173.7838 488.5727,-164.2788\"/>\n<polygon fill=\"#000000\" stroke=\"#000000\" points=\"490.8757,-161.6351 481.2863,-157.13 485.9733,-166.6318 490.8757,-161.6351\"/>\n</g>\n<!-- 16 -->\n<g id=\"node17\" class=\"node\">\n<title>16</title>\n<polygon fill=\"none\" stroke=\"#000000\" points=\"633,-149.5 526,-149.5 526,-96.5 633,-96.5 633,-149.5\"/>\n<text text-anchor=\"middle\" x=\"579.5\" y=\"-134.3\" font-family=\"Helvetica,sans-Serif\" font-size=\"14.00\" fill=\"#000000\">entropy = 0.0</text>\n<text text-anchor=\"middle\" x=\"579.5\" y=\"-119.3\" font-family=\"Helvetica,sans-Serif\" font-size=\"14.00\" fill=\"#000000\">samples = 11</text>\n<text text-anchor=\"middle\" x=\"579.5\" y=\"-104.3\" font-family=\"Helvetica,sans-Serif\" font-size=\"14.00\" fill=\"#000000\">value = [11, 0]</text>\n</g>\n<!-- 12&#45;&gt;16 -->\n<g id=\"edge16\" class=\"edge\">\n<title>12&#45;&gt;16</title>\n<path fill=\"none\" stroke=\"#000000\" d=\"M561.3408,-192.9465C564.1433,-182.1519 567.251,-170.1813 570.0918,-159.2389\"/>\n<polygon fill=\"#000000\" stroke=\"#000000\" points=\"573.484,-160.1008 572.6092,-149.5422 566.7086,-158.3418 573.484,-160.1008\"/>\n</g>\n<!-- 14 -->\n<g id=\"node15\" class=\"node\">\n<title>14</title>\n<polygon fill=\"none\" stroke=\"#000000\" points=\"424.5,-53 306.5,-53 306.5,0 424.5,0 424.5,-53\"/>\n<text text-anchor=\"middle\" x=\"365.5\" y=\"-37.8\" font-family=\"Helvetica,sans-Serif\" font-size=\"14.00\" fill=\"#000000\">entropy = 0.286</text>\n<text text-anchor=\"middle\" x=\"365.5\" y=\"-22.8\" font-family=\"Helvetica,sans-Serif\" font-size=\"14.00\" fill=\"#000000\">samples = 20</text>\n<text text-anchor=\"middle\" x=\"365.5\" y=\"-7.8\" font-family=\"Helvetica,sans-Serif\" font-size=\"14.00\" fill=\"#000000\">value = [19, 1]</text>\n</g>\n<!-- 13&#45;&gt;14 -->\n<g id=\"edge14\" class=\"edge\">\n<title>13&#45;&gt;14</title>\n<path fill=\"none\" stroke=\"#000000\" d=\"M417.9424,-88.9777C410.3331,-79.9123 402.1061,-70.111 394.4747,-61.0192\"/>\n<polygon fill=\"#000000\" stroke=\"#000000\" points=\"397.062,-58.6577 387.9521,-53.2485 391.7005,-63.1581 397.062,-58.6577\"/>\n</g>\n<!-- 15 -->\n<g id=\"node16\" class=\"node\">\n<title>15</title>\n<polygon fill=\"none\" stroke=\"#000000\" points=\"560.5,-53 442.5,-53 442.5,0 560.5,0 560.5,-53\"/>\n<text text-anchor=\"middle\" x=\"501.5\" y=\"-37.8\" font-family=\"Helvetica,sans-Serif\" font-size=\"14.00\" fill=\"#000000\">entropy = 0.779</text>\n<text text-anchor=\"middle\" x=\"501.5\" y=\"-22.8\" font-family=\"Helvetica,sans-Serif\" font-size=\"14.00\" fill=\"#000000\">samples = 65</text>\n<text text-anchor=\"middle\" x=\"501.5\" y=\"-7.8\" font-family=\"Helvetica,sans-Serif\" font-size=\"14.00\" fill=\"#000000\">value = [50, 15]</text>\n</g>\n<!-- 13&#45;&gt;15 -->\n<g id=\"edge15\" class=\"edge\">\n<title>13&#45;&gt;15</title>\n<path fill=\"none\" stroke=\"#000000\" d=\"M465.8909,-88.9777C470.849,-80.2786 476.1933,-70.9018 481.1958,-62.1247\"/>\n<polygon fill=\"#000000\" stroke=\"#000000\" points=\"484.3438,-63.6696 486.2548,-53.2485 478.2622,-60.2033 484.3438,-63.6696\"/>\n</g>\n<!-- 18 -->\n<g id=\"node19\" class=\"node\">\n<title>18</title>\n<polygon fill=\"none\" stroke=\"#000000\" points=\"805,-261 682,-261 682,-193 805,-193 805,-261\"/>\n<text text-anchor=\"middle\" x=\"743.5\" y=\"-245.8\" font-family=\"Helvetica,sans-Serif\" font-size=\"14.00\" fill=\"#000000\">Glucose &lt;= 83.5</text>\n<text text-anchor=\"middle\" x=\"743.5\" y=\"-230.8\" font-family=\"Helvetica,sans-Serif\" font-size=\"14.00\" fill=\"#000000\">entropy = 0.559</text>\n<text text-anchor=\"middle\" x=\"743.5\" y=\"-215.8\" font-family=\"Helvetica,sans-Serif\" font-size=\"14.00\" fill=\"#000000\">samples = 46</text>\n<text text-anchor=\"middle\" x=\"743.5\" y=\"-200.8\" font-family=\"Helvetica,sans-Serif\" font-size=\"14.00\" fill=\"#000000\">value = [40, 6]</text>\n</g>\n<!-- 17&#45;&gt;18 -->\n<g id=\"edge18\" class=\"edge\">\n<title>17&#45;&gt;18</title>\n<path fill=\"none\" stroke=\"#000000\" d=\"M743.5,-296.9465C743.5,-288.776 743.5,-279.9318 743.5,-271.3697\"/>\n<polygon fill=\"#000000\" stroke=\"#000000\" points=\"747.0001,-271.13 743.5,-261.13 740.0001,-271.13 747.0001,-271.13\"/>\n</g>\n<!-- 23 -->\n<g id=\"node24\" class=\"node\">\n<title>23</title>\n<polygon fill=\"none\" stroke=\"#000000\" points=\"1149.5,-261 899.5,-261 899.5,-193 1149.5,-193 1149.5,-261\"/>\n<text text-anchor=\"middle\" x=\"1024.5\" y=\"-245.8\" font-family=\"Helvetica,sans-Serif\" font-size=\"14.00\" fill=\"#000000\">DiabetesPedigreeFunction &lt;= 0.561</text>\n<text text-anchor=\"middle\" x=\"1024.5\" y=\"-230.8\" font-family=\"Helvetica,sans-Serif\" font-size=\"14.00\" fill=\"#000000\">entropy = 0.989</text>\n<text text-anchor=\"middle\" x=\"1024.5\" y=\"-215.8\" font-family=\"Helvetica,sans-Serif\" font-size=\"14.00\" fill=\"#000000\">samples = 89</text>\n<text text-anchor=\"middle\" x=\"1024.5\" y=\"-200.8\" font-family=\"Helvetica,sans-Serif\" font-size=\"14.00\" fill=\"#000000\">value = [39, 50]</text>\n</g>\n<!-- 17&#45;&gt;23 -->\n<g id=\"edge23\" class=\"edge\">\n<title>17&#45;&gt;23</title>\n<path fill=\"none\" stroke=\"#000000\" d=\"M805.1666,-308.1768C839.7164,-295.3897 883.6696,-279.1223 923.1431,-264.5129\"/>\n<polygon fill=\"#000000\" stroke=\"#000000\" points=\"924.3798,-267.7872 932.5433,-261.0338 921.9501,-261.2224 924.3798,-267.7872\"/>\n</g>\n<!-- 19 -->\n<g id=\"node20\" class=\"node\">\n<title>19</title>\n<polygon fill=\"none\" stroke=\"#000000\" points=\"758,-149.5 651,-149.5 651,-96.5 758,-96.5 758,-149.5\"/>\n<text text-anchor=\"middle\" x=\"704.5\" y=\"-134.3\" font-family=\"Helvetica,sans-Serif\" font-size=\"14.00\" fill=\"#000000\">entropy = 0.0</text>\n<text text-anchor=\"middle\" x=\"704.5\" y=\"-119.3\" font-family=\"Helvetica,sans-Serif\" font-size=\"14.00\" fill=\"#000000\">samples = 15</text>\n<text text-anchor=\"middle\" x=\"704.5\" y=\"-104.3\" font-family=\"Helvetica,sans-Serif\" font-size=\"14.00\" fill=\"#000000\">value = [15, 0]</text>\n</g>\n<!-- 18&#45;&gt;19 -->\n<g id=\"edge19\" class=\"edge\">\n<title>18&#45;&gt;19</title>\n<path fill=\"none\" stroke=\"#000000\" d=\"M730.7299,-192.9465C726.682,-182.1519 722.193,-170.1813 718.0896,-159.2389\"/>\n<polygon fill=\"#000000\" stroke=\"#000000\" points=\"721.2418,-157.6765 714.4533,-149.5422 714.6875,-160.1344 721.2418,-157.6765\"/>\n</g>\n<!-- 20 -->\n<g id=\"node21\" class=\"node\">\n<title>20</title>\n<polygon fill=\"none\" stroke=\"#000000\" points=\"894.5,-157 776.5,-157 776.5,-89 894.5,-89 894.5,-157\"/>\n<text text-anchor=\"middle\" x=\"835.5\" y=\"-141.8\" font-family=\"Helvetica,sans-Serif\" font-size=\"14.00\" fill=\"#000000\">BMI &lt;= 36.2</text>\n<text text-anchor=\"middle\" x=\"835.5\" y=\"-126.8\" font-family=\"Helvetica,sans-Serif\" font-size=\"14.00\" fill=\"#000000\">entropy = 0.709</text>\n<text text-anchor=\"middle\" x=\"835.5\" y=\"-111.8\" font-family=\"Helvetica,sans-Serif\" font-size=\"14.00\" fill=\"#000000\">samples = 31</text>\n<text text-anchor=\"middle\" x=\"835.5\" y=\"-96.8\" font-family=\"Helvetica,sans-Serif\" font-size=\"14.00\" fill=\"#000000\">value = [25, 6]</text>\n</g>\n<!-- 18&#45;&gt;20 -->\n<g id=\"edge20\" class=\"edge\">\n<title>18&#45;&gt;20</title>\n<path fill=\"none\" stroke=\"#000000\" d=\"M773.6242,-192.9465C781.5668,-183.968 790.2291,-174.1758 798.489,-164.8385\"/>\n<polygon fill=\"#000000\" stroke=\"#000000\" points=\"801.3038,-166.939 805.3081,-157.13 796.0608,-162.301 801.3038,-166.939\"/>\n</g>\n<!-- 21 -->\n<g id=\"node22\" class=\"node\">\n<title>21</title>\n<polygon fill=\"none\" stroke=\"#000000\" points=\"758.5,-53 640.5,-53 640.5,0 758.5,0 758.5,-53\"/>\n<text text-anchor=\"middle\" x=\"699.5\" y=\"-37.8\" font-family=\"Helvetica,sans-Serif\" font-size=\"14.00\" fill=\"#000000\">entropy = 0.828</text>\n<text text-anchor=\"middle\" x=\"699.5\" y=\"-22.8\" font-family=\"Helvetica,sans-Serif\" font-size=\"14.00\" fill=\"#000000\">samples = 23</text>\n<text text-anchor=\"middle\" x=\"699.5\" y=\"-7.8\" font-family=\"Helvetica,sans-Serif\" font-size=\"14.00\" fill=\"#000000\">value = [17, 6]</text>\n</g>\n<!-- 20&#45;&gt;21 -->\n<g id=\"edge21\" class=\"edge\">\n<title>20&#45;&gt;21</title>\n<path fill=\"none\" stroke=\"#000000\" d=\"M787.5515,-88.9777C773.872,-79.2713 759.0036,-68.7213 745.4466,-59.1018\"/>\n<polygon fill=\"#000000\" stroke=\"#000000\" points=\"747.3783,-56.1809 737.1973,-53.2485 743.3275,-61.8898 747.3783,-56.1809\"/>\n</g>\n<!-- 22 -->\n<g id=\"node23\" class=\"node\">\n<title>22</title>\n<polygon fill=\"none\" stroke=\"#000000\" points=\"878,-53 777,-53 777,0 878,0 878,-53\"/>\n<text text-anchor=\"middle\" x=\"827.5\" y=\"-37.8\" font-family=\"Helvetica,sans-Serif\" font-size=\"14.00\" fill=\"#000000\">entropy = 0.0</text>\n<text text-anchor=\"middle\" x=\"827.5\" y=\"-22.8\" font-family=\"Helvetica,sans-Serif\" font-size=\"14.00\" fill=\"#000000\">samples = 8</text>\n<text text-anchor=\"middle\" x=\"827.5\" y=\"-7.8\" font-family=\"Helvetica,sans-Serif\" font-size=\"14.00\" fill=\"#000000\">value = [8, 0]</text>\n</g>\n<!-- 20&#45;&gt;22 -->\n<g id=\"edge22\" class=\"edge\">\n<title>20&#45;&gt;22</title>\n<path fill=\"none\" stroke=\"#000000\" d=\"M832.6795,-88.9777C831.9887,-80.6449 831.2463,-71.6903 830.5455,-63.2364\"/>\n<polygon fill=\"#000000\" stroke=\"#000000\" points=\"834.0318,-62.9251 829.7175,-53.2485 827.0557,-63.5035 834.0318,-62.9251\"/>\n</g>\n<!-- 24 -->\n<g id=\"node25\" class=\"node\">\n<title>24</title>\n<polygon fill=\"none\" stroke=\"#000000\" points=\"1106.5,-157 942.5,-157 942.5,-89 1106.5,-89 1106.5,-157\"/>\n<text text-anchor=\"middle\" x=\"1024.5\" y=\"-141.8\" font-family=\"Helvetica,sans-Serif\" font-size=\"14.00\" fill=\"#000000\">SkinThickness &lt;= 35.5</text>\n<text text-anchor=\"middle\" x=\"1024.5\" y=\"-126.8\" font-family=\"Helvetica,sans-Serif\" font-size=\"14.00\" fill=\"#000000\">entropy = 0.997</text>\n<text text-anchor=\"middle\" x=\"1024.5\" y=\"-111.8\" font-family=\"Helvetica,sans-Serif\" font-size=\"14.00\" fill=\"#000000\">samples = 66</text>\n<text text-anchor=\"middle\" x=\"1024.5\" y=\"-96.8\" font-family=\"Helvetica,sans-Serif\" font-size=\"14.00\" fill=\"#000000\">value = [35, 31]</text>\n</g>\n<!-- 23&#45;&gt;24 -->\n<g id=\"edge24\" class=\"edge\">\n<title>23&#45;&gt;24</title>\n<path fill=\"none\" stroke=\"#000000\" d=\"M1024.5,-192.9465C1024.5,-184.776 1024.5,-175.9318 1024.5,-167.3697\"/>\n<polygon fill=\"#000000\" stroke=\"#000000\" points=\"1028.0001,-167.13 1024.5,-157.13 1021.0001,-167.13 1028.0001,-167.13\"/>\n</g>\n<!-- 27 -->\n<g id=\"node28\" class=\"node\">\n<title>27</title>\n<polygon fill=\"none\" stroke=\"#000000\" points=\"1283,-157 1140,-157 1140,-89 1283,-89 1283,-157\"/>\n<text text-anchor=\"middle\" x=\"1211.5\" y=\"-141.8\" font-family=\"Helvetica,sans-Serif\" font-size=\"14.00\" fill=\"#000000\">Pregnancies &lt;= 4.5</text>\n<text text-anchor=\"middle\" x=\"1211.5\" y=\"-126.8\" font-family=\"Helvetica,sans-Serif\" font-size=\"14.00\" fill=\"#000000\">entropy = 0.667</text>\n<text text-anchor=\"middle\" x=\"1211.5\" y=\"-111.8\" font-family=\"Helvetica,sans-Serif\" font-size=\"14.00\" fill=\"#000000\">samples = 23</text>\n<text text-anchor=\"middle\" x=\"1211.5\" y=\"-96.8\" font-family=\"Helvetica,sans-Serif\" font-size=\"14.00\" fill=\"#000000\">value = [4, 19]</text>\n</g>\n<!-- 23&#45;&gt;27 -->\n<g id=\"edge27\" class=\"edge\">\n<title>23&#45;&gt;27</title>\n<path fill=\"none\" stroke=\"#000000\" d=\"M1085.7308,-192.9465C1103.4893,-183.0701 1123.018,-172.2093 1141.2811,-162.0522\"/>\n<polygon fill=\"#000000\" stroke=\"#000000\" points=\"1143.0934,-165.0492 1150.1316,-157.13 1139.6911,-158.9317 1143.0934,-165.0492\"/>\n</g>\n<!-- 25 -->\n<g id=\"node26\" class=\"node\">\n<title>25</title>\n<polygon fill=\"none\" stroke=\"#000000\" points=\"1014.5,-53 896.5,-53 896.5,0 1014.5,0 1014.5,-53\"/>\n<text text-anchor=\"middle\" x=\"955.5\" y=\"-37.8\" font-family=\"Helvetica,sans-Serif\" font-size=\"14.00\" fill=\"#000000\">entropy = 0.996</text>\n<text text-anchor=\"middle\" x=\"955.5\" y=\"-22.8\" font-family=\"Helvetica,sans-Serif\" font-size=\"14.00\" fill=\"#000000\">samples = 52</text>\n<text text-anchor=\"middle\" x=\"955.5\" y=\"-7.8\" font-family=\"Helvetica,sans-Serif\" font-size=\"14.00\" fill=\"#000000\">value = [24, 28]</text>\n</g>\n<!-- 24&#45;&gt;25 -->\n<g id=\"edge25\" class=\"edge\">\n<title>24&#45;&gt;25</title>\n<path fill=\"none\" stroke=\"#000000\" d=\"M1000.1732,-88.9777C993.8221,-80.0954 986.966,-70.5067 980.5768,-61.5711\"/>\n<polygon fill=\"#000000\" stroke=\"#000000\" points=\"983.2893,-59.3472 974.6259,-53.2485 977.5952,-63.4187 983.2893,-59.3472\"/>\n</g>\n<!-- 26 -->\n<g id=\"node27\" class=\"node\">\n<title>26</title>\n<polygon fill=\"none\" stroke=\"#000000\" points=\"1142.5,-53 1032.5,-53 1032.5,0 1142.5,0 1142.5,-53\"/>\n<text text-anchor=\"middle\" x=\"1087.5\" y=\"-37.8\" font-family=\"Helvetica,sans-Serif\" font-size=\"14.00\" fill=\"#000000\">entropy = 0.75</text>\n<text text-anchor=\"middle\" x=\"1087.5\" y=\"-22.8\" font-family=\"Helvetica,sans-Serif\" font-size=\"14.00\" fill=\"#000000\">samples = 14</text>\n<text text-anchor=\"middle\" x=\"1087.5\" y=\"-7.8\" font-family=\"Helvetica,sans-Serif\" font-size=\"14.00\" fill=\"#000000\">value = [11, 3]</text>\n</g>\n<!-- 24&#45;&gt;26 -->\n<g id=\"edge26\" class=\"edge\">\n<title>24&#45;&gt;26</title>\n<path fill=\"none\" stroke=\"#000000\" d=\"M1046.7114,-88.9777C1052.4504,-80.187 1058.6412,-70.7044 1064.4233,-61.8477\"/>\n<polygon fill=\"#000000\" stroke=\"#000000\" points=\"1067.5013,-63.5354 1070.0373,-53.2485 1061.6398,-59.7087 1067.5013,-63.5354\"/>\n</g>\n<!-- 28 -->\n<g id=\"node29\" class=\"node\">\n<title>28</title>\n<polygon fill=\"none\" stroke=\"#000000\" points=\"1278.5,-53 1160.5,-53 1160.5,0 1278.5,0 1278.5,-53\"/>\n<text text-anchor=\"middle\" x=\"1219.5\" y=\"-37.8\" font-family=\"Helvetica,sans-Serif\" font-size=\"14.00\" fill=\"#000000\">entropy = 0.991</text>\n<text text-anchor=\"middle\" x=\"1219.5\" y=\"-22.8\" font-family=\"Helvetica,sans-Serif\" font-size=\"14.00\" fill=\"#000000\">samples = 9</text>\n<text text-anchor=\"middle\" x=\"1219.5\" y=\"-7.8\" font-family=\"Helvetica,sans-Serif\" font-size=\"14.00\" fill=\"#000000\">value = [4, 5]</text>\n</g>\n<!-- 27&#45;&gt;28 -->\n<g id=\"edge28\" class=\"edge\">\n<title>27&#45;&gt;28</title>\n<path fill=\"none\" stroke=\"#000000\" d=\"M1214.3205,-88.9777C1215.0113,-80.6449 1215.7537,-71.6903 1216.4545,-63.2364\"/>\n<polygon fill=\"#000000\" stroke=\"#000000\" points=\"1219.9443,-63.5035 1217.2825,-53.2485 1212.9682,-62.9251 1219.9443,-63.5035\"/>\n</g>\n<!-- 29 -->\n<g id=\"node30\" class=\"node\">\n<title>29</title>\n<polygon fill=\"none\" stroke=\"#000000\" points=\"1404,-53 1297,-53 1297,0 1404,0 1404,-53\"/>\n<text text-anchor=\"middle\" x=\"1350.5\" y=\"-37.8\" font-family=\"Helvetica,sans-Serif\" font-size=\"14.00\" fill=\"#000000\">entropy = 0.0</text>\n<text text-anchor=\"middle\" x=\"1350.5\" y=\"-22.8\" font-family=\"Helvetica,sans-Serif\" font-size=\"14.00\" fill=\"#000000\">samples = 14</text>\n<text text-anchor=\"middle\" x=\"1350.5\" y=\"-7.8\" font-family=\"Helvetica,sans-Serif\" font-size=\"14.00\" fill=\"#000000\">value = [0, 14]</text>\n</g>\n<!-- 27&#45;&gt;29 -->\n<g id=\"edge29\" class=\"edge\">\n<title>27&#45;&gt;29</title>\n<path fill=\"none\" stroke=\"#000000\" d=\"M1260.5062,-88.9777C1274.4874,-79.2713 1289.6838,-68.7213 1303.5398,-59.1018\"/>\n<polygon fill=\"#000000\" stroke=\"#000000\" points=\"1305.7526,-61.8264 1311.9711,-53.2485 1301.7606,-56.0763 1305.7526,-61.8264\"/>\n</g>\n<!-- 31 -->\n<g id=\"node32\" class=\"node\">\n<title>31</title>\n<polygon fill=\"none\" stroke=\"#000000\" points=\"1568,-469 1437,-469 1437,-401 1568,-401 1568,-469\"/>\n<text text-anchor=\"middle\" x=\"1502.5\" y=\"-453.8\" font-family=\"Helvetica,sans-Serif\" font-size=\"14.00\" fill=\"#000000\">Glucose &lt;= 151.5</text>\n<text text-anchor=\"middle\" x=\"1502.5\" y=\"-438.8\" font-family=\"Helvetica,sans-Serif\" font-size=\"14.00\" fill=\"#000000\">entropy = 0.906</text>\n<text text-anchor=\"middle\" x=\"1502.5\" y=\"-423.8\" font-family=\"Helvetica,sans-Serif\" font-size=\"14.00\" fill=\"#000000\">samples = 56</text>\n<text text-anchor=\"middle\" x=\"1502.5\" y=\"-408.8\" font-family=\"Helvetica,sans-Serif\" font-size=\"14.00\" fill=\"#000000\">value = [38, 18]</text>\n</g>\n<!-- 30&#45;&gt;31 -->\n<g id=\"edge31\" class=\"edge\">\n<title>30&#45;&gt;31</title>\n<path fill=\"none\" stroke=\"#000000\" d=\"M1502.5,-504.9465C1502.5,-496.776 1502.5,-487.9318 1502.5,-479.3697\"/>\n<polygon fill=\"#000000\" stroke=\"#000000\" points=\"1506.0001,-479.13 1502.5,-469.13 1499.0001,-479.13 1506.0001,-479.13\"/>\n</g>\n<!-- 42 -->\n<g id=\"node43\" class=\"node\">\n<title>42</title>\n<polygon fill=\"none\" stroke=\"#000000\" points=\"2047,-469 1916,-469 1916,-401 2047,-401 2047,-469\"/>\n<text text-anchor=\"middle\" x=\"1981.5\" y=\"-453.8\" font-family=\"Helvetica,sans-Serif\" font-size=\"14.00\" fill=\"#000000\">Glucose &lt;= 165.5</text>\n<text text-anchor=\"middle\" x=\"1981.5\" y=\"-438.8\" font-family=\"Helvetica,sans-Serif\" font-size=\"14.00\" fill=\"#000000\">entropy = 0.826</text>\n<text text-anchor=\"middle\" x=\"1981.5\" y=\"-423.8\" font-family=\"Helvetica,sans-Serif\" font-size=\"14.00\" fill=\"#000000\">samples = 158</text>\n<text text-anchor=\"middle\" x=\"1981.5\" y=\"-408.8\" font-family=\"Helvetica,sans-Serif\" font-size=\"14.00\" fill=\"#000000\">value = [41, 117]</text>\n</g>\n<!-- 30&#45;&gt;42 -->\n<g id=\"edge42\" class=\"edge\">\n<title>30&#45;&gt;42</title>\n<path fill=\"none\" stroke=\"#000000\" d=\"M1564.6298,-525.5104C1652.0666,-506.5263 1811.2594,-471.9625 1905.5942,-451.4806\"/>\n<polygon fill=\"#000000\" stroke=\"#000000\" points=\"1906.6114,-454.8414 1915.6411,-449.2992 1905.1262,-448.0007 1906.6114,-454.8414\"/>\n</g>\n<!-- 32 -->\n<g id=\"node33\" class=\"node\">\n<title>32</title>\n<polygon fill=\"none\" stroke=\"#000000\" points=\"1504.5,-365 1340.5,-365 1340.5,-297 1504.5,-297 1504.5,-365\"/>\n<text text-anchor=\"middle\" x=\"1422.5\" y=\"-349.8\" font-family=\"Helvetica,sans-Serif\" font-size=\"14.00\" fill=\"#000000\">SkinThickness &lt;= 22.5</text>\n<text text-anchor=\"middle\" x=\"1422.5\" y=\"-334.8\" font-family=\"Helvetica,sans-Serif\" font-size=\"14.00\" fill=\"#000000\">entropy = 0.65</text>\n<text text-anchor=\"middle\" x=\"1422.5\" y=\"-319.8\" font-family=\"Helvetica,sans-Serif\" font-size=\"14.00\" fill=\"#000000\">samples = 36</text>\n<text text-anchor=\"middle\" x=\"1422.5\" y=\"-304.8\" font-family=\"Helvetica,sans-Serif\" font-size=\"14.00\" fill=\"#000000\">value = [30, 6]</text>\n</g>\n<!-- 31&#45;&gt;32 -->\n<g id=\"edge32\" class=\"edge\">\n<title>31&#45;&gt;32</title>\n<path fill=\"none\" stroke=\"#000000\" d=\"M1476.305,-400.9465C1469.4675,-392.0578 1462.0166,-382.3716 1454.899,-373.1188\"/>\n<polygon fill=\"#000000\" stroke=\"#000000\" points=\"1457.6252,-370.9223 1448.7538,-365.13 1452.0768,-375.1903 1457.6252,-370.9223\"/>\n</g>\n<!-- 39 -->\n<g id=\"node40\" class=\"node\">\n<title>39</title>\n<polygon fill=\"none\" stroke=\"#000000\" points=\"1641.5,-365 1523.5,-365 1523.5,-297 1641.5,-297 1641.5,-365\"/>\n<text text-anchor=\"middle\" x=\"1582.5\" y=\"-349.8\" font-family=\"Helvetica,sans-Serif\" font-size=\"14.00\" fill=\"#000000\">BMI &lt;= 26.0</text>\n<text text-anchor=\"middle\" x=\"1582.5\" y=\"-334.8\" font-family=\"Helvetica,sans-Serif\" font-size=\"14.00\" fill=\"#000000\">entropy = 0.971</text>\n<text text-anchor=\"middle\" x=\"1582.5\" y=\"-319.8\" font-family=\"Helvetica,sans-Serif\" font-size=\"14.00\" fill=\"#000000\">samples = 20</text>\n<text text-anchor=\"middle\" x=\"1582.5\" y=\"-304.8\" font-family=\"Helvetica,sans-Serif\" font-size=\"14.00\" fill=\"#000000\">value = [8, 12]</text>\n</g>\n<!-- 31&#45;&gt;39 -->\n<g id=\"edge39\" class=\"edge\">\n<title>31&#45;&gt;39</title>\n<path fill=\"none\" stroke=\"#000000\" d=\"M1528.695,-400.9465C1535.5325,-392.0578 1542.9834,-382.3716 1550.101,-373.1188\"/>\n<polygon fill=\"#000000\" stroke=\"#000000\" points=\"1552.9232,-375.1903 1556.2462,-365.13 1547.3748,-370.9223 1552.9232,-375.1903\"/>\n</g>\n<!-- 33 -->\n<g id=\"node34\" class=\"node\">\n<title>33</title>\n<polygon fill=\"none\" stroke=\"#000000\" points=\"1322,-253.5 1215,-253.5 1215,-200.5 1322,-200.5 1322,-253.5\"/>\n<text text-anchor=\"middle\" x=\"1268.5\" y=\"-238.3\" font-family=\"Helvetica,sans-Serif\" font-size=\"14.00\" fill=\"#000000\">entropy = 0.0</text>\n<text text-anchor=\"middle\" x=\"1268.5\" y=\"-223.3\" font-family=\"Helvetica,sans-Serif\" font-size=\"14.00\" fill=\"#000000\">samples = 11</text>\n<text text-anchor=\"middle\" x=\"1268.5\" y=\"-208.3\" font-family=\"Helvetica,sans-Serif\" font-size=\"14.00\" fill=\"#000000\">value = [11, 0]</text>\n</g>\n<!-- 32&#45;&gt;33 -->\n<g id=\"edge33\" class=\"edge\">\n<title>32&#45;&gt;33</title>\n<path fill=\"none\" stroke=\"#000000\" d=\"M1372.0746,-296.9465C1354.1331,-284.8301 1333.9974,-271.232 1316.2838,-259.2696\"/>\n<polygon fill=\"#000000\" stroke=\"#000000\" points=\"1318.0489,-256.2382 1307.8028,-253.5422 1314.1313,-262.0393 1318.0489,-256.2382\"/>\n</g>\n<!-- 34 -->\n<g id=\"node35\" class=\"node\">\n<title>34</title>\n<polygon fill=\"none\" stroke=\"#000000\" points=\"1505,-261 1340,-261 1340,-193 1505,-193 1505,-261\"/>\n<text text-anchor=\"middle\" x=\"1422.5\" y=\"-245.8\" font-family=\"Helvetica,sans-Serif\" font-size=\"14.00\" fill=\"#000000\">BloodPressure &lt;= 73.0</text>\n<text text-anchor=\"middle\" x=\"1422.5\" y=\"-230.8\" font-family=\"Helvetica,sans-Serif\" font-size=\"14.00\" fill=\"#000000\">entropy = 0.795</text>\n<text text-anchor=\"middle\" x=\"1422.5\" y=\"-215.8\" font-family=\"Helvetica,sans-Serif\" font-size=\"14.00\" fill=\"#000000\">samples = 25</text>\n<text text-anchor=\"middle\" x=\"1422.5\" y=\"-200.8\" font-family=\"Helvetica,sans-Serif\" font-size=\"14.00\" fill=\"#000000\">value = [19, 6]</text>\n</g>\n<!-- 32&#45;&gt;34 -->\n<g id=\"edge34\" class=\"edge\">\n<title>32&#45;&gt;34</title>\n<path fill=\"none\" stroke=\"#000000\" d=\"M1422.5,-296.9465C1422.5,-288.776 1422.5,-279.9318 1422.5,-271.3697\"/>\n<polygon fill=\"#000000\" stroke=\"#000000\" points=\"1426.0001,-271.13 1422.5,-261.13 1419.0001,-271.13 1426.0001,-271.13\"/>\n</g>\n<!-- 35 -->\n<g id=\"node36\" class=\"node\">\n<title>35</title>\n<polygon fill=\"none\" stroke=\"#000000\" points=\"1419.5,-149.5 1301.5,-149.5 1301.5,-96.5 1419.5,-96.5 1419.5,-149.5\"/>\n<text text-anchor=\"middle\" x=\"1360.5\" y=\"-134.3\" font-family=\"Helvetica,sans-Serif\" font-size=\"14.00\" fill=\"#000000\">entropy = 0.994</text>\n<text text-anchor=\"middle\" x=\"1360.5\" y=\"-119.3\" font-family=\"Helvetica,sans-Serif\" font-size=\"14.00\" fill=\"#000000\">samples = 11</text>\n<text text-anchor=\"middle\" x=\"1360.5\" y=\"-104.3\" font-family=\"Helvetica,sans-Serif\" font-size=\"14.00\" fill=\"#000000\">value = [6, 5]</text>\n</g>\n<!-- 34&#45;&gt;35 -->\n<g id=\"edge35\" class=\"edge\">\n<title>34&#45;&gt;35</title>\n<path fill=\"none\" stroke=\"#000000\" d=\"M1402.1989,-192.9465C1395.5666,-181.8215 1388.1897,-169.4473 1381.5067,-158.237\"/>\n<polygon fill=\"#000000\" stroke=\"#000000\" points=\"1384.4502,-156.3394 1376.3232,-149.5422 1378.4376,-159.9239 1384.4502,-156.3394\"/>\n</g>\n<!-- 36 -->\n<g id=\"node37\" class=\"node\">\n<title>36</title>\n<polygon fill=\"none\" stroke=\"#000000\" points=\"1687.5,-157 1437.5,-157 1437.5,-89 1687.5,-89 1687.5,-157\"/>\n<text text-anchor=\"middle\" x=\"1562.5\" y=\"-141.8\" font-family=\"Helvetica,sans-Serif\" font-size=\"14.00\" fill=\"#000000\">DiabetesPedigreeFunction &lt;= 0.264</text>\n<text text-anchor=\"middle\" x=\"1562.5\" y=\"-126.8\" font-family=\"Helvetica,sans-Serif\" font-size=\"14.00\" fill=\"#000000\">entropy = 0.371</text>\n<text text-anchor=\"middle\" x=\"1562.5\" y=\"-111.8\" font-family=\"Helvetica,sans-Serif\" font-size=\"14.00\" fill=\"#000000\">samples = 14</text>\n<text text-anchor=\"middle\" x=\"1562.5\" y=\"-96.8\" font-family=\"Helvetica,sans-Serif\" font-size=\"14.00\" fill=\"#000000\">value = [13, 1]</text>\n</g>\n<!-- 34&#45;&gt;36 -->\n<g id=\"edge36\" class=\"edge\">\n<title>34&#45;&gt;36</title>\n<path fill=\"none\" stroke=\"#000000\" d=\"M1468.3412,-192.9465C1481.1529,-183.4293 1495.1952,-172.9978 1508.4344,-163.163\"/>\n<polygon fill=\"#000000\" stroke=\"#000000\" points=\"1510.6155,-165.9029 1516.5558,-157.13 1506.4412,-160.2837 1510.6155,-165.9029\"/>\n</g>\n<!-- 37 -->\n<g id=\"node38\" class=\"node\">\n<title>37</title>\n<polygon fill=\"none\" stroke=\"#000000\" points=\"1587.5,-53 1477.5,-53 1477.5,0 1587.5,0 1587.5,-53\"/>\n<text text-anchor=\"middle\" x=\"1532.5\" y=\"-37.8\" font-family=\"Helvetica,sans-Serif\" font-size=\"14.00\" fill=\"#000000\">entropy = 0.65</text>\n<text text-anchor=\"middle\" x=\"1532.5\" y=\"-22.8\" font-family=\"Helvetica,sans-Serif\" font-size=\"14.00\" fill=\"#000000\">samples = 6</text>\n<text text-anchor=\"middle\" x=\"1532.5\" y=\"-7.8\" font-family=\"Helvetica,sans-Serif\" font-size=\"14.00\" fill=\"#000000\">value = [5, 1]</text>\n</g>\n<!-- 36&#45;&gt;37 -->\n<g id=\"edge37\" class=\"edge\">\n<title>36&#45;&gt;37</title>\n<path fill=\"none\" stroke=\"#000000\" d=\"M1551.9231,-88.9777C1549.3041,-80.5533 1546.4876,-71.4934 1543.8341,-62.9579\"/>\n<polygon fill=\"#000000\" stroke=\"#000000\" points=\"1547.1265,-61.7586 1540.8156,-53.2485 1540.4421,-63.8367 1547.1265,-61.7586\"/>\n</g>\n<!-- 38 -->\n<g id=\"node39\" class=\"node\">\n<title>38</title>\n<polygon fill=\"none\" stroke=\"#000000\" points=\"1707,-53 1606,-53 1606,0 1707,0 1707,-53\"/>\n<text text-anchor=\"middle\" x=\"1656.5\" y=\"-37.8\" font-family=\"Helvetica,sans-Serif\" font-size=\"14.00\" fill=\"#000000\">entropy = 0.0</text>\n<text text-anchor=\"middle\" x=\"1656.5\" y=\"-22.8\" font-family=\"Helvetica,sans-Serif\" font-size=\"14.00\" fill=\"#000000\">samples = 8</text>\n<text text-anchor=\"middle\" x=\"1656.5\" y=\"-7.8\" font-family=\"Helvetica,sans-Serif\" font-size=\"14.00\" fill=\"#000000\">value = [8, 0]</text>\n</g>\n<!-- 36&#45;&gt;38 -->\n<g id=\"edge38\" class=\"edge\">\n<title>36&#45;&gt;38</title>\n<path fill=\"none\" stroke=\"#000000\" d=\"M1595.6409,-88.9777C1604.6498,-79.7292 1614.4048,-69.7147 1623.4109,-60.4691\"/>\n<polygon fill=\"#000000\" stroke=\"#000000\" points=\"1625.9739,-62.8539 1630.4445,-53.2485 1620.9596,-57.9696 1625.9739,-62.8539\"/>\n</g>\n<!-- 40 -->\n<g id=\"node41\" class=\"node\">\n<title>40</title>\n<polygon fill=\"none\" stroke=\"#000000\" points=\"1641.5,-253.5 1523.5,-253.5 1523.5,-200.5 1641.5,-200.5 1641.5,-253.5\"/>\n<text text-anchor=\"middle\" x=\"1582.5\" y=\"-238.3\" font-family=\"Helvetica,sans-Serif\" font-size=\"14.00\" fill=\"#000000\">entropy = 0.722</text>\n<text text-anchor=\"middle\" x=\"1582.5\" y=\"-223.3\" font-family=\"Helvetica,sans-Serif\" font-size=\"14.00\" fill=\"#000000\">samples = 10</text>\n<text text-anchor=\"middle\" x=\"1582.5\" y=\"-208.3\" font-family=\"Helvetica,sans-Serif\" font-size=\"14.00\" fill=\"#000000\">value = [2, 8]</text>\n</g>\n<!-- 39&#45;&gt;40 -->\n<g id=\"edge40\" class=\"edge\">\n<title>39&#45;&gt;40</title>\n<path fill=\"none\" stroke=\"#000000\" d=\"M1582.5,-296.9465C1582.5,-286.2621 1582.5,-274.4254 1582.5,-263.5742\"/>\n<polygon fill=\"#000000\" stroke=\"#000000\" points=\"1586.0001,-263.5421 1582.5,-253.5422 1579.0001,-263.5422 1586.0001,-263.5421\"/>\n</g>\n<!-- 41 -->\n<g id=\"node42\" class=\"node\">\n<title>41</title>\n<polygon fill=\"none\" stroke=\"#000000\" points=\"1777.5,-253.5 1659.5,-253.5 1659.5,-200.5 1777.5,-200.5 1777.5,-253.5\"/>\n<text text-anchor=\"middle\" x=\"1718.5\" y=\"-238.3\" font-family=\"Helvetica,sans-Serif\" font-size=\"14.00\" fill=\"#000000\">entropy = 0.971</text>\n<text text-anchor=\"middle\" x=\"1718.5\" y=\"-223.3\" font-family=\"Helvetica,sans-Serif\" font-size=\"14.00\" fill=\"#000000\">samples = 10</text>\n<text text-anchor=\"middle\" x=\"1718.5\" y=\"-208.3\" font-family=\"Helvetica,sans-Serif\" font-size=\"14.00\" fill=\"#000000\">value = [6, 4]</text>\n</g>\n<!-- 39&#45;&gt;41 -->\n<g id=\"edge41\" class=\"edge\">\n<title>39&#45;&gt;41</title>\n<path fill=\"none\" stroke=\"#000000\" d=\"M1627.0315,-296.9465C1642.5879,-285.0504 1660.0121,-271.726 1675.4459,-259.9237\"/>\n<polygon fill=\"#000000\" stroke=\"#000000\" points=\"1677.9735,-262.397 1683.791,-253.5422 1673.7213,-256.8364 1677.9735,-262.397\"/>\n</g>\n<!-- 43 -->\n<g id=\"node44\" class=\"node\">\n<title>43</title>\n<polygon fill=\"none\" stroke=\"#000000\" points=\"2106.5,-365 1856.5,-365 1856.5,-297 2106.5,-297 2106.5,-365\"/>\n<text text-anchor=\"middle\" x=\"1981.5\" y=\"-349.8\" font-family=\"Helvetica,sans-Serif\" font-size=\"14.00\" fill=\"#000000\">DiabetesPedigreeFunction &lt;= 0.343</text>\n<text text-anchor=\"middle\" x=\"1981.5\" y=\"-334.8\" font-family=\"Helvetica,sans-Serif\" font-size=\"14.00\" fill=\"#000000\">entropy = 0.931</text>\n<text text-anchor=\"middle\" x=\"1981.5\" y=\"-319.8\" font-family=\"Helvetica,sans-Serif\" font-size=\"14.00\" fill=\"#000000\">samples = 104</text>\n<text text-anchor=\"middle\" x=\"1981.5\" y=\"-304.8\" font-family=\"Helvetica,sans-Serif\" font-size=\"14.00\" fill=\"#000000\">value = [36, 68]</text>\n</g>\n<!-- 42&#45;&gt;43 -->\n<g id=\"edge43\" class=\"edge\">\n<title>42&#45;&gt;43</title>\n<path fill=\"none\" stroke=\"#000000\" d=\"M1981.5,-400.9465C1981.5,-392.776 1981.5,-383.9318 1981.5,-375.3697\"/>\n<polygon fill=\"#000000\" stroke=\"#000000\" points=\"1985.0001,-375.13 1981.5,-365.13 1978.0001,-375.13 1985.0001,-375.13\"/>\n</g>\n<!-- 54 -->\n<g id=\"node55\" class=\"node\">\n<title>54</title>\n<polygon fill=\"none\" stroke=\"#000000\" points=\"2439.5,-365 2275.5,-365 2275.5,-297 2439.5,-297 2439.5,-365\"/>\n<text text-anchor=\"middle\" x=\"2357.5\" y=\"-349.8\" font-family=\"Helvetica,sans-Serif\" font-size=\"14.00\" fill=\"#000000\">SkinThickness &lt;= 32.5</text>\n<text text-anchor=\"middle\" x=\"2357.5\" y=\"-334.8\" font-family=\"Helvetica,sans-Serif\" font-size=\"14.00\" fill=\"#000000\">entropy = 0.445</text>\n<text text-anchor=\"middle\" x=\"2357.5\" y=\"-319.8\" font-family=\"Helvetica,sans-Serif\" font-size=\"14.00\" fill=\"#000000\">samples = 54</text>\n<text text-anchor=\"middle\" x=\"2357.5\" y=\"-304.8\" font-family=\"Helvetica,sans-Serif\" font-size=\"14.00\" fill=\"#000000\">value = [5, 49]</text>\n</g>\n<!-- 42&#45;&gt;54 -->\n<g id=\"edge54\" class=\"edge\">\n<title>42&#45;&gt;54</title>\n<path fill=\"none\" stroke=\"#000000\" d=\"M2047.4245,-416.7656C2107.8481,-400.0527 2197.9125,-375.1412 2265.4287,-356.4665\"/>\n<polygon fill=\"#000000\" stroke=\"#000000\" points=\"2266.5153,-359.7975 2275.2203,-353.7582 2264.6492,-353.0508 2266.5153,-359.7975\"/>\n</g>\n<!-- 44 -->\n<g id=\"node45\" class=\"node\">\n<title>44</title>\n<polygon fill=\"none\" stroke=\"#000000\" points=\"1960.5,-261 1842.5,-261 1842.5,-193 1960.5,-193 1960.5,-261\"/>\n<text text-anchor=\"middle\" x=\"1901.5\" y=\"-245.8\" font-family=\"Helvetica,sans-Serif\" font-size=\"14.00\" fill=\"#000000\">BMI &lt;= 32.65</text>\n<text text-anchor=\"middle\" x=\"1901.5\" y=\"-230.8\" font-family=\"Helvetica,sans-Serif\" font-size=\"14.00\" fill=\"#000000\">entropy = 0.998</text>\n<text text-anchor=\"middle\" x=\"1901.5\" y=\"-215.8\" font-family=\"Helvetica,sans-Serif\" font-size=\"14.00\" fill=\"#000000\">samples = 38</text>\n<text text-anchor=\"middle\" x=\"1901.5\" y=\"-200.8\" font-family=\"Helvetica,sans-Serif\" font-size=\"14.00\" fill=\"#000000\">value = [20, 18]</text>\n</g>\n<!-- 43&#45;&gt;44 -->\n<g id=\"edge44\" class=\"edge\">\n<title>43&#45;&gt;44</title>\n<path fill=\"none\" stroke=\"#000000\" d=\"M1955.305,-296.9465C1948.4675,-288.0578 1941.0166,-278.3716 1933.899,-269.1188\"/>\n<polygon fill=\"#000000\" stroke=\"#000000\" points=\"1936.6252,-266.9223 1927.7538,-261.13 1931.0768,-271.1903 1936.6252,-266.9223\"/>\n</g>\n<!-- 49 -->\n<g id=\"node50\" class=\"node\">\n<title>49</title>\n<polygon fill=\"none\" stroke=\"#000000\" points=\"2121,-261 2002,-261 2002,-193 2121,-193 2121,-261\"/>\n<text text-anchor=\"middle\" x=\"2061.5\" y=\"-245.8\" font-family=\"Helvetica,sans-Serif\" font-size=\"14.00\" fill=\"#000000\">Insulin &lt;= 289.0</text>\n<text text-anchor=\"middle\" x=\"2061.5\" y=\"-230.8\" font-family=\"Helvetica,sans-Serif\" font-size=\"14.00\" fill=\"#000000\">entropy = 0.799</text>\n<text text-anchor=\"middle\" x=\"2061.5\" y=\"-215.8\" font-family=\"Helvetica,sans-Serif\" font-size=\"14.00\" fill=\"#000000\">samples = 66</text>\n<text text-anchor=\"middle\" x=\"2061.5\" y=\"-200.8\" font-family=\"Helvetica,sans-Serif\" font-size=\"14.00\" fill=\"#000000\">value = [16, 50]</text>\n</g>\n<!-- 43&#45;&gt;49 -->\n<g id=\"edge49\" class=\"edge\">\n<title>43&#45;&gt;49</title>\n<path fill=\"none\" stroke=\"#000000\" d=\"M2007.695,-296.9465C2014.5325,-288.0578 2021.9834,-278.3716 2029.101,-269.1188\"/>\n<polygon fill=\"#000000\" stroke=\"#000000\" points=\"2031.9232,-271.1903 2035.2462,-261.13 2026.3748,-266.9223 2031.9232,-271.1903\"/>\n</g>\n<!-- 45 -->\n<g id=\"node46\" class=\"node\">\n<title>45</title>\n<polygon fill=\"none\" stroke=\"#000000\" points=\"1823.5,-149.5 1705.5,-149.5 1705.5,-96.5 1823.5,-96.5 1823.5,-149.5\"/>\n<text text-anchor=\"middle\" x=\"1764.5\" y=\"-134.3\" font-family=\"Helvetica,sans-Serif\" font-size=\"14.00\" fill=\"#000000\">entropy = 0.544</text>\n<text text-anchor=\"middle\" x=\"1764.5\" y=\"-119.3\" font-family=\"Helvetica,sans-Serif\" font-size=\"14.00\" fill=\"#000000\">samples = 8</text>\n<text text-anchor=\"middle\" x=\"1764.5\" y=\"-104.3\" font-family=\"Helvetica,sans-Serif\" font-size=\"14.00\" fill=\"#000000\">value = [7, 1]</text>\n</g>\n<!-- 44&#45;&gt;45 -->\n<g id=\"edge45\" class=\"edge\">\n<title>44&#45;&gt;45</title>\n<path fill=\"none\" stroke=\"#000000\" d=\"M1856.6411,-192.9465C1840.8252,-180.9403 1823.0927,-167.4791 1807.4393,-155.5962\"/>\n<polygon fill=\"#000000\" stroke=\"#000000\" points=\"1809.5455,-152.8009 1799.4642,-149.5422 1805.3129,-158.3764 1809.5455,-152.8009\"/>\n</g>\n<!-- 46 -->\n<g id=\"node47\" class=\"node\">\n<title>46</title>\n<polygon fill=\"none\" stroke=\"#000000\" points=\"1961,-157 1842,-157 1842,-89 1961,-89 1961,-157\"/>\n<text text-anchor=\"middle\" x=\"1901.5\" y=\"-141.8\" font-family=\"Helvetica,sans-Serif\" font-size=\"14.00\" fill=\"#000000\">Insulin &lt;= 187.0</text>\n<text text-anchor=\"middle\" x=\"1901.5\" y=\"-126.8\" font-family=\"Helvetica,sans-Serif\" font-size=\"14.00\" fill=\"#000000\">entropy = 0.987</text>\n<text text-anchor=\"middle\" x=\"1901.5\" y=\"-111.8\" font-family=\"Helvetica,sans-Serif\" font-size=\"14.00\" fill=\"#000000\">samples = 30</text>\n<text text-anchor=\"middle\" x=\"1901.5\" y=\"-96.8\" font-family=\"Helvetica,sans-Serif\" font-size=\"14.00\" fill=\"#000000\">value = [13, 17]</text>\n</g>\n<!-- 44&#45;&gt;46 -->\n<g id=\"edge46\" class=\"edge\">\n<title>44&#45;&gt;46</title>\n<path fill=\"none\" stroke=\"#000000\" d=\"M1901.5,-192.9465C1901.5,-184.776 1901.5,-175.9318 1901.5,-167.3697\"/>\n<polygon fill=\"#000000\" stroke=\"#000000\" points=\"1905.0001,-167.13 1901.5,-157.13 1898.0001,-167.13 1905.0001,-167.13\"/>\n</g>\n<!-- 47 -->\n<g id=\"node48\" class=\"node\">\n<title>47</title>\n<polygon fill=\"none\" stroke=\"#000000\" points=\"1847.5,-53 1729.5,-53 1729.5,0 1847.5,0 1847.5,-53\"/>\n<text text-anchor=\"middle\" x=\"1788.5\" y=\"-37.8\" font-family=\"Helvetica,sans-Serif\" font-size=\"14.00\" fill=\"#000000\">entropy = 0.918</text>\n<text text-anchor=\"middle\" x=\"1788.5\" y=\"-22.8\" font-family=\"Helvetica,sans-Serif\" font-size=\"14.00\" fill=\"#000000\">samples = 24</text>\n<text text-anchor=\"middle\" x=\"1788.5\" y=\"-7.8\" font-family=\"Helvetica,sans-Serif\" font-size=\"14.00\" fill=\"#000000\">value = [8, 16]</text>\n</g>\n<!-- 46&#45;&gt;47 -->\n<g id=\"edge47\" class=\"edge\">\n<title>46&#45;&gt;47</title>\n<path fill=\"none\" stroke=\"#000000\" d=\"M1861.6604,-88.9777C1850.6161,-79.546 1838.639,-69.3178 1827.6352,-59.9208\"/>\n<polygon fill=\"#000000\" stroke=\"#000000\" points=\"1829.6994,-57.081 1819.8221,-53.2485 1825.1536,-62.4041 1829.6994,-57.081\"/>\n</g>\n<!-- 48 -->\n<g id=\"node49\" class=\"node\">\n<title>48</title>\n<polygon fill=\"none\" stroke=\"#000000\" points=\"1975.5,-53 1865.5,-53 1865.5,0 1975.5,0 1975.5,-53\"/>\n<text text-anchor=\"middle\" x=\"1920.5\" y=\"-37.8\" font-family=\"Helvetica,sans-Serif\" font-size=\"14.00\" fill=\"#000000\">entropy = 0.65</text>\n<text text-anchor=\"middle\" x=\"1920.5\" y=\"-22.8\" font-family=\"Helvetica,sans-Serif\" font-size=\"14.00\" fill=\"#000000\">samples = 6</text>\n<text text-anchor=\"middle\" x=\"1920.5\" y=\"-7.8\" font-family=\"Helvetica,sans-Serif\" font-size=\"14.00\" fill=\"#000000\">value = [5, 1]</text>\n</g>\n<!-- 46&#45;&gt;48 -->\n<g id=\"edge48\" class=\"edge\">\n<title>46&#45;&gt;48</title>\n<path fill=\"none\" stroke=\"#000000\" d=\"M1908.1987,-88.9777C1909.8394,-80.6449 1911.6024,-71.6903 1913.2669,-63.2364\"/>\n<polygon fill=\"#000000\" stroke=\"#000000\" points=\"1916.7356,-63.7363 1915.2335,-53.2485 1909.8675,-62.3839 1916.7356,-63.7363\"/>\n</g>\n<!-- 50 -->\n<g id=\"node51\" class=\"node\">\n<title>50</title>\n<polygon fill=\"none\" stroke=\"#000000\" points=\"2144,-157 1979,-157 1979,-89 2144,-89 2144,-157\"/>\n<text text-anchor=\"middle\" x=\"2061.5\" y=\"-141.8\" font-family=\"Helvetica,sans-Serif\" font-size=\"14.00\" fill=\"#000000\">BloodPressure &lt;= 73.0</text>\n<text text-anchor=\"middle\" x=\"2061.5\" y=\"-126.8\" font-family=\"Helvetica,sans-Serif\" font-size=\"14.00\" fill=\"#000000\">entropy = 0.636</text>\n<text text-anchor=\"middle\" x=\"2061.5\" y=\"-111.8\" font-family=\"Helvetica,sans-Serif\" font-size=\"14.00\" fill=\"#000000\">samples = 56</text>\n<text text-anchor=\"middle\" x=\"2061.5\" y=\"-96.8\" font-family=\"Helvetica,sans-Serif\" font-size=\"14.00\" fill=\"#000000\">value = [9, 47]</text>\n</g>\n<!-- 49&#45;&gt;50 -->\n<g id=\"edge50\" class=\"edge\">\n<title>49&#45;&gt;50</title>\n<path fill=\"none\" stroke=\"#000000\" d=\"M2061.5,-192.9465C2061.5,-184.776 2061.5,-175.9318 2061.5,-167.3697\"/>\n<polygon fill=\"#000000\" stroke=\"#000000\" points=\"2065.0001,-167.13 2061.5,-157.13 2058.0001,-167.13 2065.0001,-167.13\"/>\n</g>\n<!-- 53 -->\n<g id=\"node54\" class=\"node\">\n<title>53</title>\n<polygon fill=\"none\" stroke=\"#000000\" points=\"2280.5,-149.5 2162.5,-149.5 2162.5,-96.5 2280.5,-96.5 2280.5,-149.5\"/>\n<text text-anchor=\"middle\" x=\"2221.5\" y=\"-134.3\" font-family=\"Helvetica,sans-Serif\" font-size=\"14.00\" fill=\"#000000\">entropy = 0.881</text>\n<text text-anchor=\"middle\" x=\"2221.5\" y=\"-119.3\" font-family=\"Helvetica,sans-Serif\" font-size=\"14.00\" fill=\"#000000\">samples = 10</text>\n<text text-anchor=\"middle\" x=\"2221.5\" y=\"-104.3\" font-family=\"Helvetica,sans-Serif\" font-size=\"14.00\" fill=\"#000000\">value = [7, 3]</text>\n</g>\n<!-- 49&#45;&gt;53 -->\n<g id=\"edge53\" class=\"edge\">\n<title>49&#45;&gt;53</title>\n<path fill=\"none\" stroke=\"#000000\" d=\"M2113.89,-192.9465C2132.6153,-180.775 2153.641,-167.1084 2172.1053,-155.1066\"/>\n<polygon fill=\"#000000\" stroke=\"#000000\" points=\"2174.1889,-157.9267 2180.6659,-149.5422 2170.374,-152.0575 2174.1889,-157.9267\"/>\n</g>\n<!-- 51 -->\n<g id=\"node52\" class=\"node\">\n<title>51</title>\n<polygon fill=\"none\" stroke=\"#000000\" points=\"2113.5,-53 1995.5,-53 1995.5,0 2113.5,0 2113.5,-53\"/>\n<text text-anchor=\"middle\" x=\"2054.5\" y=\"-37.8\" font-family=\"Helvetica,sans-Serif\" font-size=\"14.00\" fill=\"#000000\">entropy = 0.258</text>\n<text text-anchor=\"middle\" x=\"2054.5\" y=\"-22.8\" font-family=\"Helvetica,sans-Serif\" font-size=\"14.00\" fill=\"#000000\">samples = 23</text>\n<text text-anchor=\"middle\" x=\"2054.5\" y=\"-7.8\" font-family=\"Helvetica,sans-Serif\" font-size=\"14.00\" fill=\"#000000\">value = [1, 22]</text>\n</g>\n<!-- 50&#45;&gt;51 -->\n<g id=\"edge51\" class=\"edge\">\n<title>50&#45;&gt;51</title>\n<path fill=\"none\" stroke=\"#000000\" d=\"M2059.0321,-88.9777C2058.4276,-80.6449 2057.778,-71.6903 2057.1648,-63.2364\"/>\n<polygon fill=\"#000000\" stroke=\"#000000\" points=\"2060.6547,-62.969 2056.4403,-53.2485 2053.6731,-63.4755 2060.6547,-62.969\"/>\n</g>\n<!-- 52 -->\n<g id=\"node53\" class=\"node\">\n<title>52</title>\n<polygon fill=\"none\" stroke=\"#000000\" points=\"2249.5,-53 2131.5,-53 2131.5,0 2249.5,0 2249.5,-53\"/>\n<text text-anchor=\"middle\" x=\"2190.5\" y=\"-37.8\" font-family=\"Helvetica,sans-Serif\" font-size=\"14.00\" fill=\"#000000\">entropy = 0.799</text>\n<text text-anchor=\"middle\" x=\"2190.5\" y=\"-22.8\" font-family=\"Helvetica,sans-Serif\" font-size=\"14.00\" fill=\"#000000\">samples = 33</text>\n<text text-anchor=\"middle\" x=\"2190.5\" y=\"-7.8\" font-family=\"Helvetica,sans-Serif\" font-size=\"14.00\" fill=\"#000000\">value = [8, 25]</text>\n</g>\n<!-- 50&#45;&gt;52 -->\n<g id=\"edge52\" class=\"edge\">\n<title>50&#45;&gt;52</title>\n<path fill=\"none\" stroke=\"#000000\" d=\"M2106.9806,-88.9777C2119.8335,-79.3629 2133.7931,-68.9203 2146.554,-59.3743\"/>\n<polygon fill=\"#000000\" stroke=\"#000000\" points=\"2148.832,-62.0412 2154.743,-53.2485 2144.639,-56.436 2148.832,-62.0412\"/>\n</g>\n<!-- 55 -->\n<g id=\"node56\" class=\"node\">\n<title>55</title>\n<polygon fill=\"none\" stroke=\"#000000\" points=\"2482.5,-261 2232.5,-261 2232.5,-193 2482.5,-193 2482.5,-261\"/>\n<text text-anchor=\"middle\" x=\"2357.5\" y=\"-245.8\" font-family=\"Helvetica,sans-Serif\" font-size=\"14.00\" fill=\"#000000\">DiabetesPedigreeFunction &lt;= 0.307</text>\n<text text-anchor=\"middle\" x=\"2357.5\" y=\"-230.8\" font-family=\"Helvetica,sans-Serif\" font-size=\"14.00\" fill=\"#000000\">entropy = 0.614</text>\n<text text-anchor=\"middle\" x=\"2357.5\" y=\"-215.8\" font-family=\"Helvetica,sans-Serif\" font-size=\"14.00\" fill=\"#000000\">samples = 33</text>\n<text text-anchor=\"middle\" x=\"2357.5\" y=\"-200.8\" font-family=\"Helvetica,sans-Serif\" font-size=\"14.00\" fill=\"#000000\">value = [5, 28]</text>\n</g>\n<!-- 54&#45;&gt;55 -->\n<g id=\"edge55\" class=\"edge\">\n<title>54&#45;&gt;55</title>\n<path fill=\"none\" stroke=\"#000000\" d=\"M2357.5,-296.9465C2357.5,-288.776 2357.5,-279.9318 2357.5,-271.3697\"/>\n<polygon fill=\"#000000\" stroke=\"#000000\" points=\"2361.0001,-271.13 2357.5,-261.13 2354.0001,-271.13 2361.0001,-271.13\"/>\n</g>\n<!-- 60 -->\n<g id=\"node61\" class=\"node\">\n<title>60</title>\n<polygon fill=\"none\" stroke=\"#000000\" points=\"2608,-253.5 2501,-253.5 2501,-200.5 2608,-200.5 2608,-253.5\"/>\n<text text-anchor=\"middle\" x=\"2554.5\" y=\"-238.3\" font-family=\"Helvetica,sans-Serif\" font-size=\"14.00\" fill=\"#000000\">entropy = 0.0</text>\n<text text-anchor=\"middle\" x=\"2554.5\" y=\"-223.3\" font-family=\"Helvetica,sans-Serif\" font-size=\"14.00\" fill=\"#000000\">samples = 21</text>\n<text text-anchor=\"middle\" x=\"2554.5\" y=\"-208.3\" font-family=\"Helvetica,sans-Serif\" font-size=\"14.00\" fill=\"#000000\">value = [0, 21]</text>\n</g>\n<!-- 54&#45;&gt;60 -->\n<g id=\"edge60\" class=\"edge\">\n<title>54&#45;&gt;60</title>\n<path fill=\"none\" stroke=\"#000000\" d=\"M2423.0225,-296.9965C2444.8386,-285.6151 2469.2459,-272.817 2491.5,-261 2493.0471,-260.1785 2494.6148,-259.3444 2496.1961,-258.5016\"/>\n<polygon fill=\"#000000\" stroke=\"#000000\" points=\"2498.1847,-261.4073 2505.3536,-253.6061 2494.8845,-255.234 2498.1847,-261.4073\"/>\n</g>\n<!-- 56 -->\n<g id=\"node57\" class=\"node\">\n<title>56</title>\n<polygon fill=\"none\" stroke=\"#000000\" points=\"2416.5,-149.5 2298.5,-149.5 2298.5,-96.5 2416.5,-96.5 2416.5,-149.5\"/>\n<text text-anchor=\"middle\" x=\"2357.5\" y=\"-134.3\" font-family=\"Helvetica,sans-Serif\" font-size=\"14.00\" fill=\"#000000\">entropy = 0.918</text>\n<text text-anchor=\"middle\" x=\"2357.5\" y=\"-119.3\" font-family=\"Helvetica,sans-Serif\" font-size=\"14.00\" fill=\"#000000\">samples = 9</text>\n<text text-anchor=\"middle\" x=\"2357.5\" y=\"-104.3\" font-family=\"Helvetica,sans-Serif\" font-size=\"14.00\" fill=\"#000000\">value = [3, 6]</text>\n</g>\n<!-- 55&#45;&gt;56 -->\n<g id=\"edge56\" class=\"edge\">\n<title>55&#45;&gt;56</title>\n<path fill=\"none\" stroke=\"#000000\" d=\"M2357.5,-192.9465C2357.5,-182.2621 2357.5,-170.4254 2357.5,-159.5742\"/>\n<polygon fill=\"#000000\" stroke=\"#000000\" points=\"2361.0001,-159.5421 2357.5,-149.5422 2354.0001,-159.5422 2361.0001,-159.5421\"/>\n</g>\n<!-- 57 -->\n<g id=\"node58\" class=\"node\">\n<title>57</title>\n<polygon fill=\"none\" stroke=\"#000000\" points=\"2676.5,-157 2434.5,-157 2434.5,-89 2676.5,-89 2676.5,-157\"/>\n<text text-anchor=\"middle\" x=\"2555.5\" y=\"-141.8\" font-family=\"Helvetica,sans-Serif\" font-size=\"14.00\" fill=\"#000000\">DiabetesPedigreeFunction &lt;= 0.97</text>\n<text text-anchor=\"middle\" x=\"2555.5\" y=\"-126.8\" font-family=\"Helvetica,sans-Serif\" font-size=\"14.00\" fill=\"#000000\">entropy = 0.414</text>\n<text text-anchor=\"middle\" x=\"2555.5\" y=\"-111.8\" font-family=\"Helvetica,sans-Serif\" font-size=\"14.00\" fill=\"#000000\">samples = 24</text>\n<text text-anchor=\"middle\" x=\"2555.5\" y=\"-96.8\" font-family=\"Helvetica,sans-Serif\" font-size=\"14.00\" fill=\"#000000\">value = [2, 22]</text>\n</g>\n<!-- 55&#45;&gt;57 -->\n<g id=\"edge57\" class=\"edge\">\n<title>55&#45;&gt;57</title>\n<path fill=\"none\" stroke=\"#000000\" d=\"M2422.3326,-192.9465C2441.2212,-183.0252 2462.0012,-172.1105 2481.4142,-161.9138\"/>\n<polygon fill=\"#000000\" stroke=\"#000000\" points=\"2483.2962,-164.8787 2490.5217,-157.13 2480.0411,-158.6816 2483.2962,-164.8787\"/>\n</g>\n<!-- 58 -->\n<g id=\"node59\" class=\"node\">\n<title>58</title>\n<polygon fill=\"none\" stroke=\"#000000\" points=\"2543,-53 2436,-53 2436,0 2543,0 2543,-53\"/>\n<text text-anchor=\"middle\" x=\"2489.5\" y=\"-37.8\" font-family=\"Helvetica,sans-Serif\" font-size=\"14.00\" fill=\"#000000\">entropy = 0.0</text>\n<text text-anchor=\"middle\" x=\"2489.5\" y=\"-22.8\" font-family=\"Helvetica,sans-Serif\" font-size=\"14.00\" fill=\"#000000\">samples = 18</text>\n<text text-anchor=\"middle\" x=\"2489.5\" y=\"-7.8\" font-family=\"Helvetica,sans-Serif\" font-size=\"14.00\" fill=\"#000000\">value = [0, 18]</text>\n</g>\n<!-- 57&#45;&gt;58 -->\n<g id=\"edge58\" class=\"edge\">\n<title>57&#45;&gt;58</title>\n<path fill=\"none\" stroke=\"#000000\" d=\"M2532.2309,-88.9777C2526.156,-80.0954 2519.5979,-70.5067 2513.4865,-61.5711\"/>\n<polygon fill=\"#000000\" stroke=\"#000000\" points=\"2516.3286,-59.5267 2507.7943,-53.2485 2510.5507,-63.4785 2516.3286,-59.5267\"/>\n</g>\n<!-- 59 -->\n<g id=\"node60\" class=\"node\">\n<title>59</title>\n<polygon fill=\"none\" stroke=\"#000000\" points=\"2679.5,-53 2561.5,-53 2561.5,0 2679.5,0 2679.5,-53\"/>\n<text text-anchor=\"middle\" x=\"2620.5\" y=\"-37.8\" font-family=\"Helvetica,sans-Serif\" font-size=\"14.00\" fill=\"#000000\">entropy = 0.918</text>\n<text text-anchor=\"middle\" x=\"2620.5\" y=\"-22.8\" font-family=\"Helvetica,sans-Serif\" font-size=\"14.00\" fill=\"#000000\">samples = 6</text>\n<text text-anchor=\"middle\" x=\"2620.5\" y=\"-7.8\" font-family=\"Helvetica,sans-Serif\" font-size=\"14.00\" fill=\"#000000\">value = [2, 4]</text>\n</g>\n<!-- 57&#45;&gt;59 -->\n<g id=\"edge59\" class=\"edge\">\n<title>57&#45;&gt;59</title>\n<path fill=\"none\" stroke=\"#000000\" d=\"M2578.4166,-88.9777C2584.3994,-80.0954 2590.8582,-70.5067 2596.877,-61.5711\"/>\n<polygon fill=\"#000000\" stroke=\"#000000\" points=\"2599.7991,-63.4978 2602.4829,-53.2485 2593.9933,-59.5871 2599.7991,-63.4978\"/>\n</g>\n</g>\n</svg>\n"
          },
          "metadata": {},
          "execution_count": 12
        }
      ]
    },
    {
      "cell_type": "code",
      "source": [
        "###Cross Validation \n",
        "X=df[predictores]\n",
        "Y=df[objetivo]\n",
        "arbol=DecisionTreeClassifier(criterion='entropy',random_state=30,min_samples_leaf=6,max_depth=6)\n",
        "arbol.fit(X,Y)"
      ],
      "metadata": {
        "colab": {
          "base_uri": "https://localhost:8080/"
        },
        "id": "p5y2hCl8-QCz",
        "outputId": "c4ff6d07-dde0-410a-8433-d022a420bc99"
      },
      "execution_count": 13,
      "outputs": [
        {
          "output_type": "execute_result",
          "data": {
            "text/plain": [
              "DecisionTreeClassifier(criterion='entropy', max_depth=6, min_samples_leaf=6,\n",
              "                       random_state=30)"
            ]
          },
          "metadata": {},
          "execution_count": 13
        }
      ]
    },
    {
      "cell_type": "code",
      "source": [
        "cv=KFold(n_splits=6,random_state=30,shuffle=True)"
      ],
      "metadata": {
        "id": "ZaJV3Oki-QIv"
      },
      "execution_count": 14,
      "outputs": []
    },
    {
      "cell_type": "code",
      "source": [
        "score=np.mean(cross_val_score(arbol,X,Y,scoring='accuracy',cv=cv,n_jobs=1))\n",
        "score"
      ],
      "metadata": {
        "colab": {
          "base_uri": "https://localhost:8080/"
        },
        "id": "RJF924Ru-QLR",
        "outputId": "1c2c57a4-ff9b-42f3-f487-506fccb2625f"
      },
      "execution_count": 15,
      "outputs": [
        {
          "output_type": "execute_result",
          "data": {
            "text/plain": [
              "0.7122395833333334"
            ]
          },
          "metadata": {},
          "execution_count": 15
        }
      ]
    },
    {
      "cell_type": "code",
      "source": [
        "print(predictores)\n",
        "for i in range(1,11):\n",
        "  arbol=DecisionTreeClassifier(criterion='entropy',random_state=30,min_samples_leaf=6,max_depth=i)\n",
        "  arbol.fit(X,Y)\n",
        "  cv=KFold(n_splits=10,random_state=1,shuffle=True)\n",
        "  score=np.mean(cross_val_score(arbol,X,Y,scoring='accuracy',cv=cv,n_jobs=1))\n",
        "  print('Score para i =',i,' es de ', score)\n",
        "  print('   ',arbol.feature_importances_)"
      ],
      "metadata": {
        "colab": {
          "base_uri": "https://localhost:8080/"
        },
        "id": "PWpM8ulg-QNt",
        "outputId": "701d8e7f-f96a-40f7-c2bb-d1217e86fb99"
      },
      "execution_count": 16,
      "outputs": [
        {
          "output_type": "stream",
          "name": "stdout",
          "text": [
            "['Pregnancies', 'Glucose', 'BloodPressure', 'SkinThickness', 'Insulin', 'BMI', 'DiabetesPedigreeFunction', 'Age']\n",
            "Score para i = 1  es de  0.7225393028024608\n",
            "    [0. 1. 0. 0. 0. 0. 0. 0.]\n",
            "Score para i = 2  es de  0.7485475051264525\n",
            "    [0.         0.60945904 0.         0.         0.         0.39054096\n",
            " 0.         0.        ]\n",
            "Score para i = 3  es de  0.7459842788790157\n",
            "    [0.         0.55928824 0.         0.         0.         0.29334802\n",
            " 0.01237407 0.13498967]\n",
            "Score para i = 4  es de  0.7407552973342447\n",
            "    [0.         0.53313329 0.         0.00672545 0.01443529 0.29017261\n",
            " 0.01042514 0.14510822]\n",
            "Score para i = 5  es de  0.7407723855092276\n",
            "    [0.         0.45767636 0.04065156 0.00577356 0.03728555 0.25417888\n",
            " 0.07986373 0.12457036]\n",
            "Score para i = 6  es de  0.7382091592617909\n",
            "    [0.01797096 0.4049784  0.0721842  0.00499113 0.03223262 0.24516552\n",
            " 0.11478855 0.10768861]\n",
            "Score para i = 7  es de  0.7474025974025974\n",
            "    [0.04666257 0.36529088 0.06090528 0.00443492 0.02864064 0.24218434\n",
            " 0.12878567 0.12309569]\n",
            "Score para i = 8  es de  0.7369104579630895\n",
            "    [0.04185336 0.35069323 0.07377972 0.01286792 0.03355938 0.22891651\n",
            " 0.13041786 0.12791201]\n",
            "Score para i = 9  es de  0.7551777170198223\n",
            "    [0.0456991  0.34262433 0.05580712 0.01924635 0.03203023 0.25058123\n",
            " 0.13515893 0.11885271]\n",
            "Score para i = 10  es de  0.7251367053998633\n",
            "    [0.03517382 0.34795313 0.08659358 0.02633884 0.03451858 0.22265172\n",
            " 0.13324898 0.11352136]\n"
          ]
        }
      ]
    }
  ]
}