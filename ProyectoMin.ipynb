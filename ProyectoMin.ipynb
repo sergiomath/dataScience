{
  "nbformat": 4,
  "nbformat_minor": 0,
  "metadata": {
    "colab": {
      "provenance": [],
      "collapsed_sections": [
        "TN4C5d2yjk5K",
        "kUT12YIAkizH",
        "BM0X2Wasul1H",
        "gjjCzgeTkjSB",
        "wsEwDkxbkjb5",
        "sd9efXqo1IcE",
        "Z2I-cDa-kjiP",
        "eidtyqODHnVS",
        "QiofV5L5NDEW"
      ],
      "toc_visible": true
    },
    "kernelspec": {
      "name": "python3",
      "display_name": "Python 3"
    },
    "language_info": {
      "name": "python"
    }
  },
  "cells": [
    {
      "cell_type": "markdown",
      "source": [
        "# 1.Introducción\n",
        "La diabetes mellitus (DM) es llamada la asesina silenciosa, ya que es una enfermedad crónica, en la que la persona presenta niveles elevados de azúcar en la sangre. Afecta la capacidad del cuerpo para utilizar la energía que se encuentra en los alimentos durante toda la vida. Una vez que el cuerpo absorbe el azúcar simple (sacarosa), generalmente los convierte en glucosa y actuará como fuente principal de combustible para el cuerpo. La glucosa generalmente se transporta a través del torrente sanguíneo y es absorbida por las células.\n",
        "\n",
        "  Hay tres tipos de Diabetes. Están:\n",
        "\n",
        "*   Tipo 1: aquí el páncreas no produce la cantidad necesaria de insulina y, por lo tanto, el nivel de glucosa en la sangre está por encima del rango normal. Las personas que padecen este tipo suelen depender de la insulina externa. Comúnmente se desarrolla en niños\n",
        "*   Tipo 2: aquí las células del cuerpo no pueden usar la insulina producida debido a la resistencia a la insulina. Es más frecuente en personas de mediana edad y ancianos\n",
        "*   Diabetes gestacional: esto ocurre cuando las mujeres embarazadas que no tienen antecedentes de diabetes se encuentran diabéticas con un nivel alto de azúcar en la sangre.\n",
        "\n",
        "\n",
        "Lo que aumenta el riesgo de complicaciones de salud graves que dañan el corazón, los ojos, los riñones y los nervios.\n",
        "\n",
        "\n",
        "\n",
        "\n"
      ],
      "metadata": {
        "id": "flBfkSb5h0w_"
      }
    },
    {
      "cell_type": "markdown",
      "source": [
        "## 1.1 Motivación\n",
        "\n",
        "\n",
        "*   Actualmente, se producen entre 1,5 y 4,9 millones de muertes cada año a causa de la diabetes.\n",
        "*   La Organización Mundial de la Salud afirma que se proyectó que aproximadamente más de 700 millones de personas padecerían diabetes para 2030.\n",
        "*   Entre 2000 y 2016, hubo un aumento del 5 % en las tasas de mortalidad prematura (es decir, antes de los 70 años) por diabetes. En los países de ingresos altos, la tasa de mortalidad prematura por diabetes disminuyó entre 2000 y 2010, pero luego aumentó entre 2010 y 2016. En los países de ingresos medios-bajos, la tasa de mortalidad prematura por diabetes aumentó en ambos períodos.\n",
        "\n",
        "\n",
        "\n",
        "\n"
      ],
      "metadata": {
        "id": "zkTVDwEqh-jr"
      }
    },
    {
      "cell_type": "markdown",
      "source": [
        "## 1.2 Objetivos\n",
        "\n",
        "\n",
        "\n",
        "*   Experimentar con diferentes métodos de clasificación para ver cuál produce la mayor precisión.\n",
        "\n",
        "\n",
        "\n",
        "\n"
      ],
      "metadata": {
        "id": "9DP8ZVACi7Ro"
      }
    },
    {
      "cell_type": "markdown",
      "source": [
        "## Variables\n",
        "\n",
        "\n",
        "1.   Numero de embarazos (Pregnancies): rango: 0-9\n",
        "\n",
        "2.   Glucemia(Glucose): es la medida de concentración de glucosa libre en la sangre, suero o plasma sanguíneo. Durante el ayuno, los niveles normales de glucosa oscilan entre 70 y 100 mg/dL; Rango: 0-199\n",
        "3.   Presión arterial diastólica (BloodPressure): es la presión que ocurre cuando el corazón se relaja y se llena de sangre; Rango: 0-122 mmHg\n",
        "\n",
        "4.    Grosor de los pliegues cutáneos del tríceps (SkinThickness): Rango 0-99 mm\n",
        "5.    Insulina sérica de 2 horas(Insulin): Es una prueba de insulina que consiste analizar antes de administrar la glucosa y 2 horas después. La razón por la que se realizan estas pruebas es para ver su curva de respuesta a la glucosa.; Rango: 0-846 mu/Uml\n",
        "\n",
        "6.   Índice de masa corporal(BMI): El índice de masa corporal (IMC) es un número que se calcula con base en el peso y la estatura de la persona. Para la mayoría de las personas, el IMC es un indicador confiable de la gordura y se usa para identificar las categorías de peso que pueden llevar a problemas de salud. \n",
        "$\\frac{Peso}{Estatura^2}$; Rango:0-67.1 $kg/m^2$\n",
        "\n",
        "7.   función de pedigrí de diabetes(DiabetesPedigreeFunction): Una función que califica la probabilidad de diabetes según los antecedentes familiares; Rango:0.08-2.42\n",
        "\n",
        "8. Edad (Age): Edad en años, Rango:21-81\n",
        "9. Resultado (Outcome): si es positivo o negativo al diagnóstico de diabetes. 1= positivo o 0=negativo\n",
        "\n",
        "\n"
      ],
      "metadata": {
        "id": "roEnCrRTnVUP"
      }
    },
    {
      "cell_type": "markdown",
      "source": [
        "# 2.Metodologia\n",
        "En esta sección se presentaran los metodos a traves de sus ideas principales sin profundizar, para mas infomación de los metodos dirigirse a las bibliografias"
      ],
      "metadata": {
        "id": "wPtNtJLHjBQz"
      }
    },
    {
      "cell_type": "markdown",
      "source": [
        "## 2.1 Regresión Logistica\n",
        "\n",
        "Este metodo es uno de los algoritmos mas usados para problemas de clasificación binaria usando un tipo de analisis de regresión donde predice el resultado de una variable categorica en función de las varibles independientes.\n",
        "El modelo logistico establece la siguiente relación entre la probabilidad que sea de etiqueta 1 o 0 dado que un individuo tenga los valores de las variables independientes como $X_1=x_1, X_2=x_2,\\cdots,X_p=x_p$:\n",
        "\n",
        "$$Pr(Y=y_0|x_1,x_2,\\cdots,x_p) = \\frac{1}{1 + e^{-(\\beta_0 + \\beta_1x_1 + \\beta_2x_2 + \\cdots + \\beta_px_p )}}$$\n",
        "\n"
      ],
      "metadata": {
        "id": "14EIGj9xjE3l"
      }
    },
    {
      "cell_type": "markdown",
      "source": [
        "## 2.2 KNN\n",
        "\n",
        "El metodo de los k vecinos más cercanos es un método no parámetrico el cual necesita de tener un grupo de datos de entrenemiento y otro de prueba; generalmente se usa para problemas de clasificación partiendo de la suposición de que se pueden encontrar puntos similares cerca uno del otro.}\n",
        "> * la selección del K\n",
        "\n",
        "Seleccionar un k optimo depende ampliamente de los datos, sin embargo algunos autores sugieren el uso de $k=\\sqrt{n}$.\n",
        "> * La metrica para definir la cercanía\n",
        " \n",
        "Se usa un generalización de las dos metricas más ampliamente usadas la distancia euclidiana ($P=2$) y la distancia de manhattan ($P=1$); la cual es conocida como distancia de minkowski la cual es una metrica en un espacio vectorial \n",
        "$$D(\\boldsymbol{X},\\boldsymbol{Y}) = \\left(\\displaystyle\\sum_{i=1}^n |x_i - y_i|^p\\right)^{\\frac{1}{p}}$$\n",
        "> * Ponderación\n",
        "\n",
        "Debido a que seleccionar el K puede afectar el algoritmo y \n",
        " posible que  los vecinos más cercanos varien ampliamente y terminen siendo más los no tan cercanos.\n",
        "\n",
        " Por ellos es más fiable que la etiqueta sea indicada por los más cercanos al nuevo punto por ello un ponderación por la distanica ayuda a solventar este problema\n",
        " $$\\omega_i = \\frac{1}{D(\\boldsymbol{X},\\boldsymbol{Y})}$$\n",
        "\n",
        "\n"
      ],
      "metadata": {
        "id": "qspEkySajNjm"
      }
    },
    {
      "cell_type": "markdown",
      "source": [
        "## 2.3 Bayes Naive\n",
        "\n",
        "Este metodo se basa en el teorema de bayes y asume que la presencia o ausencia de una característica particular no está relacionada con la presencia o ausencia de cualquier otra característica, dada la clase variable.\n",
        "$$Pr(Y=k|X=x)=\\frac{\\pi_k f_k(x)}{\\sum_{l=1}^K \\pi_l f_l(x)}$$\n",
        "\n",
        "Podemos estimar $\\hat{\\pi}^k$ como la proporción de observaciones de entrenamiento que pertenecen a la k-ésima clase, para $k = 1,...,K$.\n",
        "\n",
        "Para estimar $ f_1(x),...,f_K(x)$ es un cuento diferente y más dificil. Para esto en lugar de suponer que estas funciones pertenecen a una familia particular de distribuciones se hace una sola una suposición:\n",
        "$$Dentro \\ de \\ la \\ k-esima \\ clase, \\ los \\ p \\ predictores \\ son \\  independientes.$$\n",
        "\n",
        "o,\n",
        "\n",
        "$$f_k(x)=f_{k1}(x_1)×f_{k2}(x_2)×...\\times f_{kp}(x_p)$$\n",
        "\n",
        "Lo cual es una desventaja, ya que en la realidad esto no se tiene, sin embargo, usualmente a menudo conduce a resultados bastante decentes, es usualmente usado cuando no se tiene un n muy grande respecto a p. Ademas, dicha suposición introduce algún sesgo, pero reduce la varianza, lo que lleva a un clasificador que funciona bastante bien en la práctica como resultado del intercambio sesgo-varianza.\n",
        "\n",
        "Ademas, se parece al QDA adicionando el supuesto de que la matriz de varianzas y covarianzas es una diagonal, claro esto en el caso de que los predictores sean cuantitativos\n"
      ],
      "metadata": {
        "id": "s2G6coL8jS4D"
      }
    },
    {
      "cell_type": "markdown",
      "source": [
        "## 2.4 QDA\n",
        "\n",
        "El clasificador QDA resulta de asumir que las observaciones de cada clase se extraen de una distribución gaussiana y de conectar las estimaciones de los parámetros en el teorema de Bayes para realizar la predicción. Sin embargo, a diferencia de LDA(Para mas información de este metodo remitirse a las bibliografia), QDA asume que cada clase tiene su propia matriz de covarianza. Es decir, asume que una observación de la k-ésima clase es de la forma:\n",
        "$$X∼ N(\\mu_k,\\Sigma_k)$$\n",
        "\n",
        "Donde $\\Sigma_k$ es una matriz de covarianza para la k-ésima clase. Y el clasificador de Bayes asigna una observación X = x a la clase para la cual:\n",
        "\n",
        "$$δ_k(x)=-\\frac{1}{2}x^TΣ_k^{-1}x+x^TΣ_k^{-1}\\mu_k-\\frac{1}{2}\\mu_k^TΣ_k^{-1}\\mu_k-\\frac{1}{2}log|Σ_k|+log\\pi_k$$\n",
        "\n",
        "entonces ubica la observación en la clase para que el clasificador es mayor"
      ],
      "metadata": {
        "id": "_sE7M7H1jX4j"
      }
    },
    {
      "cell_type": "markdown",
      "source": [
        "## 2.5 Arboles de decisión"
      ],
      "metadata": {
        "id": "ujm1KYG2jbYx"
      }
    },
    {
      "cell_type": "markdown",
      "source": [
        "La idea de este método consiste en la segmentación (partición) del espacio predictor (es decir, del conjunto de posibles valores de las variables predictoras) en regiones tan simples que el proceso se pueda representar mediante un árbol binario. Se parte de un nodo inicial que representa a toda la muestra (se utiliza la muestra de entrenamiento), del que salen dos ramas que dividen la muestra en dos subconjuntos, cada uno representado por un nuevo nodo. Este proceso se repite un número finito de veces hasta obtener las hojas del árbol, es decir, los nodos terminales, que son los que se utilizan para realizar la predicción. Una vez construido el árbol, la predicción se realizará en cada nodo terminal utilizando, típicamente, la media en un problema de regresión y la moda en un problema de clasificación.\n"
      ],
      "metadata": {
        "id": "V24e3JSFEHKT"
      }
    },
    {
      "cell_type": "markdown",
      "source": [
        "![dt.png](data:image/png;base64,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)"
      ],
      "metadata": {
        "id": "GwxN1te0EHNm"
      }
    },
    {
      "cell_type": "markdown",
      "source": [
        "La estructura de un árbol de decisión se puede definir mediante un nodo raíz, que es la característica de división más importante. Los nodos internos son pruebas en un atributo. Por ejemplo, si un nodo interno tiene una declaración de control (edad <40), entonces los puntos de datos que cumplen esta condición están en un lado y el resto en el otro. Los nodos hoja pertenecen a las clases disponibles que representa el conjunto de datos."
      ],
      "metadata": {
        "id": "WXrn1b-eEHYp"
      }
    },
    {
      "cell_type": "markdown",
      "source": [
        "# ***Criterio de separación (Split)***"
      ],
      "metadata": {
        "id": "VNigvYJZdij9"
      }
    },
    {
      "cell_type": "markdown",
      "source": [
        "Una medida de selección de atributos es  heurística para seleccionar el criterio de división que es más capaz de decidir cómo dividir los datos de tal manera que resulte en clases individuales. Las medidas de selección de atributos también se conocen como reglas de división porque definen cómo se dividirán los puntos de datos en un determinado nivel en un árbol de decisión. El atributo que tiene la mejor puntuación para la medida se elige como el atributo de división para los puntos de datos dados."
      ],
      "metadata": {
        "id": "5SBmfZHqeITF"
      }
    },
    {
      "cell_type": "markdown",
      "source": [
        "\n",
        "\n",
        "1.   **Ganancia de información**: este atributo nos proporciona el atributo de división en términos de la cantidad de información requerida para describir mejor el árbol. La ganancia de información minimiza la información necesaria para clasificar los puntos de datos en las particiones respectivas y refleja la menor aleatoriedad o \"impureza\" en estas particiones.![cri1.png](data:image/png;base64,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)\n",
        "\n",
        "$p_i$ es la probabilidad de que una tupla arbitraria en el conjunto de datos D pertenezca a la clase $C_i$ y se estima mediante|C_i,D|/|D|. Info(D) es simplemente la cantidad media de información necesaria para identificar la clase/categoría de un punto de datos en D. Se utiliza una función log en base 2, ya que en la mayoría de los casos, la información se codifica en bits.\n",
        "\n",
        "Info(D) también se conoce como la entropía del conjunto de datos D.\n",
        "\n",
        "La ganancia de información se puede calcular de la siguiente manera:\n",
        "![cri11.png](data:image/png;base64,iVBORw0KGgoAAAANSUhEUgAAAR8AAAAvCAYAAADaWs5UAAAAAXNSR0IArs4c6QAAAARnQU1BAACxjwv8YQUAAAAJcEhZcwAADsMAAA7DAcdvqGQAAB9MSURBVHhe7d0J1G/V+AfwU9c8ZJ6HWxlTNJhKhkQyRgpJmSoLtVBoSdQtokKFCEncFVKiyZipRKVMoUQZQ5kyz5z//jz3fX7te+75veN973vrf75r7XV+v3P2fvYz72fv87vvXaMtaAYMGDBgFWPNieuAAQMGrFIMyWfAgAELgiH5DBgwYEEwJJ8BAwYsCIbkM2DAgAXBkHwGDBiwIBiSz4ABAxYEQ/KZBvwU6j//+c/EtwHzgb6fm7lXtwFzw+qmz2t98vnf//438Wn2+O9//xttwPyCrST5bF2sbsFzTcE///nP5k9/+tPEt6ux0Pr8f/ELZyKuscYaE99mjjQOGnOhM2B2qPVfY7DFzNBdiBdan9fq5PPXv/61udGNbhRKpfg115x+oUctqp1FixYNTt6DTAi1XlNPs9FXuuFk7tilO9hlPNiF/9LRda5znbiXNksstD7nLfkk2YV0kIsuuqhZvHhxc+Mb3zi+T6Z48Ly+L3ld73rXa6573etO3JlZcKxMdHlbFZhMVs84NyfHV7a5JOvf/e53E5+W4Ra3uMXEp2Xo0p3tPCsLXf2sDvzUPPz85z8P/73BDW7QXP/6149FIhMRLLQ+pywF7L3/8pe/xOdU9r///e/RHvIf//hHXAUq6J9ZV/+69UHf3N/nWPjzn/8c15niX//6V3P55Zc3L3vZy5of/ehHzQ1veMPR/Ro1Pz6TqYsvfOELzbOe9azmJz/5yYivyeQad39lIfVU006+fvvb3854/j/84Q8Tn5bZ8Ytf/GLzta99rfnlL38Z96aigx/nCfT0ohe9aOLu1fAM0keAHdzvo3urW90qguO73/1u86pXvar529/+Fnb5+9//HnNNR6a5wDzdOcyb8/Px1HcfP753WxfGf+Mb32jOOeec5vvf/37c6/O92SDno1+2fO1rXxt+cbOb3SwSkHn4L94lGlf28FlLe3Uh/r/+9a83z3nOc5of/OAHca9PthmjEJkURVlxLY4Q16uuuqr94x//2J511lntl770pfa0005rv/rVr8b3wmT0KULE1di69aEYNq5nnnlmu9NOO7UnnXRSW5TUFoeN+zNFCZx2n332ad/+9rcHHUCrJLO2KH6FdvHFF7ennHLKiOcaxp166qnttttu215xxRVxzxh065a0piPvXFGcZeLT8p9hNvPj+4QTTmgf97jHtQ960IPam9zkJu0OO+wQdu7K15UT2H/rrbduS9USz6YCnunVVX++lN/z6h6envKUp7S/+MUvRnLWsuX8KxM5D6Tc5nE//T+B19RHtj7e3Af0SpIOmehL6N373vcOv0S/nnuuKIkn7Hn22We3ZYGJe+iLte486feu9J6fE/qL61JsRJw/5jGPiZghz1wxZfJJhn7zm9+0Z5xxRrvddtu1T3jCE9pDDz20PfbYY9t3v/vd7S677BLKXHfdddtLLrkklI+52hi1QRIEAoYtK11705vetC0r6OjebPDe9763fchDHhLBAJwk0XUWCWXnnXdut9pqq4key0OfX//61+2+++7bHnDAASOe0lm69KaSd66gr7e85S3BL32vtdZa7f3vf//2yCOPbK+88soZz89G7Mdul156adjagsJpOaDn2jg5L7vssvAHfgDdOdHZcccdg9eysrabbrpp6PEFL3hBu9lmm7WPeMQj2t13370tFerIXxKlem3333//dsmSJRN35j/5pK+w87nnntvutttu7R3veMfg/+Y3v3m75557xiJJN1Mln+RPP/0lng022CCuZD3vvPPaj3/849GnDva5AB3Jmo5rveEtffZb3/pWe/DBB7dlOxZybbTRRrFYlyqp3Xzzzdv11luvffnLX96WSmeUuBLovOc974nFGOZqg0mTj8lkvR/+8Ift05/+9GCUwqyKDFRKuhBIEL/1rW9tb3Ob27Sf/vSnY0zXEJMxihalHXXUUW3Zp07cnT6StrEc3GoMjGFlAdduIH3gAx9oy164vcc97hFJZhyPgqiUru03v/nN+I7OQiQfNPHJBpxHYEg6gJ+Zzl+2N+0973nPtpTTK4yhO3J2dVbLedhhh8VKjif9u3PiaenSpe2aa64Z+vvUpz4V40GiO+SQQ9pFixZFAqXjmgfPJYAM2Kxcs093rpWJpM2fttxyy3adddaJShrwUOs6ddLlTVNp0J84sahKtlnpZ8KpF8fZoJ5P3H30ox9tFy9e3JbtUSQP83ehguH3bHLEEUfEvRx//PHHt2WLFjROPPHEeAYWPnGvuHjSk54UizwY1zfHdDDpmY99YEkKzfbbb9+UjNmUVbIp5VxTVoE4S7GX1Mde/cUvfnFz17vetSll++gNU54D+Zx758Jo3IPCeFzRKoHUvPCFL2xuf/vbx3mSvlB4jGsXxXgTn5b1Kc7anH766UG/OHOcMzhsww+46ufQTSuKbsoKEHtevDln6M6Vczi0ft7znhfyg/ELAXos1WGc1ThAJOdtb3vb0HPu4zU6cCVbDTKTSV80PvGJTzS///3vmyc+8YmjsUB3bOP8RUOPzO5lP+dgxxxzTPO0pz0tDobrg8yE8wb+41lZmJpSssd9dNijVEDNS17ykqYsbnFmVKrrkQ34BH8qW8Gwa9pxPmHunN+VjvlhSSxNWaDivs9AR/SQ/kSvqRv69T115hztQx/6ULP++uvHWNDPHBkDCWOTh6mQ/GYri3hz6qmnNiU5NGuvvXbEZ9cu+CqLRVzZZJNNNhn5jhcrj370o5uSaJtf/epXER9f+cpXYhy/E/diit8dd9xx4RfmNX42mDSKOI+EgNFS7jf3u9/9gsFxk0lAZR87UqwkxEgM6F4GRY2yoo0OPgURZXG8PCjO/nioUdNhQEo5+eSTm4c97GHNHe5wh/jeB7x7q3L00Uc3t771rWM+tPHWdYRMMowoCMrKHcGa9xcCeP3pT38afJeqI+75LFCAvtPp6UACykTurR+96U/vZYsViYMeIPs5nNSAXtBG1zjjjS2rZ9Cmb7bOoKyBHp1x2nvd614Td68GujvssEPQY/tSNY8WLH6G31ItNCeccEJz8cUXr2Cf+QY/+d73vhdv8MpWPnwHXxr/JDfQTeofPKe/9K2yxQpZ7nOf+8Q9oEct/Tx1nzpGE/261eh+pxu80iGddeMlYWF3eAy3vOUtm/ve974xNmVTSDzgAQ8Ie/3sZz9ryu5gZBNzSmp08eMf/7j5/Oc/H2PxbGGbKSaNItmak93lLndpHvvYx4ZCc7I+lK1ZME8QzigIKNfbkw9/+MNNKdWad7zjHXESr08d3FZh8wElZPVTysjI5hkA5kfrne9853JvZXy+7LLLIiuj3Qd8m9NK+7GPfazZd999m4c//OERYN48dA2KD5D1H/jAB8Z3+tCfQ8438FM3DmV142T0cfe73z1k9Zm+BQu5LrzwwpFu6aRs02Lx4NSZlPUt25oYJyiArejXPN/+9rebspUO5/M2i7yqy3QyP2Mo25GR02ro11CteLMDqqsuzKMPh1b1WDzoOrHWWms1ZVsY8nltvKrBT/ihCgxfdMX27p1yyinhs0DX6ePvf//7I2jzPr7Ldj1kUWWkj3lGd4JYclVVq/ByIRZrmaCy1eh+B7QkehVWLh5d0LMFwaLDp/VPXyEbSJSSEjm/853vhM/5zF6u6667bhQZYoG/5JiZYrnkk4pJUCYht9lmmwh8yMRjteoCA7nSEgijBx54YPPqV7+6ueKKK0KxXoHvtttu0YfyreLbbrtt8+QnP7l505veFJUFuK98tDIyKEgQj3rUo5rdd989+n7mM58Z8Swg0b/zne88SjIZtNnIgu+TTjop5pPhGUGFd+mllwadpFfDPbJRtGCGNNiqBN1yELqRRPBEVnrkUJtuumlUqmeddVasVpz62c9+dvxcQCIhoyB5xSteEfeNk0zo83Wve128/lVue37AAQdEwLlnq73jjjvGfJKMMcpxi4Ztcjogelri+OOPDz7oXeD1QVBasNglt4UJdK3OAkSy66LPVnNFTZOt+YcEiDfPbM/pbrvttms++MEPhnwqiT322CN0v99++zVf/vKXw6dsW+jW4sn/fdckc4nC1oUfkj39XSxYGFKnk4Fes4Ekh9/b3e52vQUCmmISv5I+f3FPXy1lZ2fHIGwhTm3TspIzTj/z8BVwv6/ynQpjI0hJrlw0mQzpWjsWBgVgMm1yjTAYpcCnPvWpzQUXXNAsXbo0tmS+GyMzG3f++edHUGywwQYhDAc1jxV5//33b+50pztFAHBOClPtvPGNb2ye+cxnhtPKzhRvTslH3/XWW2+UwbugTP0+97nPxRmO1VyysrJKbL7XMiZSLk549tlnL+egNfAiWLfYYos4CxG0fe3xj398NNWAxum00047bTR/97wGyMd5bEHo+G53u1ska4nAQmFFkpS0Y489NirM973vfbFlpNfUpwB45StfGXIr0Y3dZ599YoXfe++9w4nf8IY3NM9//vOjn7OBM888M2Qno4XIb6k222yzUbUE9Jv8C1YVGNuxq61wF0nrqquuCnmMxROwIV8hCxp8ZbKEzyZ0hoducz8Ttzn0rVsigxis9s6rzEl/nqkGDzrooNAlnUiKn/zkJ0PXe+21VyyqdLzRRhuFf/qt0pvf/OagJ0lLVu7Z0px44omh48MOO6zZZZddIuHbOaiaJKfJZO2DcRI02hJ2H9hEJUNmW+2tt9465vGdDXNO39kX6E1ssoP40CdjUpxmrInnmWI5CVP5ymvZzoSca8MNNwyGcgIMMYyDNA4u00tUDqUFgwpEtUNQxkIX45zR4a3qBS2GOuSQQ+IeIZwfmFNGtvJuvPHGMReH1O/1r399ZGTlnuRmHJhPOdkFnuumnypKYuM8HERiFQDGX3nllcHndIBeF+ioppTjtouqkb7GYTVltlXRtkiTmOgFHXJ34b4VkgM4ABWwztUkASuuYBBcVmwr7xFHHBF65ZgSPltyHE4oCdO1bao5JTXbHjZVnQoWIKe5zMNB8SUw6bILfenPnFZFiVjwC15b9y7MT+9+DIoH82QiSzuk7dyvk4PPGvqqj7RH3h/X6qDOezUyGMWAJOy7pGyxlUQlZ/GAP2MlZVWjYJSc+SXdeYaGCofOjcGrytHiIWGpcjbffPO4bx7bWJ/F3nTRJ8M4sJlF1ksKMqlcgc+YP3Xvyj/QFSOSLblyHrbKrbZxueDMFDNLrx185CMfad71rnfFWwwr/ZFHHhkZk5Ce7bzzzlEtYFJSkpw4uf2ie+ngglAgydrp1BKLhMbIgkeFRGkc+5JLLomgYXAQTKm4yaCaywA79NBD4xxEFQQC2/48na9GBkA2c3X7ABkEFGNxIrz2tXq8+RgzGz7QQaOeUxNknMIYgaCf+2hK0JJyJhgVC13TOR16WYC2/sajJZE4bwEOZGXGv5VbIgN8ZOOs5oS+5Ggsu5rHFi8rNAm5L1nhm/7xxJbetOAN8op3n/M71MFmWyBxOxrgg1M1b27z8zjQhQRA12ROHeFFgnCfbvGx5557RmVAZr/+lWTJQiaBy6fQ04cOfVdp0r8XBuxFhun470yBh7qRiY1V8qoe9nKfXEAecki63maqjhQKFh4yZJJxrf15tlgu+WAEKFygczCKUW5iLCfHtKrl8MMPj4rEqqCs9opO6a/UxzCHFxTGcj5JxmfJB9PoMIbVnHFUOgzkmXtWRIY3h0oFP84sKGvLLbcc8Ydv49GG3H8yaN0cdks6thoPfvCD46DVVhCv+MzqqVZoGi7bdJzEePRydeg2gZS81rTJkzqWULvgGBIx+R02A+c1F2fGGx06f0BPElIFmUtVKRH4LHCy8iE7upxNpcrhnBmYXz90rJbOJTIB6F/zpw+QDcih8nGfn1hU+pwUTRUgHviPtyg1UifZuiCvAPfSgMwSwUzaOKCraqFTiYQe8y2nitI2V+Xw0pe+NJKNqkCFY/FQtbMhGnYHDq3J52iB7unFdsXWCA26pDf6QYMtxd5USJ1D/XkyoJ/VffoPvaZc/AEfZ5xxRjzjC6oz/enBM/zSi7ir23TioovlNmqClgIJQ6m2OBQmcWTJSLGYwTDGbaU4NWEYicMqRZXmqhNghNe85jVRFaGrv32+hEEgh3jOcRjJOA6FtnHOQjiwOfGHtlVZYstVWH9KSSX5DGQBzrF06dIIquc+97kxZxqcbFZmQSqxkZ0RBJdESH593TcfvtzT+oyOP+dc5BgHfBqfSch3sBqpFAHvjOy5ebMqcphM3jzoTVnc15ezcBp8koF9fLYo6J/JOvVMdnQlGI4vyaNjQTHeQSk7OHC2dQDjzSHx5Xcwjv3JI6kAe9tO4YG8/Mhzerc9dZbHLnnGhxY64GocexvbB/cFsQZ9NpkuUp9oqNroXCIgK9/j++SzYO66665RneOR3+YbxjxzJGP6t0Rje+85HTubES/ii47FDR9133y232nX1Id+dhYWDVs2tFJP+NKXHeskIGEaj3+f7RhAjOATkoY+bEOOo446Knjfaaedwj/AfPTBHuZgE33Ig3/86pN2ztibDCtYNJlH3JsmjmfLkwGDaDLMIBKHMblqcW6lvoDhdDKtikiy0F+1gemsrGRjxhEcxmKcEhwwmseqmUZQmdiKUbbqLB3N98zkHCODGfShdD+Is9qlUdNQAlx/3/NANeGe/nlPwiST7zl3Dfc4lDMOldm45kBa9WXF1h760IdGIxP5AU+MKgHSOV4Zmr7p0QqLN/1UEBxXwhCE+mqek0k1RGa09eGI9MgJJTG29lxgSSj6WPlVWbYIgswbnuRNH/OoToHc5gMJzSIj+eBf2Q54xg8ZzGOL6B8+2sZ4I+qnHFDrH/iRLRy9dpH8rCzgkU8KdIsROb2NSn/BPz27n0cHbEMePpa2J4NnErxgph9JXd/0TbrhT670pdowt0NnffACxuLHguaYQAyIj1p2uk+exGtCnLEtiEO/AWIfiTCTjTnJZR6JzZmWZ/jwEiKhH5kkWnKQzaKR8uAXDTTxK5anwkgCA2uBJAS/OnUg5ozE70eUZjUwxDFUCoKyC6f2sihHdeCJUQpxyk8R5lSComNub1coGfJg1faI0BTMAShIorKFc3hsrAD15gc9TsAQCUryxoGiBKw+IAgkLYpmNAEsEabS0PScooHRVQGqOc5F2a51Q9tK7zzGijGuoaFJCs5XVBSSs4Sc85FZAkiQg+zu0yN9MLT+komtAJsp7zkT3t2TXH3O3+ugaYtFR/jEN7CRcWytCuK0dOHQmF0kx4Rn5sEPR0PDHIAn22Vj6ZxdwHx4FxzsoQJV6ViYvHkcB0EjSPE632BTjZ85aiAT/6LfDDjJXABLMvyT7HzDYgl+q+ZcBZyx8Cn+KvmgJ5l6S2uMhQTMx59tjb3CpysxxZ/QV5GrEiU5+uien+EDXTEmRtkkkf7ED9iWX6t69BcDfAlf+HYGZcHxRtkRhTF8AvCiH37cY0dxk3EC/EYRwlb0NBV6l44MUNWE8xv/lN6e2hsVb2uUyqobb5+8MsQQgwDFCSgK5VQqF4d7yljOh0FKstJRjHMGASHZSFQqASWo/ugarx8FS3T5zGqMPudgqCzZ8xUhMHz+fgUtQeEqcPPqV5qMgg5ncFBuDs8oVj+BJGAZPd/IpI5qpBOoHBh2Og3v5KMb32uohMA5gbeKtib4xJ9zsHQMTkIn5k094NF5A7sYz5aqLjTp25zsBGylAvGWS+XI+SR2iYHd/UyCHhLmoX+Oam4wHzjU5yf8AJ/oqJxtu5/xjGfEobIDTbRVP15WoNENKMBnnpnwmfmGILJ4+cEfnxHs/IGv8wW6l3DJL/AS+vE1SUISl0DQIj+90bPx/MhzWzZ+qspAf8mSJVEJO4+0eAFfymCXUCzKtkEWyXpRSr2DhV3yxAsYizdvo1VN+LaAesPqu9hgF/yxh52BeLB1BzzzS3O6Smp4cpV8LCzmkMD4E7+z+OjfZ88ulvtjYj5qtaP5jKAkYSWtwQElh9w/6iczE9DZB2fLcplCCKaMdbjIEJiWzMA+11yEFCwyvSrB+DyAy18mo+v3ObXiwe8lBKQft7maE0+c29W8DGS7wbgC1n3Bp2VlZmX3PHknU74O97bMvJTdTRbQ1d9UmKo/vqygHA6vNVRttk2cXiD7MSFwQLJYfSR75zXuSUQcx6JBRxYRMnBKPHjm7ZOkIolZ3emDE9bAkyQjiCxOtpHkEGyc3RWvuSImOCt6KrTp6EnQoc9v/HTBFmW+IdGotOjPfGwtYdM1efhfnqsl/3xZElGliwVj6JKv+P2PZGaMykkipRuVDv9zDKEKVhlZuIDvoa2xhYVG3IhBifxtb3tbvN3znF1Tl3j3o0bHJWKBvdnDgqLS0q8G2/N1NjEn3nJB7AM5zcMWfp/Ef8C9mgfIhW1SlEEjFKX1/uvcbCWg41/jamUVGP1r3ryfyD7uJ+rnUDJj3Esa6JljMtT0IOfJ9tnPfjb+pXdRykSPq5F8joP5S1AFHf30T/gXwiUQ41/u47E40dh/jTyVDF1M1d9zvPXpBx81PK8blCAImbIvWbbffvv4syNlhRr9y2uNTMVZl5OtppXQ96KLLoo/OZF/ugGdLrq8gM/Gp/8kunPgtyw28ac3yhZg4u7Cgm7wnUg5IPVL13k98MAD27JIhs5B/0TXdknLNZvvJam1Bx10UPT3VxhK0mtLxTIaU48TU6WiacvuYRRXNdi1bjmuayPouwds4k+i+FMo2Sf7ufIDrW9sFytsu2SvPpS+cfVcU6HIlloRMrJi9pE5i3CR4VUdVozMprkaWk3qDIseuoXpFVbMhGoDrCqQvGRzDmGF8OM6fdBK4DPHJ8yTc5k/s75++oNVXHVmdfAbEfPol8/nG+bDW62fbLY2kHrvwmqXffDMFsXhYsW1lVbxWOFTD+aw2tOBvmk789agHz+BoA9nSbar6HZhXDbAc3H2kV1SDtAnaeijmlM9W41t1dJO8w1+q5kveQO+TD94dAYE9IBv/KaeEypVW3XVqCodvdr/2MO9lMuz+jnYAnqzpXLxz4kcO+jv+ACPidSvmOL/5vZPiPio/mJTSx/P5nvKkDT4ErnTp2rfIrtKTNVri17DGDRUb5rP4/xyhNJhhEJg2q1GZtlshcmJJ8tW3lI+R4a1cnhuvPs1HZ/L9mK5sV1YTYpiJ75d/Ue9ssG5557bbrjhhm0p1WMlkIXHAV9dPvCZzWpz4YUXRpVQAmGixzKQow9d3UyF6fQnNzk0K1Y29xN4Ratu9XNj6Wjp0qXxB77Knj3u6+cZ24AxaLtPB767pt0S7tGdP0RlFcx7qZecH1/d5j5earoaeoCf8847L/42kz9g5/uqQvIC9bz5Of0Msh8Z6vu+X3DBBfF3b7LqIVvqhtzo0QVdpy5c87N2zDHHtEcfffRo3Pnnnx9/3+iRj3xkjMt+2QBdFZJKHfBovJb8Qt6vx+f3vv4gFvbYY4/4O0z4zH7ZV0sbuzcVlks+c0UyUDPF0fJzV5ga+Sz79fXN+5p+FJUG0xjE/XPOOSf+3KNklnQ86yLpjGtl9Y2thT/tmnRWNWp5tcmcowt96IXTLl68uN1kk00iIDLxABqpu/ye9LV0zHre7Ce5u7/33nu3p59++ug+emn3RNJKW2lJ1xgtYVHYb7/94k+plupt4u7qh+Q5r6UyabfZZptIELa2pUKIrS3d9iVQ41Kn9ADZ7+STTw469WJbKsx2iy22aNdff/34A361DpOOViql+GNfe+211yjBjUPqXuvSSvh8+eWXt8cdd1wsNvqWHcGoX7YcnzSmwqKyZ18yUQTNC+rtSV3eddF3f1zfROF/4tMyFKVEKemgzeGfN3Fer/dtuaYDh4Lebjncm834lYGuDsic91wn01FxvNgS2F7lTwCYm35qOvRj+9WHnKNvHuW1sX4qQFd5yKikR68eY756TsjP3as/V+GtkDefDnZXV3T5dpDOT7wE8JYwfwtER7ay2a8PnmnGe8HhYNthdP5iGo0S0PETAL818lreC59ETdvW2c8czOnQPn8DNxWSh0R+dvRgG+zPo5CLP9lm4iftqiXwWqOmWWOl/tc50yE1jpFETaPbt49+3qMI/TNJSESUwHDuOfUXdDUm4xe9bgAtFGo+fa55Gscf+cnuuQAwLp2lrJijBDFXoFdW66CXui8rbczF+c0N+mlplxp4rPnyvWxTVnjLtrqDHgRlqfpCDley0gv5unK7l/CZvSQLby797marrbaKn6kIds/8TktS8hrbPyb2L+GTZu0H9Vx48AwP3fmh5qELNqjfMKKlsSta6Pb5UM0LdL8nrjXJR1/NSp8OXjt+37yT8euZYLC6o6dlcK1q1Hx2ZemTC7r9OC+QIYNkMvmnQndeupJw0Ne6z801bj59PUMDn/mbGk5+TYLA5Cd5+MwX6YJs5OKPtV7G6QOdTML199SJObroo1snG7xkPNQYxwM4uLZgs6vP5PICIOfq4wNqXqD7PTEv/2ngOJLjmJgNunPMlvaq4HVloI/P+eJxKpeYzbxJ03Xc+NVN5ysLKXOf7KmX2cgu+PvGzVaPyUtiKjrd/l1MNX7FOmzAgHnEOIecbcBcE5CyrWwZF1pnc51/XiqfAQPGgbtdmxPNqsQ1XZdD8hkwYMCCYNh2DRgwYEEwJJ8BAwYsCIbkM2DAgAXBkHwGDBiwIBiSz4ABAxYEQ/IZMGDAAqBp/g9KsecxHzfNTAAAAABJRU5ErkJggg==)\n",
        "2.   **Relación de ganancia:** la medida de ganancia de información está sesgada hacia pruebas con muchos resultados. Por lo tanto, prefiere seleccionar atributos que tengan una gran cantidad de valores. La relación de ganancia es un intento de mejorar este problema.\n",
        "![cri2.png](data:image/png;base64,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)\n",
        "\n"
      ],
      "metadata": {
        "id": "H8K-dHSUeIb_"
      }
    },
    {
      "cell_type": "markdown",
      "source": [
        "\n",
        "\n",
        "3.   **Índice de Gini:** El índice de Gini se calcula de la siguiente manera:\n",
        "\n",
        "![cri3.png](data:image/png;base64,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)\n",
        "\n"
      ],
      "metadata": {
        "id": "6K2woyT_eIl_"
      }
    },
    {
      "cell_type": "markdown",
      "source": [
        "![algoDT.webp](data:image/webp;base64,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)"
      ],
      "metadata": {
        "id": "5zbaZoHcEHcM"
      }
    },
    {
      "cell_type": "markdown",
      "source": [],
      "metadata": {
        "id": "KFQ2ZHJIdimo"
      }
    },
    {
      "cell_type": "markdown",
      "source": [],
      "metadata": {
        "id": "MdzG0DmJdio9"
      }
    },
    {
      "cell_type": "markdown",
      "source": [],
      "metadata": {
        "id": "c8riobgXdir0"
      }
    },
    {
      "cell_type": "markdown",
      "source": [
        "## 2.6 Random Forest\n"
      ],
      "metadata": {
        "id": "TN4C5d2yjk5K"
      }
    },
    {
      "cell_type": "markdown",
      "source": [
        "# 3.Resultados y analisis"
      ],
      "metadata": {
        "id": "1kvKWBg8kN51"
      }
    },
    {
      "cell_type": "markdown",
      "source": [
        "## 3.1 Importación y descriptivas\n"
      ],
      "metadata": {
        "id": "C2akzpdQlwtp"
      }
    },
    {
      "cell_type": "code",
      "source": [
        "import numpy as np \n",
        "import pandas as pd \n",
        "import seaborn as sns\n",
        "import matplotlib.pyplot as plt \n",
        "from collections import Counter\n",
        "import os\n",
        "from sklearn.preprocessing import QuantileTransformer\n",
        "from sklearn.metrics import confusion_matrix, accuracy_score, precision_score\n",
        "from sklearn.ensemble import RandomForestClassifier, AdaBoostClassifier, GradientBoostingClassifier, VotingClassifier\n",
        "from sklearn.linear_model import LogisticRegression\n",
        "from sklearn.neighbors import KNeighborsClassifier\n",
        "from sklearn.tree import DecisionTreeClassifier\n",
        "from sklearn.svm import SVC\n",
        "from sklearn.model_selection import GridSearchCV, cross_val_score, StratifiedKFold, learning_curve, train_test_split\n",
        "from sklearn.tree import export_graphviz\n",
        "from graphviz  import Source"
      ],
      "metadata": {
        "id": "xaxoIa1BncSW"
      },
      "execution_count": 1,
      "outputs": []
    },
    {
      "cell_type": "code",
      "source": [
        "df = pd.read_csv(\"https://raw.githubusercontent.com/sergiomath/dataScience/main/Proyectos/Diabetes/diabetes.csv\")\n",
        "df.info()"
      ],
      "metadata": {
        "colab": {
          "base_uri": "https://localhost:8080/"
        },
        "id": "A6rRv0UCnnwb",
        "outputId": "3e9c2c18-76bb-43f1-b7ff-775270c9c4f6"
      },
      "execution_count": 2,
      "outputs": [
        {
          "output_type": "stream",
          "name": "stdout",
          "text": [
            "<class 'pandas.core.frame.DataFrame'>\n",
            "RangeIndex: 768 entries, 0 to 767\n",
            "Data columns (total 9 columns):\n",
            " #   Column                    Non-Null Count  Dtype  \n",
            "---  ------                    --------------  -----  \n",
            " 0   Pregnancies               768 non-null    int64  \n",
            " 1   Glucose                   768 non-null    int64  \n",
            " 2   BloodPressure             768 non-null    int64  \n",
            " 3   SkinThickness             768 non-null    int64  \n",
            " 4   Insulin                   768 non-null    int64  \n",
            " 5   BMI                       768 non-null    float64\n",
            " 6   DiabetesPedigreeFunction  768 non-null    float64\n",
            " 7   Age                       768 non-null    int64  \n",
            " 8   Outcome                   768 non-null    int64  \n",
            "dtypes: float64(2), int64(7)\n",
            "memory usage: 54.1 KB\n"
          ]
        }
      ]
    },
    {
      "cell_type": "code",
      "source": [
        "df.describe()"
      ],
      "metadata": {
        "colab": {
          "base_uri": "https://localhost:8080/",
          "height": 300
        },
        "id": "eJUxt12pn24k",
        "outputId": "a3f39329-e222-4fc1-e679-d8ac1da4a87d"
      },
      "execution_count": 3,
      "outputs": [
        {
          "output_type": "execute_result",
          "data": {
            "text/plain": [
              "       Pregnancies     Glucose  BloodPressure  SkinThickness     Insulin  \\\n",
              "count   768.000000  768.000000     768.000000     768.000000  768.000000   \n",
              "mean      3.845052  120.894531      69.105469      20.536458   79.799479   \n",
              "std       3.369578   31.972618      19.355807      15.952218  115.244002   \n",
              "min       0.000000    0.000000       0.000000       0.000000    0.000000   \n",
              "25%       1.000000   99.000000      62.000000       0.000000    0.000000   \n",
              "50%       3.000000  117.000000      72.000000      23.000000   30.500000   \n",
              "75%       6.000000  140.250000      80.000000      32.000000  127.250000   \n",
              "max      17.000000  199.000000     122.000000      99.000000  846.000000   \n",
              "\n",
              "              BMI  DiabetesPedigreeFunction         Age     Outcome  \n",
              "count  768.000000                768.000000  768.000000  768.000000  \n",
              "mean    31.992578                  0.471876   33.240885    0.348958  \n",
              "std      7.884160                  0.331329   11.760232    0.476951  \n",
              "min      0.000000                  0.078000   21.000000    0.000000  \n",
              "25%     27.300000                  0.243750   24.000000    0.000000  \n",
              "50%     32.000000                  0.372500   29.000000    0.000000  \n",
              "75%     36.600000                  0.626250   41.000000    1.000000  \n",
              "max     67.100000                  2.420000   81.000000    1.000000  "
            ],
            "text/html": [
              "\n",
              "  <div id=\"df-f22857b2-b9a7-49d7-a812-a83eed80abad\">\n",
              "    <div class=\"colab-df-container\">\n",
              "      <div>\n",
              "<style scoped>\n",
              "    .dataframe tbody tr th:only-of-type {\n",
              "        vertical-align: middle;\n",
              "    }\n",
              "\n",
              "    .dataframe tbody tr th {\n",
              "        vertical-align: top;\n",
              "    }\n",
              "\n",
              "    .dataframe thead th {\n",
              "        text-align: right;\n",
              "    }\n",
              "</style>\n",
              "<table border=\"1\" class=\"dataframe\">\n",
              "  <thead>\n",
              "    <tr style=\"text-align: right;\">\n",
              "      <th></th>\n",
              "      <th>Pregnancies</th>\n",
              "      <th>Glucose</th>\n",
              "      <th>BloodPressure</th>\n",
              "      <th>SkinThickness</th>\n",
              "      <th>Insulin</th>\n",
              "      <th>BMI</th>\n",
              "      <th>DiabetesPedigreeFunction</th>\n",
              "      <th>Age</th>\n",
              "      <th>Outcome</th>\n",
              "    </tr>\n",
              "  </thead>\n",
              "  <tbody>\n",
              "    <tr>\n",
              "      <th>count</th>\n",
              "      <td>768.000000</td>\n",
              "      <td>768.000000</td>\n",
              "      <td>768.000000</td>\n",
              "      <td>768.000000</td>\n",
              "      <td>768.000000</td>\n",
              "      <td>768.000000</td>\n",
              "      <td>768.000000</td>\n",
              "      <td>768.000000</td>\n",
              "      <td>768.000000</td>\n",
              "    </tr>\n",
              "    <tr>\n",
              "      <th>mean</th>\n",
              "      <td>3.845052</td>\n",
              "      <td>120.894531</td>\n",
              "      <td>69.105469</td>\n",
              "      <td>20.536458</td>\n",
              "      <td>79.799479</td>\n",
              "      <td>31.992578</td>\n",
              "      <td>0.471876</td>\n",
              "      <td>33.240885</td>\n",
              "      <td>0.348958</td>\n",
              "    </tr>\n",
              "    <tr>\n",
              "      <th>std</th>\n",
              "      <td>3.369578</td>\n",
              "      <td>31.972618</td>\n",
              "      <td>19.355807</td>\n",
              "      <td>15.952218</td>\n",
              "      <td>115.244002</td>\n",
              "      <td>7.884160</td>\n",
              "      <td>0.331329</td>\n",
              "      <td>11.760232</td>\n",
              "      <td>0.476951</td>\n",
              "    </tr>\n",
              "    <tr>\n",
              "      <th>min</th>\n",
              "      <td>0.000000</td>\n",
              "      <td>0.000000</td>\n",
              "      <td>0.000000</td>\n",
              "      <td>0.000000</td>\n",
              "      <td>0.000000</td>\n",
              "      <td>0.000000</td>\n",
              "      <td>0.078000</td>\n",
              "      <td>21.000000</td>\n",
              "      <td>0.000000</td>\n",
              "    </tr>\n",
              "    <tr>\n",
              "      <th>25%</th>\n",
              "      <td>1.000000</td>\n",
              "      <td>99.000000</td>\n",
              "      <td>62.000000</td>\n",
              "      <td>0.000000</td>\n",
              "      <td>0.000000</td>\n",
              "      <td>27.300000</td>\n",
              "      <td>0.243750</td>\n",
              "      <td>24.000000</td>\n",
              "      <td>0.000000</td>\n",
              "    </tr>\n",
              "    <tr>\n",
              "      <th>50%</th>\n",
              "      <td>3.000000</td>\n",
              "      <td>117.000000</td>\n",
              "      <td>72.000000</td>\n",
              "      <td>23.000000</td>\n",
              "      <td>30.500000</td>\n",
              "      <td>32.000000</td>\n",
              "      <td>0.372500</td>\n",
              "      <td>29.000000</td>\n",
              "      <td>0.000000</td>\n",
              "    </tr>\n",
              "    <tr>\n",
              "      <th>75%</th>\n",
              "      <td>6.000000</td>\n",
              "      <td>140.250000</td>\n",
              "      <td>80.000000</td>\n",
              "      <td>32.000000</td>\n",
              "      <td>127.250000</td>\n",
              "      <td>36.600000</td>\n",
              "      <td>0.626250</td>\n",
              "      <td>41.000000</td>\n",
              "      <td>1.000000</td>\n",
              "    </tr>\n",
              "    <tr>\n",
              "      <th>max</th>\n",
              "      <td>17.000000</td>\n",
              "      <td>199.000000</td>\n",
              "      <td>122.000000</td>\n",
              "      <td>99.000000</td>\n",
              "      <td>846.000000</td>\n",
              "      <td>67.100000</td>\n",
              "      <td>2.420000</td>\n",
              "      <td>81.000000</td>\n",
              "      <td>1.000000</td>\n",
              "    </tr>\n",
              "  </tbody>\n",
              "</table>\n",
              "</div>\n",
              "      <button class=\"colab-df-convert\" onclick=\"convertToInteractive('df-f22857b2-b9a7-49d7-a812-a83eed80abad')\"\n",
              "              title=\"Convert this dataframe to an interactive table.\"\n",
              "              style=\"display:none;\">\n",
              "        \n",
              "  <svg xmlns=\"http://www.w3.org/2000/svg\" height=\"24px\"viewBox=\"0 0 24 24\"\n",
              "       width=\"24px\">\n",
              "    <path d=\"M0 0h24v24H0V0z\" fill=\"none\"/>\n",
              "    <path d=\"M18.56 5.44l.94 2.06.94-2.06 2.06-.94-2.06-.94-.94-2.06-.94 2.06-2.06.94zm-11 1L8.5 8.5l.94-2.06 2.06-.94-2.06-.94L8.5 2.5l-.94 2.06-2.06.94zm10 10l.94 2.06.94-2.06 2.06-.94-2.06-.94-.94-2.06-.94 2.06-2.06.94z\"/><path d=\"M17.41 7.96l-1.37-1.37c-.4-.4-.92-.59-1.43-.59-.52 0-1.04.2-1.43.59L10.3 9.45l-7.72 7.72c-.78.78-.78 2.05 0 2.83L4 21.41c.39.39.9.59 1.41.59.51 0 1.02-.2 1.41-.59l7.78-7.78 2.81-2.81c.8-.78.8-2.07 0-2.86zM5.41 20L4 18.59l7.72-7.72 1.47 1.35L5.41 20z\"/>\n",
              "  </svg>\n",
              "      </button>\n",
              "      \n",
              "  <style>\n",
              "    .colab-df-container {\n",
              "      display:flex;\n",
              "      flex-wrap:wrap;\n",
              "      gap: 12px;\n",
              "    }\n",
              "\n",
              "    .colab-df-convert {\n",
              "      background-color: #E8F0FE;\n",
              "      border: none;\n",
              "      border-radius: 50%;\n",
              "      cursor: pointer;\n",
              "      display: none;\n",
              "      fill: #1967D2;\n",
              "      height: 32px;\n",
              "      padding: 0 0 0 0;\n",
              "      width: 32px;\n",
              "    }\n",
              "\n",
              "    .colab-df-convert:hover {\n",
              "      background-color: #E2EBFA;\n",
              "      box-shadow: 0px 1px 2px rgba(60, 64, 67, 0.3), 0px 1px 3px 1px rgba(60, 64, 67, 0.15);\n",
              "      fill: #174EA6;\n",
              "    }\n",
              "\n",
              "    [theme=dark] .colab-df-convert {\n",
              "      background-color: #3B4455;\n",
              "      fill: #D2E3FC;\n",
              "    }\n",
              "\n",
              "    [theme=dark] .colab-df-convert:hover {\n",
              "      background-color: #434B5C;\n",
              "      box-shadow: 0px 1px 3px 1px rgba(0, 0, 0, 0.15);\n",
              "      filter: drop-shadow(0px 1px 2px rgba(0, 0, 0, 0.3));\n",
              "      fill: #FFFFFF;\n",
              "    }\n",
              "  </style>\n",
              "\n",
              "      <script>\n",
              "        const buttonEl =\n",
              "          document.querySelector('#df-f22857b2-b9a7-49d7-a812-a83eed80abad button.colab-df-convert');\n",
              "        buttonEl.style.display =\n",
              "          google.colab.kernel.accessAllowed ? 'block' : 'none';\n",
              "\n",
              "        async function convertToInteractive(key) {\n",
              "          const element = document.querySelector('#df-f22857b2-b9a7-49d7-a812-a83eed80abad');\n",
              "          const dataTable =\n",
              "            await google.colab.kernel.invokeFunction('convertToInteractive',\n",
              "                                                     [key], {});\n",
              "          if (!dataTable) return;\n",
              "\n",
              "          const docLinkHtml = 'Like what you see? Visit the ' +\n",
              "            '<a target=\"_blank\" href=https://colab.research.google.com/notebooks/data_table.ipynb>data table notebook</a>'\n",
              "            + ' to learn more about interactive tables.';\n",
              "          element.innerHTML = '';\n",
              "          dataTable['output_type'] = 'display_data';\n",
              "          await google.colab.output.renderOutput(dataTable, element);\n",
              "          const docLink = document.createElement('div');\n",
              "          docLink.innerHTML = docLinkHtml;\n",
              "          element.appendChild(docLink);\n",
              "        }\n",
              "      </script>\n",
              "    </div>\n",
              "  </div>\n",
              "  "
            ]
          },
          "metadata": {},
          "execution_count": 3
        }
      ]
    },
    {
      "cell_type": "code",
      "source": [
        "# Explorar datos faltantes\n",
        "\n",
        "df.isnull().sum()"
      ],
      "metadata": {
        "colab": {
          "base_uri": "https://localhost:8080/"
        },
        "id": "SGPrhiL7n7BB",
        "outputId": "f4c5f032-61b2-443b-8252-2447756aacd1"
      },
      "execution_count": 4,
      "outputs": [
        {
          "output_type": "execute_result",
          "data": {
            "text/plain": [
              "Pregnancies                 0\n",
              "Glucose                     0\n",
              "BloodPressure               0\n",
              "SkinThickness               0\n",
              "Insulin                     0\n",
              "BMI                         0\n",
              "DiabetesPedigreeFunction    0\n",
              "Age                         0\n",
              "Outcome                     0\n",
              "dtype: int64"
            ]
          },
          "metadata": {},
          "execution_count": 4
        }
      ]
    },
    {
      "cell_type": "code",
      "source": [
        "df['Glucose'] = df['Glucose'].replace(0,df['Glucose'].median())\n",
        "df['BloodPressure'] = df['BloodPressure'].replace(0,df['BloodPressure'].median())\n",
        "df['BMI'] = df['BMI'].replace(0, df['BMI'].median())\n",
        "df['SkinThickness'] = df['SkinThickness'].replace(0, df['SkinThickness'].median())\n",
        "df['Insulin'] = df['Insulin'].replace(0, df['Insulin'].median())\n",
        "df.describe()"
      ],
      "metadata": {
        "colab": {
          "base_uri": "https://localhost:8080/",
          "height": 300
        },
        "id": "mHDLB4cVoGc-",
        "outputId": "aff05706-6645-4cc4-f5cc-923a8c94d47f"
      },
      "execution_count": 5,
      "outputs": [
        {
          "output_type": "execute_result",
          "data": {
            "text/plain": [
              "       Pregnancies     Glucose  BloodPressure  SkinThickness     Insulin  \\\n",
              "count   768.000000  768.000000     768.000000     768.000000  768.000000   \n",
              "mean      3.845052  121.656250      72.386719      27.334635   94.652344   \n",
              "std       3.369578   30.438286      12.096642       9.229014  105.547598   \n",
              "min       0.000000   44.000000      24.000000       7.000000   14.000000   \n",
              "25%       1.000000   99.750000      64.000000      23.000000   30.500000   \n",
              "50%       3.000000  117.000000      72.000000      23.000000   31.250000   \n",
              "75%       6.000000  140.250000      80.000000      32.000000  127.250000   \n",
              "max      17.000000  199.000000     122.000000      99.000000  846.000000   \n",
              "\n",
              "              BMI  DiabetesPedigreeFunction         Age     Outcome  \n",
              "count  768.000000                768.000000  768.000000  768.000000  \n",
              "mean    32.450911                  0.471876   33.240885    0.348958  \n",
              "std      6.875366                  0.331329   11.760232    0.476951  \n",
              "min     18.200000                  0.078000   21.000000    0.000000  \n",
              "25%     27.500000                  0.243750   24.000000    0.000000  \n",
              "50%     32.000000                  0.372500   29.000000    0.000000  \n",
              "75%     36.600000                  0.626250   41.000000    1.000000  \n",
              "max     67.100000                  2.420000   81.000000    1.000000  "
            ],
            "text/html": [
              "\n",
              "  <div id=\"df-4f18c629-64a4-4597-b9dc-360f58b02171\">\n",
              "    <div class=\"colab-df-container\">\n",
              "      <div>\n",
              "<style scoped>\n",
              "    .dataframe tbody tr th:only-of-type {\n",
              "        vertical-align: middle;\n",
              "    }\n",
              "\n",
              "    .dataframe tbody tr th {\n",
              "        vertical-align: top;\n",
              "    }\n",
              "\n",
              "    .dataframe thead th {\n",
              "        text-align: right;\n",
              "    }\n",
              "</style>\n",
              "<table border=\"1\" class=\"dataframe\">\n",
              "  <thead>\n",
              "    <tr style=\"text-align: right;\">\n",
              "      <th></th>\n",
              "      <th>Pregnancies</th>\n",
              "      <th>Glucose</th>\n",
              "      <th>BloodPressure</th>\n",
              "      <th>SkinThickness</th>\n",
              "      <th>Insulin</th>\n",
              "      <th>BMI</th>\n",
              "      <th>DiabetesPedigreeFunction</th>\n",
              "      <th>Age</th>\n",
              "      <th>Outcome</th>\n",
              "    </tr>\n",
              "  </thead>\n",
              "  <tbody>\n",
              "    <tr>\n",
              "      <th>count</th>\n",
              "      <td>768.000000</td>\n",
              "      <td>768.000000</td>\n",
              "      <td>768.000000</td>\n",
              "      <td>768.000000</td>\n",
              "      <td>768.000000</td>\n",
              "      <td>768.000000</td>\n",
              "      <td>768.000000</td>\n",
              "      <td>768.000000</td>\n",
              "      <td>768.000000</td>\n",
              "    </tr>\n",
              "    <tr>\n",
              "      <th>mean</th>\n",
              "      <td>3.845052</td>\n",
              "      <td>121.656250</td>\n",
              "      <td>72.386719</td>\n",
              "      <td>27.334635</td>\n",
              "      <td>94.652344</td>\n",
              "      <td>32.450911</td>\n",
              "      <td>0.471876</td>\n",
              "      <td>33.240885</td>\n",
              "      <td>0.348958</td>\n",
              "    </tr>\n",
              "    <tr>\n",
              "      <th>std</th>\n",
              "      <td>3.369578</td>\n",
              "      <td>30.438286</td>\n",
              "      <td>12.096642</td>\n",
              "      <td>9.229014</td>\n",
              "      <td>105.547598</td>\n",
              "      <td>6.875366</td>\n",
              "      <td>0.331329</td>\n",
              "      <td>11.760232</td>\n",
              "      <td>0.476951</td>\n",
              "    </tr>\n",
              "    <tr>\n",
              "      <th>min</th>\n",
              "      <td>0.000000</td>\n",
              "      <td>44.000000</td>\n",
              "      <td>24.000000</td>\n",
              "      <td>7.000000</td>\n",
              "      <td>14.000000</td>\n",
              "      <td>18.200000</td>\n",
              "      <td>0.078000</td>\n",
              "      <td>21.000000</td>\n",
              "      <td>0.000000</td>\n",
              "    </tr>\n",
              "    <tr>\n",
              "      <th>25%</th>\n",
              "      <td>1.000000</td>\n",
              "      <td>99.750000</td>\n",
              "      <td>64.000000</td>\n",
              "      <td>23.000000</td>\n",
              "      <td>30.500000</td>\n",
              "      <td>27.500000</td>\n",
              "      <td>0.243750</td>\n",
              "      <td>24.000000</td>\n",
              "      <td>0.000000</td>\n",
              "    </tr>\n",
              "    <tr>\n",
              "      <th>50%</th>\n",
              "      <td>3.000000</td>\n",
              "      <td>117.000000</td>\n",
              "      <td>72.000000</td>\n",
              "      <td>23.000000</td>\n",
              "      <td>31.250000</td>\n",
              "      <td>32.000000</td>\n",
              "      <td>0.372500</td>\n",
              "      <td>29.000000</td>\n",
              "      <td>0.000000</td>\n",
              "    </tr>\n",
              "    <tr>\n",
              "      <th>75%</th>\n",
              "      <td>6.000000</td>\n",
              "      <td>140.250000</td>\n",
              "      <td>80.000000</td>\n",
              "      <td>32.000000</td>\n",
              "      <td>127.250000</td>\n",
              "      <td>36.600000</td>\n",
              "      <td>0.626250</td>\n",
              "      <td>41.000000</td>\n",
              "      <td>1.000000</td>\n",
              "    </tr>\n",
              "    <tr>\n",
              "      <th>max</th>\n",
              "      <td>17.000000</td>\n",
              "      <td>199.000000</td>\n",
              "      <td>122.000000</td>\n",
              "      <td>99.000000</td>\n",
              "      <td>846.000000</td>\n",
              "      <td>67.100000</td>\n",
              "      <td>2.420000</td>\n",
              "      <td>81.000000</td>\n",
              "      <td>1.000000</td>\n",
              "    </tr>\n",
              "  </tbody>\n",
              "</table>\n",
              "</div>\n",
              "      <button class=\"colab-df-convert\" onclick=\"convertToInteractive('df-4f18c629-64a4-4597-b9dc-360f58b02171')\"\n",
              "              title=\"Convert this dataframe to an interactive table.\"\n",
              "              style=\"display:none;\">\n",
              "        \n",
              "  <svg xmlns=\"http://www.w3.org/2000/svg\" height=\"24px\"viewBox=\"0 0 24 24\"\n",
              "       width=\"24px\">\n",
              "    <path d=\"M0 0h24v24H0V0z\" fill=\"none\"/>\n",
              "    <path d=\"M18.56 5.44l.94 2.06.94-2.06 2.06-.94-2.06-.94-.94-2.06-.94 2.06-2.06.94zm-11 1L8.5 8.5l.94-2.06 2.06-.94-2.06-.94L8.5 2.5l-.94 2.06-2.06.94zm10 10l.94 2.06.94-2.06 2.06-.94-2.06-.94-.94-2.06-.94 2.06-2.06.94z\"/><path d=\"M17.41 7.96l-1.37-1.37c-.4-.4-.92-.59-1.43-.59-.52 0-1.04.2-1.43.59L10.3 9.45l-7.72 7.72c-.78.78-.78 2.05 0 2.83L4 21.41c.39.39.9.59 1.41.59.51 0 1.02-.2 1.41-.59l7.78-7.78 2.81-2.81c.8-.78.8-2.07 0-2.86zM5.41 20L4 18.59l7.72-7.72 1.47 1.35L5.41 20z\"/>\n",
              "  </svg>\n",
              "      </button>\n",
              "      \n",
              "  <style>\n",
              "    .colab-df-container {\n",
              "      display:flex;\n",
              "      flex-wrap:wrap;\n",
              "      gap: 12px;\n",
              "    }\n",
              "\n",
              "    .colab-df-convert {\n",
              "      background-color: #E8F0FE;\n",
              "      border: none;\n",
              "      border-radius: 50%;\n",
              "      cursor: pointer;\n",
              "      display: none;\n",
              "      fill: #1967D2;\n",
              "      height: 32px;\n",
              "      padding: 0 0 0 0;\n",
              "      width: 32px;\n",
              "    }\n",
              "\n",
              "    .colab-df-convert:hover {\n",
              "      background-color: #E2EBFA;\n",
              "      box-shadow: 0px 1px 2px rgba(60, 64, 67, 0.3), 0px 1px 3px 1px rgba(60, 64, 67, 0.15);\n",
              "      fill: #174EA6;\n",
              "    }\n",
              "\n",
              "    [theme=dark] .colab-df-convert {\n",
              "      background-color: #3B4455;\n",
              "      fill: #D2E3FC;\n",
              "    }\n",
              "\n",
              "    [theme=dark] .colab-df-convert:hover {\n",
              "      background-color: #434B5C;\n",
              "      box-shadow: 0px 1px 3px 1px rgba(0, 0, 0, 0.15);\n",
              "      filter: drop-shadow(0px 1px 2px rgba(0, 0, 0, 0.3));\n",
              "      fill: #FFFFFF;\n",
              "    }\n",
              "  </style>\n",
              "\n",
              "      <script>\n",
              "        const buttonEl =\n",
              "          document.querySelector('#df-4f18c629-64a4-4597-b9dc-360f58b02171 button.colab-df-convert');\n",
              "        buttonEl.style.display =\n",
              "          google.colab.kernel.accessAllowed ? 'block' : 'none';\n",
              "\n",
              "        async function convertToInteractive(key) {\n",
              "          const element = document.querySelector('#df-4f18c629-64a4-4597-b9dc-360f58b02171');\n",
              "          const dataTable =\n",
              "            await google.colab.kernel.invokeFunction('convertToInteractive',\n",
              "                                                     [key], {});\n",
              "          if (!dataTable) return;\n",
              "\n",
              "          const docLinkHtml = 'Like what you see? Visit the ' +\n",
              "            '<a target=\"_blank\" href=https://colab.research.google.com/notebooks/data_table.ipynb>data table notebook</a>'\n",
              "            + ' to learn more about interactive tables.';\n",
              "          element.innerHTML = '';\n",
              "          dataTable['output_type'] = 'display_data';\n",
              "          await google.colab.output.renderOutput(dataTable, element);\n",
              "          const docLink = document.createElement('div');\n",
              "          docLink.innerHTML = docLinkHtml;\n",
              "          element.appendChild(docLink);\n",
              "        }\n",
              "      </script>\n",
              "    </div>\n",
              "  </div>\n",
              "  "
            ]
          },
          "metadata": {},
          "execution_count": 5
        }
      ]
    },
    {
      "cell_type": "code",
      "source": [
        "# Correlación\n",
        "plt.figure(figsize=(13,10))\n",
        "sns.heatmap(df.corr(),annot=True, fmt = \".2f\", cmap = \"coolwarm\")"
      ],
      "metadata": {
        "colab": {
          "base_uri": "https://localhost:8080/",
          "height": 734
        },
        "id": "h-bEwYBVo9Ax",
        "outputId": "32794e9d-3c54-4ee8-8e76-3dccebadab00"
      },
      "execution_count": 6,
      "outputs": [
        {
          "output_type": "execute_result",
          "data": {
            "text/plain": [
              "<matplotlib.axes._subplots.AxesSubplot at 0x7f28bbf69450>"
            ]
          },
          "metadata": {},
          "execution_count": 6
        },
        {
          "output_type": "display_data",
          "data": {
            "text/plain": [
              "<Figure size 936x720 with 2 Axes>"
            ],
            "image/png": "[encoded data removed]"
          },
          "metadata": {
            "needs_background": "light"
          }
        }
      ]
    },
    {
      "cell_type": "code",
      "source": [
        "# Pregnancies\n",
        "plt.figure(figsize=(13,6))\n",
        "g = sns.kdeplot(df[\"Pregnancies\"][df[\"Outcome\"] == 1], color=\"Red\", shade = True)\n",
        "g = sns.kdeplot(df[\"Pregnancies\"][df[\"Outcome\"] == 0], ax =g, color=\"Green\", shade= True)\n",
        "g.set_xlabel(\"Pregnancies\")\n",
        "g.set_ylabel(\"Frequency\")\n",
        "g.legend([\"Positive\",\"Negative\"])"
      ],
      "metadata": {
        "colab": {
          "base_uri": "https://localhost:8080/",
          "height": 405
        },
        "id": "ZoeJ6To5pNGP",
        "outputId": "aa6df775-a3b4-44be-d4aa-f8e525aaca0c"
      },
      "execution_count": null,
      "outputs": [
        {
          "output_type": "execute_result",
          "data": {
            "text/plain": [
              "<matplotlib.legend.Legend at 0x7f6bdcf29dd0>"
            ]
          },
          "metadata": {},
          "execution_count": 8
        },
        {
          "output_type": "display_data",
          "data": {
            "text/plain": [
              "<Figure size 936x432 with 1 Axes>"
            ],
            "image/png": "[encoded data removed]"
          },
          "metadata": {
            "needs_background": "light"
          }
        }
      ]
    },
    {
      "cell_type": "code",
      "source": [
        "# Diabetes\n",
        "sns.countplot('Outcome',data=df)"
      ],
      "metadata": {
        "colab": {
          "base_uri": "https://localhost:8080/",
          "height": 351
        },
        "id": "jXvaQm0bpYSP",
        "outputId": "76527a2b-71d3-4b66-b5d1-ad2487e77e16"
      },
      "execution_count": null,
      "outputs": [
        {
          "output_type": "stream",
          "name": "stderr",
          "text": [
            "/usr/local/lib/python3.7/dist-packages/seaborn/_decorators.py:43: FutureWarning: Pass the following variable as a keyword arg: x. From version 0.12, the only valid positional argument will be `data`, and passing other arguments without an explicit keyword will result in an error or misinterpretation.\n",
            "  FutureWarning\n"
          ]
        },
        {
          "output_type": "execute_result",
          "data": {
            "text/plain": [
              "<matplotlib.axes._subplots.AxesSubplot at 0x7f6bde766090>"
            ]
          },
          "metadata": {},
          "execution_count": 9
        },
        {
          "output_type": "display_data",
          "data": {
            "text/plain": [
              "<Figure size 432x288 with 1 Axes>"
            ],
            "image/png": "[encoded data removed]"
          },
          "metadata": {
            "needs_background": "light"
          }
        }
      ]
    },
    {
      "cell_type": "code",
      "source": [
        "# Glucosa\n",
        "plt.figure(figsize=(10,6))\n",
        "sns.violinplot(data=df, x=\"Outcome\", y=\"Glucose\",\n",
        "               split=True, inner=\"quart\", linewidth=1)"
      ],
      "metadata": {
        "colab": {
          "base_uri": "https://localhost:8080/",
          "height": 405
        },
        "id": "Q2pEMq2LpeKf",
        "outputId": "195305e3-7fa9-4d43-e35f-6d1fca799c2b"
      },
      "execution_count": null,
      "outputs": [
        {
          "output_type": "execute_result",
          "data": {
            "text/plain": [
              "<matplotlib.axes._subplots.AxesSubplot at 0x7f6bdce68890>"
            ]
          },
          "metadata": {},
          "execution_count": 10
        },
        {
          "output_type": "display_data",
          "data": {
            "text/plain": [
              "<Figure size 720x432 with 1 Axes>"
            ],
            "image/png": "[encoded data removed]"
          },
          "metadata": {
            "needs_background": "light"
          }
        }
      ]
    },
    {
      "cell_type": "code",
      "source": [
        "plt.figure(figsize=(13,6))\n",
        "g = sns.kdeplot(df[\"Glucose\"][df[\"Outcome\"] == 1], color=\"Red\", shade = True)\n",
        "g = sns.kdeplot(df[\"Glucose\"][df[\"Outcome\"] == 0], ax =g, color=\"Green\", shade= True)\n",
        "g.set_xlabel(\"Glucose\")\n",
        "g.set_ylabel(\"Frequency\")\n",
        "g.legend([\"Positive\",\"Negative\"])"
      ],
      "metadata": {
        "colab": {
          "base_uri": "https://localhost:8080/",
          "height": 405
        },
        "id": "blNr3WD5pklv",
        "outputId": "89756209-47d7-467c-835a-02c3a16db437"
      },
      "execution_count": null,
      "outputs": [
        {
          "output_type": "execute_result",
          "data": {
            "text/plain": [
              "<matplotlib.legend.Legend at 0x7f6bdcdf4f10>"
            ]
          },
          "metadata": {},
          "execution_count": 11
        },
        {
          "output_type": "display_data",
          "data": {
            "text/plain": [
              "<Figure size 936x432 with 1 Axes>"
            ],
            "image/png": "[encoded data removed]"
          },
          "metadata": {
            "needs_background": "light"
          }
        }
      ]
    },
    {
      "cell_type": "code",
      "source": [
        "# Presión de sangra\n",
        "g = sns.catplot(y=\"BloodPressure\",x=\"Outcome\",data=df,kind=\"box\")\n",
        "g.set_ylabels(\"Blood Pressure\")\n",
        "g.set_xlabels(\"Outcome\")"
      ],
      "metadata": {
        "colab": {
          "base_uri": "https://localhost:8080/",
          "height": 386
        },
        "id": "229WFBPypqK0",
        "outputId": "a734b4e8-fa3f-4506-a89b-18995e985a89"
      },
      "execution_count": null,
      "outputs": [
        {
          "output_type": "execute_result",
          "data": {
            "text/plain": [
              "<seaborn.axisgrid.FacetGrid at 0x7f6bdcea0510>"
            ]
          },
          "metadata": {},
          "execution_count": 12
        },
        {
          "output_type": "display_data",
          "data": {
            "text/plain": [
              "<Figure size 360x360 with 1 Axes>"
            ],
            "image/png": "[encoded data removed]"
          },
          "metadata": {
            "needs_background": "light"
          }
        }
      ]
    },
    {
      "cell_type": "code",
      "source": [
        "# Edad\n",
        "g = sns.catplot(y=\"Age\",x=\"Outcome\",data=df,kind=\"box\")\n",
        "g.set_ylabels(\"Age\")\n",
        "g.set_xlabels(\"Outcome\")"
      ],
      "metadata": {
        "colab": {
          "base_uri": "https://localhost:8080/",
          "height": 386
        },
        "id": "C4oRqC95pqMX",
        "outputId": "06944536-7038-47ee-93c4-321a44e6c1f8"
      },
      "execution_count": null,
      "outputs": [
        {
          "output_type": "execute_result",
          "data": {
            "text/plain": [
              "<seaborn.axisgrid.FacetGrid at 0x7f6bdcc9b7d0>"
            ]
          },
          "metadata": {},
          "execution_count": 13
        },
        {
          "output_type": "display_data",
          "data": {
            "text/plain": [
              "<Figure size 360x360 with 1 Axes>"
            ],
            "image/png": "[encoded data removed]"
          },
          "metadata": {
            "needs_background": "light"
          }
        }
      ]
    },
    {
      "cell_type": "code",
      "source": [
        "# Detección y eliminación de outliers\n",
        "def detect_outliers(df,n,features):\n",
        "    outlier_indices = []\n",
        "    \"\"\"\n",
        "    Detect outliers from given list of features. It returns a list of the indices\n",
        "    according to the observations containing more than n outliers according\n",
        "    to the Tukey method\n",
        "    \"\"\"\n",
        "    # iterate over features(columns)\n",
        "    for col in features:\n",
        "        Q1 = np.percentile(df[col], 25)\n",
        "        Q3 = np.percentile(df[col],75)\n",
        "        IQR = Q3 - Q1\n",
        "        \n",
        "        # outlier step\n",
        "        outlier_step = 1.5 * IQR\n",
        "        \n",
        "        # Determine a list of indices of outliers for feature col\n",
        "        outlier_list_col = df[(df[col] < Q1 - outlier_step) | (df[col] > Q3 + outlier_step )].index\n",
        "        \n",
        "        # append the found outlier indices for col to the list of outlier indices \n",
        "        outlier_indices.extend(outlier_list_col)\n",
        "        \n",
        "    # select observations containing more than 2 outliers\n",
        "    outlier_indices = Counter(outlier_indices)\n",
        "    multiple_outliers = list( k for k, v in outlier_indices.items() if v > n )\n",
        "    \n",
        "    return multiple_outliers   \n",
        "\n",
        "# detect outliers from numeric features\n",
        "outliers_to_drop = detect_outliers(df, 2 ,[\"Pregnancies\", 'Glucose', 'BloodPressure', 'BMI', 'DiabetesPedigreeFunction', 'SkinThickness', 'Insulin', 'Age'])\n",
        "df.loc[outliers_to_drop]"
      ],
      "metadata": {
        "colab": {
          "base_uri": "https://localhost:8080/",
          "height": 143
        },
        "id": "3c0arTFPrlu0",
        "outputId": "927d27df-0c21-4bc8-c1e0-1a1441d8885f"
      },
      "execution_count": 7,
      "outputs": [
        {
          "output_type": "execute_result",
          "data": {
            "text/plain": [
              "     Pregnancies  Glucose  BloodPressure  SkinThickness  Insulin   BMI  \\\n",
              "177            0      129            110             46    130.0  67.1   \n",
              "445            0      180             78             63     14.0  59.4   \n",
              "370            3      173             82             48    465.0  38.4   \n",
              "\n",
              "     DiabetesPedigreeFunction  Age  Outcome  \n",
              "177                     0.319   26        1  \n",
              "445                     2.420   25        1  \n",
              "370                     2.137   25        1  "
            ],
            "text/html": [
              "\n",
              "  <div id=\"df-0d7e6395-13ba-4bd2-aad6-5292511e140b\">\n",
              "    <div class=\"colab-df-container\">\n",
              "      <div>\n",
              "<style scoped>\n",
              "    .dataframe tbody tr th:only-of-type {\n",
              "        vertical-align: middle;\n",
              "    }\n",
              "\n",
              "    .dataframe tbody tr th {\n",
              "        vertical-align: top;\n",
              "    }\n",
              "\n",
              "    .dataframe thead th {\n",
              "        text-align: right;\n",
              "    }\n",
              "</style>\n",
              "<table border=\"1\" class=\"dataframe\">\n",
              "  <thead>\n",
              "    <tr style=\"text-align: right;\">\n",
              "      <th></th>\n",
              "      <th>Pregnancies</th>\n",
              "      <th>Glucose</th>\n",
              "      <th>BloodPressure</th>\n",
              "      <th>SkinThickness</th>\n",
              "      <th>Insulin</th>\n",
              "      <th>BMI</th>\n",
              "      <th>DiabetesPedigreeFunction</th>\n",
              "      <th>Age</th>\n",
              "      <th>Outcome</th>\n",
              "    </tr>\n",
              "  </thead>\n",
              "  <tbody>\n",
              "    <tr>\n",
              "      <th>177</th>\n",
              "      <td>0</td>\n",
              "      <td>129</td>\n",
              "      <td>110</td>\n",
              "      <td>46</td>\n",
              "      <td>130.0</td>\n",
              "      <td>67.1</td>\n",
              "      <td>0.319</td>\n",
              "      <td>26</td>\n",
              "      <td>1</td>\n",
              "    </tr>\n",
              "    <tr>\n",
              "      <th>445</th>\n",
              "      <td>0</td>\n",
              "      <td>180</td>\n",
              "      <td>78</td>\n",
              "      <td>63</td>\n",
              "      <td>14.0</td>\n",
              "      <td>59.4</td>\n",
              "      <td>2.420</td>\n",
              "      <td>25</td>\n",
              "      <td>1</td>\n",
              "    </tr>\n",
              "    <tr>\n",
              "      <th>370</th>\n",
              "      <td>3</td>\n",
              "      <td>173</td>\n",
              "      <td>82</td>\n",
              "      <td>48</td>\n",
              "      <td>465.0</td>\n",
              "      <td>38.4</td>\n",
              "      <td>2.137</td>\n",
              "      <td>25</td>\n",
              "      <td>1</td>\n",
              "    </tr>\n",
              "  </tbody>\n",
              "</table>\n",
              "</div>\n",
              "      <button class=\"colab-df-convert\" onclick=\"convertToInteractive('df-0d7e6395-13ba-4bd2-aad6-5292511e140b')\"\n",
              "              title=\"Convert this dataframe to an interactive table.\"\n",
              "              style=\"display:none;\">\n",
              "        \n",
              "  <svg xmlns=\"http://www.w3.org/2000/svg\" height=\"24px\"viewBox=\"0 0 24 24\"\n",
              "       width=\"24px\">\n",
              "    <path d=\"M0 0h24v24H0V0z\" fill=\"none\"/>\n",
              "    <path d=\"M18.56 5.44l.94 2.06.94-2.06 2.06-.94-2.06-.94-.94-2.06-.94 2.06-2.06.94zm-11 1L8.5 8.5l.94-2.06 2.06-.94-2.06-.94L8.5 2.5l-.94 2.06-2.06.94zm10 10l.94 2.06.94-2.06 2.06-.94-2.06-.94-.94-2.06-.94 2.06-2.06.94z\"/><path d=\"M17.41 7.96l-1.37-1.37c-.4-.4-.92-.59-1.43-.59-.52 0-1.04.2-1.43.59L10.3 9.45l-7.72 7.72c-.78.78-.78 2.05 0 2.83L4 21.41c.39.39.9.59 1.41.59.51 0 1.02-.2 1.41-.59l7.78-7.78 2.81-2.81c.8-.78.8-2.07 0-2.86zM5.41 20L4 18.59l7.72-7.72 1.47 1.35L5.41 20z\"/>\n",
              "  </svg>\n",
              "      </button>\n",
              "      \n",
              "  <style>\n",
              "    .colab-df-container {\n",
              "      display:flex;\n",
              "      flex-wrap:wrap;\n",
              "      gap: 12px;\n",
              "    }\n",
              "\n",
              "    .colab-df-convert {\n",
              "      background-color: #E8F0FE;\n",
              "      border: none;\n",
              "      border-radius: 50%;\n",
              "      cursor: pointer;\n",
              "      display: none;\n",
              "      fill: #1967D2;\n",
              "      height: 32px;\n",
              "      padding: 0 0 0 0;\n",
              "      width: 32px;\n",
              "    }\n",
              "\n",
              "    .colab-df-convert:hover {\n",
              "      background-color: #E2EBFA;\n",
              "      box-shadow: 0px 1px 2px rgba(60, 64, 67, 0.3), 0px 1px 3px 1px rgba(60, 64, 67, 0.15);\n",
              "      fill: #174EA6;\n",
              "    }\n",
              "\n",
              "    [theme=dark] .colab-df-convert {\n",
              "      background-color: #3B4455;\n",
              "      fill: #D2E3FC;\n",
              "    }\n",
              "\n",
              "    [theme=dark] .colab-df-convert:hover {\n",
              "      background-color: #434B5C;\n",
              "      box-shadow: 0px 1px 3px 1px rgba(0, 0, 0, 0.15);\n",
              "      filter: drop-shadow(0px 1px 2px rgba(0, 0, 0, 0.3));\n",
              "      fill: #FFFFFF;\n",
              "    }\n",
              "  </style>\n",
              "\n",
              "      <script>\n",
              "        const buttonEl =\n",
              "          document.querySelector('#df-0d7e6395-13ba-4bd2-aad6-5292511e140b button.colab-df-convert');\n",
              "        buttonEl.style.display =\n",
              "          google.colab.kernel.accessAllowed ? 'block' : 'none';\n",
              "\n",
              "        async function convertToInteractive(key) {\n",
              "          const element = document.querySelector('#df-0d7e6395-13ba-4bd2-aad6-5292511e140b');\n",
              "          const dataTable =\n",
              "            await google.colab.kernel.invokeFunction('convertToInteractive',\n",
              "                                                     [key], {});\n",
              "          if (!dataTable) return;\n",
              "\n",
              "          const docLinkHtml = 'Like what you see? Visit the ' +\n",
              "            '<a target=\"_blank\" href=https://colab.research.google.com/notebooks/data_table.ipynb>data table notebook</a>'\n",
              "            + ' to learn more about interactive tables.';\n",
              "          element.innerHTML = '';\n",
              "          dataTable['output_type'] = 'display_data';\n",
              "          await google.colab.output.renderOutput(dataTable, element);\n",
              "          const docLink = document.createElement('div');\n",
              "          docLink.innerHTML = docLinkHtml;\n",
              "          element.appendChild(docLink);\n",
              "        }\n",
              "      </script>\n",
              "    </div>\n",
              "  </div>\n",
              "  "
            ]
          },
          "metadata": {},
          "execution_count": 7
        }
      ]
    },
    {
      "cell_type": "code",
      "source": [
        "df.drop(df.loc[outliers_to_drop].index, inplace=True)"
      ],
      "metadata": {
        "id": "fJbm938pr1Yq"
      },
      "execution_count": 8,
      "outputs": []
    },
    {
      "cell_type": "code",
      "source": [
        "df"
      ],
      "metadata": {
        "id": "vep-M5ZUD7g3",
        "colab": {
          "base_uri": "https://localhost:8080/",
          "height": 424
        },
        "outputId": "0b0d154a-fbcf-403b-fa08-415e93cfab86"
      },
      "execution_count": 9,
      "outputs": [
        {
          "output_type": "execute_result",
          "data": {
            "text/plain": [
              "     Pregnancies  Glucose  BloodPressure  SkinThickness  Insulin   BMI  \\\n",
              "0              6      148             72             35     30.5  33.6   \n",
              "1              1       85             66             29     30.5  26.6   \n",
              "2              8      183             64             23     30.5  23.3   \n",
              "3              1       89             66             23     94.0  28.1   \n",
              "4              0      137             40             35    168.0  43.1   \n",
              "..           ...      ...            ...            ...      ...   ...   \n",
              "763           10      101             76             48    180.0  32.9   \n",
              "764            2      122             70             27     30.5  36.8   \n",
              "765            5      121             72             23    112.0  26.2   \n",
              "766            1      126             60             23     30.5  30.1   \n",
              "767            1       93             70             31     30.5  30.4   \n",
              "\n",
              "     DiabetesPedigreeFunction  Age  Outcome  \n",
              "0                       0.627   50        1  \n",
              "1                       0.351   31        0  \n",
              "2                       0.672   32        1  \n",
              "3                       0.167   21        0  \n",
              "4                       2.288   33        1  \n",
              "..                        ...  ...      ...  \n",
              "763                     0.171   63        0  \n",
              "764                     0.340   27        0  \n",
              "765                     0.245   30        0  \n",
              "766                     0.349   47        1  \n",
              "767                     0.315   23        0  \n",
              "\n",
              "[765 rows x 9 columns]"
            ],
            "text/html": [
              "\n",
              "  <div id=\"df-968c2ae0-2b46-4f06-8a58-3d2d4986deac\">\n",
              "    <div class=\"colab-df-container\">\n",
              "      <div>\n",
              "<style scoped>\n",
              "    .dataframe tbody tr th:only-of-type {\n",
              "        vertical-align: middle;\n",
              "    }\n",
              "\n",
              "    .dataframe tbody tr th {\n",
              "        vertical-align: top;\n",
              "    }\n",
              "\n",
              "    .dataframe thead th {\n",
              "        text-align: right;\n",
              "    }\n",
              "</style>\n",
              "<table border=\"1\" class=\"dataframe\">\n",
              "  <thead>\n",
              "    <tr style=\"text-align: right;\">\n",
              "      <th></th>\n",
              "      <th>Pregnancies</th>\n",
              "      <th>Glucose</th>\n",
              "      <th>BloodPressure</th>\n",
              "      <th>SkinThickness</th>\n",
              "      <th>Insulin</th>\n",
              "      <th>BMI</th>\n",
              "      <th>DiabetesPedigreeFunction</th>\n",
              "      <th>Age</th>\n",
              "      <th>Outcome</th>\n",
              "    </tr>\n",
              "  </thead>\n",
              "  <tbody>\n",
              "    <tr>\n",
              "      <th>0</th>\n",
              "      <td>6</td>\n",
              "      <td>148</td>\n",
              "      <td>72</td>\n",
              "      <td>35</td>\n",
              "      <td>30.5</td>\n",
              "      <td>33.6</td>\n",
              "      <td>0.627</td>\n",
              "      <td>50</td>\n",
              "      <td>1</td>\n",
              "    </tr>\n",
              "    <tr>\n",
              "      <th>1</th>\n",
              "      <td>1</td>\n",
              "      <td>85</td>\n",
              "      <td>66</td>\n",
              "      <td>29</td>\n",
              "      <td>30.5</td>\n",
              "      <td>26.6</td>\n",
              "      <td>0.351</td>\n",
              "      <td>31</td>\n",
              "      <td>0</td>\n",
              "    </tr>\n",
              "    <tr>\n",
              "      <th>2</th>\n",
              "      <td>8</td>\n",
              "      <td>183</td>\n",
              "      <td>64</td>\n",
              "      <td>23</td>\n",
              "      <td>30.5</td>\n",
              "      <td>23.3</td>\n",
              "      <td>0.672</td>\n",
              "      <td>32</td>\n",
              "      <td>1</td>\n",
              "    </tr>\n",
              "    <tr>\n",
              "      <th>3</th>\n",
              "      <td>1</td>\n",
              "      <td>89</td>\n",
              "      <td>66</td>\n",
              "      <td>23</td>\n",
              "      <td>94.0</td>\n",
              "      <td>28.1</td>\n",
              "      <td>0.167</td>\n",
              "      <td>21</td>\n",
              "      <td>0</td>\n",
              "    </tr>\n",
              "    <tr>\n",
              "      <th>4</th>\n",
              "      <td>0</td>\n",
              "      <td>137</td>\n",
              "      <td>40</td>\n",
              "      <td>35</td>\n",
              "      <td>168.0</td>\n",
              "      <td>43.1</td>\n",
              "      <td>2.288</td>\n",
              "      <td>33</td>\n",
              "      <td>1</td>\n",
              "    </tr>\n",
              "    <tr>\n",
              "      <th>...</th>\n",
              "      <td>...</td>\n",
              "      <td>...</td>\n",
              "      <td>...</td>\n",
              "      <td>...</td>\n",
              "      <td>...</td>\n",
              "      <td>...</td>\n",
              "      <td>...</td>\n",
              "      <td>...</td>\n",
              "      <td>...</td>\n",
              "    </tr>\n",
              "    <tr>\n",
              "      <th>763</th>\n",
              "      <td>10</td>\n",
              "      <td>101</td>\n",
              "      <td>76</td>\n",
              "      <td>48</td>\n",
              "      <td>180.0</td>\n",
              "      <td>32.9</td>\n",
              "      <td>0.171</td>\n",
              "      <td>63</td>\n",
              "      <td>0</td>\n",
              "    </tr>\n",
              "    <tr>\n",
              "      <th>764</th>\n",
              "      <td>2</td>\n",
              "      <td>122</td>\n",
              "      <td>70</td>\n",
              "      <td>27</td>\n",
              "      <td>30.5</td>\n",
              "      <td>36.8</td>\n",
              "      <td>0.340</td>\n",
              "      <td>27</td>\n",
              "      <td>0</td>\n",
              "    </tr>\n",
              "    <tr>\n",
              "      <th>765</th>\n",
              "      <td>5</td>\n",
              "      <td>121</td>\n",
              "      <td>72</td>\n",
              "      <td>23</td>\n",
              "      <td>112.0</td>\n",
              "      <td>26.2</td>\n",
              "      <td>0.245</td>\n",
              "      <td>30</td>\n",
              "      <td>0</td>\n",
              "    </tr>\n",
              "    <tr>\n",
              "      <th>766</th>\n",
              "      <td>1</td>\n",
              "      <td>126</td>\n",
              "      <td>60</td>\n",
              "      <td>23</td>\n",
              "      <td>30.5</td>\n",
              "      <td>30.1</td>\n",
              "      <td>0.349</td>\n",
              "      <td>47</td>\n",
              "      <td>1</td>\n",
              "    </tr>\n",
              "    <tr>\n",
              "      <th>767</th>\n",
              "      <td>1</td>\n",
              "      <td>93</td>\n",
              "      <td>70</td>\n",
              "      <td>31</td>\n",
              "      <td>30.5</td>\n",
              "      <td>30.4</td>\n",
              "      <td>0.315</td>\n",
              "      <td>23</td>\n",
              "      <td>0</td>\n",
              "    </tr>\n",
              "  </tbody>\n",
              "</table>\n",
              "<p>765 rows × 9 columns</p>\n",
              "</div>\n",
              "      <button class=\"colab-df-convert\" onclick=\"convertToInteractive('df-968c2ae0-2b46-4f06-8a58-3d2d4986deac')\"\n",
              "              title=\"Convert this dataframe to an interactive table.\"\n",
              "              style=\"display:none;\">\n",
              "        \n",
              "  <svg xmlns=\"http://www.w3.org/2000/svg\" height=\"24px\"viewBox=\"0 0 24 24\"\n",
              "       width=\"24px\">\n",
              "    <path d=\"M0 0h24v24H0V0z\" fill=\"none\"/>\n",
              "    <path d=\"M18.56 5.44l.94 2.06.94-2.06 2.06-.94-2.06-.94-.94-2.06-.94 2.06-2.06.94zm-11 1L8.5 8.5l.94-2.06 2.06-.94-2.06-.94L8.5 2.5l-.94 2.06-2.06.94zm10 10l.94 2.06.94-2.06 2.06-.94-2.06-.94-.94-2.06-.94 2.06-2.06.94z\"/><path d=\"M17.41 7.96l-1.37-1.37c-.4-.4-.92-.59-1.43-.59-.52 0-1.04.2-1.43.59L10.3 9.45l-7.72 7.72c-.78.78-.78 2.05 0 2.83L4 21.41c.39.39.9.59 1.41.59.51 0 1.02-.2 1.41-.59l7.78-7.78 2.81-2.81c.8-.78.8-2.07 0-2.86zM5.41 20L4 18.59l7.72-7.72 1.47 1.35L5.41 20z\"/>\n",
              "  </svg>\n",
              "      </button>\n",
              "      \n",
              "  <style>\n",
              "    .colab-df-container {\n",
              "      display:flex;\n",
              "      flex-wrap:wrap;\n",
              "      gap: 12px;\n",
              "    }\n",
              "\n",
              "    .colab-df-convert {\n",
              "      background-color: #E8F0FE;\n",
              "      border: none;\n",
              "      border-radius: 50%;\n",
              "      cursor: pointer;\n",
              "      display: none;\n",
              "      fill: #1967D2;\n",
              "      height: 32px;\n",
              "      padding: 0 0 0 0;\n",
              "      width: 32px;\n",
              "    }\n",
              "\n",
              "    .colab-df-convert:hover {\n",
              "      background-color: #E2EBFA;\n",
              "      box-shadow: 0px 1px 2px rgba(60, 64, 67, 0.3), 0px 1px 3px 1px rgba(60, 64, 67, 0.15);\n",
              "      fill: #174EA6;\n",
              "    }\n",
              "\n",
              "    [theme=dark] .colab-df-convert {\n",
              "      background-color: #3B4455;\n",
              "      fill: #D2E3FC;\n",
              "    }\n",
              "\n",
              "    [theme=dark] .colab-df-convert:hover {\n",
              "      background-color: #434B5C;\n",
              "      box-shadow: 0px 1px 3px 1px rgba(0, 0, 0, 0.15);\n",
              "      filter: drop-shadow(0px 1px 2px rgba(0, 0, 0, 0.3));\n",
              "      fill: #FFFFFF;\n",
              "    }\n",
              "  </style>\n",
              "\n",
              "      <script>\n",
              "        const buttonEl =\n",
              "          document.querySelector('#df-968c2ae0-2b46-4f06-8a58-3d2d4986deac button.colab-df-convert');\n",
              "        buttonEl.style.display =\n",
              "          google.colab.kernel.accessAllowed ? 'block' : 'none';\n",
              "\n",
              "        async function convertToInteractive(key) {\n",
              "          const element = document.querySelector('#df-968c2ae0-2b46-4f06-8a58-3d2d4986deac');\n",
              "          const dataTable =\n",
              "            await google.colab.kernel.invokeFunction('convertToInteractive',\n",
              "                                                     [key], {});\n",
              "          if (!dataTable) return;\n",
              "\n",
              "          const docLinkHtml = 'Like what you see? Visit the ' +\n",
              "            '<a target=\"_blank\" href=https://colab.research.google.com/notebooks/data_table.ipynb>data table notebook</a>'\n",
              "            + ' to learn more about interactive tables.';\n",
              "          element.innerHTML = '';\n",
              "          dataTable['output_type'] = 'display_data';\n",
              "          await google.colab.output.renderOutput(dataTable, element);\n",
              "          const docLink = document.createElement('div');\n",
              "          docLink.innerHTML = docLinkHtml;\n",
              "          element.appendChild(docLink);\n",
              "        }\n",
              "      </script>\n",
              "    </div>\n",
              "  </div>\n",
              "  "
            ]
          },
          "metadata": {},
          "execution_count": 9
        }
      ]
    },
    {
      "cell_type": "code",
      "source": [
        "# datos estandarizados para crear el modelo\n",
        "from sklearn import preprocessing\n",
        "Est_df = preprocessing.StandardScaler().fit_transform(df)\n",
        "Data = pd.DataFrame(Est_df)\n",
        "Data.columns =['Pregnancies', 'Glucose', 'BloodPressure', 'SkinThickness', 'Insulin', 'BMI', 'DiabetesPedigreeFunction', 'Age', 'Outcome']\n",
        "d=pd.DataFrame(df['Outcome'].astype('int'))\n",
        "d.columns=['Outcome']\n",
        "Data"
      ],
      "metadata": {
        "colab": {
          "base_uri": "https://localhost:8080/",
          "height": 424
        },
        "id": "vsEircWkr5v_",
        "outputId": "a1b82ab8-eb8c-4387-ec9a-a1025f60b906"
      },
      "execution_count": 10,
      "outputs": [
        {
          "output_type": "execute_result",
          "data": {
            "text/plain": [
              "     Pregnancies   Glucose  BloodPressure  SkinThickness   Insulin       BMI  \\\n",
              "0       0.636500  0.873134      -0.026407       0.853629 -0.608176  0.184826   \n",
              "1      -0.848020 -1.202875      -0.525204       0.193896 -0.608176 -0.860749   \n",
              "2       1.230309  2.026472      -0.691470      -0.465838 -0.608176 -1.353663   \n",
              "3      -0.848020 -1.071065      -0.525204      -0.465838 -0.002171 -0.636697   \n",
              "4      -1.144925  0.510656      -2.686660       0.853629  0.704040  1.603819   \n",
              "..           ...       ...            ...            ...       ...       ...   \n",
              "760     1.824117 -0.675634       0.306125       2.283053  0.818561  0.080268   \n",
              "761    -0.551116  0.016369      -0.192673      -0.026016 -0.608176  0.662802   \n",
              "762     0.339596 -0.016584      -0.026407      -0.465838  0.169610 -0.920496   \n",
              "763    -0.848020  0.148179      -1.024002      -0.465838 -0.608176 -0.337962   \n",
              "764    -0.848020 -0.939254      -0.192673       0.413807 -0.608176 -0.293151   \n",
              "\n",
              "     DiabetesPedigreeFunction       Age   Outcome  \n",
              "0                    0.501279  1.421841  1.373606  \n",
              "1                   -0.365339 -0.193105 -0.728011  \n",
              "2                    0.642575 -0.108107  1.373606  \n",
              "3                   -0.943084 -1.043076 -0.728011  \n",
              "4                    5.716684 -0.023110  1.373606  \n",
              "..                        ...       ...       ...  \n",
              "760                 -0.930524  2.526804 -0.728011  \n",
              "761                 -0.399878 -0.533093 -0.728011  \n",
              "762                 -0.698170 -0.278102 -0.728011  \n",
              "763                 -0.371619  1.166850  1.373606  \n",
              "764                 -0.478376 -0.873082 -0.728011  \n",
              "\n",
              "[765 rows x 9 columns]"
            ],
            "text/html": [
              "\n",
              "  <div id=\"df-e95c6550-de18-4e00-84d3-f4e71eb54bde\">\n",
              "    <div class=\"colab-df-container\">\n",
              "      <div>\n",
              "<style scoped>\n",
              "    .dataframe tbody tr th:only-of-type {\n",
              "        vertical-align: middle;\n",
              "    }\n",
              "\n",
              "    .dataframe tbody tr th {\n",
              "        vertical-align: top;\n",
              "    }\n",
              "\n",
              "    .dataframe thead th {\n",
              "        text-align: right;\n",
              "    }\n",
              "</style>\n",
              "<table border=\"1\" class=\"dataframe\">\n",
              "  <thead>\n",
              "    <tr style=\"text-align: right;\">\n",
              "      <th></th>\n",
              "      <th>Pregnancies</th>\n",
              "      <th>Glucose</th>\n",
              "      <th>BloodPressure</th>\n",
              "      <th>SkinThickness</th>\n",
              "      <th>Insulin</th>\n",
              "      <th>BMI</th>\n",
              "      <th>DiabetesPedigreeFunction</th>\n",
              "      <th>Age</th>\n",
              "      <th>Outcome</th>\n",
              "    </tr>\n",
              "  </thead>\n",
              "  <tbody>\n",
              "    <tr>\n",
              "      <th>0</th>\n",
              "      <td>0.636500</td>\n",
              "      <td>0.873134</td>\n",
              "      <td>-0.026407</td>\n",
              "      <td>0.853629</td>\n",
              "      <td>-0.608176</td>\n",
              "      <td>0.184826</td>\n",
              "      <td>0.501279</td>\n",
              "      <td>1.421841</td>\n",
              "      <td>1.373606</td>\n",
              "    </tr>\n",
              "    <tr>\n",
              "      <th>1</th>\n",
              "      <td>-0.848020</td>\n",
              "      <td>-1.202875</td>\n",
              "      <td>-0.525204</td>\n",
              "      <td>0.193896</td>\n",
              "      <td>-0.608176</td>\n",
              "      <td>-0.860749</td>\n",
              "      <td>-0.365339</td>\n",
              "      <td>-0.193105</td>\n",
              "      <td>-0.728011</td>\n",
              "    </tr>\n",
              "    <tr>\n",
              "      <th>2</th>\n",
              "      <td>1.230309</td>\n",
              "      <td>2.026472</td>\n",
              "      <td>-0.691470</td>\n",
              "      <td>-0.465838</td>\n",
              "      <td>-0.608176</td>\n",
              "      <td>-1.353663</td>\n",
              "      <td>0.642575</td>\n",
              "      <td>-0.108107</td>\n",
              "      <td>1.373606</td>\n",
              "    </tr>\n",
              "    <tr>\n",
              "      <th>3</th>\n",
              "      <td>-0.848020</td>\n",
              "      <td>-1.071065</td>\n",
              "      <td>-0.525204</td>\n",
              "      <td>-0.465838</td>\n",
              "      <td>-0.002171</td>\n",
              "      <td>-0.636697</td>\n",
              "      <td>-0.943084</td>\n",
              "      <td>-1.043076</td>\n",
              "      <td>-0.728011</td>\n",
              "    </tr>\n",
              "    <tr>\n",
              "      <th>4</th>\n",
              "      <td>-1.144925</td>\n",
              "      <td>0.510656</td>\n",
              "      <td>-2.686660</td>\n",
              "      <td>0.853629</td>\n",
              "      <td>0.704040</td>\n",
              "      <td>1.603819</td>\n",
              "      <td>5.716684</td>\n",
              "      <td>-0.023110</td>\n",
              "      <td>1.373606</td>\n",
              "    </tr>\n",
              "    <tr>\n",
              "      <th>...</th>\n",
              "      <td>...</td>\n",
              "      <td>...</td>\n",
              "      <td>...</td>\n",
              "      <td>...</td>\n",
              "      <td>...</td>\n",
              "      <td>...</td>\n",
              "      <td>...</td>\n",
              "      <td>...</td>\n",
              "      <td>...</td>\n",
              "    </tr>\n",
              "    <tr>\n",
              "      <th>760</th>\n",
              "      <td>1.824117</td>\n",
              "      <td>-0.675634</td>\n",
              "      <td>0.306125</td>\n",
              "      <td>2.283053</td>\n",
              "      <td>0.818561</td>\n",
              "      <td>0.080268</td>\n",
              "      <td>-0.930524</td>\n",
              "      <td>2.526804</td>\n",
              "      <td>-0.728011</td>\n",
              "    </tr>\n",
              "    <tr>\n",
              "      <th>761</th>\n",
              "      <td>-0.551116</td>\n",
              "      <td>0.016369</td>\n",
              "      <td>-0.192673</td>\n",
              "      <td>-0.026016</td>\n",
              "      <td>-0.608176</td>\n",
              "      <td>0.662802</td>\n",
              "      <td>-0.399878</td>\n",
              "      <td>-0.533093</td>\n",
              "      <td>-0.728011</td>\n",
              "    </tr>\n",
              "    <tr>\n",
              "      <th>762</th>\n",
              "      <td>0.339596</td>\n",
              "      <td>-0.016584</td>\n",
              "      <td>-0.026407</td>\n",
              "      <td>-0.465838</td>\n",
              "      <td>0.169610</td>\n",
              "      <td>-0.920496</td>\n",
              "      <td>-0.698170</td>\n",
              "      <td>-0.278102</td>\n",
              "      <td>-0.728011</td>\n",
              "    </tr>\n",
              "    <tr>\n",
              "      <th>763</th>\n",
              "      <td>-0.848020</td>\n",
              "      <td>0.148179</td>\n",
              "      <td>-1.024002</td>\n",
              "      <td>-0.465838</td>\n",
              "      <td>-0.608176</td>\n",
              "      <td>-0.337962</td>\n",
              "      <td>-0.371619</td>\n",
              "      <td>1.166850</td>\n",
              "      <td>1.373606</td>\n",
              "    </tr>\n",
              "    <tr>\n",
              "      <th>764</th>\n",
              "      <td>-0.848020</td>\n",
              "      <td>-0.939254</td>\n",
              "      <td>-0.192673</td>\n",
              "      <td>0.413807</td>\n",
              "      <td>-0.608176</td>\n",
              "      <td>-0.293151</td>\n",
              "      <td>-0.478376</td>\n",
              "      <td>-0.873082</td>\n",
              "      <td>-0.728011</td>\n",
              "    </tr>\n",
              "  </tbody>\n",
              "</table>\n",
              "<p>765 rows × 9 columns</p>\n",
              "</div>\n",
              "      <button class=\"colab-df-convert\" onclick=\"convertToInteractive('df-e95c6550-de18-4e00-84d3-f4e71eb54bde')\"\n",
              "              title=\"Convert this dataframe to an interactive table.\"\n",
              "              style=\"display:none;\">\n",
              "        \n",
              "  <svg xmlns=\"http://www.w3.org/2000/svg\" height=\"24px\"viewBox=\"0 0 24 24\"\n",
              "       width=\"24px\">\n",
              "    <path d=\"M0 0h24v24H0V0z\" fill=\"none\"/>\n",
              "    <path d=\"M18.56 5.44l.94 2.06.94-2.06 2.06-.94-2.06-.94-.94-2.06-.94 2.06-2.06.94zm-11 1L8.5 8.5l.94-2.06 2.06-.94-2.06-.94L8.5 2.5l-.94 2.06-2.06.94zm10 10l.94 2.06.94-2.06 2.06-.94-2.06-.94-.94-2.06-.94 2.06-2.06.94z\"/><path d=\"M17.41 7.96l-1.37-1.37c-.4-.4-.92-.59-1.43-.59-.52 0-1.04.2-1.43.59L10.3 9.45l-7.72 7.72c-.78.78-.78 2.05 0 2.83L4 21.41c.39.39.9.59 1.41.59.51 0 1.02-.2 1.41-.59l7.78-7.78 2.81-2.81c.8-.78.8-2.07 0-2.86zM5.41 20L4 18.59l7.72-7.72 1.47 1.35L5.41 20z\"/>\n",
              "  </svg>\n",
              "      </button>\n",
              "      \n",
              "  <style>\n",
              "    .colab-df-container {\n",
              "      display:flex;\n",
              "      flex-wrap:wrap;\n",
              "      gap: 12px;\n",
              "    }\n",
              "\n",
              "    .colab-df-convert {\n",
              "      background-color: #E8F0FE;\n",
              "      border: none;\n",
              "      border-radius: 50%;\n",
              "      cursor: pointer;\n",
              "      display: none;\n",
              "      fill: #1967D2;\n",
              "      height: 32px;\n",
              "      padding: 0 0 0 0;\n",
              "      width: 32px;\n",
              "    }\n",
              "\n",
              "    .colab-df-convert:hover {\n",
              "      background-color: #E2EBFA;\n",
              "      box-shadow: 0px 1px 2px rgba(60, 64, 67, 0.3), 0px 1px 3px 1px rgba(60, 64, 67, 0.15);\n",
              "      fill: #174EA6;\n",
              "    }\n",
              "\n",
              "    [theme=dark] .colab-df-convert {\n",
              "      background-color: #3B4455;\n",
              "      fill: #D2E3FC;\n",
              "    }\n",
              "\n",
              "    [theme=dark] .colab-df-convert:hover {\n",
              "      background-color: #434B5C;\n",
              "      box-shadow: 0px 1px 3px 1px rgba(0, 0, 0, 0.15);\n",
              "      filter: drop-shadow(0px 1px 2px rgba(0, 0, 0, 0.3));\n",
              "      fill: #FFFFFF;\n",
              "    }\n",
              "  </style>\n",
              "\n",
              "      <script>\n",
              "        const buttonEl =\n",
              "          document.querySelector('#df-e95c6550-de18-4e00-84d3-f4e71eb54bde button.colab-df-convert');\n",
              "        buttonEl.style.display =\n",
              "          google.colab.kernel.accessAllowed ? 'block' : 'none';\n",
              "\n",
              "        async function convertToInteractive(key) {\n",
              "          const element = document.querySelector('#df-e95c6550-de18-4e00-84d3-f4e71eb54bde');\n",
              "          const dataTable =\n",
              "            await google.colab.kernel.invokeFunction('convertToInteractive',\n",
              "                                                     [key], {});\n",
              "          if (!dataTable) return;\n",
              "\n",
              "          const docLinkHtml = 'Like what you see? Visit the ' +\n",
              "            '<a target=\"_blank\" href=https://colab.research.google.com/notebooks/data_table.ipynb>data table notebook</a>'\n",
              "            + ' to learn more about interactive tables.';\n",
              "          element.innerHTML = '';\n",
              "          dataTable['output_type'] = 'display_data';\n",
              "          await google.colab.output.renderOutput(dataTable, element);\n",
              "          const docLink = document.createElement('div');\n",
              "          docLink.innerHTML = docLinkHtml;\n",
              "          element.appendChild(docLink);\n",
              "        }\n",
              "      </script>\n",
              "    </div>\n",
              "  </div>\n",
              "  "
            ]
          },
          "metadata": {},
          "execution_count": 10
        }
      ]
    },
    {
      "cell_type": "code",
      "source": [
        "# separación datos entrenamiento y prueba\n",
        "from sklearn.model_selection import train_test_split\n",
        "Entrena, prueba, Entrena_clase, prueba_clase = train_test_split(\n",
        "    Data[[\"Pregnancies\",\"Glucose\",\"BloodPressure\",\"SkinThickness\",\"Insulin\",\n",
        "        \"BMI\",\"DiabetesPedigreeFunction\",\"Age\"]],\n",
        "    d,\n",
        "    test_size= 0.25,\n",
        "    random_state= 4\n",
        ")\n",
        "Entrena\n"
      ],
      "metadata": {
        "colab": {
          "base_uri": "https://localhost:8080/",
          "height": 424
        },
        "id": "MaJdhFYOtegq",
        "outputId": "9dadca09-4270-4a96-8ecb-a52a85d0a308"
      },
      "execution_count": 11,
      "outputs": [
        {
          "output_type": "execute_result",
          "data": {
            "text/plain": [
              "     Pregnancies   Glucose  BloodPressure  SkinThickness   Insulin       BMI  \\\n",
              "166    -0.254212  0.873134      -0.525204      -0.245927 -0.608176  0.020521   \n",
              "25      1.824117  0.115226      -0.192673      -0.135971  0.198240 -0.188594   \n",
              "13     -0.848020  2.224187      -1.024002      -0.465838  7.174456 -0.337962   \n",
              "55     -0.848020 -1.598305      -1.855331      -1.895261 -0.608176 -1.398473   \n",
              "254    -0.848020 -0.280204      -0.691470       0.853629 -0.608176  0.184826   \n",
              "..           ...       ...            ...            ...       ...       ...   \n",
              "360     0.339596  1.202659      -0.192673      -0.465838 -0.608176 -0.382772   \n",
              "709     1.824117  0.247036      -0.857736       0.963585 -0.608176  1.320021   \n",
              "439    -0.551116 -1.268780      -0.525204      -0.465838 -0.422080 -0.024289   \n",
              "174    -0.551116 -1.532400      -0.691470      -0.355883 -0.374363 -0.397709   \n",
              "122    -0.551116 -0.477919       0.139859       0.303851  0.055090  0.184826   \n",
              "\n",
              "     DiabetesPedigreeFunction       Age  \n",
              "166                 -0.663631 -0.958079  \n",
              "25                  -0.823767  0.656867  \n",
              "13                  -0.217763  2.186816  \n",
              "55                  -0.688750 -1.043076  \n",
              "254                  0.237526 -1.043076  \n",
              "..                        ...       ...  \n",
              "360                 -0.817487  2.526804  \n",
              "709                 -0.082746  0.401875  \n",
              "439                  0.093089 -0.958079  \n",
              "174                 -0.305680 -0.023110  \n",
              "122                 -0.198923 -0.873082  \n",
              "\n",
              "[573 rows x 8 columns]"
            ],
            "text/html": [
              "\n",
              "  <div id=\"df-b8fc6d62-6048-4153-96f2-64d229151439\">\n",
              "    <div class=\"colab-df-container\">\n",
              "      <div>\n",
              "<style scoped>\n",
              "    .dataframe tbody tr th:only-of-type {\n",
              "        vertical-align: middle;\n",
              "    }\n",
              "\n",
              "    .dataframe tbody tr th {\n",
              "        vertical-align: top;\n",
              "    }\n",
              "\n",
              "    .dataframe thead th {\n",
              "        text-align: right;\n",
              "    }\n",
              "</style>\n",
              "<table border=\"1\" class=\"dataframe\">\n",
              "  <thead>\n",
              "    <tr style=\"text-align: right;\">\n",
              "      <th></th>\n",
              "      <th>Pregnancies</th>\n",
              "      <th>Glucose</th>\n",
              "      <th>BloodPressure</th>\n",
              "      <th>SkinThickness</th>\n",
              "      <th>Insulin</th>\n",
              "      <th>BMI</th>\n",
              "      <th>DiabetesPedigreeFunction</th>\n",
              "      <th>Age</th>\n",
              "    </tr>\n",
              "  </thead>\n",
              "  <tbody>\n",
              "    <tr>\n",
              "      <th>166</th>\n",
              "      <td>-0.254212</td>\n",
              "      <td>0.873134</td>\n",
              "      <td>-0.525204</td>\n",
              "      <td>-0.245927</td>\n",
              "      <td>-0.608176</td>\n",
              "      <td>0.020521</td>\n",
              "      <td>-0.663631</td>\n",
              "      <td>-0.958079</td>\n",
              "    </tr>\n",
              "    <tr>\n",
              "      <th>25</th>\n",
              "      <td>1.824117</td>\n",
              "      <td>0.115226</td>\n",
              "      <td>-0.192673</td>\n",
              "      <td>-0.135971</td>\n",
              "      <td>0.198240</td>\n",
              "      <td>-0.188594</td>\n",
              "      <td>-0.823767</td>\n",
              "      <td>0.656867</td>\n",
              "    </tr>\n",
              "    <tr>\n",
              "      <th>13</th>\n",
              "      <td>-0.848020</td>\n",
              "      <td>2.224187</td>\n",
              "      <td>-1.024002</td>\n",
              "      <td>-0.465838</td>\n",
              "      <td>7.174456</td>\n",
              "      <td>-0.337962</td>\n",
              "      <td>-0.217763</td>\n",
              "      <td>2.186816</td>\n",
              "    </tr>\n",
              "    <tr>\n",
              "      <th>55</th>\n",
              "      <td>-0.848020</td>\n",
              "      <td>-1.598305</td>\n",
              "      <td>-1.855331</td>\n",
              "      <td>-1.895261</td>\n",
              "      <td>-0.608176</td>\n",
              "      <td>-1.398473</td>\n",
              "      <td>-0.688750</td>\n",
              "      <td>-1.043076</td>\n",
              "    </tr>\n",
              "    <tr>\n",
              "      <th>254</th>\n",
              "      <td>-0.848020</td>\n",
              "      <td>-0.280204</td>\n",
              "      <td>-0.691470</td>\n",
              "      <td>0.853629</td>\n",
              "      <td>-0.608176</td>\n",
              "      <td>0.184826</td>\n",
              "      <td>0.237526</td>\n",
              "      <td>-1.043076</td>\n",
              "    </tr>\n",
              "    <tr>\n",
              "      <th>...</th>\n",
              "      <td>...</td>\n",
              "      <td>...</td>\n",
              "      <td>...</td>\n",
              "      <td>...</td>\n",
              "      <td>...</td>\n",
              "      <td>...</td>\n",
              "      <td>...</td>\n",
              "      <td>...</td>\n",
              "    </tr>\n",
              "    <tr>\n",
              "      <th>360</th>\n",
              "      <td>0.339596</td>\n",
              "      <td>1.202659</td>\n",
              "      <td>-0.192673</td>\n",
              "      <td>-0.465838</td>\n",
              "      <td>-0.608176</td>\n",
              "      <td>-0.382772</td>\n",
              "      <td>-0.817487</td>\n",
              "      <td>2.526804</td>\n",
              "    </tr>\n",
              "    <tr>\n",
              "      <th>709</th>\n",
              "      <td>1.824117</td>\n",
              "      <td>0.247036</td>\n",
              "      <td>-0.857736</td>\n",
              "      <td>0.963585</td>\n",
              "      <td>-0.608176</td>\n",
              "      <td>1.320021</td>\n",
              "      <td>-0.082746</td>\n",
              "      <td>0.401875</td>\n",
              "    </tr>\n",
              "    <tr>\n",
              "      <th>439</th>\n",
              "      <td>-0.551116</td>\n",
              "      <td>-1.268780</td>\n",
              "      <td>-0.525204</td>\n",
              "      <td>-0.465838</td>\n",
              "      <td>-0.422080</td>\n",
              "      <td>-0.024289</td>\n",
              "      <td>0.093089</td>\n",
              "      <td>-0.958079</td>\n",
              "    </tr>\n",
              "    <tr>\n",
              "      <th>174</th>\n",
              "      <td>-0.551116</td>\n",
              "      <td>-1.532400</td>\n",
              "      <td>-0.691470</td>\n",
              "      <td>-0.355883</td>\n",
              "      <td>-0.374363</td>\n",
              "      <td>-0.397709</td>\n",
              "      <td>-0.305680</td>\n",
              "      <td>-0.023110</td>\n",
              "    </tr>\n",
              "    <tr>\n",
              "      <th>122</th>\n",
              "      <td>-0.551116</td>\n",
              "      <td>-0.477919</td>\n",
              "      <td>0.139859</td>\n",
              "      <td>0.303851</td>\n",
              "      <td>0.055090</td>\n",
              "      <td>0.184826</td>\n",
              "      <td>-0.198923</td>\n",
              "      <td>-0.873082</td>\n",
              "    </tr>\n",
              "  </tbody>\n",
              "</table>\n",
              "<p>573 rows × 8 columns</p>\n",
              "</div>\n",
              "      <button class=\"colab-df-convert\" onclick=\"convertToInteractive('df-b8fc6d62-6048-4153-96f2-64d229151439')\"\n",
              "              title=\"Convert this dataframe to an interactive table.\"\n",
              "              style=\"display:none;\">\n",
              "        \n",
              "  <svg xmlns=\"http://www.w3.org/2000/svg\" height=\"24px\"viewBox=\"0 0 24 24\"\n",
              "       width=\"24px\">\n",
              "    <path d=\"M0 0h24v24H0V0z\" fill=\"none\"/>\n",
              "    <path d=\"M18.56 5.44l.94 2.06.94-2.06 2.06-.94-2.06-.94-.94-2.06-.94 2.06-2.06.94zm-11 1L8.5 8.5l.94-2.06 2.06-.94-2.06-.94L8.5 2.5l-.94 2.06-2.06.94zm10 10l.94 2.06.94-2.06 2.06-.94-2.06-.94-.94-2.06-.94 2.06-2.06.94z\"/><path d=\"M17.41 7.96l-1.37-1.37c-.4-.4-.92-.59-1.43-.59-.52 0-1.04.2-1.43.59L10.3 9.45l-7.72 7.72c-.78.78-.78 2.05 0 2.83L4 21.41c.39.39.9.59 1.41.59.51 0 1.02-.2 1.41-.59l7.78-7.78 2.81-2.81c.8-.78.8-2.07 0-2.86zM5.41 20L4 18.59l7.72-7.72 1.47 1.35L5.41 20z\"/>\n",
              "  </svg>\n",
              "      </button>\n",
              "      \n",
              "  <style>\n",
              "    .colab-df-container {\n",
              "      display:flex;\n",
              "      flex-wrap:wrap;\n",
              "      gap: 12px;\n",
              "    }\n",
              "\n",
              "    .colab-df-convert {\n",
              "      background-color: #E8F0FE;\n",
              "      border: none;\n",
              "      border-radius: 50%;\n",
              "      cursor: pointer;\n",
              "      display: none;\n",
              "      fill: #1967D2;\n",
              "      height: 32px;\n",
              "      padding: 0 0 0 0;\n",
              "      width: 32px;\n",
              "    }\n",
              "\n",
              "    .colab-df-convert:hover {\n",
              "      background-color: #E2EBFA;\n",
              "      box-shadow: 0px 1px 2px rgba(60, 64, 67, 0.3), 0px 1px 3px 1px rgba(60, 64, 67, 0.15);\n",
              "      fill: #174EA6;\n",
              "    }\n",
              "\n",
              "    [theme=dark] .colab-df-convert {\n",
              "      background-color: #3B4455;\n",
              "      fill: #D2E3FC;\n",
              "    }\n",
              "\n",
              "    [theme=dark] .colab-df-convert:hover {\n",
              "      background-color: #434B5C;\n",
              "      box-shadow: 0px 1px 3px 1px rgba(0, 0, 0, 0.15);\n",
              "      filter: drop-shadow(0px 1px 2px rgba(0, 0, 0, 0.3));\n",
              "      fill: #FFFFFF;\n",
              "    }\n",
              "  </style>\n",
              "\n",
              "      <script>\n",
              "        const buttonEl =\n",
              "          document.querySelector('#df-b8fc6d62-6048-4153-96f2-64d229151439 button.colab-df-convert');\n",
              "        buttonEl.style.display =\n",
              "          google.colab.kernel.accessAllowed ? 'block' : 'none';\n",
              "\n",
              "        async function convertToInteractive(key) {\n",
              "          const element = document.querySelector('#df-b8fc6d62-6048-4153-96f2-64d229151439');\n",
              "          const dataTable =\n",
              "            await google.colab.kernel.invokeFunction('convertToInteractive',\n",
              "                                                     [key], {});\n",
              "          if (!dataTable) return;\n",
              "\n",
              "          const docLinkHtml = 'Like what you see? Visit the ' +\n",
              "            '<a target=\"_blank\" href=https://colab.research.google.com/notebooks/data_table.ipynb>data table notebook</a>'\n",
              "            + ' to learn more about interactive tables.';\n",
              "          element.innerHTML = '';\n",
              "          dataTable['output_type'] = 'display_data';\n",
              "          await google.colab.output.renderOutput(dataTable, element);\n",
              "          const docLink = document.createElement('div');\n",
              "          docLink.innerHTML = docLinkHtml;\n",
              "          element.appendChild(docLink);\n",
              "        }\n",
              "      </script>\n",
              "    </div>\n",
              "  </div>\n",
              "  "
            ]
          },
          "metadata": {},
          "execution_count": 11
        }
      ]
    },
    {
      "cell_type": "code",
      "source": [
        "Entrena"
      ],
      "metadata": {
        "colab": {
          "base_uri": "https://localhost:8080/",
          "height": 424
        },
        "id": "PVMrlDmQuI33",
        "outputId": "370efad3-42af-41b1-cc68-8cf77b0cc772"
      },
      "execution_count": 13,
      "outputs": [
        {
          "output_type": "execute_result",
          "data": {
            "text/plain": [
              "     Pregnancies   Glucose  BloodPressure  SkinThickness   Insulin       BMI  \\\n",
              "166    -0.254212  0.873134      -0.525204      -0.245927 -0.608176  0.020521   \n",
              "25      1.824117  0.115226      -0.192673      -0.135971  0.198240 -0.188594   \n",
              "13     -0.848020  2.224187      -1.024002      -0.465838  7.174456 -0.337962   \n",
              "55     -0.848020 -1.598305      -1.855331      -1.895261 -0.608176 -1.398473   \n",
              "254    -0.848020 -0.280204      -0.691470       0.853629 -0.608176  0.184826   \n",
              "..           ...       ...            ...            ...       ...       ...   \n",
              "360     0.339596  1.202659      -0.192673      -0.465838 -0.608176 -0.382772   \n",
              "709     1.824117  0.247036      -0.857736       0.963585 -0.608176  1.320021   \n",
              "439    -0.551116 -1.268780      -0.525204      -0.465838 -0.422080 -0.024289   \n",
              "174    -0.551116 -1.532400      -0.691470      -0.355883 -0.374363 -0.397709   \n",
              "122    -0.551116 -0.477919       0.139859       0.303851  0.055090  0.184826   \n",
              "\n",
              "     DiabetesPedigreeFunction       Age  \n",
              "166                 -0.663631 -0.958079  \n",
              "25                  -0.823767  0.656867  \n",
              "13                  -0.217763  2.186816  \n",
              "55                  -0.688750 -1.043076  \n",
              "254                  0.237526 -1.043076  \n",
              "..                        ...       ...  \n",
              "360                 -0.817487  2.526804  \n",
              "709                 -0.082746  0.401875  \n",
              "439                  0.093089 -0.958079  \n",
              "174                 -0.305680 -0.023110  \n",
              "122                 -0.198923 -0.873082  \n",
              "\n",
              "[573 rows x 8 columns]"
            ],
            "text/html": [
              "\n",
              "  <div id=\"df-c94253b9-c244-49e2-bc87-1ec2f10ea885\">\n",
              "    <div class=\"colab-df-container\">\n",
              "      <div>\n",
              "<style scoped>\n",
              "    .dataframe tbody tr th:only-of-type {\n",
              "        vertical-align: middle;\n",
              "    }\n",
              "\n",
              "    .dataframe tbody tr th {\n",
              "        vertical-align: top;\n",
              "    }\n",
              "\n",
              "    .dataframe thead th {\n",
              "        text-align: right;\n",
              "    }\n",
              "</style>\n",
              "<table border=\"1\" class=\"dataframe\">\n",
              "  <thead>\n",
              "    <tr style=\"text-align: right;\">\n",
              "      <th></th>\n",
              "      <th>Pregnancies</th>\n",
              "      <th>Glucose</th>\n",
              "      <th>BloodPressure</th>\n",
              "      <th>SkinThickness</th>\n",
              "      <th>Insulin</th>\n",
              "      <th>BMI</th>\n",
              "      <th>DiabetesPedigreeFunction</th>\n",
              "      <th>Age</th>\n",
              "    </tr>\n",
              "  </thead>\n",
              "  <tbody>\n",
              "    <tr>\n",
              "      <th>166</th>\n",
              "      <td>-0.254212</td>\n",
              "      <td>0.873134</td>\n",
              "      <td>-0.525204</td>\n",
              "      <td>-0.245927</td>\n",
              "      <td>-0.608176</td>\n",
              "      <td>0.020521</td>\n",
              "      <td>-0.663631</td>\n",
              "      <td>-0.958079</td>\n",
              "    </tr>\n",
              "    <tr>\n",
              "      <th>25</th>\n",
              "      <td>1.824117</td>\n",
              "      <td>0.115226</td>\n",
              "      <td>-0.192673</td>\n",
              "      <td>-0.135971</td>\n",
              "      <td>0.198240</td>\n",
              "      <td>-0.188594</td>\n",
              "      <td>-0.823767</td>\n",
              "      <td>0.656867</td>\n",
              "    </tr>\n",
              "    <tr>\n",
              "      <th>13</th>\n",
              "      <td>-0.848020</td>\n",
              "      <td>2.224187</td>\n",
              "      <td>-1.024002</td>\n",
              "      <td>-0.465838</td>\n",
              "      <td>7.174456</td>\n",
              "      <td>-0.337962</td>\n",
              "      <td>-0.217763</td>\n",
              "      <td>2.186816</td>\n",
              "    </tr>\n",
              "    <tr>\n",
              "      <th>55</th>\n",
              "      <td>-0.848020</td>\n",
              "      <td>-1.598305</td>\n",
              "      <td>-1.855331</td>\n",
              "      <td>-1.895261</td>\n",
              "      <td>-0.608176</td>\n",
              "      <td>-1.398473</td>\n",
              "      <td>-0.688750</td>\n",
              "      <td>-1.043076</td>\n",
              "    </tr>\n",
              "    <tr>\n",
              "      <th>254</th>\n",
              "      <td>-0.848020</td>\n",
              "      <td>-0.280204</td>\n",
              "      <td>-0.691470</td>\n",
              "      <td>0.853629</td>\n",
              "      <td>-0.608176</td>\n",
              "      <td>0.184826</td>\n",
              "      <td>0.237526</td>\n",
              "      <td>-1.043076</td>\n",
              "    </tr>\n",
              "    <tr>\n",
              "      <th>...</th>\n",
              "      <td>...</td>\n",
              "      <td>...</td>\n",
              "      <td>...</td>\n",
              "      <td>...</td>\n",
              "      <td>...</td>\n",
              "      <td>...</td>\n",
              "      <td>...</td>\n",
              "      <td>...</td>\n",
              "    </tr>\n",
              "    <tr>\n",
              "      <th>360</th>\n",
              "      <td>0.339596</td>\n",
              "      <td>1.202659</td>\n",
              "      <td>-0.192673</td>\n",
              "      <td>-0.465838</td>\n",
              "      <td>-0.608176</td>\n",
              "      <td>-0.382772</td>\n",
              "      <td>-0.817487</td>\n",
              "      <td>2.526804</td>\n",
              "    </tr>\n",
              "    <tr>\n",
              "      <th>709</th>\n",
              "      <td>1.824117</td>\n",
              "      <td>0.247036</td>\n",
              "      <td>-0.857736</td>\n",
              "      <td>0.963585</td>\n",
              "      <td>-0.608176</td>\n",
              "      <td>1.320021</td>\n",
              "      <td>-0.082746</td>\n",
              "      <td>0.401875</td>\n",
              "    </tr>\n",
              "    <tr>\n",
              "      <th>439</th>\n",
              "      <td>-0.551116</td>\n",
              "      <td>-1.268780</td>\n",
              "      <td>-0.525204</td>\n",
              "      <td>-0.465838</td>\n",
              "      <td>-0.422080</td>\n",
              "      <td>-0.024289</td>\n",
              "      <td>0.093089</td>\n",
              "      <td>-0.958079</td>\n",
              "    </tr>\n",
              "    <tr>\n",
              "      <th>174</th>\n",
              "      <td>-0.551116</td>\n",
              "      <td>-1.532400</td>\n",
              "      <td>-0.691470</td>\n",
              "      <td>-0.355883</td>\n",
              "      <td>-0.374363</td>\n",
              "      <td>-0.397709</td>\n",
              "      <td>-0.305680</td>\n",
              "      <td>-0.023110</td>\n",
              "    </tr>\n",
              "    <tr>\n",
              "      <th>122</th>\n",
              "      <td>-0.551116</td>\n",
              "      <td>-0.477919</td>\n",
              "      <td>0.139859</td>\n",
              "      <td>0.303851</td>\n",
              "      <td>0.055090</td>\n",
              "      <td>0.184826</td>\n",
              "      <td>-0.198923</td>\n",
              "      <td>-0.873082</td>\n",
              "    </tr>\n",
              "  </tbody>\n",
              "</table>\n",
              "<p>573 rows × 8 columns</p>\n",
              "</div>\n",
              "      <button class=\"colab-df-convert\" onclick=\"convertToInteractive('df-c94253b9-c244-49e2-bc87-1ec2f10ea885')\"\n",
              "              title=\"Convert this dataframe to an interactive table.\"\n",
              "              style=\"display:none;\">\n",
              "        \n",
              "  <svg xmlns=\"http://www.w3.org/2000/svg\" height=\"24px\"viewBox=\"0 0 24 24\"\n",
              "       width=\"24px\">\n",
              "    <path d=\"M0 0h24v24H0V0z\" fill=\"none\"/>\n",
              "    <path d=\"M18.56 5.44l.94 2.06.94-2.06 2.06-.94-2.06-.94-.94-2.06-.94 2.06-2.06.94zm-11 1L8.5 8.5l.94-2.06 2.06-.94-2.06-.94L8.5 2.5l-.94 2.06-2.06.94zm10 10l.94 2.06.94-2.06 2.06-.94-2.06-.94-.94-2.06-.94 2.06-2.06.94z\"/><path d=\"M17.41 7.96l-1.37-1.37c-.4-.4-.92-.59-1.43-.59-.52 0-1.04.2-1.43.59L10.3 9.45l-7.72 7.72c-.78.78-.78 2.05 0 2.83L4 21.41c.39.39.9.59 1.41.59.51 0 1.02-.2 1.41-.59l7.78-7.78 2.81-2.81c.8-.78.8-2.07 0-2.86zM5.41 20L4 18.59l7.72-7.72 1.47 1.35L5.41 20z\"/>\n",
              "  </svg>\n",
              "      </button>\n",
              "      \n",
              "  <style>\n",
              "    .colab-df-container {\n",
              "      display:flex;\n",
              "      flex-wrap:wrap;\n",
              "      gap: 12px;\n",
              "    }\n",
              "\n",
              "    .colab-df-convert {\n",
              "      background-color: #E8F0FE;\n",
              "      border: none;\n",
              "      border-radius: 50%;\n",
              "      cursor: pointer;\n",
              "      display: none;\n",
              "      fill: #1967D2;\n",
              "      height: 32px;\n",
              "      padding: 0 0 0 0;\n",
              "      width: 32px;\n",
              "    }\n",
              "\n",
              "    .colab-df-convert:hover {\n",
              "      background-color: #E2EBFA;\n",
              "      box-shadow: 0px 1px 2px rgba(60, 64, 67, 0.3), 0px 1px 3px 1px rgba(60, 64, 67, 0.15);\n",
              "      fill: #174EA6;\n",
              "    }\n",
              "\n",
              "    [theme=dark] .colab-df-convert {\n",
              "      background-color: #3B4455;\n",
              "      fill: #D2E3FC;\n",
              "    }\n",
              "\n",
              "    [theme=dark] .colab-df-convert:hover {\n",
              "      background-color: #434B5C;\n",
              "      box-shadow: 0px 1px 3px 1px rgba(0, 0, 0, 0.15);\n",
              "      filter: drop-shadow(0px 1px 2px rgba(0, 0, 0, 0.3));\n",
              "      fill: #FFFFFF;\n",
              "    }\n",
              "  </style>\n",
              "\n",
              "      <script>\n",
              "        const buttonEl =\n",
              "          document.querySelector('#df-c94253b9-c244-49e2-bc87-1ec2f10ea885 button.colab-df-convert');\n",
              "        buttonEl.style.display =\n",
              "          google.colab.kernel.accessAllowed ? 'block' : 'none';\n",
              "\n",
              "        async function convertToInteractive(key) {\n",
              "          const element = document.querySelector('#df-c94253b9-c244-49e2-bc87-1ec2f10ea885');\n",
              "          const dataTable =\n",
              "            await google.colab.kernel.invokeFunction('convertToInteractive',\n",
              "                                                     [key], {});\n",
              "          if (!dataTable) return;\n",
              "\n",
              "          const docLinkHtml = 'Like what you see? Visit the ' +\n",
              "            '<a target=\"_blank\" href=https://colab.research.google.com/notebooks/data_table.ipynb>data table notebook</a>'\n",
              "            + ' to learn more about interactive tables.';\n",
              "          element.innerHTML = '';\n",
              "          dataTable['output_type'] = 'display_data';\n",
              "          await google.colab.output.renderOutput(dataTable, element);\n",
              "          const docLink = document.createElement('div');\n",
              "          docLink.innerHTML = docLinkHtml;\n",
              "          element.appendChild(docLink);\n",
              "        }\n",
              "      </script>\n",
              "    </div>\n",
              "  </div>\n",
              "  "
            ]
          },
          "metadata": {},
          "execution_count": 13
        }
      ]
    },
    {
      "cell_type": "code",
      "source": [
        "Entrena_clase"
      ],
      "metadata": {
        "colab": {
          "base_uri": "https://localhost:8080/",
          "height": 424
        },
        "id": "kI-TxdBAuNHm",
        "outputId": "14be9f14-824e-4188-897b-54afbf89dd16"
      },
      "execution_count": 14,
      "outputs": [
        {
          "output_type": "execute_result",
          "data": {
            "text/plain": [
              "     Outcome\n",
              "166        0\n",
              "25         1\n",
              "13         1\n",
              "55         0\n",
              "255        1\n",
              "..       ...\n",
              "361        0\n",
              "712        1\n",
              "441        0\n",
              "174        0\n",
              "122        0\n",
              "\n",
              "[573 rows x 1 columns]"
            ],
            "text/html": [
              "\n",
              "  <div id=\"df-2a842e06-7424-4c3a-8356-dc1cd2f8c131\">\n",
              "    <div class=\"colab-df-container\">\n",
              "      <div>\n",
              "<style scoped>\n",
              "    .dataframe tbody tr th:only-of-type {\n",
              "        vertical-align: middle;\n",
              "    }\n",
              "\n",
              "    .dataframe tbody tr th {\n",
              "        vertical-align: top;\n",
              "    }\n",
              "\n",
              "    .dataframe thead th {\n",
              "        text-align: right;\n",
              "    }\n",
              "</style>\n",
              "<table border=\"1\" class=\"dataframe\">\n",
              "  <thead>\n",
              "    <tr style=\"text-align: right;\">\n",
              "      <th></th>\n",
              "      <th>Outcome</th>\n",
              "    </tr>\n",
              "  </thead>\n",
              "  <tbody>\n",
              "    <tr>\n",
              "      <th>166</th>\n",
              "      <td>0</td>\n",
              "    </tr>\n",
              "    <tr>\n",
              "      <th>25</th>\n",
              "      <td>1</td>\n",
              "    </tr>\n",
              "    <tr>\n",
              "      <th>13</th>\n",
              "      <td>1</td>\n",
              "    </tr>\n",
              "    <tr>\n",
              "      <th>55</th>\n",
              "      <td>0</td>\n",
              "    </tr>\n",
              "    <tr>\n",
              "      <th>255</th>\n",
              "      <td>1</td>\n",
              "    </tr>\n",
              "    <tr>\n",
              "      <th>...</th>\n",
              "      <td>...</td>\n",
              "    </tr>\n",
              "    <tr>\n",
              "      <th>361</th>\n",
              "      <td>0</td>\n",
              "    </tr>\n",
              "    <tr>\n",
              "      <th>712</th>\n",
              "      <td>1</td>\n",
              "    </tr>\n",
              "    <tr>\n",
              "      <th>441</th>\n",
              "      <td>0</td>\n",
              "    </tr>\n",
              "    <tr>\n",
              "      <th>174</th>\n",
              "      <td>0</td>\n",
              "    </tr>\n",
              "    <tr>\n",
              "      <th>122</th>\n",
              "      <td>0</td>\n",
              "    </tr>\n",
              "  </tbody>\n",
              "</table>\n",
              "<p>573 rows × 1 columns</p>\n",
              "</div>\n",
              "      <button class=\"colab-df-convert\" onclick=\"convertToInteractive('df-2a842e06-7424-4c3a-8356-dc1cd2f8c131')\"\n",
              "              title=\"Convert this dataframe to an interactive table.\"\n",
              "              style=\"display:none;\">\n",
              "        \n",
              "  <svg xmlns=\"http://www.w3.org/2000/svg\" height=\"24px\"viewBox=\"0 0 24 24\"\n",
              "       width=\"24px\">\n",
              "    <path d=\"M0 0h24v24H0V0z\" fill=\"none\"/>\n",
              "    <path d=\"M18.56 5.44l.94 2.06.94-2.06 2.06-.94-2.06-.94-.94-2.06-.94 2.06-2.06.94zm-11 1L8.5 8.5l.94-2.06 2.06-.94-2.06-.94L8.5 2.5l-.94 2.06-2.06.94zm10 10l.94 2.06.94-2.06 2.06-.94-2.06-.94-.94-2.06-.94 2.06-2.06.94z\"/><path d=\"M17.41 7.96l-1.37-1.37c-.4-.4-.92-.59-1.43-.59-.52 0-1.04.2-1.43.59L10.3 9.45l-7.72 7.72c-.78.78-.78 2.05 0 2.83L4 21.41c.39.39.9.59 1.41.59.51 0 1.02-.2 1.41-.59l7.78-7.78 2.81-2.81c.8-.78.8-2.07 0-2.86zM5.41 20L4 18.59l7.72-7.72 1.47 1.35L5.41 20z\"/>\n",
              "  </svg>\n",
              "      </button>\n",
              "      \n",
              "  <style>\n",
              "    .colab-df-container {\n",
              "      display:flex;\n",
              "      flex-wrap:wrap;\n",
              "      gap: 12px;\n",
              "    }\n",
              "\n",
              "    .colab-df-convert {\n",
              "      background-color: #E8F0FE;\n",
              "      border: none;\n",
              "      border-radius: 50%;\n",
              "      cursor: pointer;\n",
              "      display: none;\n",
              "      fill: #1967D2;\n",
              "      height: 32px;\n",
              "      padding: 0 0 0 0;\n",
              "      width: 32px;\n",
              "    }\n",
              "\n",
              "    .colab-df-convert:hover {\n",
              "      background-color: #E2EBFA;\n",
              "      box-shadow: 0px 1px 2px rgba(60, 64, 67, 0.3), 0px 1px 3px 1px rgba(60, 64, 67, 0.15);\n",
              "      fill: #174EA6;\n",
              "    }\n",
              "\n",
              "    [theme=dark] .colab-df-convert {\n",
              "      background-color: #3B4455;\n",
              "      fill: #D2E3FC;\n",
              "    }\n",
              "\n",
              "    [theme=dark] .colab-df-convert:hover {\n",
              "      background-color: #434B5C;\n",
              "      box-shadow: 0px 1px 3px 1px rgba(0, 0, 0, 0.15);\n",
              "      filter: drop-shadow(0px 1px 2px rgba(0, 0, 0, 0.3));\n",
              "      fill: #FFFFFF;\n",
              "    }\n",
              "  </style>\n",
              "\n",
              "      <script>\n",
              "        const buttonEl =\n",
              "          document.querySelector('#df-2a842e06-7424-4c3a-8356-dc1cd2f8c131 button.colab-df-convert');\n",
              "        buttonEl.style.display =\n",
              "          google.colab.kernel.accessAllowed ? 'block' : 'none';\n",
              "\n",
              "        async function convertToInteractive(key) {\n",
              "          const element = document.querySelector('#df-2a842e06-7424-4c3a-8356-dc1cd2f8c131');\n",
              "          const dataTable =\n",
              "            await google.colab.kernel.invokeFunction('convertToInteractive',\n",
              "                                                     [key], {});\n",
              "          if (!dataTable) return;\n",
              "\n",
              "          const docLinkHtml = 'Like what you see? Visit the ' +\n",
              "            '<a target=\"_blank\" href=https://colab.research.google.com/notebooks/data_table.ipynb>data table notebook</a>'\n",
              "            + ' to learn more about interactive tables.';\n",
              "          element.innerHTML = '';\n",
              "          dataTable['output_type'] = 'display_data';\n",
              "          await google.colab.output.renderOutput(dataTable, element);\n",
              "          const docLink = document.createElement('div');\n",
              "          docLink.innerHTML = docLinkHtml;\n",
              "          element.appendChild(docLink);\n",
              "        }\n",
              "      </script>\n",
              "    </div>\n",
              "  </div>\n",
              "  "
            ]
          },
          "metadata": {},
          "execution_count": 14
        }
      ]
    },
    {
      "cell_type": "code",
      "source": [
        "prueba_clase"
      ],
      "metadata": {
        "colab": {
          "base_uri": "https://localhost:8080/",
          "height": 424
        },
        "id": "kEB3JlV7uVxx",
        "outputId": "6a00a90f-82c0-4732-bbc0-c3cbcbe5ab1c"
      },
      "execution_count": null,
      "outputs": [
        {
          "output_type": "execute_result",
          "data": {
            "text/plain": [
              "     Outcome\n",
              "577        1\n",
              "215        1\n",
              "421        0\n",
              "584        1\n",
              "746        1\n",
              "..       ...\n",
              "740        1\n",
              "214        1\n",
              "237        1\n",
              "561        1\n",
              "170        1\n",
              "\n",
              "[192 rows x 1 columns]"
            ],
            "text/html": [
              "\n",
              "  <div id=\"df-a41dea69-b932-4a8a-b81a-42b21d158376\">\n",
              "    <div class=\"colab-df-container\">\n",
              "      <div>\n",
              "<style scoped>\n",
              "    .dataframe tbody tr th:only-of-type {\n",
              "        vertical-align: middle;\n",
              "    }\n",
              "\n",
              "    .dataframe tbody tr th {\n",
              "        vertical-align: top;\n",
              "    }\n",
              "\n",
              "    .dataframe thead th {\n",
              "        text-align: right;\n",
              "    }\n",
              "</style>\n",
              "<table border=\"1\" class=\"dataframe\">\n",
              "  <thead>\n",
              "    <tr style=\"text-align: right;\">\n",
              "      <th></th>\n",
              "      <th>Outcome</th>\n",
              "    </tr>\n",
              "  </thead>\n",
              "  <tbody>\n",
              "    <tr>\n",
              "      <th>577</th>\n",
              "      <td>1</td>\n",
              "    </tr>\n",
              "    <tr>\n",
              "      <th>215</th>\n",
              "      <td>1</td>\n",
              "    </tr>\n",
              "    <tr>\n",
              "      <th>421</th>\n",
              "      <td>0</td>\n",
              "    </tr>\n",
              "    <tr>\n",
              "      <th>584</th>\n",
              "      <td>1</td>\n",
              "    </tr>\n",
              "    <tr>\n",
              "      <th>746</th>\n",
              "      <td>1</td>\n",
              "    </tr>\n",
              "    <tr>\n",
              "      <th>...</th>\n",
              "      <td>...</td>\n",
              "    </tr>\n",
              "    <tr>\n",
              "      <th>740</th>\n",
              "      <td>1</td>\n",
              "    </tr>\n",
              "    <tr>\n",
              "      <th>214</th>\n",
              "      <td>1</td>\n",
              "    </tr>\n",
              "    <tr>\n",
              "      <th>237</th>\n",
              "      <td>1</td>\n",
              "    </tr>\n",
              "    <tr>\n",
              "      <th>561</th>\n",
              "      <td>1</td>\n",
              "    </tr>\n",
              "    <tr>\n",
              "      <th>170</th>\n",
              "      <td>1</td>\n",
              "    </tr>\n",
              "  </tbody>\n",
              "</table>\n",
              "<p>192 rows × 1 columns</p>\n",
              "</div>\n",
              "      <button class=\"colab-df-convert\" onclick=\"convertToInteractive('df-a41dea69-b932-4a8a-b81a-42b21d158376')\"\n",
              "              title=\"Convert this dataframe to an interactive table.\"\n",
              "              style=\"display:none;\">\n",
              "        \n",
              "  <svg xmlns=\"http://www.w3.org/2000/svg\" height=\"24px\"viewBox=\"0 0 24 24\"\n",
              "       width=\"24px\">\n",
              "    <path d=\"M0 0h24v24H0V0z\" fill=\"none\"/>\n",
              "    <path d=\"M18.56 5.44l.94 2.06.94-2.06 2.06-.94-2.06-.94-.94-2.06-.94 2.06-2.06.94zm-11 1L8.5 8.5l.94-2.06 2.06-.94-2.06-.94L8.5 2.5l-.94 2.06-2.06.94zm10 10l.94 2.06.94-2.06 2.06-.94-2.06-.94-.94-2.06-.94 2.06-2.06.94z\"/><path d=\"M17.41 7.96l-1.37-1.37c-.4-.4-.92-.59-1.43-.59-.52 0-1.04.2-1.43.59L10.3 9.45l-7.72 7.72c-.78.78-.78 2.05 0 2.83L4 21.41c.39.39.9.59 1.41.59.51 0 1.02-.2 1.41-.59l7.78-7.78 2.81-2.81c.8-.78.8-2.07 0-2.86zM5.41 20L4 18.59l7.72-7.72 1.47 1.35L5.41 20z\"/>\n",
              "  </svg>\n",
              "      </button>\n",
              "      \n",
              "  <style>\n",
              "    .colab-df-container {\n",
              "      display:flex;\n",
              "      flex-wrap:wrap;\n",
              "      gap: 12px;\n",
              "    }\n",
              "\n",
              "    .colab-df-convert {\n",
              "      background-color: #E8F0FE;\n",
              "      border: none;\n",
              "      border-radius: 50%;\n",
              "      cursor: pointer;\n",
              "      display: none;\n",
              "      fill: #1967D2;\n",
              "      height: 32px;\n",
              "      padding: 0 0 0 0;\n",
              "      width: 32px;\n",
              "    }\n",
              "\n",
              "    .colab-df-convert:hover {\n",
              "      background-color: #E2EBFA;\n",
              "      box-shadow: 0px 1px 2px rgba(60, 64, 67, 0.3), 0px 1px 3px 1px rgba(60, 64, 67, 0.15);\n",
              "      fill: #174EA6;\n",
              "    }\n",
              "\n",
              "    [theme=dark] .colab-df-convert {\n",
              "      background-color: #3B4455;\n",
              "      fill: #D2E3FC;\n",
              "    }\n",
              "\n",
              "    [theme=dark] .colab-df-convert:hover {\n",
              "      background-color: #434B5C;\n",
              "      box-shadow: 0px 1px 3px 1px rgba(0, 0, 0, 0.15);\n",
              "      filter: drop-shadow(0px 1px 2px rgba(0, 0, 0, 0.3));\n",
              "      fill: #FFFFFF;\n",
              "    }\n",
              "  </style>\n",
              "\n",
              "      <script>\n",
              "        const buttonEl =\n",
              "          document.querySelector('#df-a41dea69-b932-4a8a-b81a-42b21d158376 button.colab-df-convert');\n",
              "        buttonEl.style.display =\n",
              "          google.colab.kernel.accessAllowed ? 'block' : 'none';\n",
              "\n",
              "        async function convertToInteractive(key) {\n",
              "          const element = document.querySelector('#df-a41dea69-b932-4a8a-b81a-42b21d158376');\n",
              "          const dataTable =\n",
              "            await google.colab.kernel.invokeFunction('convertToInteractive',\n",
              "                                                     [key], {});\n",
              "          if (!dataTable) return;\n",
              "\n",
              "          const docLinkHtml = 'Like what you see? Visit the ' +\n",
              "            '<a target=\"_blank\" href=https://colab.research.google.com/notebooks/data_table.ipynb>data table notebook</a>'\n",
              "            + ' to learn more about interactive tables.';\n",
              "          element.innerHTML = '';\n",
              "          dataTable['output_type'] = 'display_data';\n",
              "          await google.colab.output.renderOutput(dataTable, element);\n",
              "          const docLink = document.createElement('div');\n",
              "          docLink.innerHTML = docLinkHtml;\n",
              "          element.appendChild(docLink);\n",
              "        }\n",
              "      </script>\n",
              "    </div>\n",
              "  </div>\n",
              "  "
            ]
          },
          "metadata": {},
          "execution_count": 21
        }
      ]
    },
    {
      "cell_type": "markdown",
      "source": [
        "## 3.2 Regresión Logistica"
      ],
      "metadata": {
        "id": "kUT12YIAkizH"
      }
    },
    {
      "cell_type": "code",
      "source": [
        "from sklearn.linear_model import LogisticRegression\n",
        "# crear modelo\n",
        "RegLogi = LogisticRegression().fit(Entrena,Entrena_clase)\n",
        "#imprimiento parametros\n",
        "print(f\"intercepto (b) : {RegLogi.intercept_}\")\n",
        "print(f\"pendiente (w) : {RegLogi.coef_}\")"
      ],
      "metadata": {
        "colab": {
          "base_uri": "https://localhost:8080/"
        },
        "id": "PbKSQN16nbnD",
        "outputId": "476496df-faed-4f3e-f4bb-358269043f52"
      },
      "execution_count": 42,
      "outputs": [
        {
          "output_type": "stream",
          "name": "stdout",
          "text": [
            "intercepto (b) : [-1.05914293]\n",
            "pendiente (w) : [[ 0.44582533  1.09340349 -0.20917999 -0.01666896 -0.2275424   0.74219256\n",
            "   0.23507463  0.19591945]]\n"
          ]
        },
        {
          "output_type": "stream",
          "name": "stderr",
          "text": [
            "/usr/local/lib/python3.7/dist-packages/sklearn/utils/validation.py:993: DataConversionWarning: A column-vector y was passed when a 1d array was expected. Please change the shape of y to (n_samples, ), for example using ravel().\n",
            "  y = column_or_1d(y, warn=True)\n"
          ]
        }
      ]
    },
    {
      "cell_type": "code",
      "source": [
        "# accuarency por kfolds\n",
        "print(cross_val_score(RegLogi,\n",
        "                       Entrena,Entrena_clase,cv=7).mean())"
      ],
      "metadata": {
        "id": "7WX0Yt3azBRi",
        "colab": {
          "base_uri": "https://localhost:8080/"
        },
        "outputId": "bb49d5f9-1799-4664-d263-9dae74a36e80"
      },
      "execution_count": 43,
      "outputs": [
        {
          "output_type": "stream",
          "name": "stdout",
          "text": [
            "0.7713683486041211\n"
          ]
        },
        {
          "output_type": "stream",
          "name": "stderr",
          "text": [
            "/usr/local/lib/python3.7/dist-packages/sklearn/utils/validation.py:993: DataConversionWarning: A column-vector y was passed when a 1d array was expected. Please change the shape of y to (n_samples, ), for example using ravel().\n",
            "  y = column_or_1d(y, warn=True)\n",
            "/usr/local/lib/python3.7/dist-packages/sklearn/utils/validation.py:993: DataConversionWarning: A column-vector y was passed when a 1d array was expected. Please change the shape of y to (n_samples, ), for example using ravel().\n",
            "  y = column_or_1d(y, warn=True)\n",
            "/usr/local/lib/python3.7/dist-packages/sklearn/utils/validation.py:993: DataConversionWarning: A column-vector y was passed when a 1d array was expected. Please change the shape of y to (n_samples, ), for example using ravel().\n",
            "  y = column_or_1d(y, warn=True)\n",
            "/usr/local/lib/python3.7/dist-packages/sklearn/utils/validation.py:993: DataConversionWarning: A column-vector y was passed when a 1d array was expected. Please change the shape of y to (n_samples, ), for example using ravel().\n",
            "  y = column_or_1d(y, warn=True)\n",
            "/usr/local/lib/python3.7/dist-packages/sklearn/utils/validation.py:993: DataConversionWarning: A column-vector y was passed when a 1d array was expected. Please change the shape of y to (n_samples, ), for example using ravel().\n",
            "  y = column_or_1d(y, warn=True)\n",
            "/usr/local/lib/python3.7/dist-packages/sklearn/utils/validation.py:993: DataConversionWarning: A column-vector y was passed when a 1d array was expected. Please change the shape of y to (n_samples, ), for example using ravel().\n",
            "  y = column_or_1d(y, warn=True)\n",
            "/usr/local/lib/python3.7/dist-packages/sklearn/utils/validation.py:993: DataConversionWarning: A column-vector y was passed when a 1d array was expected. Please change the shape of y to (n_samples, ), for example using ravel().\n",
            "  y = column_or_1d(y, warn=True)\n"
          ]
        }
      ]
    },
    {
      "cell_type": "markdown",
      "source": [
        "## 3.3 KNN\n",
        "primero realizaremos una supervisión a los datos para conocer las caracteristicas de nuestros datos y tomar decisiones para aplicar al modelo de KNN"
      ],
      "metadata": {
        "id": "9Xsh_SMGki7i"
      }
    },
    {
      "cell_type": "markdown",
      "source": [
        "### PCA para toma de decisiones\n",
        "\n",
        "\n",
        "\n",
        "\n"
      ],
      "metadata": {
        "id": "BM0X2Wasul1H"
      }
    },
    {
      "cell_type": "code",
      "source": [
        "##### covarianza sin outcome\n",
        "dfPCA =pd.DataFrame(Entrena)\n",
        "dfPCA.cov()"
      ],
      "metadata": {
        "colab": {
          "base_uri": "https://localhost:8080/"
        },
        "id": "O_QzqMLcu1Z9",
        "outputId": "a1660b8d-7780-4844-86be-4fb5c901c0e0"
      },
      "execution_count": null,
      "outputs": [
        {
          "output_type": "execute_result",
          "data": {
            "text/plain": [
              "                          Pregnancies   Glucose  BloodPressure  SkinThickness  \\\n",
              "Pregnancies                  0.949515  0.145121       0.207745       0.028569   \n",
              "Glucose                      0.145121  0.922855       0.209524       0.132007   \n",
              "BloodPressure                0.207745  0.209524       1.002542       0.124754   \n",
              "SkinThickness                0.028569  0.132007       0.124754       1.048245   \n",
              "Insulin                     -0.060577  0.358038      -0.050775       0.227519   \n",
              "BMI                          0.013798  0.180046       0.271798       0.544686   \n",
              "DiabetesPedigreeFunction    -0.014690  0.103873      -0.011114       0.124744   \n",
              "Age                          0.528719  0.271627       0.327203       0.064174   \n",
              "\n",
              "                           Insulin       BMI  DiabetesPedigreeFunction  \\\n",
              "Pregnancies              -0.060577  0.013798                 -0.014690   \n",
              "Glucose                   0.358038  0.180046                  0.103873   \n",
              "BloodPressure            -0.050775  0.271798                 -0.011114   \n",
              "SkinThickness             0.227519  0.544686                  0.124744   \n",
              "Insulin                   1.008653  0.218362                  0.189372   \n",
              "BMI                       0.218362  0.984906                  0.106673   \n",
              "DiabetesPedigreeFunction  0.189372  0.106673                  1.016206   \n",
              "Age                      -0.029729  0.017547                  0.051558   \n",
              "\n",
              "                               Age  \n",
              "Pregnancies               0.528719  \n",
              "Glucose                   0.271627  \n",
              "BloodPressure             0.327203  \n",
              "SkinThickness             0.064174  \n",
              "Insulin                  -0.029729  \n",
              "BMI                       0.017547  \n",
              "DiabetesPedigreeFunction  0.051558  \n",
              "Age                       1.034846  "
            ],
            "text/html": [
              "\n",
              "  <div id=\"df-6baa2e0a-0d43-40f1-a344-1c13040862ab\">\n",
              "    <div class=\"colab-df-container\">\n",
              "      <div>\n",
              "<style scoped>\n",
              "    .dataframe tbody tr th:only-of-type {\n",
              "        vertical-align: middle;\n",
              "    }\n",
              "\n",
              "    .dataframe tbody tr th {\n",
              "        vertical-align: top;\n",
              "    }\n",
              "\n",
              "    .dataframe thead th {\n",
              "        text-align: right;\n",
              "    }\n",
              "</style>\n",
              "<table border=\"1\" class=\"dataframe\">\n",
              "  <thead>\n",
              "    <tr style=\"text-align: right;\">\n",
              "      <th></th>\n",
              "      <th>Pregnancies</th>\n",
              "      <th>Glucose</th>\n",
              "      <th>BloodPressure</th>\n",
              "      <th>SkinThickness</th>\n",
              "      <th>Insulin</th>\n",
              "      <th>BMI</th>\n",
              "      <th>DiabetesPedigreeFunction</th>\n",
              "      <th>Age</th>\n",
              "    </tr>\n",
              "  </thead>\n",
              "  <tbody>\n",
              "    <tr>\n",
              "      <th>Pregnancies</th>\n",
              "      <td>0.949515</td>\n",
              "      <td>0.145121</td>\n",
              "      <td>0.207745</td>\n",
              "      <td>0.028569</td>\n",
              "      <td>-0.060577</td>\n",
              "      <td>0.013798</td>\n",
              "      <td>-0.014690</td>\n",
              "      <td>0.528719</td>\n",
              "    </tr>\n",
              "    <tr>\n",
              "      <th>Glucose</th>\n",
              "      <td>0.145121</td>\n",
              "      <td>0.922855</td>\n",
              "      <td>0.209524</td>\n",
              "      <td>0.132007</td>\n",
              "      <td>0.358038</td>\n",
              "      <td>0.180046</td>\n",
              "      <td>0.103873</td>\n",
              "      <td>0.271627</td>\n",
              "    </tr>\n",
              "    <tr>\n",
              "      <th>BloodPressure</th>\n",
              "      <td>0.207745</td>\n",
              "      <td>0.209524</td>\n",
              "      <td>1.002542</td>\n",
              "      <td>0.124754</td>\n",
              "      <td>-0.050775</td>\n",
              "      <td>0.271798</td>\n",
              "      <td>-0.011114</td>\n",
              "      <td>0.327203</td>\n",
              "    </tr>\n",
              "    <tr>\n",
              "      <th>SkinThickness</th>\n",
              "      <td>0.028569</td>\n",
              "      <td>0.132007</td>\n",
              "      <td>0.124754</td>\n",
              "      <td>1.048245</td>\n",
              "      <td>0.227519</td>\n",
              "      <td>0.544686</td>\n",
              "      <td>0.124744</td>\n",
              "      <td>0.064174</td>\n",
              "    </tr>\n",
              "    <tr>\n",
              "      <th>Insulin</th>\n",
              "      <td>-0.060577</td>\n",
              "      <td>0.358038</td>\n",
              "      <td>-0.050775</td>\n",
              "      <td>0.227519</td>\n",
              "      <td>1.008653</td>\n",
              "      <td>0.218362</td>\n",
              "      <td>0.189372</td>\n",
              "      <td>-0.029729</td>\n",
              "    </tr>\n",
              "    <tr>\n",
              "      <th>BMI</th>\n",
              "      <td>0.013798</td>\n",
              "      <td>0.180046</td>\n",
              "      <td>0.271798</td>\n",
              "      <td>0.544686</td>\n",
              "      <td>0.218362</td>\n",
              "      <td>0.984906</td>\n",
              "      <td>0.106673</td>\n",
              "      <td>0.017547</td>\n",
              "    </tr>\n",
              "    <tr>\n",
              "      <th>DiabetesPedigreeFunction</th>\n",
              "      <td>-0.014690</td>\n",
              "      <td>0.103873</td>\n",
              "      <td>-0.011114</td>\n",
              "      <td>0.124744</td>\n",
              "      <td>0.189372</td>\n",
              "      <td>0.106673</td>\n",
              "      <td>1.016206</td>\n",
              "      <td>0.051558</td>\n",
              "    </tr>\n",
              "    <tr>\n",
              "      <th>Age</th>\n",
              "      <td>0.528719</td>\n",
              "      <td>0.271627</td>\n",
              "      <td>0.327203</td>\n",
              "      <td>0.064174</td>\n",
              "      <td>-0.029729</td>\n",
              "      <td>0.017547</td>\n",
              "      <td>0.051558</td>\n",
              "      <td>1.034846</td>\n",
              "    </tr>\n",
              "  </tbody>\n",
              "</table>\n",
              "</div>\n",
              "      <button class=\"colab-df-convert\" onclick=\"convertToInteractive('df-6baa2e0a-0d43-40f1-a344-1c13040862ab')\"\n",
              "              title=\"Convert this dataframe to an interactive table.\"\n",
              "              style=\"display:none;\">\n",
              "        \n",
              "  <svg xmlns=\"http://www.w3.org/2000/svg\" height=\"24px\"viewBox=\"0 0 24 24\"\n",
              "       width=\"24px\">\n",
              "    <path d=\"M0 0h24v24H0V0z\" fill=\"none\"/>\n",
              "    <path d=\"M18.56 5.44l.94 2.06.94-2.06 2.06-.94-2.06-.94-.94-2.06-.94 2.06-2.06.94zm-11 1L8.5 8.5l.94-2.06 2.06-.94-2.06-.94L8.5 2.5l-.94 2.06-2.06.94zm10 10l.94 2.06.94-2.06 2.06-.94-2.06-.94-.94-2.06-.94 2.06-2.06.94z\"/><path d=\"M17.41 7.96l-1.37-1.37c-.4-.4-.92-.59-1.43-.59-.52 0-1.04.2-1.43.59L10.3 9.45l-7.72 7.72c-.78.78-.78 2.05 0 2.83L4 21.41c.39.39.9.59 1.41.59.51 0 1.02-.2 1.41-.59l7.78-7.78 2.81-2.81c.8-.78.8-2.07 0-2.86zM5.41 20L4 18.59l7.72-7.72 1.47 1.35L5.41 20z\"/>\n",
              "  </svg>\n",
              "      </button>\n",
              "      \n",
              "  <style>\n",
              "    .colab-df-container {\n",
              "      display:flex;\n",
              "      flex-wrap:wrap;\n",
              "      gap: 12px;\n",
              "    }\n",
              "\n",
              "    .colab-df-convert {\n",
              "      background-color: #E8F0FE;\n",
              "      border: none;\n",
              "      border-radius: 50%;\n",
              "      cursor: pointer;\n",
              "      display: none;\n",
              "      fill: #1967D2;\n",
              "      height: 32px;\n",
              "      padding: 0 0 0 0;\n",
              "      width: 32px;\n",
              "    }\n",
              "\n",
              "    .colab-df-convert:hover {\n",
              "      background-color: #E2EBFA;\n",
              "      box-shadow: 0px 1px 2px rgba(60, 64, 67, 0.3), 0px 1px 3px 1px rgba(60, 64, 67, 0.15);\n",
              "      fill: #174EA6;\n",
              "    }\n",
              "\n",
              "    [theme=dark] .colab-df-convert {\n",
              "      background-color: #3B4455;\n",
              "      fill: #D2E3FC;\n",
              "    }\n",
              "\n",
              "    [theme=dark] .colab-df-convert:hover {\n",
              "      background-color: #434B5C;\n",
              "      box-shadow: 0px 1px 3px 1px rgba(0, 0, 0, 0.15);\n",
              "      filter: drop-shadow(0px 1px 2px rgba(0, 0, 0, 0.3));\n",
              "      fill: #FFFFFF;\n",
              "    }\n",
              "  </style>\n",
              "\n",
              "      <script>\n",
              "        const buttonEl =\n",
              "          document.querySelector('#df-6baa2e0a-0d43-40f1-a344-1c13040862ab button.colab-df-convert');\n",
              "        buttonEl.style.display =\n",
              "          google.colab.kernel.accessAllowed ? 'block' : 'none';\n",
              "\n",
              "        async function convertToInteractive(key) {\n",
              "          const element = document.querySelector('#df-6baa2e0a-0d43-40f1-a344-1c13040862ab');\n",
              "          const dataTable =\n",
              "            await google.colab.kernel.invokeFunction('convertToInteractive',\n",
              "                                                     [key], {});\n",
              "          if (!dataTable) return;\n",
              "\n",
              "          const docLinkHtml = 'Like what you see? Visit the ' +\n",
              "            '<a target=\"_blank\" href=https://colab.research.google.com/notebooks/data_table.ipynb>data table notebook</a>'\n",
              "            + ' to learn more about interactive tables.';\n",
              "          element.innerHTML = '';\n",
              "          dataTable['output_type'] = 'display_data';\n",
              "          await google.colab.output.renderOutput(dataTable, element);\n",
              "          const docLink = document.createElement('div');\n",
              "          docLink.innerHTML = docLinkHtml;\n",
              "          element.appendChild(docLink);\n",
              "        }\n",
              "      </script>\n",
              "    </div>\n",
              "  </div>\n",
              "  "
            ]
          },
          "metadata": {},
          "execution_count": 24
        }
      ]
    },
    {
      "cell_type": "code",
      "source": [
        "# PCA\n",
        "import sklearn\n",
        "from sklearn.decomposition import PCA\n",
        "## aplicando el pca\n",
        "pca = PCA(n_components=2)\n",
        "PrincipalComponentes = pca.fit_transform(dfPCA)\n",
        "dfPrincipal = pd.DataFrame(data=PrincipalComponentes,\n",
        "                           columns = ['C1','C2'])\n",
        "dfPrincipal"
      ],
      "metadata": {
        "colab": {
          "base_uri": "https://localhost:8080/"
        },
        "id": "IbFhbbY1vQJh",
        "outputId": "3534961f-d531-4222-f68f-f06b3aa025a4"
      },
      "execution_count": null,
      "outputs": [
        {
          "output_type": "execute_result",
          "data": {
            "text/plain": [
              "           C1        C2\n",
              "0   -0.660147  0.295140\n",
              "1    0.521089 -1.403477\n",
              "2    2.771169  1.986972\n",
              "3   -3.648126 -0.049060\n",
              "4   -0.678400  1.307229\n",
              "..        ...       ...\n",
              "568  0.788869 -2.140951\n",
              "569  1.251110 -0.388915\n",
              "570 -1.511410  0.591938\n",
              "571 -1.498257  0.000858\n",
              "572 -0.421048  0.830950\n",
              "\n",
              "[573 rows x 2 columns]"
            ],
            "text/html": [
              "\n",
              "  <div id=\"df-d48a15b4-92fd-4b22-9de2-33e1595215cd\">\n",
              "    <div class=\"colab-df-container\">\n",
              "      <div>\n",
              "<style scoped>\n",
              "    .dataframe tbody tr th:only-of-type {\n",
              "        vertical-align: middle;\n",
              "    }\n",
              "\n",
              "    .dataframe tbody tr th {\n",
              "        vertical-align: top;\n",
              "    }\n",
              "\n",
              "    .dataframe thead th {\n",
              "        text-align: right;\n",
              "    }\n",
              "</style>\n",
              "<table border=\"1\" class=\"dataframe\">\n",
              "  <thead>\n",
              "    <tr style=\"text-align: right;\">\n",
              "      <th></th>\n",
              "      <th>C1</th>\n",
              "      <th>C2</th>\n",
              "    </tr>\n",
              "  </thead>\n",
              "  <tbody>\n",
              "    <tr>\n",
              "      <th>0</th>\n",
              "      <td>-0.660147</td>\n",
              "      <td>0.295140</td>\n",
              "    </tr>\n",
              "    <tr>\n",
              "      <th>1</th>\n",
              "      <td>0.521089</td>\n",
              "      <td>-1.403477</td>\n",
              "    </tr>\n",
              "    <tr>\n",
              "      <th>2</th>\n",
              "      <td>2.771169</td>\n",
              "      <td>1.986972</td>\n",
              "    </tr>\n",
              "    <tr>\n",
              "      <th>3</th>\n",
              "      <td>-3.648126</td>\n",
              "      <td>-0.049060</td>\n",
              "    </tr>\n",
              "    <tr>\n",
              "      <th>4</th>\n",
              "      <td>-0.678400</td>\n",
              "      <td>1.307229</td>\n",
              "    </tr>\n",
              "    <tr>\n",
              "      <th>...</th>\n",
              "      <td>...</td>\n",
              "      <td>...</td>\n",
              "    </tr>\n",
              "    <tr>\n",
              "      <th>568</th>\n",
              "      <td>0.788869</td>\n",
              "      <td>-2.140951</td>\n",
              "    </tr>\n",
              "    <tr>\n",
              "      <th>569</th>\n",
              "      <td>1.251110</td>\n",
              "      <td>-0.388915</td>\n",
              "    </tr>\n",
              "    <tr>\n",
              "      <th>570</th>\n",
              "      <td>-1.511410</td>\n",
              "      <td>0.591938</td>\n",
              "    </tr>\n",
              "    <tr>\n",
              "      <th>571</th>\n",
              "      <td>-1.498257</td>\n",
              "      <td>0.000858</td>\n",
              "    </tr>\n",
              "    <tr>\n",
              "      <th>572</th>\n",
              "      <td>-0.421048</td>\n",
              "      <td>0.830950</td>\n",
              "    </tr>\n",
              "  </tbody>\n",
              "</table>\n",
              "<p>573 rows × 2 columns</p>\n",
              "</div>\n",
              "      <button class=\"colab-df-convert\" onclick=\"convertToInteractive('df-d48a15b4-92fd-4b22-9de2-33e1595215cd')\"\n",
              "              title=\"Convert this dataframe to an interactive table.\"\n",
              "              style=\"display:none;\">\n",
              "        \n",
              "  <svg xmlns=\"http://www.w3.org/2000/svg\" height=\"24px\"viewBox=\"0 0 24 24\"\n",
              "       width=\"24px\">\n",
              "    <path d=\"M0 0h24v24H0V0z\" fill=\"none\"/>\n",
              "    <path d=\"M18.56 5.44l.94 2.06.94-2.06 2.06-.94-2.06-.94-.94-2.06-.94 2.06-2.06.94zm-11 1L8.5 8.5l.94-2.06 2.06-.94-2.06-.94L8.5 2.5l-.94 2.06-2.06.94zm10 10l.94 2.06.94-2.06 2.06-.94-2.06-.94-.94-2.06-.94 2.06-2.06.94z\"/><path d=\"M17.41 7.96l-1.37-1.37c-.4-.4-.92-.59-1.43-.59-.52 0-1.04.2-1.43.59L10.3 9.45l-7.72 7.72c-.78.78-.78 2.05 0 2.83L4 21.41c.39.39.9.59 1.41.59.51 0 1.02-.2 1.41-.59l7.78-7.78 2.81-2.81c.8-.78.8-2.07 0-2.86zM5.41 20L4 18.59l7.72-7.72 1.47 1.35L5.41 20z\"/>\n",
              "  </svg>\n",
              "      </button>\n",
              "      \n",
              "  <style>\n",
              "    .colab-df-container {\n",
              "      display:flex;\n",
              "      flex-wrap:wrap;\n",
              "      gap: 12px;\n",
              "    }\n",
              "\n",
              "    .colab-df-convert {\n",
              "      background-color: #E8F0FE;\n",
              "      border: none;\n",
              "      border-radius: 50%;\n",
              "      cursor: pointer;\n",
              "      display: none;\n",
              "      fill: #1967D2;\n",
              "      height: 32px;\n",
              "      padding: 0 0 0 0;\n",
              "      width: 32px;\n",
              "    }\n",
              "\n",
              "    .colab-df-convert:hover {\n",
              "      background-color: #E2EBFA;\n",
              "      box-shadow: 0px 1px 2px rgba(60, 64, 67, 0.3), 0px 1px 3px 1px rgba(60, 64, 67, 0.15);\n",
              "      fill: #174EA6;\n",
              "    }\n",
              "\n",
              "    [theme=dark] .colab-df-convert {\n",
              "      background-color: #3B4455;\n",
              "      fill: #D2E3FC;\n",
              "    }\n",
              "\n",
              "    [theme=dark] .colab-df-convert:hover {\n",
              "      background-color: #434B5C;\n",
              "      box-shadow: 0px 1px 3px 1px rgba(0, 0, 0, 0.15);\n",
              "      filter: drop-shadow(0px 1px 2px rgba(0, 0, 0, 0.3));\n",
              "      fill: #FFFFFF;\n",
              "    }\n",
              "  </style>\n",
              "\n",
              "      <script>\n",
              "        const buttonEl =\n",
              "          document.querySelector('#df-d48a15b4-92fd-4b22-9de2-33e1595215cd button.colab-df-convert');\n",
              "        buttonEl.style.display =\n",
              "          google.colab.kernel.accessAllowed ? 'block' : 'none';\n",
              "\n",
              "        async function convertToInteractive(key) {\n",
              "          const element = document.querySelector('#df-d48a15b4-92fd-4b22-9de2-33e1595215cd');\n",
              "          const dataTable =\n",
              "            await google.colab.kernel.invokeFunction('convertToInteractive',\n",
              "                                                     [key], {});\n",
              "          if (!dataTable) return;\n",
              "\n",
              "          const docLinkHtml = 'Like what you see? Visit the ' +\n",
              "            '<a target=\"_blank\" href=https://colab.research.google.com/notebooks/data_table.ipynb>data table notebook</a>'\n",
              "            + ' to learn more about interactive tables.';\n",
              "          element.innerHTML = '';\n",
              "          dataTable['output_type'] = 'display_data';\n",
              "          await google.colab.output.renderOutput(dataTable, element);\n",
              "          const docLink = document.createElement('div');\n",
              "          docLink.innerHTML = docLinkHtml;\n",
              "          element.appendChild(docLink);\n",
              "        }\n",
              "      </script>\n",
              "    </div>\n",
              "  </div>\n",
              "  "
            ]
          },
          "metadata": {},
          "execution_count": 25
        }
      ]
    },
    {
      "cell_type": "code",
      "source": [
        "## cuanta varianza explica cada componente\n",
        "per_var = np.round(pca.explained_variance_ratio_*100,decimals=1)\n",
        "labels = ['PC' + str(x) for x in range(1, len(per_var)+1)]\n",
        "####\n",
        "# grafico\n",
        "plt.bar(x=range(1, len(per_var)+1), height=per_var, tick_label=labels)\n",
        "plt.ylabel('Porcentaje de varianza explicada')\n",
        "plt.xlabel('Principal Component')\n",
        "plt.title('Gráfico de Barras')\n",
        "plt.show()"
      ],
      "metadata": {
        "colab": {
          "base_uri": "https://localhost:8080/"
        },
        "id": "aP7AdjknvaKw",
        "outputId": "f3f38afd-6c45-47e0-d9b2-6609c26e604f"
      },
      "execution_count": null,
      "outputs": [
        {
          "output_type": "display_data",
          "data": {
            "text/plain": [
              "<Figure size 432x288 with 1 Axes>"
            ],
            "image/png": "[encoded data removed]"
          },
          "metadata": {
            "needs_background": "light"
          }
        }
      ]
    },
    {
      "cell_type": "code",
      "source": [
        "## graficar\n",
        "## primero concatenamos los datos de entrenamiento estandairzados con \n",
        "#la variable objetio para los mismo\n",
        "dfGrafica =pd.concat([dfPrincipal, Entrena_clase[['Outcome']]],axis=1)\n",
        "##################\n",
        "fig = plt.figure(figsize = (8,8))\n",
        "ax = fig.add_subplot(1,1,1) \n",
        "ax.set_xlabel('Componente Principal 1', fontsize = 15)\n",
        "ax.set_ylabel('Component Principal 2', fontsize = 15)\n",
        "ax.set_title('ACP con dos componentes', fontsize = 20)\n",
        "targets = [1,0]\n",
        "colors = ['r', 'g']\n",
        "for target, color in zip(targets,colors):\n",
        "    indicesToKeep = dfGrafica['Outcome'] == target\n",
        "    ax.scatter(dfGrafica.loc[indicesToKeep, 'C1']\n",
        "               , dfGrafica.loc[indicesToKeep, 'C2']\n",
        "               , c = color\n",
        "               , s = 50)\n",
        "ax.legend(targets)\n",
        "ax.grid()"
      ],
      "metadata": {
        "colab": {
          "base_uri": "https://localhost:8080/"
        },
        "id": "wN6eIr5Xvg20",
        "outputId": "78fc1d9c-8c6d-4c1c-a03a-e06f1cf2c274"
      },
      "execution_count": null,
      "outputs": [
        {
          "output_type": "display_data",
          "data": {
            "text/plain": [
              "<Figure size 576x576 with 1 Axes>"
            ],
            "image/png": "[encoded data removed]"
          },
          "metadata": {
            "needs_background": "light"
          }
        }
      ]
    },
    {
      "cell_type": "code",
      "source": [
        "pca.explained_variance_ratio_\n",
        "# juntos explican un 47.7% de la varianza"
      ],
      "metadata": {
        "colab": {
          "base_uri": "https://localhost:8080/"
        },
        "id": "4M-IEJiwvlcS",
        "outputId": "720fa54f-638e-4a0d-94f6-bfab144a79d6"
      },
      "execution_count": null,
      "outputs": [
        {
          "output_type": "execute_result",
          "data": {
            "text/plain": [
              "array([0.2670813 , 0.20643126])"
            ]
          },
          "metadata": {},
          "execution_count": 28
        }
      ]
    },
    {
      "cell_type": "markdown",
      "source": [
        "### Elección del mejor KNN"
      ],
      "metadata": {
        "id": "COl0gKG0weCR"
      }
    },
    {
      "cell_type": "code",
      "source": [
        "# cantidad de datos la raiz de los de entrenamiento\n",
        "np.sqrt(576)"
      ],
      "metadata": {
        "colab": {
          "base_uri": "https://localhost:8080/"
        },
        "id": "jkrxxq62voaJ",
        "outputId": "64d34c17-3226-4ab4-96e5-5060757297d5"
      },
      "execution_count": null,
      "outputs": [
        {
          "output_type": "execute_result",
          "data": {
            "text/plain": [
              "24.0"
            ]
          },
          "metadata": {},
          "execution_count": 29
        }
      ]
    },
    {
      "cell_type": "markdown",
      "source": [
        "Como ha salido un número par sabemos que esto puede tner dificultad debido a que puede darse el caso en que la mitad sean de una clase y la mitad de otro así se recomienda que se un impar por ello tenemos que 23 o 25 como opción\n"
      ],
      "metadata": {
        "id": "dKPqd0TPb2QN"
      }
    },
    {
      "cell_type": "code",
      "source": [
        "from sklearn.neighbors import KNeighborsClassifier\n",
        "# creación del modelo clasificador 25\n",
        "clasificador_25 = KNeighborsClassifier(n_neighbors=25)\n",
        "clasificador_25.fit(Entrena,Entrena_clase)\n"
      ],
      "metadata": {
        "colab": {
          "base_uri": "https://localhost:8080/"
        },
        "id": "4bcMt3PYvxes",
        "outputId": "42c79b85-8bd6-4307-9660-f6b01882ce3c"
      },
      "execution_count": 16,
      "outputs": [
        {
          "output_type": "stream",
          "name": "stderr",
          "text": [
            "/usr/local/lib/python3.7/dist-packages/sklearn/neighbors/_classification.py:198: DataConversionWarning: A column-vector y was passed when a 1d array was expected. Please change the shape of y to (n_samples,), for example using ravel().\n",
            "  return self._fit(X, y)\n"
          ]
        },
        {
          "output_type": "execute_result",
          "data": {
            "text/plain": [
              "KNeighborsClassifier(n_neighbors=25)"
            ]
          },
          "metadata": {},
          "execution_count": 16
        }
      ]
    },
    {
      "cell_type": "code",
      "source": [
        "# creación del modelo clasificador 23\n",
        "clasificador = KNeighborsClassifier(n_neighbors=23)\n",
        "clasificador.fit(Entrena,Entrena_clase)"
      ],
      "metadata": {
        "id": "HG6qpMdcxV4_",
        "colab": {
          "base_uri": "https://localhost:8080/"
        },
        "outputId": "04f251a9-6346-4232-84ef-7a4338ee9633"
      },
      "execution_count": 17,
      "outputs": [
        {
          "output_type": "stream",
          "name": "stderr",
          "text": [
            "/usr/local/lib/python3.7/dist-packages/sklearn/neighbors/_classification.py:198: DataConversionWarning: A column-vector y was passed when a 1d array was expected. Please change the shape of y to (n_samples,), for example using ravel().\n",
            "  return self._fit(X, y)\n"
          ]
        },
        {
          "output_type": "execute_result",
          "data": {
            "text/plain": [
              "KNeighborsClassifier(n_neighbors=23)"
            ]
          },
          "metadata": {},
          "execution_count": 17
        }
      ]
    },
    {
      "cell_type": "markdown",
      "source": [
        "Usaremos k-folds como metodo de validación cruzada para tener una idea del desempeño de nuestro metodo KNN se recomienda usar un valor k entre 5 0 10 al se selecciona el 7 (al leer estudios de referencia donde se usa este más comúnmente al usar esta base)."
      ],
      "metadata": {
        "id": "03ute76UcSXm"
      }
    },
    {
      "cell_type": "code",
      "source": [
        "from sklearn.model_selection import cross_val_score\n",
        "# accuarency\n",
        "print(cross_val_score(clasificador_25,\n",
        "                       Entrena,Entrena_clase,cv=7).mean())"
      ],
      "metadata": {
        "id": "hIEff3RqxtiN",
        "colab": {
          "base_uri": "https://localhost:8080/"
        },
        "outputId": "830a80f3-db2a-4f1d-ed08-e881d9d5a017"
      },
      "execution_count": 23,
      "outputs": [
        {
          "output_type": "stream",
          "name": "stdout",
          "text": [
            "0.7609368950832364\n"
          ]
        },
        {
          "output_type": "stream",
          "name": "stderr",
          "text": [
            "/usr/local/lib/python3.7/dist-packages/sklearn/neighbors/_classification.py:198: DataConversionWarning: A column-vector y was passed when a 1d array was expected. Please change the shape of y to (n_samples,), for example using ravel().\n",
            "  return self._fit(X, y)\n",
            "/usr/local/lib/python3.7/dist-packages/sklearn/neighbors/_classification.py:198: DataConversionWarning: A column-vector y was passed when a 1d array was expected. Please change the shape of y to (n_samples,), for example using ravel().\n",
            "  return self._fit(X, y)\n",
            "/usr/local/lib/python3.7/dist-packages/sklearn/neighbors/_classification.py:198: DataConversionWarning: A column-vector y was passed when a 1d array was expected. Please change the shape of y to (n_samples,), for example using ravel().\n",
            "  return self._fit(X, y)\n",
            "/usr/local/lib/python3.7/dist-packages/sklearn/neighbors/_classification.py:198: DataConversionWarning: A column-vector y was passed when a 1d array was expected. Please change the shape of y to (n_samples,), for example using ravel().\n",
            "  return self._fit(X, y)\n",
            "/usr/local/lib/python3.7/dist-packages/sklearn/neighbors/_classification.py:198: DataConversionWarning: A column-vector y was passed when a 1d array was expected. Please change the shape of y to (n_samples,), for example using ravel().\n",
            "  return self._fit(X, y)\n",
            "/usr/local/lib/python3.7/dist-packages/sklearn/neighbors/_classification.py:198: DataConversionWarning: A column-vector y was passed when a 1d array was expected. Please change the shape of y to (n_samples,), for example using ravel().\n",
            "  return self._fit(X, y)\n",
            "/usr/local/lib/python3.7/dist-packages/sklearn/neighbors/_classification.py:198: DataConversionWarning: A column-vector y was passed when a 1d array was expected. Please change the shape of y to (n_samples,), for example using ravel().\n",
            "  return self._fit(X, y)\n"
          ]
        }
      ]
    },
    {
      "cell_type": "code",
      "source": [
        "# accuarency\n",
        "print(cross_val_score(clasificador,Entrena,Entrena_clase,cv=7).mean())"
      ],
      "metadata": {
        "id": "HlcTyoNFxyg8",
        "colab": {
          "base_uri": "https://localhost:8080/"
        },
        "outputId": "1f10611e-62b3-44bd-c47c-322961fd04f6"
      },
      "execution_count": 25,
      "outputs": [
        {
          "output_type": "stream",
          "name": "stdout",
          "text": [
            "0.7574095582225663\n"
          ]
        },
        {
          "output_type": "stream",
          "name": "stderr",
          "text": [
            "/usr/local/lib/python3.7/dist-packages/sklearn/neighbors/_classification.py:198: DataConversionWarning: A column-vector y was passed when a 1d array was expected. Please change the shape of y to (n_samples,), for example using ravel().\n",
            "  return self._fit(X, y)\n",
            "/usr/local/lib/python3.7/dist-packages/sklearn/neighbors/_classification.py:198: DataConversionWarning: A column-vector y was passed when a 1d array was expected. Please change the shape of y to (n_samples,), for example using ravel().\n",
            "  return self._fit(X, y)\n",
            "/usr/local/lib/python3.7/dist-packages/sklearn/neighbors/_classification.py:198: DataConversionWarning: A column-vector y was passed when a 1d array was expected. Please change the shape of y to (n_samples,), for example using ravel().\n",
            "  return self._fit(X, y)\n",
            "/usr/local/lib/python3.7/dist-packages/sklearn/neighbors/_classification.py:198: DataConversionWarning: A column-vector y was passed when a 1d array was expected. Please change the shape of y to (n_samples,), for example using ravel().\n",
            "  return self._fit(X, y)\n",
            "/usr/local/lib/python3.7/dist-packages/sklearn/neighbors/_classification.py:198: DataConversionWarning: A column-vector y was passed when a 1d array was expected. Please change the shape of y to (n_samples,), for example using ravel().\n",
            "  return self._fit(X, y)\n",
            "/usr/local/lib/python3.7/dist-packages/sklearn/neighbors/_classification.py:198: DataConversionWarning: A column-vector y was passed when a 1d array was expected. Please change the shape of y to (n_samples,), for example using ravel().\n",
            "  return self._fit(X, y)\n",
            "/usr/local/lib/python3.7/dist-packages/sklearn/neighbors/_classification.py:198: DataConversionWarning: A column-vector y was passed when a 1d array was expected. Please change the shape of y to (n_samples,), for example using ravel().\n",
            "  return self._fit(X, y)\n"
          ]
        }
      ]
    },
    {
      "cell_type": "markdown",
      "source": [
        "Dado lo anterior se decide seguir y probar distintos configuraciones con $k=25$ pues presenta mejor indice en las prubeas realizadas.\n",
        "\n",
        "Ahora hay varias manera de utilizar el KNN así que probaremos diferentes formas de \"configurar el algoritmo\" así que usaremos esencialmente dos parámetros y tomaremos una decisión del mejor entre ellos basados en la validación cruzada los parámetros son una ponderación a los vecinos por la distancia y la metrica de dicha distancia\n",
        "\n",
        ">  - ponderaremos a los vecinos por un función dada la distancia al punto de interes (propiedades bastante deseables de robustez\n",
        ">  - usaremos la metrica de manhattan y la euclidiana"
      ],
      "metadata": {
        "id": "LhunsNFMepG9"
      }
    },
    {
      "cell_type": "code",
      "source": [
        "# creación del modelo clasificador\n",
        "clasificador2 = KNeighborsClassifier(n_neighbors=25,weights=\"distance\")\n",
        "clasificador2.fit(Entrena,Entrena_clase)\n",
        "# accuarency por kfolds\n",
        "print(cross_val_score(clasificador2,\n",
        "                       Entrena,Entrena_clase,cv=7).mean())"
      ],
      "metadata": {
        "id": "Zv3rO4ULx0oY",
        "colab": {
          "base_uri": "https://localhost:8080/"
        },
        "outputId": "f2070d94-07ff-4db8-8fd5-08c501dc6212"
      },
      "execution_count": 32,
      "outputs": [
        {
          "output_type": "stream",
          "name": "stdout",
          "text": [
            "0.7644212156407278\n"
          ]
        },
        {
          "output_type": "stream",
          "name": "stderr",
          "text": [
            "/usr/local/lib/python3.7/dist-packages/sklearn/neighbors/_classification.py:198: DataConversionWarning: A column-vector y was passed when a 1d array was expected. Please change the shape of y to (n_samples,), for example using ravel().\n",
            "  return self._fit(X, y)\n",
            "/usr/local/lib/python3.7/dist-packages/sklearn/neighbors/_classification.py:198: DataConversionWarning: A column-vector y was passed when a 1d array was expected. Please change the shape of y to (n_samples,), for example using ravel().\n",
            "  return self._fit(X, y)\n",
            "/usr/local/lib/python3.7/dist-packages/sklearn/neighbors/_classification.py:198: DataConversionWarning: A column-vector y was passed when a 1d array was expected. Please change the shape of y to (n_samples,), for example using ravel().\n",
            "  return self._fit(X, y)\n",
            "/usr/local/lib/python3.7/dist-packages/sklearn/neighbors/_classification.py:198: DataConversionWarning: A column-vector y was passed when a 1d array was expected. Please change the shape of y to (n_samples,), for example using ravel().\n",
            "  return self._fit(X, y)\n",
            "/usr/local/lib/python3.7/dist-packages/sklearn/neighbors/_classification.py:198: DataConversionWarning: A column-vector y was passed when a 1d array was expected. Please change the shape of y to (n_samples,), for example using ravel().\n",
            "  return self._fit(X, y)\n",
            "/usr/local/lib/python3.7/dist-packages/sklearn/neighbors/_classification.py:198: DataConversionWarning: A column-vector y was passed when a 1d array was expected. Please change the shape of y to (n_samples,), for example using ravel().\n",
            "  return self._fit(X, y)\n",
            "/usr/local/lib/python3.7/dist-packages/sklearn/neighbors/_classification.py:198: DataConversionWarning: A column-vector y was passed when a 1d array was expected. Please change the shape of y to (n_samples,), for example using ravel().\n",
            "  return self._fit(X, y)\n",
            "/usr/local/lib/python3.7/dist-packages/sklearn/neighbors/_classification.py:198: DataConversionWarning: A column-vector y was passed when a 1d array was expected. Please change the shape of y to (n_samples,), for example using ravel().\n",
            "  return self._fit(X, y)\n"
          ]
        }
      ]
    },
    {
      "cell_type": "code",
      "source": [
        "# creación del modelo clasificador y city block\n",
        "clasificador3 = KNeighborsClassifier(n_neighbors=25,p=1)\n",
        "clasificador3.fit(Entrena,Entrena_clase)\n",
        "# accuarency\n",
        "print(cross_val_score(clasificador3,\n",
        "                       Entrena,Entrena_clase,cv=7).mean())"
      ],
      "metadata": {
        "id": "5beNFEerx_pf",
        "colab": {
          "base_uri": "https://localhost:8080/"
        },
        "outputId": "f063d9e7-6501-4203-abeb-af36cf2dcfbe"
      },
      "execution_count": 35,
      "outputs": [
        {
          "output_type": "stream",
          "name": "stdout",
          "text": [
            "0.7556243816406417\n"
          ]
        },
        {
          "output_type": "stream",
          "name": "stderr",
          "text": [
            "/usr/local/lib/python3.7/dist-packages/sklearn/neighbors/_classification.py:198: DataConversionWarning: A column-vector y was passed when a 1d array was expected. Please change the shape of y to (n_samples,), for example using ravel().\n",
            "  return self._fit(X, y)\n",
            "/usr/local/lib/python3.7/dist-packages/sklearn/neighbors/_classification.py:198: DataConversionWarning: A column-vector y was passed when a 1d array was expected. Please change the shape of y to (n_samples,), for example using ravel().\n",
            "  return self._fit(X, y)\n",
            "/usr/local/lib/python3.7/dist-packages/sklearn/neighbors/_classification.py:198: DataConversionWarning: A column-vector y was passed when a 1d array was expected. Please change the shape of y to (n_samples,), for example using ravel().\n",
            "  return self._fit(X, y)\n",
            "/usr/local/lib/python3.7/dist-packages/sklearn/neighbors/_classification.py:198: DataConversionWarning: A column-vector y was passed when a 1d array was expected. Please change the shape of y to (n_samples,), for example using ravel().\n",
            "  return self._fit(X, y)\n",
            "/usr/local/lib/python3.7/dist-packages/sklearn/neighbors/_classification.py:198: DataConversionWarning: A column-vector y was passed when a 1d array was expected. Please change the shape of y to (n_samples,), for example using ravel().\n",
            "  return self._fit(X, y)\n",
            "/usr/local/lib/python3.7/dist-packages/sklearn/neighbors/_classification.py:198: DataConversionWarning: A column-vector y was passed when a 1d array was expected. Please change the shape of y to (n_samples,), for example using ravel().\n",
            "  return self._fit(X, y)\n",
            "/usr/local/lib/python3.7/dist-packages/sklearn/neighbors/_classification.py:198: DataConversionWarning: A column-vector y was passed when a 1d array was expected. Please change the shape of y to (n_samples,), for example using ravel().\n",
            "  return self._fit(X, y)\n",
            "/usr/local/lib/python3.7/dist-packages/sklearn/neighbors/_classification.py:198: DataConversionWarning: A column-vector y was passed when a 1d array was expected. Please change the shape of y to (n_samples,), for example using ravel().\n",
            "  return self._fit(X, y)\n"
          ]
        }
      ]
    },
    {
      "cell_type": "code",
      "source": [
        "# creación del modelo clasificador y city block\n",
        "clasificador4 = KNeighborsClassifier(n_neighbors=25,weights=\"distance\",p=1)\n",
        "clasificador4.fit(Entrena,Entrena_clase)\n",
        "# accuarency\n",
        "print(cross_val_score(clasificador4,\n",
        "                       Entrena,Entrena_clase,cv=7).mean())"
      ],
      "metadata": {
        "id": "pbM9CzpZyIjk",
        "colab": {
          "base_uri": "https://localhost:8080/"
        },
        "outputId": "72eddc24-b610-4587-c917-b292f58ea5f4"
      },
      "execution_count": 36,
      "outputs": [
        {
          "output_type": "stream",
          "name": "stdout",
          "text": [
            "0.7608938787800577\n"
          ]
        },
        {
          "output_type": "stream",
          "name": "stderr",
          "text": [
            "/usr/local/lib/python3.7/dist-packages/sklearn/neighbors/_classification.py:198: DataConversionWarning: A column-vector y was passed when a 1d array was expected. Please change the shape of y to (n_samples,), for example using ravel().\n",
            "  return self._fit(X, y)\n",
            "/usr/local/lib/python3.7/dist-packages/sklearn/neighbors/_classification.py:198: DataConversionWarning: A column-vector y was passed when a 1d array was expected. Please change the shape of y to (n_samples,), for example using ravel().\n",
            "  return self._fit(X, y)\n",
            "/usr/local/lib/python3.7/dist-packages/sklearn/neighbors/_classification.py:198: DataConversionWarning: A column-vector y was passed when a 1d array was expected. Please change the shape of y to (n_samples,), for example using ravel().\n",
            "  return self._fit(X, y)\n",
            "/usr/local/lib/python3.7/dist-packages/sklearn/neighbors/_classification.py:198: DataConversionWarning: A column-vector y was passed when a 1d array was expected. Please change the shape of y to (n_samples,), for example using ravel().\n",
            "  return self._fit(X, y)\n",
            "/usr/local/lib/python3.7/dist-packages/sklearn/neighbors/_classification.py:198: DataConversionWarning: A column-vector y was passed when a 1d array was expected. Please change the shape of y to (n_samples,), for example using ravel().\n",
            "  return self._fit(X, y)\n",
            "/usr/local/lib/python3.7/dist-packages/sklearn/neighbors/_classification.py:198: DataConversionWarning: A column-vector y was passed when a 1d array was expected. Please change the shape of y to (n_samples,), for example using ravel().\n",
            "  return self._fit(X, y)\n",
            "/usr/local/lib/python3.7/dist-packages/sklearn/neighbors/_classification.py:198: DataConversionWarning: A column-vector y was passed when a 1d array was expected. Please change the shape of y to (n_samples,), for example using ravel().\n",
            "  return self._fit(X, y)\n",
            "/usr/local/lib/python3.7/dist-packages/sklearn/neighbors/_classification.py:198: DataConversionWarning: A column-vector y was passed when a 1d array was expected. Please change the shape of y to (n_samples,), for example using ravel().\n",
            "  return self._fit(X, y)\n"
          ]
        }
      ]
    },
    {
      "cell_type": "markdown",
      "source": [
        "> 1. Basandonos en la validación cruzada decidimos tomar k =23 con ponderación con la distancia y la metrica euclidiana (clasificador 2)"
      ],
      "metadata": {
        "id": "h2Ax-RzagAWR"
      }
    },
    {
      "cell_type": "markdown",
      "source": [
        "## 3.4 Bayes Naive"
      ],
      "metadata": {
        "id": "xqCYWAWkkjFs"
      }
    },
    {
      "cell_type": "code",
      "source": [
        "# revision de supuestos\n",
        "d.Outcome==0"
      ],
      "metadata": {
        "colab": {
          "base_uri": "https://localhost:8080/"
        },
        "id": "hSqNqw_xrWLR",
        "outputId": "0d5a151a-2c12-4c9f-add5-6dfba9935f3d"
      },
      "execution_count": null,
      "outputs": [
        {
          "output_type": "execute_result",
          "data": {
            "text/plain": [
              "0      False\n",
              "1       True\n",
              "2      False\n",
              "3       True\n",
              "4      False\n",
              "       ...  \n",
              "763     True\n",
              "764     True\n",
              "765     True\n",
              "766    False\n",
              "767     True\n",
              "Name: Outcome, Length: 765, dtype: bool"
            ]
          },
          "metadata": {},
          "execution_count": 38
        }
      ]
    },
    {
      "cell_type": "code",
      "source": [
        "\n",
        "peso = datos['weight']\n",
        "# Histograma + curva normal teórica\n",
        "# ==============================================================================\n",
        "\n",
        "# Valores de la media (mu) y desviación típica (sigma) de los datos\n",
        "mu, sigma = stats.norm.fit(peso)\n",
        "\n",
        "# Valores teóricos de la normal en el rango observado\n",
        "x_hat = np.linspace(min(peso), max(peso), num=100)\n",
        "y_hat = stats.norm.pdf(x_hat, mu, sigma)\n",
        "\n",
        "# Gráfico\n",
        "fig, ax = plt.subplots(figsize=(7,4))\n",
        "ax.plot(x_hat, y_hat, linewidth=2, label='normal')\n",
        "ax.hist(x=peso, density=True, bins=30, color=\"#3182bd\", alpha=0.5)\n",
        "ax.plot(peso, np.full_like(peso, -0.01), '|k', markeredgewidth=1)\n",
        "ax.set_title('Distribución peso mujeres mayores de 15 años')\n",
        "ax.set_xlabel('peso')\n",
        "ax.set_ylabel('Densidad de probabilidad')\n",
        "ax.legend();"
      ],
      "metadata": {
        "id": "wAD7a2yQp6LV"
      },
      "execution_count": null,
      "outputs": []
    },
    {
      "cell_type": "code",
      "source": [
        "\n",
        "\n",
        "from sklearn.naive_bayes import GaussianNB\n",
        "\n",
        "algoritmoBN = GaussianNB()\n",
        "\n",
        "#Entreno el modelo\n",
        "algoritmoBN.fit(Entrena, Entrena_clase)"
      ],
      "metadata": {
        "colab": {
          "base_uri": "https://localhost:8080/"
        },
        "id": "4dUKUYhw-z9i",
        "outputId": "7078be7f-7294-4d9d-9018-7f930fb449dc"
      },
      "execution_count": null,
      "outputs": [
        {
          "output_type": "stream",
          "name": "stderr",
          "text": [
            "/usr/local/lib/python3.7/dist-packages/sklearn/utils/validation.py:993: DataConversionWarning: A column-vector y was passed when a 1d array was expected. Please change the shape of y to (n_samples, ), for example using ravel().\n",
            "  y = column_or_1d(y, warn=True)\n"
          ]
        },
        {
          "output_type": "execute_result",
          "data": {
            "text/plain": [
              "GaussianNB()"
            ]
          },
          "metadata": {},
          "execution_count": 35
        }
      ]
    },
    {
      "cell_type": "markdown",
      "source": [
        "## 3.5 QDA"
      ],
      "metadata": {
        "id": "gjjCzgeTkjSB"
      }
    },
    {
      "cell_type": "code",
      "source": [
        "from sklearn.discriminant_analysis import LinearDiscriminantAnalysis, QuadraticDiscriminantAnalysis\n",
        "qda = QuadraticDiscriminantAnalysis()\n",
        "modeloqda = qda.fit(Entrena, Entrena_clase)\n"
      ],
      "metadata": {
        "id": "r9bpdAco_0U0",
        "colab": {
          "base_uri": "https://localhost:8080/"
        },
        "outputId": "b5c1d8c4-bb19-4952-f3d7-2ccb404796bf"
      },
      "execution_count": null,
      "outputs": [
        {
          "output_type": "stream",
          "name": "stderr",
          "text": [
            "/usr/local/lib/python3.7/dist-packages/sklearn/utils/validation.py:993: DataConversionWarning: A column-vector y was passed when a 1d array was expected. Please change the shape of y to (n_samples, ), for example using ravel().\n",
            "  y = column_or_1d(y, warn=True)\n"
          ]
        }
      ]
    },
    {
      "cell_type": "markdown",
      "source": [
        "## 3.6 Arboles de descisión\n"
      ],
      "metadata": {
        "id": "wsEwDkxbkjb5"
      }
    },
    {
      "cell_type": "code",
      "source": [
        "arbol=DecisionTreeClassifier(criterion='entropy',random_state=99,min_samples_leaf=6,max_depth=6)\n",
        "arbol.fit(Entrena,Entrena_clase)"
      ],
      "metadata": {
        "id": "MWj8GPi50SUw"
      },
      "execution_count": null,
      "outputs": []
    },
    {
      "cell_type": "markdown",
      "source": [
        "### Visualización del arbol"
      ],
      "metadata": {
        "id": "sd9efXqo1IcE"
      }
    },
    {
      "cell_type": "code",
      "source": [
        "with open('diabetes.dot','w') as dotfile :\n",
        "   export_graphviz(arbol,out_file=dotfile,feature_names=Entrena_clase)\n",
        "   dotfile.close()\n",
        "\n",
        "file=open('diabetes.dot','r')\n",
        "text=file.read()\n",
        "text"
      ],
      "metadata": {
        "id": "ALMZHglZ1VHW"
      },
      "execution_count": null,
      "outputs": []
    },
    {
      "cell_type": "markdown",
      "source": [
        "## 3.7 Otro"
      ],
      "metadata": {
        "id": "Z2I-cDa-kjiP"
      }
    },
    {
      "cell_type": "code",
      "source": [],
      "metadata": {
        "id": "_vqXkEfkrjSd"
      },
      "execution_count": null,
      "outputs": []
    },
    {
      "cell_type": "markdown",
      "source": [
        "## 3.8 Comparación de modelos"
      ],
      "metadata": {
        "id": "B4xDL1g6wXc7"
      }
    },
    {
      "cell_type": "code",
      "source": [
        "sum(Entrena_clase['Outcome'] == 1)"
      ],
      "metadata": {
        "colab": {
          "base_uri": "https://localhost:8080/"
        },
        "id": "6MVwB3AjuQnh",
        "outputId": "0ffa1013-52b3-41ed-ca35-fad119b39c21"
      },
      "execution_count": 39,
      "outputs": [
        {
          "output_type": "execute_result",
          "data": {
            "text/plain": [
              "180"
            ]
          },
          "metadata": {},
          "execution_count": 39
        }
      ]
    },
    {
      "cell_type": "markdown",
      "source": [
        "> 1. 180 personad tienen diabetes (aprox. 31.5% de los datos de entrenamiento)\n",
        "> 2. 393 no tienen diabetes.\n",
        "\n",
        "\n",
        "Debido a lo expuesto anterior mente vemos que nuestros datos de entrenemiento tienen un pequeño desbalacance, es decir, es mayoritario el grupo de personas que no tienen diabetes a comparación delos que si en los datos tomados"
      ],
      "metadata": {
        "id": "pMtbXbD_hI2G"
      }
    },
    {
      "cell_type": "markdown",
      "source": [],
      "metadata": {
        "id": "Ed2sg3hBgyjP"
      }
    },
    {
      "cell_type": "code",
      "source": [
        "# librerias\n",
        "from sklearn.metrics import confusion_matrix\n",
        "from sklearn.metrics import accuracy_score\n",
        "from sklearn.metrics import precision_score\n",
        "from sklearn.metrics import recall_score\n",
        "from sklearn.metrics import balanced_accuracy_score\n",
        "from sklearn.metrics import f1_score\n",
        "from sklearn.metrics import classification_report"
      ],
      "metadata": {
        "id": "NVbcxkNoyTxC"
      },
      "execution_count": 37,
      "outputs": []
    },
    {
      "cell_type": "markdown",
      "source": [
        "### Matrices de confunsion"
      ],
      "metadata": {
        "id": "eidtyqODHnVS"
      }
    },
    {
      "cell_type": "code",
      "source": [
        "# Regresion logistica\n",
        "predicciones_reg = RegLogi.predict(prueba)\n",
        "matriz1= confusion_matrix(prueba_clase,predicciones_reg)\n",
        "matriz1 = pd.DataFrame(matriz1,\n",
        "                      columns=['0 : NO','1 : SI'])\n",
        "matriz1"
      ],
      "metadata": {
        "id": "FNayuKhTHsVt",
        "colab": {
          "base_uri": "https://localhost:8080/",
          "height": 112
        },
        "outputId": "de88d18c-0ed4-4c8a-b56c-0af4b4c2b46d"
      },
      "execution_count": 44,
      "outputs": [
        {
          "output_type": "execute_result",
          "data": {
            "text/plain": [
              "   0 : NO  1 : SI\n",
              "0      99       8\n",
              "1      38      47"
            ],
            "text/html": [
              "\n",
              "  <div id=\"df-f67c93ae-6cb8-4550-ade9-def191f6a807\">\n",
              "    <div class=\"colab-df-container\">\n",
              "      <div>\n",
              "<style scoped>\n",
              "    .dataframe tbody tr th:only-of-type {\n",
              "        vertical-align: middle;\n",
              "    }\n",
              "\n",
              "    .dataframe tbody tr th {\n",
              "        vertical-align: top;\n",
              "    }\n",
              "\n",
              "    .dataframe thead th {\n",
              "        text-align: right;\n",
              "    }\n",
              "</style>\n",
              "<table border=\"1\" class=\"dataframe\">\n",
              "  <thead>\n",
              "    <tr style=\"text-align: right;\">\n",
              "      <th></th>\n",
              "      <th>0 : NO</th>\n",
              "      <th>1 : SI</th>\n",
              "    </tr>\n",
              "  </thead>\n",
              "  <tbody>\n",
              "    <tr>\n",
              "      <th>0</th>\n",
              "      <td>99</td>\n",
              "      <td>8</td>\n",
              "    </tr>\n",
              "    <tr>\n",
              "      <th>1</th>\n",
              "      <td>38</td>\n",
              "      <td>47</td>\n",
              "    </tr>\n",
              "  </tbody>\n",
              "</table>\n",
              "</div>\n",
              "      <button class=\"colab-df-convert\" onclick=\"convertToInteractive('df-f67c93ae-6cb8-4550-ade9-def191f6a807')\"\n",
              "              title=\"Convert this dataframe to an interactive table.\"\n",
              "              style=\"display:none;\">\n",
              "        \n",
              "  <svg xmlns=\"http://www.w3.org/2000/svg\" height=\"24px\"viewBox=\"0 0 24 24\"\n",
              "       width=\"24px\">\n",
              "    <path d=\"M0 0h24v24H0V0z\" fill=\"none\"/>\n",
              "    <path d=\"M18.56 5.44l.94 2.06.94-2.06 2.06-.94-2.06-.94-.94-2.06-.94 2.06-2.06.94zm-11 1L8.5 8.5l.94-2.06 2.06-.94-2.06-.94L8.5 2.5l-.94 2.06-2.06.94zm10 10l.94 2.06.94-2.06 2.06-.94-2.06-.94-.94-2.06-.94 2.06-2.06.94z\"/><path d=\"M17.41 7.96l-1.37-1.37c-.4-.4-.92-.59-1.43-.59-.52 0-1.04.2-1.43.59L10.3 9.45l-7.72 7.72c-.78.78-.78 2.05 0 2.83L4 21.41c.39.39.9.59 1.41.59.51 0 1.02-.2 1.41-.59l7.78-7.78 2.81-2.81c.8-.78.8-2.07 0-2.86zM5.41 20L4 18.59l7.72-7.72 1.47 1.35L5.41 20z\"/>\n",
              "  </svg>\n",
              "      </button>\n",
              "      \n",
              "  <style>\n",
              "    .colab-df-container {\n",
              "      display:flex;\n",
              "      flex-wrap:wrap;\n",
              "      gap: 12px;\n",
              "    }\n",
              "\n",
              "    .colab-df-convert {\n",
              "      background-color: #E8F0FE;\n",
              "      border: none;\n",
              "      border-radius: 50%;\n",
              "      cursor: pointer;\n",
              "      display: none;\n",
              "      fill: #1967D2;\n",
              "      height: 32px;\n",
              "      padding: 0 0 0 0;\n",
              "      width: 32px;\n",
              "    }\n",
              "\n",
              "    .colab-df-convert:hover {\n",
              "      background-color: #E2EBFA;\n",
              "      box-shadow: 0px 1px 2px rgba(60, 64, 67, 0.3), 0px 1px 3px 1px rgba(60, 64, 67, 0.15);\n",
              "      fill: #174EA6;\n",
              "    }\n",
              "\n",
              "    [theme=dark] .colab-df-convert {\n",
              "      background-color: #3B4455;\n",
              "      fill: #D2E3FC;\n",
              "    }\n",
              "\n",
              "    [theme=dark] .colab-df-convert:hover {\n",
              "      background-color: #434B5C;\n",
              "      box-shadow: 0px 1px 3px 1px rgba(0, 0, 0, 0.15);\n",
              "      filter: drop-shadow(0px 1px 2px rgba(0, 0, 0, 0.3));\n",
              "      fill: #FFFFFF;\n",
              "    }\n",
              "  </style>\n",
              "\n",
              "      <script>\n",
              "        const buttonEl =\n",
              "          document.querySelector('#df-f67c93ae-6cb8-4550-ade9-def191f6a807 button.colab-df-convert');\n",
              "        buttonEl.style.display =\n",
              "          google.colab.kernel.accessAllowed ? 'block' : 'none';\n",
              "\n",
              "        async function convertToInteractive(key) {\n",
              "          const element = document.querySelector('#df-f67c93ae-6cb8-4550-ade9-def191f6a807');\n",
              "          const dataTable =\n",
              "            await google.colab.kernel.invokeFunction('convertToInteractive',\n",
              "                                                     [key], {});\n",
              "          if (!dataTable) return;\n",
              "\n",
              "          const docLinkHtml = 'Like what you see? Visit the ' +\n",
              "            '<a target=\"_blank\" href=https://colab.research.google.com/notebooks/data_table.ipynb>data table notebook</a>'\n",
              "            + ' to learn more about interactive tables.';\n",
              "          element.innerHTML = '';\n",
              "          dataTable['output_type'] = 'display_data';\n",
              "          await google.colab.output.renderOutput(dataTable, element);\n",
              "          const docLink = document.createElement('div');\n",
              "          docLink.innerHTML = docLinkHtml;\n",
              "          element.appendChild(docLink);\n",
              "        }\n",
              "      </script>\n",
              "    </div>\n",
              "  </div>\n",
              "  "
            ]
          },
          "metadata": {},
          "execution_count": 44
        }
      ]
    },
    {
      "cell_type": "code",
      "source": [
        "# KNN\n",
        "predicciones_knn = clasificador2.predict(prueba)\n",
        "matriz2= confusion_matrix(prueba_clase,predicciones_knn)\n",
        "matriz2 = pd.DataFrame(matriz2,\n",
        "                      columns=['0 : NO','1 : SI'])\n",
        "matriz2"
      ],
      "metadata": {
        "id": "ZXiFnYviInk_",
        "colab": {
          "base_uri": "https://localhost:8080/",
          "height": 112
        },
        "outputId": "fa31ed64-45c5-4d55-ab49-659dace1ab3b"
      },
      "execution_count": 38,
      "outputs": [
        {
          "output_type": "execute_result",
          "data": {
            "text/plain": [
              "   0 : NO  1 : SI\n",
              "0     104       3\n",
              "1      47      38"
            ],
            "text/html": [
              "\n",
              "  <div id=\"df-707cb13f-9b43-4b2b-a71f-fe208ca42b96\">\n",
              "    <div class=\"colab-df-container\">\n",
              "      <div>\n",
              "<style scoped>\n",
              "    .dataframe tbody tr th:only-of-type {\n",
              "        vertical-align: middle;\n",
              "    }\n",
              "\n",
              "    .dataframe tbody tr th {\n",
              "        vertical-align: top;\n",
              "    }\n",
              "\n",
              "    .dataframe thead th {\n",
              "        text-align: right;\n",
              "    }\n",
              "</style>\n",
              "<table border=\"1\" class=\"dataframe\">\n",
              "  <thead>\n",
              "    <tr style=\"text-align: right;\">\n",
              "      <th></th>\n",
              "      <th>0 : NO</th>\n",
              "      <th>1 : SI</th>\n",
              "    </tr>\n",
              "  </thead>\n",
              "  <tbody>\n",
              "    <tr>\n",
              "      <th>0</th>\n",
              "      <td>104</td>\n",
              "      <td>3</td>\n",
              "    </tr>\n",
              "    <tr>\n",
              "      <th>1</th>\n",
              "      <td>47</td>\n",
              "      <td>38</td>\n",
              "    </tr>\n",
              "  </tbody>\n",
              "</table>\n",
              "</div>\n",
              "      <button class=\"colab-df-convert\" onclick=\"convertToInteractive('df-707cb13f-9b43-4b2b-a71f-fe208ca42b96')\"\n",
              "              title=\"Convert this dataframe to an interactive table.\"\n",
              "              style=\"display:none;\">\n",
              "        \n",
              "  <svg xmlns=\"http://www.w3.org/2000/svg\" height=\"24px\"viewBox=\"0 0 24 24\"\n",
              "       width=\"24px\">\n",
              "    <path d=\"M0 0h24v24H0V0z\" fill=\"none\"/>\n",
              "    <path d=\"M18.56 5.44l.94 2.06.94-2.06 2.06-.94-2.06-.94-.94-2.06-.94 2.06-2.06.94zm-11 1L8.5 8.5l.94-2.06 2.06-.94-2.06-.94L8.5 2.5l-.94 2.06-2.06.94zm10 10l.94 2.06.94-2.06 2.06-.94-2.06-.94-.94-2.06-.94 2.06-2.06.94z\"/><path d=\"M17.41 7.96l-1.37-1.37c-.4-.4-.92-.59-1.43-.59-.52 0-1.04.2-1.43.59L10.3 9.45l-7.72 7.72c-.78.78-.78 2.05 0 2.83L4 21.41c.39.39.9.59 1.41.59.51 0 1.02-.2 1.41-.59l7.78-7.78 2.81-2.81c.8-.78.8-2.07 0-2.86zM5.41 20L4 18.59l7.72-7.72 1.47 1.35L5.41 20z\"/>\n",
              "  </svg>\n",
              "      </button>\n",
              "      \n",
              "  <style>\n",
              "    .colab-df-container {\n",
              "      display:flex;\n",
              "      flex-wrap:wrap;\n",
              "      gap: 12px;\n",
              "    }\n",
              "\n",
              "    .colab-df-convert {\n",
              "      background-color: #E8F0FE;\n",
              "      border: none;\n",
              "      border-radius: 50%;\n",
              "      cursor: pointer;\n",
              "      display: none;\n",
              "      fill: #1967D2;\n",
              "      height: 32px;\n",
              "      padding: 0 0 0 0;\n",
              "      width: 32px;\n",
              "    }\n",
              "\n",
              "    .colab-df-convert:hover {\n",
              "      background-color: #E2EBFA;\n",
              "      box-shadow: 0px 1px 2px rgba(60, 64, 67, 0.3), 0px 1px 3px 1px rgba(60, 64, 67, 0.15);\n",
              "      fill: #174EA6;\n",
              "    }\n",
              "\n",
              "    [theme=dark] .colab-df-convert {\n",
              "      background-color: #3B4455;\n",
              "      fill: #D2E3FC;\n",
              "    }\n",
              "\n",
              "    [theme=dark] .colab-df-convert:hover {\n",
              "      background-color: #434B5C;\n",
              "      box-shadow: 0px 1px 3px 1px rgba(0, 0, 0, 0.15);\n",
              "      filter: drop-shadow(0px 1px 2px rgba(0, 0, 0, 0.3));\n",
              "      fill: #FFFFFF;\n",
              "    }\n",
              "  </style>\n",
              "\n",
              "      <script>\n",
              "        const buttonEl =\n",
              "          document.querySelector('#df-707cb13f-9b43-4b2b-a71f-fe208ca42b96 button.colab-df-convert');\n",
              "        buttonEl.style.display =\n",
              "          google.colab.kernel.accessAllowed ? 'block' : 'none';\n",
              "\n",
              "        async function convertToInteractive(key) {\n",
              "          const element = document.querySelector('#df-707cb13f-9b43-4b2b-a71f-fe208ca42b96');\n",
              "          const dataTable =\n",
              "            await google.colab.kernel.invokeFunction('convertToInteractive',\n",
              "                                                     [key], {});\n",
              "          if (!dataTable) return;\n",
              "\n",
              "          const docLinkHtml = 'Like what you see? Visit the ' +\n",
              "            '<a target=\"_blank\" href=https://colab.research.google.com/notebooks/data_table.ipynb>data table notebook</a>'\n",
              "            + ' to learn more about interactive tables.';\n",
              "          element.innerHTML = '';\n",
              "          dataTable['output_type'] = 'display_data';\n",
              "          await google.colab.output.renderOutput(dataTable, element);\n",
              "          const docLink = document.createElement('div');\n",
              "          docLink.innerHTML = docLinkHtml;\n",
              "          element.appendChild(docLink);\n",
              "        }\n",
              "      </script>\n",
              "    </div>\n",
              "  </div>\n",
              "  "
            ]
          },
          "metadata": {},
          "execution_count": 38
        }
      ]
    },
    {
      "cell_type": "code",
      "source": [
        "# Bayes Naive\n",
        "predicciones_BN = algoritmoBN.predict(prueba)\n",
        "matriz3= confusion_matrix(prueba_clase,predicciones_BN)\n",
        "matriz3 = pd.DataFrame(matriz3,\n",
        "                      columns=['0 : NO','1 : SI'])\n",
        "matriz3"
      ],
      "metadata": {
        "id": "DPholRbwKNJr"
      },
      "execution_count": null,
      "outputs": []
    },
    {
      "cell_type": "code",
      "source": [
        "# QDA\n",
        "predicciones_QDA = qda.predict(prueba)\n",
        "matriz4= confusion_matrix(prueba_clase,predicciones_QDA)\n",
        "matriz4 = pd.DataFrame(matriz4,\n",
        "                      columns=['0 : NO','1 : SI'])\n",
        "matriz4"
      ],
      "metadata": {
        "id": "Iu6mVw0oK884"
      },
      "execution_count": null,
      "outputs": []
    },
    {
      "cell_type": "code",
      "source": [
        "# Arboles\n",
        "predicciones_arbol = arbol.predict(prueba)\n",
        "matriz5= confusion_matrix(prueba_clase,predicciones_arbol)\n",
        "matriz5 = pd.DataFrame(matriz5,\n",
        "                      columns=['0 : NO','1 : SI'])\n",
        "matriz5\n"
      ],
      "metadata": {
        "id": "O37Lr0i6Lxi-"
      },
      "execution_count": null,
      "outputs": []
    },
    {
      "cell_type": "markdown",
      "source": [
        "### Accurancy"
      ],
      "metadata": {
        "id": "QiofV5L5NDEW"
      }
    },
    {
      "cell_type": "code",
      "source": [
        "def evaluate_model(models):\n",
        "    \"\"\"\n",
        "    Takes a list of models and returns chart of cross validation scores using mean accuracy\n",
        "    \"\"\"\n",
        "    \n",
        "    # Cross validate model with Kfold stratified cross val\n",
        "    kfold = StratifiedKFold(n_splits = 7)\n",
        "    \n",
        "    result = []\n",
        "    for model in models :\n",
        "        result.append(cross_val_score(estimator = model, X = Entrena, y = Entrena_clase, scoring = \"accuracy\", cv = kfold, n_jobs=4))\n",
        "\n",
        "    cv_means = []\n",
        "    cv_std = []\n",
        "    for cv_result in result:\n",
        "        cv_means.append(cv_result.mean())\n",
        "        cv_std.append(cv_result.std())\n",
        "\n",
        "    result_df = pd.DataFrame({\n",
        "        \"CrossValMeans\":cv_means,\n",
        "        \"CrossValerrors\": cv_std,\n",
        "        \"Models\":[\n",
        "            \"LogisticRegression\",\n",
        "            \"KNeighborsClassifier\",\n",
        "            \"GaussianNB\",\n",
        "            \"QuadraticDiscriminantAnalysis\",\n",
        "            \"DecisionTreeClassifier\" \n",
        "        ]\n",
        "    })\n",
        "\n",
        "    # Generate chart\n",
        "    bar = sns.barplot(x = \"CrossValMeans\", y = \"Models\", data = result_df, orient = \"h\")\n",
        "    bar.set_xlabel(\"Mean Accuracy\")\n",
        "    bar.set_title(\"Cross validation scores\")\n",
        "    return result_df"
      ],
      "metadata": {
        "id": "cMln8z2W27bO"
      },
      "execution_count": null,
      "outputs": []
    },
    {
      "cell_type": "code",
      "source": [
        "models = [\n",
        "    LogisticRegression( solver='liblinear'),\n",
        "    KNeighborsClassifier(),\n",
        "    GaussianNB(),\n",
        "    QuadraticDiscriminantAnalysis(),\n",
        "    DecisionTreeClassifier(criterion='entropy',random_state=99,min_samples_leaf=6,max_depth=6),\n",
        "]\n",
        "evaluate_model(models)"
      ],
      "metadata": {
        "id": "bnRqC_1vGacL"
      },
      "execution_count": null,
      "outputs": []
    },
    {
      "cell_type": "code",
      "source": [],
      "metadata": {
        "id": "QzJQagSsAZqh"
      },
      "execution_count": null,
      "outputs": []
    },
    {
      "cell_type": "markdown",
      "source": [],
      "metadata": {
        "id": "fb50El7Hjrcl"
      }
    },
    {
      "cell_type": "markdown",
      "source": [
        "### Precisión\n"
      ],
      "metadata": {
        "id": "FINj9HU-jxOe"
      }
    },
    {
      "cell_type": "code",
      "source": [
        "#KNN\n",
        "# precisión\n",
        "#38/38+3\n",
        "precision = precision_score(prueba_clase,predicciones_knn)\n",
        "precision"
      ],
      "metadata": {
        "id": "u6wRkfz3j1Uc",
        "outputId": "7d33e82e-25b8-4c4f-a7eb-1d81d215a5e5",
        "colab": {
          "base_uri": "https://localhost:8080/"
        }
      },
      "execution_count": 40,
      "outputs": [
        {
          "output_type": "execute_result",
          "data": {
            "text/plain": [
              "0.926829268292683"
            ]
          },
          "metadata": {},
          "execution_count": 40
        }
      ]
    },
    {
      "cell_type": "code",
      "source": [
        "# precisión\n",
        "precision_reg = precision_score(prueba_clase,predicciones_reg)\n",
        "precision_reg"
      ],
      "metadata": {
        "id": "AB6fv3jnlN7V",
        "outputId": "1ab33bf2-90f5-4d9d-b93f-6a7dd78c6e11",
        "colab": {
          "base_uri": "https://localhost:8080/"
        }
      },
      "execution_count": 45,
      "outputs": [
        {
          "output_type": "execute_result",
          "data": {
            "text/plain": [
              "0.8545454545454545"
            ]
          },
          "metadata": {},
          "execution_count": 45
        }
      ]
    },
    {
      "cell_type": "markdown",
      "source": [
        "### Recall"
      ],
      "metadata": {
        "id": "QUbKpC3bkV96"
      }
    },
    {
      "cell_type": "code",
      "source": [
        "#KNN\n",
        "# recall\n",
        "#38/38+47\n",
        "recall = recall_score(prueba_clase,predicciones_knn)\n",
        "recall"
      ],
      "metadata": {
        "id": "oso724Chkbld",
        "outputId": "3de67c25-a1e9-421e-85e2-e9082485be5f",
        "colab": {
          "base_uri": "https://localhost:8080/"
        }
      },
      "execution_count": 41,
      "outputs": [
        {
          "output_type": "execute_result",
          "data": {
            "text/plain": [
              "0.4470588235294118"
            ]
          },
          "metadata": {},
          "execution_count": 41
        }
      ]
    },
    {
      "cell_type": "code",
      "source": [
        "#recall o sensibilidad\n",
        "recall_Reg = recall_score(prueba_clase,predicciones_reg)\n",
        "recall_Reg"
      ],
      "metadata": {
        "id": "1v15nxEBlUBd",
        "outputId": "efd48f0d-11c3-468b-d506-708281720baf",
        "colab": {
          "base_uri": "https://localhost:8080/"
        }
      },
      "execution_count": 46,
      "outputs": [
        {
          "output_type": "execute_result",
          "data": {
            "text/plain": [
              "0.5529411764705883"
            ]
          },
          "metadata": {},
          "execution_count": 46
        }
      ]
    },
    {
      "cell_type": "markdown",
      "source": [
        "# 4.Conclusiones"
      ],
      "metadata": {
        "id": "bJL7pyeIkRSX"
      }
    },
    {
      "cell_type": "markdown",
      "source": [
        "# Bibliografia"
      ],
      "metadata": {
        "id": "mxlMWaLLkUqz"
      }
    }
  ]
}