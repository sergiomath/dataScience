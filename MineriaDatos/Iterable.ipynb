{
 "cells": [
  {
   "cell_type": "code",
   "execution_count": 1,
   "id": "0675faea-6999-4de5-add0-396852efe60f",
   "metadata": {},
   "outputs": [
    {
     "name": "stdout",
     "output_type": "stream",
     "text": [
      "¡Empezamos\n",
      "0, 2, 4, 6, 8, 10, 12, 14, 16, \n",
      "Hecho!\n"
     ]
    }
   ],
   "source": [
    "class Evens(object):\n",
    "    def __init__(self,url,limit):\n",
    "        self.limit = limit\n",
    "        self.val = 0\n",
    "    \n",
    "    # Hace esta clase iterable\n",
    "    def __iter__(self):\n",
    "        return self\n",
    "    \n",
    "    # Hace esta clase un iterador\n",
    "    def __next__(self):\n",
    "        if self.val > self.limit:\n",
    "            raise StopIteration\n",
    "        else:\n",
    "            return_val = self.val\n",
    "            self.val += 2\n",
    "            return return_val\n",
    "print('¡Empezamos')\n",
    "for i in Evens(16):\n",
    "    print(i,end=', ')\n",
    "print('\\nHecho!')"
   ]
  },
  {
   "cell_type": "code",
   "execution_count": 2,
   "id": "d30ec98f-a523-475f-9f70-0cee59a5d710",
   "metadata": {},
   "outputs": [],
   "source": [
    "url=\"https://raw.githubusercontent.com/sergiomath/dataScience/main/MineriaDatos/diabetes.csv\""
   ]
  },
  {
   "cell_type": "code",
   "execution_count": 4,
   "id": "ff26c537-e1f0-41a6-ae92-a4a9aab8307c",
   "metadata": {},
   "outputs": [
    {
     "ename": "FileNotFoundError",
     "evalue": "[Errno 2] No such file or directory: 'https://raw.githubusercontent.com/sergiomath/dataScience/main/MineriaDatos/diabetes.csv'",
     "output_type": "error",
     "traceback": [
      "\u001b[0;31m---------------------------------------------------------------------------\u001b[0m",
      "\u001b[0;31mFileNotFoundError\u001b[0m                         Traceback (most recent call last)",
      "Input \u001b[0;32mIn [4]\u001b[0m, in \u001b[0;36m<cell line: 2>\u001b[0;34m()\u001b[0m\n\u001b[1;32m      1\u001b[0m \u001b[38;5;28;01mimport\u001b[39;00m \u001b[38;5;21;01mcsv\u001b[39;00m\n\u001b[0;32m----> 2\u001b[0m f\u001b[38;5;241m=\u001b[39m \u001b[38;5;28;43mopen\u001b[39;49m\u001b[43m(\u001b[49m\u001b[43murl\u001b[49m\u001b[43m)\u001b[49m\n\u001b[1;32m      3\u001b[0m reader \u001b[38;5;241m=\u001b[39m csv\u001b[38;5;241m.\u001b[39mreader(f)\n\u001b[1;32m      4\u001b[0m \u001b[38;5;28;01mfor\u001b[39;00m row \u001b[38;5;129;01min\u001b[39;00m reader:\n",
      "\u001b[0;31mFileNotFoundError\u001b[0m: [Errno 2] No such file or directory: 'https://raw.githubusercontent.com/sergiomath/dataScience/main/MineriaDatos/diabetes.csv'"
     ]
    }
   ],
   "source": [
    "import csv\n",
    "f= open(url)\n",
    "reader = csv.reader(f)\n",
    "for row in reader:\n",
    "    print (row) "
   ]
  }
 ],
 "metadata": {
  "kernelspec": {
   "display_name": "Python 3 (ipykernel)",
   "language": "python",
   "name": "python3"
  },
  "language_info": {
   "codemirror_mode": {
    "name": "ipython",
    "version": 3
   },
   "file_extension": ".py",
   "mimetype": "text/x-python",
   "name": "python",
   "nbconvert_exporter": "python",
   "pygments_lexer": "ipython3",
   "version": "3.10.4"
  }
 },
 "nbformat": 4,
 "nbformat_minor": 5
}
