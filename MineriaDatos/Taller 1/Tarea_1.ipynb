{
 "cells": [
  {
   "cell_type": "markdown",
   "id": "c692b4f5-536c-4aa2-8faf-473dec9ec2f4",
   "metadata": {},
   "source": [
    "<h1>Taller 1 : Mineria de datos"
   ]
  },
  {
   "cell_type": "markdown",
   "id": "5b3168f9-fb9f-4b96-ab00-b79586f58fe4",
   "metadata": {},
   "source": [
    "1. Imagen de la instalacion en ubuntu de anaconda y los paquetes requeridos"
   ]
  },
  {
   "cell_type": "markdown",
   "id": "ae1f5fe0-765f-4f41-93d6-f2dc45f77c06",
   "metadata": {},
   "source": [
    "<img src=\"anacondaInstalacion.png\">"
   ]
  },
  {
   "cell_type": "markdown",
   "id": "e8467ff9-bf53-47d9-b14f-274ec532c9b9",
   "metadata": {},
   "source": [
    "puesto es que es un curso de ciencia de datos lo mejor seria presentar una funcion en principio de activacion $$\\Phi (x)=\\frac{1}{1+e^{-x}}$$ para todo x real , esta representa un funcion logistica"
   ]
  },
  {
   "cell_type": "markdown",
   "id": "dd1d3095-79e1-4f49-8dbc-d8f991bec553",
   "metadata": {},
   "source": [
    "esto tomado de esta <a href=\"https://empresas.blogthinkbig.com/las-matematicas-del-machine-learning-funciones-de-activacion/\">pagina</a>  , haciendo uso del hipervinculo requerido\n"
   ]
  },
  {
   "cell_type": "markdown",
   "id": "f96f38ee-4799-461b-b41f-c853ff775c45",
   "metadata": {},
   "source": [
    "veamos la representacion de una red neuronal cargada desde la web con IMG"
   ]
  },
  {
   "cell_type": "markdown",
   "id": "e47d23fb-711f-40d8-8ad1-e6492d3c5d72",
   "metadata": {},
   "source": [
    "<img src=\"https://upload.wikimedia.org/wikipedia/commons/6/64/RedNeuronalArtificial.png\">"
   ]
  },
  {
   "cell_type": "code",
   "execution_count": null,
   "id": "09dbe9f9-2d23-4a5e-8352-e56759839669",
   "metadata": {},
   "outputs": [],
   "source": []
  }
 ],
 "metadata": {
  "kernelspec": {
   "display_name": "Python 3 (ipykernel)",
   "language": "python",
   "name": "python3"
  },
  "language_info": {
   "codemirror_mode": {
    "name": "ipython",
    "version": 3
   },
   "file_extension": ".py",
   "mimetype": "text/x-python",
   "name": "python",
   "nbconvert_exporter": "python",
   "pygments_lexer": "ipython3",
   "version": "3.10.4"
  }
 },
 "nbformat": 4,
 "nbformat_minor": 5
}
