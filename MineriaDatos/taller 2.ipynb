{
 "cells": [
  {
   "cell_type": "markdown",
   "id": "2f02919f-3713-4320-a26e-04963ac0dd0b",
   "metadata": {},
   "source": [
    "# Taller 2 :Mineria de datos"
   ]
  },
  {
   "cell_type": "markdown",
   "id": "ffadfbe5-c5d9-497f-9ae1-3e7386a385a0",
   "metadata": {},
   "source": [
    "1. Revise todas las lecciones de programación en Python.\n",
    "2. Escriba un cuaderno que contenga dos ejercicios propuestos y resueltos de colecciones, en Revise todas las lecciones de programación en Python."
   ]
  },
  {
   "cell_type": "markdown",
   "id": "0c7c6db4-effd-4567-b412-fa455d570f22",
   "metadata": {},
   "source": [
    "### Introducccion a python \n",
    "\n",
    "Ejercicio: escriba un código que le diga a Python que devuelva los textos Tengo my_age años, donde my_age es una variable que tenga asignada su edad."
   ]
  },
  {
   "cell_type": "code",
   "execution_count": 1,
   "id": "b2747792-920a-4a21-82fe-d0f912213077",
   "metadata": {},
   "outputs": [
    {
     "name": "stdout",
     "output_type": "stream",
     "text": [
      "Tengo  30  años.\n"
     ]
    }
   ],
   "source": [
    "age=30\n",
    "print(\"Tengo \" ,age , \" años.\")"
   ]
  },
  {
   "cell_type": "markdown",
   "id": "e01124e3-7f52-4af2-91b6-dd8521a2cb1d",
   "metadata": {},
   "source": [
    "Escriba un código que le diga a Python que devuelva el texto: \" solo sé que nada sé\""
   ]
  },
  {
   "cell_type": "code",
   "execution_count": 2,
   "id": "ded09d83-db03-48c5-8adb-a714b92f2871",
   "metadata": {},
   "outputs": [
    {
     "name": "stdout",
     "output_type": "stream",
     "text": [
      "Solo sé que nada sé\n"
     ]
    }
   ],
   "source": [
    "print(\"Solo sé que nada sé\")"
   ]
  },
  {
   "cell_type": "markdown",
   "id": "6a8ab059-7e11-426a-8a28-3bdbc1f14846",
   "metadata": {},
   "source": [
    "### Tipos de Datos Básicos"
   ]
  },
  {
   "cell_type": "markdown",
   "id": "b9315fd8-d02c-4aad-a70d-f943e8fb9923",
   "metadata": {},
   "source": [
    "Explique qué hace el siguiente código."
   ]
  },
  {
   "cell_type": "code",
   "execution_count": null,
   "id": "e44c9438-52ab-4815-a540-d981bbf7def2",
   "metadata": {},
   "outputs": [],
   "source": [
    "x, y = 3, 10\n",
    "\n",
    "y, x = x, y\n",
    "\n",
    "print(y,x)"
   ]
  },
  {
   "cell_type": "markdown",
   "id": "a4a7a47a-df15-49be-a0e6-e2b19e7b2091",
   "metadata": {},
   "source": [
    "Explicacion: la primera linea hace una asignacion multiple a x asigna 3 y a y asigna 10 , \n",
    "en la siguiente linea realiza un intercambio al valor x asinga 10 y a y asigna 3\n"
   ]
  },
  {
   "cell_type": "markdown",
   "id": "892b713e-83b0-455d-92bb-f5c547958147",
   "metadata": {},
   "source": [
    "describa que ocurre :"
   ]
  },
  {
   "cell_type": "code",
   "execution_count": 3,
   "id": "2a293830-dd7a-4723-afa4-e5a59c36aedb",
   "metadata": {},
   "outputs": [
    {
     "ename": "NameError",
     "evalue": "name 'w' is not defined",
     "output_type": "error",
     "traceback": [
      "\u001b[0;31m---------------------------------------------------------------------------\u001b[0m",
      "\u001b[0;31mNameError\u001b[0m                                 Traceback (most recent call last)",
      "Input \u001b[0;32mIn [3]\u001b[0m, in \u001b[0;36m<cell line: 3>\u001b[0;34m()\u001b[0m\n\u001b[1;32m      1\u001b[0m w \u001b[38;5;241m=\u001b[39m \u001b[38;5;241m1\u001b[39m\n\u001b[1;32m      2\u001b[0m \u001b[38;5;28;01mdel\u001b[39;00m w\n\u001b[0;32m----> 3\u001b[0m \u001b[38;5;28mprint\u001b[39m(\u001b[43mw\u001b[49m)\n",
      "\u001b[0;31mNameError\u001b[0m: name 'w' is not defined"
     ]
    }
   ],
   "source": [
    "w = 1\n",
    "del w\n",
    "print(w)"
   ]
  },
  {
   "cell_type": "markdown",
   "id": "2de195f3-72df-4304-a4d4-d7e9ba5026fb",
   "metadata": {},
   "source": [
    "en la primera linea asigna a w el valor 1 , luego elimina la variable y en la última intenta\n",
    "imprimir una varaible que no esta asiganada pues se eliminó."
   ]
  },
  {
   "cell_type": "markdown",
   "id": "581db181-0e62-46a8-a946-a629d3921441",
   "metadata": {},
   "source": [
    "## Operadores aritméticos y lógicos"
   ]
  },
  {
   "cell_type": "markdown",
   "id": "33e6ef70-fc13-4c35-8fb3-e9e3cd744db2",
   "metadata": {},
   "source": [
    "Use la función round() para redondear el número $\\pi$ hasta 5 cifras decimales"
   ]
  },
  {
   "cell_type": "code",
   "execution_count": 4,
   "id": "32b55630-d244-4422-bc6a-84a62341d608",
   "metadata": {},
   "outputs": [
    {
     "name": "stdout",
     "output_type": "stream",
     "text": [
      "3.14159\n"
     ]
    }
   ],
   "source": [
    "import math\n",
    "print(round( math.pi,5))"
   ]
  },
  {
   "cell_type": "markdown",
   "id": "eb7e3010-78af-405e-8ff2-afba9e207aeb",
   "metadata": {},
   "source": [
    "Verifique que entiende que hace el siguiente código. ¿Cuál es la salida?"
   ]
  },
  {
   "cell_type": "code",
   "execution_count": null,
   "id": "2bf4ce01-38ef-4d06-9d18-a8731d626144",
   "metadata": {},
   "outputs": [],
   "source": [
    "edad = 15 ## Asigna 15 a la variable \"edad\"\n",
    "status = None ## Inicializa una variable sin NADA\n",
    "\n",
    "if (edad >12) and (edad<20):\n",
    "    status = 'adolecente'                ##realiza una condicional que asigna a \"status\" \"adolecente\" si\n",
    "                                        #si la edad esta entre 12 y 20 y el otro casi asigna \"no adolecente\n",
    "else:\n",
    "    status = 'no adolecente'\n",
    "\n",
    "print('status =', status)  #muestra el valor de la variable \"status\""
   ]
  },
  {
   "cell_type": "markdown",
   "id": "c19d3179-ad3a-4914-b27d-8d03ad2c1373",
   "metadata": {},
   "source": [
    "## Estructuras de control"
   ]
  },
  {
   "cell_type": "markdown",
   "id": "486cc2dc-779a-4f73-83fa-8844951ba6dd",
   "metadata": {},
   "source": [
    "El siguiente código calcula la longitud del nombre y escribe una frase acorde a la longitud. Observe que en el comando print() , sep= es un parámetro que separa los valores ingresados dentro de la función print. Como vemos, escribimos N='Tu_nombre' eso asigna a la variable N el texto Tu_nombre. La función len devuelve la longitud de la cadena."
   ]
  },
  {
   "cell_type": "code",
   "execution_count": 5,
   "id": "69fcef07-adb3-42f3-b668-f75e2069465e",
   "metadata": {},
   "outputs": [
    {
     "name": "stdout",
     "output_type": "stream",
     "text": [
      "Sergio es un nombre corto\n"
     ]
    }
   ],
   "source": [
    "N = 'Sergio'# cambiar 'Tu_nombre' por su verdadero nombre\n",
    "if len(N)>10:\n",
    "    A = \"es un nombre largo\"\n",
    "else:\n",
    "    A = \"es un nombre corto\"\n",
    "\n",
    "print(N,A,sep=\" \")"
   ]
  },
  {
   "cell_type": "code",
   "execution_count": 6,
   "id": "7b729b91-e892-428a-8937-7b94ed690830",
   "metadata": {},
   "outputs": [
    {
     "name": "stdout",
     "output_type": "stream",
     "text": [
      "Sergio Andres Diaz Vera...es un nombre muy largo\n"
     ]
    }
   ],
   "source": [
    "N = 'Sergio Andres Diaz Vera' #cambiar 'Tu_nombre_completo' por su verdadero nombre completo\n",
    "if len(N)>10:\n",
    "    A = \"es un nombre muy largo\"\n",
    "else:\n",
    "    A = \"es un nombre muy corto\"\n",
    "\n",
    "print(N,A,sep=\"...\")"
   ]
  },
  {
   "cell_type": "markdown",
   "id": "ea09c9ed-326c-485d-ad8b-5b54d4707aa0",
   "metadata": {},
   "source": [
    "Escriba un código que le diga al computador que devuelva los textos Estoy listo para codificar! si su nombre tiene más de diez caracteres u Hola mundo! si pasa lo contrario*. Para medir la longitud de su nombre utilice la función len()."
   ]
  },
  {
   "cell_type": "code",
   "execution_count": 9,
   "id": "4d26ea02-4a93-49c9-ba53-794472a1e91f",
   "metadata": {},
   "outputs": [
    {
     "name": "stdin",
     "output_type": "stream",
     "text": [
      "Escriba su nombre  sergio\n"
     ]
    },
    {
     "name": "stdout",
     "output_type": "stream",
     "text": [
      "Hola mundo\n"
     ]
    }
   ],
   "source": [
    "nombre=input(\"Escriba su nombre \")\n",
    "if len(nombre)>10:\n",
    "    print(\"¡Estoy listo para codificar\")\n",
    "else :\n",
    "    print(\"Hola mundo\")"
   ]
  },
  {
   "cell_type": "markdown",
   "id": "fd8ba076-8ae1-4835-b68e-67353a60b7ba",
   "metadata": {},
   "source": [
    "## Funciones en Python"
   ]
  },
  {
   "cell_type": "markdown",
   "id": "596e71c4-fc52-46b1-9049-e3a8365e6c08",
   "metadata": {},
   "source": [
    "Estudie detenidamente el ejemplo anterior y construya un ejemplo suyo."
   ]
  },
  {
   "cell_type": "code",
   "execution_count": 16,
   "id": "1966d681-a09c-4f6d-8ebb-ffe6967d572b",
   "metadata": {},
   "outputs": [
    {
     "data": {
      "text/plain": [
       "[<matplotlib.lines.Line2D at 0x7f9fea7f7160>]"
      ]
     },
     "execution_count": 16,
     "metadata": {},
     "output_type": "execute_result"
    },
    {
     "data": {
      "image/png": "[encoded data removed]",
      "text/plain": [
       "<Figure size 432x288 with 1 Axes>"
      ]
     },
     "metadata": {
      "needs_background": "light"
     },
     "output_type": "display_data"
    }
   ],
   "source": [
    " ## Expresiones con funciones lambdapy \n",
    "import matplotlib.pyplot as plt    \n",
    "import numpy as np\n",
    "import math\n",
    "\n",
    "x=np.arange(0,2*math.pi,0.01)\n",
    "y=list(map(lambda x:math.sin(x)+math.cos(x),x)) ## uso de la función lambda\n",
    "plt.plot(x,y)"
   ]
  },
  {
   "cell_type": "markdown",
   "id": "4123bb17-053f-4fd5-9e41-2fb7db67173e",
   "metadata": {},
   "source": [
    "Viendo la entra y salida del código, infiera qué hace la función correspondiente:"
   ]
  },
  {
   "cell_type": "code",
   "execution_count": 18,
   "id": "a84f437b-0734-4539-8257-3d2f7e87c5ce",
   "metadata": {},
   "outputs": [
    {
     "name": "stdout",
     "output_type": "stream",
     "text": [
      "\n",
      "x = -5\n",
      "y =  5 \n",
      "\n"
     ]
    }
   ],
   "source": [
    "# Valor absoluto\n",
    "x = -5\n",
    "y = abs(x) #######entrega el valor absoluto de la var X\n",
    "print(\"\\nx =\", x)\n",
    "print(\"y = \", y,\"\\n\") "
   ]
  },
  {
   "cell_type": "code",
   "execution_count": 19,
   "id": "ad1cd4c0-65d9-4744-b8e1-fc26c162b03e",
   "metadata": {},
   "outputs": [
    {
     "name": "stdout",
     "output_type": "stream",
     "text": [
      "resultado: 21 \n",
      "\n"
     ]
    }
   ],
   "source": [
    "v = [1,2,3,4,5,6]\n",
    "s = sum(v) # suma todos lo elementos de la lista\n",
    "print(\"resultado:\", s,\"\\n\")"
   ]
  },
  {
   "cell_type": "code",
   "execution_count": 21,
   "id": "57a43b06-8b50-4f3d-b0ad-26f3e0baabae",
   "metadata": {},
   "outputs": [
    {
     "name": "stdout",
     "output_type": "stream",
     "text": [
      "a1: 6, a2: 1\n"
     ]
    }
   ],
   "source": [
    "v = [1,2,3,4,5,6]\n",
    "a1 = max(v) #entrega el valor máximo de una lista\n",
    "a2 = min(v) #entrega el valor mínimo de una lista\n",
    "\n",
    "print(\"a1: {}, a2: {}\".format(a1, a2))"
   ]
  },
  {
   "cell_type": "code",
   "execution_count": null,
   "id": "572dd54b-7530-48f1-b655-fc0ee4d38721",
   "metadata": {},
   "outputs": [],
   "source": []
  },
  {
   "cell_type": "code",
   "execution_count": null,
   "id": "bb7151e9-ae8d-4a2f-bfcd-43fabe855dd0",
   "metadata": {},
   "outputs": [],
   "source": []
  },
  {
   "cell_type": "code",
   "execution_count": null,
   "id": "9205db99-f0fb-4d72-9d2d-c8d11e84eb91",
   "metadata": {},
   "outputs": [],
   "source": []
  },
  {
   "cell_type": "code",
   "execution_count": null,
   "id": "a10157a8-7d38-4641-b9e8-add774ed49c9",
   "metadata": {},
   "outputs": [],
   "source": []
  }
 ],
 "metadata": {
  "kernelspec": {
   "display_name": "Python 3 (ipykernel)",
   "language": "python",
   "name": "python3"
  },
  "language_info": {
   "codemirror_mode": {
    "name": "ipython",
    "version": 3
   },
   "file_extension": ".py",
   "mimetype": "text/x-python",
   "name": "python",
   "nbconvert_exporter": "python",
   "pygments_lexer": "ipython3",
   "version": "3.10.4"
  }
 },
 "nbformat": 4,
 "nbformat_minor": 5
}
